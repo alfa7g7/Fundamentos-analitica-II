{
  "nbformat": 4,
  "nbformat_minor": 0,
  "metadata": {
    "colab": {
      "provenance": []
    },
    "kernelspec": {
      "name": "python3",
      "display_name": "Python 3"
    },
    "language_info": {
      "name": "python"
    }
  },
  "cells": [
    {
      "cell_type": "code",
      "execution_count": null,
      "metadata": {
        "id": "dcg7nGYtYfKK"
      },
      "outputs": [],
      "source": [
        "import numpy as np\n",
        "import pandas as pd # Operaciones con dataframes\n",
        "from matplotlib import pyplot as plt # gráficos\n",
        "from statsmodels.tsa.seasonal import seasonal_decompose # descomposición de series\n",
        "from statsmodels.tsa.holtwinters import SimpleExpSmoothing  # Holwinters simple\n",
        "from statsmodels.tsa.holtwinters import ExponentialSmoothing # Holwinters doble y tripe\n",
        "from statsmodels.tsa.exponential_smoothing.ets import ETSModel\n",
        "from sklearn.metrics import mean_squared_error\n"
      ]
    },
    {
      "cell_type": "code",
      "source": [
        "data = pd.read_excel(\"/content/datosEmpleo.xlsx\",index_col='mes',parse_dates=True)\n",
        "data.head()"
      ],
      "metadata": {
        "colab": {
          "base_uri": "https://localhost:8080/",
          "height": 237
        },
        "id": "eh5h_zfKYg13",
        "outputId": "607b329f-8c37-4288-b8c3-7f26a950cef6"
      },
      "execution_count": null,
      "outputs": [
        {
          "output_type": "execute_result",
          "data": {
            "text/plain": [
              "            TD_13ciudades  Ocupados  Desocupados  Inactivos\n",
              "mes                                                        \n",
              "2001-01-01      20.946380  6923.604     1834.507   4600.718\n",
              "2001-02-01      19.894213  7037.746     1747.820   4596.805\n",
              "2001-03-01      19.221565  6945.973     1652.823   4807.120\n",
              "2001-04-01      17.888575  6973.079     1519.137   4937.280\n",
              "2001-05-01      17.945654  6994.462     1529.720   4928.911"
            ],
            "text/html": [
              "\n",
              "  <div id=\"df-9e862b9d-9406-4833-ada3-90d502b07c5a\">\n",
              "    <div class=\"colab-df-container\">\n",
              "      <div>\n",
              "<style scoped>\n",
              "    .dataframe tbody tr th:only-of-type {\n",
              "        vertical-align: middle;\n",
              "    }\n",
              "\n",
              "    .dataframe tbody tr th {\n",
              "        vertical-align: top;\n",
              "    }\n",
              "\n",
              "    .dataframe thead th {\n",
              "        text-align: right;\n",
              "    }\n",
              "</style>\n",
              "<table border=\"1\" class=\"dataframe\">\n",
              "  <thead>\n",
              "    <tr style=\"text-align: right;\">\n",
              "      <th></th>\n",
              "      <th>TD_13ciudades</th>\n",
              "      <th>Ocupados</th>\n",
              "      <th>Desocupados</th>\n",
              "      <th>Inactivos</th>\n",
              "    </tr>\n",
              "    <tr>\n",
              "      <th>mes</th>\n",
              "      <th></th>\n",
              "      <th></th>\n",
              "      <th></th>\n",
              "      <th></th>\n",
              "    </tr>\n",
              "  </thead>\n",
              "  <tbody>\n",
              "    <tr>\n",
              "      <th>2001-01-01</th>\n",
              "      <td>20.946380</td>\n",
              "      <td>6923.604</td>\n",
              "      <td>1834.507</td>\n",
              "      <td>4600.718</td>\n",
              "    </tr>\n",
              "    <tr>\n",
              "      <th>2001-02-01</th>\n",
              "      <td>19.894213</td>\n",
              "      <td>7037.746</td>\n",
              "      <td>1747.820</td>\n",
              "      <td>4596.805</td>\n",
              "    </tr>\n",
              "    <tr>\n",
              "      <th>2001-03-01</th>\n",
              "      <td>19.221565</td>\n",
              "      <td>6945.973</td>\n",
              "      <td>1652.823</td>\n",
              "      <td>4807.120</td>\n",
              "    </tr>\n",
              "    <tr>\n",
              "      <th>2001-04-01</th>\n",
              "      <td>17.888575</td>\n",
              "      <td>6973.079</td>\n",
              "      <td>1519.137</td>\n",
              "      <td>4937.280</td>\n",
              "    </tr>\n",
              "    <tr>\n",
              "      <th>2001-05-01</th>\n",
              "      <td>17.945654</td>\n",
              "      <td>6994.462</td>\n",
              "      <td>1529.720</td>\n",
              "      <td>4928.911</td>\n",
              "    </tr>\n",
              "  </tbody>\n",
              "</table>\n",
              "</div>\n",
              "      <button class=\"colab-df-convert\" onclick=\"convertToInteractive('df-9e862b9d-9406-4833-ada3-90d502b07c5a')\"\n",
              "              title=\"Convert this dataframe to an interactive table.\"\n",
              "              style=\"display:none;\">\n",
              "        \n",
              "  <svg xmlns=\"http://www.w3.org/2000/svg\" height=\"24px\"viewBox=\"0 0 24 24\"\n",
              "       width=\"24px\">\n",
              "    <path d=\"M0 0h24v24H0V0z\" fill=\"none\"/>\n",
              "    <path d=\"M18.56 5.44l.94 2.06.94-2.06 2.06-.94-2.06-.94-.94-2.06-.94 2.06-2.06.94zm-11 1L8.5 8.5l.94-2.06 2.06-.94-2.06-.94L8.5 2.5l-.94 2.06-2.06.94zm10 10l.94 2.06.94-2.06 2.06-.94-2.06-.94-.94-2.06-.94 2.06-2.06.94z\"/><path d=\"M17.41 7.96l-1.37-1.37c-.4-.4-.92-.59-1.43-.59-.52 0-1.04.2-1.43.59L10.3 9.45l-7.72 7.72c-.78.78-.78 2.05 0 2.83L4 21.41c.39.39.9.59 1.41.59.51 0 1.02-.2 1.41-.59l7.78-7.78 2.81-2.81c.8-.78.8-2.07 0-2.86zM5.41 20L4 18.59l7.72-7.72 1.47 1.35L5.41 20z\"/>\n",
              "  </svg>\n",
              "      </button>\n",
              "      \n",
              "  <style>\n",
              "    .colab-df-container {\n",
              "      display:flex;\n",
              "      flex-wrap:wrap;\n",
              "      gap: 12px;\n",
              "    }\n",
              "\n",
              "    .colab-df-convert {\n",
              "      background-color: #E8F0FE;\n",
              "      border: none;\n",
              "      border-radius: 50%;\n",
              "      cursor: pointer;\n",
              "      display: none;\n",
              "      fill: #1967D2;\n",
              "      height: 32px;\n",
              "      padding: 0 0 0 0;\n",
              "      width: 32px;\n",
              "    }\n",
              "\n",
              "    .colab-df-convert:hover {\n",
              "      background-color: #E2EBFA;\n",
              "      box-shadow: 0px 1px 2px rgba(60, 64, 67, 0.3), 0px 1px 3px 1px rgba(60, 64, 67, 0.15);\n",
              "      fill: #174EA6;\n",
              "    }\n",
              "\n",
              "    [theme=dark] .colab-df-convert {\n",
              "      background-color: #3B4455;\n",
              "      fill: #D2E3FC;\n",
              "    }\n",
              "\n",
              "    [theme=dark] .colab-df-convert:hover {\n",
              "      background-color: #434B5C;\n",
              "      box-shadow: 0px 1px 3px 1px rgba(0, 0, 0, 0.15);\n",
              "      filter: drop-shadow(0px 1px 2px rgba(0, 0, 0, 0.3));\n",
              "      fill: #FFFFFF;\n",
              "    }\n",
              "  </style>\n",
              "\n",
              "      <script>\n",
              "        const buttonEl =\n",
              "          document.querySelector('#df-9e862b9d-9406-4833-ada3-90d502b07c5a button.colab-df-convert');\n",
              "        buttonEl.style.display =\n",
              "          google.colab.kernel.accessAllowed ? 'block' : 'none';\n",
              "\n",
              "        async function convertToInteractive(key) {\n",
              "          const element = document.querySelector('#df-9e862b9d-9406-4833-ada3-90d502b07c5a');\n",
              "          const dataTable =\n",
              "            await google.colab.kernel.invokeFunction('convertToInteractive',\n",
              "                                                     [key], {});\n",
              "          if (!dataTable) return;\n",
              "\n",
              "          const docLinkHtml = 'Like what you see? Visit the ' +\n",
              "            '<a target=\"_blank\" href=https://colab.research.google.com/notebooks/data_table.ipynb>data table notebook</a>'\n",
              "            + ' to learn more about interactive tables.';\n",
              "          element.innerHTML = '';\n",
              "          dataTable['output_type'] = 'display_data';\n",
              "          await google.colab.output.renderOutput(dataTable, element);\n",
              "          const docLink = document.createElement('div');\n",
              "          docLink.innerHTML = docLinkHtml;\n",
              "          element.appendChild(docLink);\n",
              "        }\n",
              "      </script>\n",
              "    </div>\n",
              "  </div>\n",
              "  "
            ]
          },
          "metadata": {},
          "execution_count": 4
        }
      ]
    },
    {
      "cell_type": "code",
      "source": [
        "train_len = 208\n",
        "train_td = data[[\"TD_13ciudades\"]][:train_len]\n",
        "test_td = data[[\"TD_13ciudades\"]][train_len:]\n",
        "\n",
        "fig = plt.figure(figsize=(12, 6))\n",
        "plt.plot(train_td,label=\"Datos Entrenamiento\")\n",
        "plt.plot(test_td,label=\"Datos de Prueba\")\n",
        "plt.legend()\n",
        "plt.show()"
      ],
      "metadata": {
        "colab": {
          "base_uri": "https://localhost:8080/",
          "height": 374
        },
        "id": "JxpqcCyOYnej",
        "outputId": "514618e0-7846-4ead-f60d-8abd509cfdc1"
      },
      "execution_count": null,
      "outputs": [
        {
          "output_type": "display_data",
          "data": {
            "text/plain": [
              "<Figure size 864x432 with 1 Axes>"
            ],
            "image/png": "[encoded data removed]"
          },
          "metadata": {
            "needs_background": "light"
          }
        }
      ]
    },
    {
      "cell_type": "markdown",
      "source": [
        "## Se ajusta el modelo con el train y se observan los hiperparametros obtenidos en la optimización"
      ],
      "metadata": {
        "id": "8yyPABrEYwZV"
      }
    },
    {
      "cell_type": "code",
      "source": [
        "ets_model = ETSModel(endog=train_td[\"TD_13ciudades\"],error=\"add\",trend=\"add\",seasonal=\"add\")\n",
        "ets_result = ets_model.fit()"
      ],
      "metadata": {
        "colab": {
          "base_uri": "https://localhost:8080/"
        },
        "id": "tpKd4BNGYrnn",
        "outputId": "2536624d-1cc2-472d-e9ab-cc935252062b"
      },
      "execution_count": null,
      "outputs": [
        {
          "output_type": "stream",
          "name": "stderr",
          "text": [
            "/usr/local/lib/python3.8/dist-packages/statsmodels/tsa/base/tsa_model.py:524: ValueWarning: No frequency information was provided, so inferred frequency MS will be used.\n",
            "  warnings.warn('No frequency information was'\n"
          ]
        }
      ]
    },
    {
      "cell_type": "code",
      "source": [
        "## Se obtienen los hiperparametros\n",
        "\n",
        "print(ets_result.alpha)\n",
        "print(ets_result.beta)\n",
        "print(ets_result.gamma)\n",
        "print(ets_result.param_names)"
      ],
      "metadata": {
        "colab": {
          "base_uri": "https://localhost:8080/"
        },
        "id": "4SZclmk7ZJF1",
        "outputId": "221e7e33-53f7-449b-cba7-862431bb5d78"
      },
      "execution_count": null,
      "outputs": [
        {
          "output_type": "stream",
          "name": "stdout",
          "text": [
            "0.4385291272708879\n",
            "4.3852912727088794e-05\n",
            "5.614708727291121e-05\n",
            "['smoothing_level', 'smoothing_trend', 'smoothing_seasonal', 'initial_level', 'initial_trend', 'initial_seasonal.0', 'initial_seasonal.1', 'initial_seasonal.2', 'initial_seasonal.3', 'initial_seasonal.4', 'initial_seasonal.5', 'initial_seasonal.6', 'initial_seasonal.7', 'initial_seasonal.8', 'initial_seasonal.9', 'initial_seasonal.10', 'initial_seasonal.11']\n"
          ]
        }
      ]
    },
    {
      "cell_type": "code",
      "source": [
        "## Ahora se ajusta el modelo final con todos los datos\n",
        "\n",
        "final_model = ETSModel(endog=data[\"TD_13ciudades\"],error=\"add\",trend=\"add\",seasonal=\"add\")\n",
        "final_model_fit = final_model.fit_constrained({'smoothing_level': 0.4385291272708879,'smoothing_trend': 4.3852912727088794e-05,'smoothing_seasonal':5.614708727291121e-05})\n",
        "\n",
        "print(final_model_fit.alpha)\n",
        "print(final_model_fit.beta)\n",
        "print(final_model_fit.gamma)\n",
        "\n"
      ],
      "metadata": {
        "colab": {
          "base_uri": "https://localhost:8080/"
        },
        "id": "21NY811aZoxO",
        "outputId": "2fb2338b-2f3a-4410-9d96-7616b17dd277"
      },
      "execution_count": null,
      "outputs": [
        {
          "output_type": "stream",
          "name": "stdout",
          "text": [
            "0.4385291272708879\n",
            "4.3852912727088794e-05\n",
            "5.614708727291121e-05\n"
          ]
        },
        {
          "output_type": "stream",
          "name": "stderr",
          "text": [
            "/usr/local/lib/python3.8/dist-packages/statsmodels/tsa/base/tsa_model.py:524: ValueWarning: No frequency information was provided, so inferred frequency MS will be used.\n",
            "  warnings.warn('No frequency information was'\n"
          ]
        }
      ]
    }
  ]
}