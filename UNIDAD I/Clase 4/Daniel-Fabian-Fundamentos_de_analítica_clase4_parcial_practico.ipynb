{
  "cells": [
    {
      "cell_type": "markdown",
      "metadata": {
        "id": "jsyV5budxUre"
      },
      "source": [
        "Fundamentos de analítica 2 (clase 4) - Diego Fernando Agudelo - Universidad ICESI - diegoagudelo30@gmail.com\n",
        "\n",
        "# Fundamentos-analitica-II\n",
        "Repositorio de trabajos para la asignatura de la maestría en Ciencia de Datos\n",
        "\n",
        "FACULTAD DE INGENIERÍA, DISEÑO Y CIENCIAS \n",
        "APLICADAS \n",
        "MAESTRÍA EN CIENCIA DE DATOS \n",
        "TIC 60153 – Fundamentos de analítica II \n",
        "\n",
        "Grupo: \n",
        "\n",
        "**DANIEL DELGADO - FABIAN SALAZAR FIGUEROA**"
      ]
    },
    {
      "cell_type": "markdown",
      "metadata": {},
      "source": [
        "En días recientes trabajamos con una compañía de comestibles que estaba interesada en predecir el comportamiento de las ventas (en unidades) de sus dos productos estrella. Fuimos contratados para generar un modelo que permita pronosticar las ventas del siguiente mes de cada uno de esos dos productos. La base de datos disponible en el archivo Examen.csv tiene la información de cada uno de los productos desde enero de 2008.\n",
        "\n",
        "Su misión es encontrar el mejor modelo para pronosticar cada una de las series. Usted debe entregar un informe escrito de no más de cuatro páginas que presente los resultados al cliente y cuente el proceso para llegar a los pronósticos. Vea las instrucciones para asegurar que entrega los archivos requeridos\n",
        "\n",
        "### Instrucciones\n",
        "El examen se compone de dos partes:\n",
        "- La primera corresponde a una parte de selección múltiple con 19 preguntas que se responderán en el salón de clase en 45 minutos. Esa primera parte tiene una calificación de 1 a 5.\n",
        "-La segunda parte corresponde a la parte práctica del examen y tiene también una calificación de 1 a 5.\n",
        "\n",
        "- La nota de este examen parcial corresponderá al promedio ponderado de las dos notas, donde la parte práctica tiene un peso de 40 % y la parte de selección múltiple de 60 %.\n",
        "- Usted tiene hasta el 15 de Septiembre a las 12:00 pm para enviar los archivos por correo, estos archivos deben tener su nombre.\n",
        "- Sólo se calificaran exámenes en formato pdf. Cualquier otro formato no será tenido en cuenta.\n",
        "- El examen debe estar acompañado de un notebook (ipynb)  que incluya todo los códigos de python que se emplean para obtener sus resultados.\n",
        "- El nombre del archivo debe tener su nombre. No se recibirán archivos en otro formato.\n",
        "- Esta parte del examen es para realizar en casa y debe reflejar el trabajo individual."
      ]
    },
    {
      "cell_type": "markdown",
      "metadata": {
        "id": "VzcABaPQxaEH"
      },
      "source": [
        "## **1. Carga de paquetes**"
      ]
    },
    {
      "cell_type": "code",
      "execution_count": null,
      "metadata": {
        "colab": {
          "base_uri": "https://localhost:8080/"
        },
        "id": "6zSQriFDxOPo",
        "outputId": "affdc2a0-c72d-48c7-99df-b01eeef709ed"
      },
      "outputs": [],
      "source": [
        "import numpy as np\n",
        "import pandas as pd # Operaciones con dataframes\n",
        "from matplotlib import pyplot as plt # gráficos\n",
        "from statsmodels.tsa.seasonal import seasonal_decompose # descomposición de series\n",
        "from statsmodels.tsa.holtwinters import SimpleExpSmoothing  # Holwinters simple\n",
        "from statsmodels.tsa.holtwinters import ExponentialSmoothing # Holwinters doble y tripe\n",
        "from statsmodels.tsa.exponential_smoothing.ets import ETSModel\n",
        "from sklearn.metrics import mean_squared_error\n",
        "#!pip install fastai wwf bayesian-optimization -q --upgrade\n",
        "from bayes_opt import BayesianOptimization\n",
        "from datetime import datetime, timedelta\n",
        "from itertools import product\n",
        "from statsmodels.tsa.arima.model import ARIMA\n",
        "import warnings\n",
        "warnings.filterwarnings('ignore')"
      ]
    },
    {
      "cell_type": "markdown",
      "metadata": {
        "id": "douz2KVtxrQW"
      },
      "source": [
        "## **2. Carga de datos**\n",
        "\n",
        "Nuestra primera tarea será leer el archivo csv. Para eso podemos emplear el paquete Pandas. Carguemos los datos en un objeto que denominaremos data."
      ]
    },
    {
      "cell_type": "code",
      "execution_count": null,
      "metadata": {
        "colab": {
          "base_uri": "https://localhost:8080/",
          "height": 237
        },
        "id": "MJfIWqSixts6",
        "outputId": "242b9c1e-2567-49b0-bdaf-7c9943bd576a"
      },
      "outputs": [],
      "source": [
        "data = pd.read_csv(r\"https://raw.githubusercontent.com/alfa7g7/Fundamentos-analitica-II/main/UNIDAD%20I/Clase%204/Examen.csv\", sep=',')\n",
        "data.head()"
      ]
    },
    {
      "cell_type": "code",
      "execution_count": null,
      "metadata": {},
      "outputs": [],
      "source": [
        "# imprimiendo el tamano del dataframe\n",
        "print(data.shape)\n",
        "\n",
        "# Graficando los datos de producto1 y produto2\n",
        "plt.title(\"Tasa de ventas del producto 1\")\n",
        "plt.xlabel(\"Mes\")\n",
        "plt.ylabel(\"Ventas mensuales\")\n",
        "plt.plot(data[[\"producto1\"]])\n",
        "plt.grid()\n",
        "plt.show()\n",
        "\n",
        "plt.title(\"Tasa de ventas del producto 2\")\n",
        "plt.xlabel(\"Mes\")\n",
        "plt.ylabel(\"Ventas mensuales\")\n",
        "plt.plot(data[[\"producto2\"]])\n",
        "plt.grid()\n",
        "plt.show()"
      ]
    },
    {
      "cell_type": "markdown",
      "metadata": {},
      "source": [
        "## **3. EDA**"
      ]
    },
    {
      "cell_type": "markdown",
      "metadata": {},
      "source": [
        "### 3.1 Procedemos a hacer un análisis corto de EDA para verificar tamaño del conjunto de datos para cada serie de tiempo, nulos (si hay) y algunas cuantificaciones estadísticas"
      ]
    },
    {
      "cell_type": "code",
      "execution_count": null,
      "metadata": {},
      "outputs": [],
      "source": [
        "data.info()"
      ]
    },
    {
      "cell_type": "code",
      "execution_count": null,
      "metadata": {},
      "outputs": [],
      "source": [
        "#Determinamos si existen nulos en las series de tiempo\n",
        "data.isnull().sum()"
      ]
    },
    {
      "cell_type": "code",
      "execution_count": null,
      "metadata": {},
      "outputs": [],
      "source": [
        "# Estadsiticas del conjunto de datos de tendencia central\n",
        "data.describe()"
      ]
    },
    {
      "cell_type": "markdown",
      "metadata": {},
      "source": [
        "### 3.2 Ahora debemos convertir en índice la variable sin nombre: 'Unnamed: 0'  que representa los meses desde enero del 2008 como lo indica el enunciado del problema y expresarla en forma de fecha para mejorar el entendimiento y procesamiento"
      ]
    },
    {
      "cell_type": "code",
      "execution_count": null,
      "metadata": {},
      "outputs": [],
      "source": [
        "# Renombrar la columna 'Unnamed: 0' a 'Mes'\n",
        "data.rename(columns={'Unnamed: 0': 'Mes'}, inplace=True)\n",
        "\n",
        "# Función para convertir un número de mes a una fecha\n",
        "def convertir_mes_a_fecha(mes, start_date):\n",
        "    # Calcular el año y el mes correspondientes\n",
        "    year = start_date.year + (mes - 1) // 12\n",
        "    month = (start_date.month + (mes - 1) % 12 - 1) % 12 + 1\n",
        "    return datetime(year, month, 1)\n",
        "\n",
        "# Fecha de inicio (enero de 2008)\n",
        "start_date = datetime(2008, 1, 1)\n",
        "\n",
        "# Aplicar la función a la columna 'Mes'\n",
        "data['Mes'] = data['Mes'].apply(lambda x: convertir_mes_a_fecha(x, start_date))\n",
        "\n",
        "print(data)\n"
      ]
    },
    {
      "cell_type": "code",
      "execution_count": null,
      "metadata": {},
      "outputs": [],
      "source": [
        "# Establecer la columna 'Mes' como índice\n",
        "data.set_index('Mes', inplace=True)\n",
        "\n",
        "print(data)"
      ]
    },
    {
      "cell_type": "code",
      "execution_count": null,
      "metadata": {},
      "outputs": [],
      "source": [
        "#miramos nuevamente como queda el dataframe con estas transformaciones\n",
        "data.info()"
      ]
    },
    {
      "cell_type": "code",
      "execution_count": null,
      "metadata": {},
      "outputs": [],
      "source": [
        "data.shape"
      ]
    },
    {
      "cell_type": "code",
      "execution_count": null,
      "metadata": {},
      "outputs": [],
      "source": [
        "#Determinamos si existen nulos en las series de tiempo\n",
        "data.isnull().sum()"
      ]
    },
    {
      "cell_type": "code",
      "execution_count": null,
      "metadata": {},
      "outputs": [],
      "source": [
        "# Estadsiticas del conjunto de datos de tendencia central\n",
        "data.describe()"
      ]
    },
    {
      "cell_type": "markdown",
      "metadata": {},
      "source": [
        "### 3.3 Ya con esta pequeñas transformaciones tenemos nuestro conjunto de datos listo para trabajarlo y proceder a hacer todo lo necesario para llevar a cabo los pronósticos de cada serie de tiempo de los dos prodcutos estrellas de la empresa"
      ]
    },
    {
      "cell_type": "code",
      "execution_count": null,
      "metadata": {
        "colab": {
          "base_uri": "https://localhost:8080/",
          "height": 313
        },
        "id": "8pDh3GSWySGN",
        "outputId": "b33af0b3-7c54-4708-de70-1058ef38cbd6"
      },
      "outputs": [],
      "source": [
        "# imprimiendo el tamano del dataframe\n",
        "print(data.shape)\n",
        "\n",
        "# Graficando los datos de producto1 y produto2\n",
        "plt.title(\"Tasa de ventas del producto 1\")\n",
        "plt.xlabel(\"Mes\")\n",
        "plt.ylabel(\"Ventas mensuales\")\n",
        "plt.plot(data[[\"producto1\"]])\n",
        "plt.grid()\n",
        "plt.show()\n",
        "\n",
        "plt.title(\"Tasa de ventas del producto 2\")\n",
        "plt.xlabel(\"Mes\")\n",
        "plt.ylabel(\"Ventas mensuales\")\n",
        "plt.plot(data[[\"producto2\"]])\n",
        "plt.grid()\n",
        "plt.show()"
      ]
    },
    {
      "cell_type": "markdown",
      "metadata": {},
      "source": [
        "### 3.4 Encontrando los componentes de las series de tiempo para los productos 1 y 2\n",
        "\n",
        "En algunas ocasiones puede ser útil empezar nuestro análisis descomponiendo la serie de tiempo en sus componentes: **tendencia**, **estacionalidad** y **componente puramente aleatorio**. Una forma de hacer esto es empleando la función seasonal_decompose."
      ]
    },
    {
      "cell_type": "code",
      "execution_count": null,
      "metadata": {},
      "outputs": [],
      "source": [
        "#Componentes serie de tiempo prodcuto1\n",
        "td_componentes_producto1 = seasonal_decompose(data[[\"producto1\"]],model=\"additive\")\n",
        "fig = td_componentes_producto1.plot()\n",
        "fig.set_size_inches((16, 9))\n",
        "fig.tight_layout()\n",
        "plt.show()"
      ]
    },
    {
      "cell_type": "markdown",
      "metadata": {},
      "source": [
        "**Podemos observar el componente estacional marcado en la serie de producto1, una tendencia no lineal de los datos y la parte aleatoria.**"
      ]
    },
    {
      "cell_type": "markdown",
      "metadata": {},
      "source": [
        "Observamos cada componente de la serie de tiempo del producto1"
      ]
    },
    {
      "cell_type": "code",
      "execution_count": null,
      "metadata": {},
      "outputs": [],
      "source": [
        "td_componentes_producto1.seasonal"
      ]
    },
    {
      "cell_type": "code",
      "execution_count": null,
      "metadata": {},
      "outputs": [],
      "source": [
        "td_componentes_producto1.trend"
      ]
    },
    {
      "cell_type": "code",
      "execution_count": null,
      "metadata": {},
      "outputs": [],
      "source": [
        "td_componentes_producto1.resid"
      ]
    },
    {
      "cell_type": "code",
      "execution_count": null,
      "metadata": {},
      "outputs": [],
      "source": [
        "#Componentes serie de tiempo prodcuto2\n",
        "td_componentes_producto2 = seasonal_decompose(data[[\"producto2\"]],model=\"additive\")\n",
        "fig = td_componentes_producto2.plot()\n",
        "fig.set_size_inches((16, 9))\n",
        "fig.tight_layout()\n",
        "plt.show()"
      ]
    },
    {
      "cell_type": "markdown",
      "metadata": {},
      "source": [
        "**Podemos observar el componente estacional marcado en la serie producto2, una tendencia no lineal de los datos y la parte aleatoria.**"
      ]
    },
    {
      "cell_type": "markdown",
      "metadata": {},
      "source": [
        "Observamos cada componente de la serie de tiempo del producto2"
      ]
    },
    {
      "cell_type": "code",
      "execution_count": null,
      "metadata": {},
      "outputs": [],
      "source": [
        "td_componentes_producto2.seasonal"
      ]
    },
    {
      "cell_type": "code",
      "execution_count": null,
      "metadata": {},
      "outputs": [],
      "source": [
        "td_componentes_producto2.trend"
      ]
    },
    {
      "cell_type": "code",
      "execution_count": null,
      "metadata": {},
      "outputs": [],
      "source": [
        "td_componentes_producto2.resid"
      ]
    },
    {
      "cell_type": "markdown",
      "metadata": {},
      "source": [
        "Procedemos a realizar una gráfica para comparar ambas series donde vemos el comportamiento de cada producto respecto al otro"
      ]
    },
    {
      "cell_type": "code",
      "execution_count": null,
      "metadata": {},
      "outputs": [],
      "source": [
        "# Crear subplots\n",
        "fig, axes = plt.subplots(4, 2, figsize=(18, 12))\n",
        "\n",
        "# Graficar los componentes de producto1\n",
        "axes[0, 0].plot(td_componentes_producto1.observed)\n",
        "axes[0, 0].set_title('Producto 1 - Observado')\n",
        "axes[1, 0].plot(td_componentes_producto1.trend)\n",
        "axes[1, 0].set_title('Producto 1 - Tendencia')\n",
        "axes[2, 0].plot(td_componentes_producto1.seasonal)\n",
        "axes[2, 0].set_title('Producto 1 - Estacionalidad')\n",
        "axes[3, 0].plot(td_componentes_producto1.resid)\n",
        "axes[3, 0].set_title('Producto 1 - Residual')\n",
        "\n",
        "# Graficar los componentes de producto2\n",
        "axes[0, 1].plot(td_componentes_producto2.observed)\n",
        "axes[0, 1].set_title('Producto 2 - Observado')\n",
        "axes[1, 1].plot(td_componentes_producto2.trend)\n",
        "axes[1, 1].set_title('Producto 2 - Tendencia')\n",
        "axes[2, 1].plot(td_componentes_producto2.seasonal)\n",
        "axes[2, 1].set_title('Producto 2 - Estacionalidad')\n",
        "axes[3, 1].plot(td_componentes_producto2.resid)\n",
        "axes[3, 1].set_title('Producto 2 - Residual')\n",
        "\n",
        "# Ajustar el layout\n",
        "plt.tight_layout()\n",
        "plt.show()"
      ]
    },
    {
      "cell_type": "markdown",
      "metadata": {},
      "source": [
        "Aquí notamos que la tendencia de cada producto ha sido inversa es decir: el producto1 tiene una tendencia hacia la baja y el producto2 una tendencia a la alza; pero debemos observar que también a pesar de esto al final ambos prodcutos se encuentran en una ventas similares en cantidad aunque aún vende más el producto1. "
      ]
    },
    {
      "cell_type": "markdown",
      "metadata": {},
      "source": [
        "## **4. PROTOCOLOS DE EVALUACION**"
      ]
    },
    {
      "cell_type": "markdown",
      "metadata": {},
      "source": [
        "Al inicio había hecho un train y test donde el test tenía solo el ultimo dato, pensando en los ejercicios anteriores.. NOta! "
      ]
    },
    {
      "cell_type": "markdown",
      "metadata": {},
      "source": [
        "### **4.1 Ventana Recursiva**\n",
        "\n",
        "En un enfoque de ventana recursiva, entrenas el modelo con un conjunto de datos y luego lo usas para predecir un punto en el futuro. Después de obtener la predicción, amplías la ventana para incluir este nuevo punto y repites el proceso.\n",
        "\n",
        "![alt text](image.png)"
      ]
    },
    {
      "cell_type": "markdown",
      "metadata": {},
      "source": [
        "Ejemplo:"
      ]
    },
    {
      "cell_type": "code",
      "execution_count": null,
      "metadata": {},
      "outputs": [],
      "source": [
        "def recursive_forecast(model, train_data, test_data):\n",
        "    \"\"\"\n",
        "    Realiza un pronóstico recursivo con el modelo dado.\n",
        "    \n",
        "    Parameters:\n",
        "    - model: el modelo de pronóstico (debe tener un método `fit` y `predict`)\n",
        "    - train_data: datos de entrenamiento\n",
        "    - test_data: datos de prueba\n",
        "    \n",
        "    Returns:\n",
        "    - predictions: lista de predicciones\n",
        "    \"\"\"\n",
        "    predictions = []\n",
        "    history = train_data.copy()\n",
        "    \n",
        "    for t in range(len(test_data)):\n",
        "        model.fit(history)\n",
        "        yhat = model.predict(1)\n",
        "        predictions.append(yhat)\n",
        "        history = np.append(history, test_data[t])  # actualizamos la ventana\n",
        "        \n",
        "    return predictions\n"
      ]
    },
    {
      "attachments": {
        "image.png": {
          "image/png": "[encoded data removed]"
        }
      },
      "cell_type": "markdown",
      "metadata": {},
      "source": [
        "### **4.2 Rolling window**\n",
        "\n",
        "En una rolling window, mueves la ventana a lo largo del tiempo para generar predicciones, entrenando el modelo solo en los datos más recientes.\n",
        "\n",
        "![image.png](attachment:image.png)"
      ]
    },
    {
      "cell_type": "markdown",
      "metadata": {},
      "source": [
        "Ejemplo:"
      ]
    },
    {
      "cell_type": "code",
      "execution_count": null,
      "metadata": {},
      "outputs": [],
      "source": [
        "def rolling_forecast(model, train_data, test_data, window_size):\n",
        "    \"\"\"\n",
        "    Realiza un pronóstico utilizando una ventana deslizante (rolling window).\n",
        "    \n",
        "    Parameters:\n",
        "    - model: el modelo de pronóstico (debe tener un método `fit` y `predict`)\n",
        "    - train_data: datos de entrenamiento\n",
        "    - test_data: datos de prueba\n",
        "    - window_size: tamaño de la ventana deslizante\n",
        "    \n",
        "    Returns:\n",
        "    - predictions: lista de predicciones\n",
        "    \"\"\"\n",
        "    predictions = []\n",
        "    \n",
        "    for t in range(len(test_data)):\n",
        "        window = train_data[-window_size:]  # extraemos la ventana\n",
        "        model.fit(window)\n",
        "        yhat = model.predict(1)\n",
        "        predictions.append(yhat)\n",
        "        train_data = np.append(train_data, test_data[t])  # movemos la ventana\n",
        "        \n",
        "    return predictions\n"
      ]
    },
    {
      "cell_type": "markdown",
      "metadata": {},
      "source": [
        "Dependiendo del modelo a usar se deben hacer algunos ajustes a las funciones para el correcto funcionamiento del protocolo de evaluación"
      ]
    },
    {
      "cell_type": "markdown",
      "metadata": {},
      "source": [
        "Se implementan las funciones para evaluar los modelos utilizando ambos protocolos."
      ]
    },
    {
      "cell_type": "code",
      "execution_count": null,
      "metadata": {},
      "outputs": [],
      "source": [
        "#Definimos nuestras funciones con los protocolos de evaluación a usar\n",
        "# Evaluación con Rolling Window ajustada\n",
        "def rolling_window_evaluation(series, model_func, params, window_size=12):\n",
        "    predictions = []\n",
        "    for i in range(window_size, len(series)):\n",
        "        train = series[:i]\n",
        "        test = series[i:i+1]\n",
        "        \n",
        "        model = model_func(train, **params)\n",
        "        \n",
        "        if hasattr(model, 'forecast'):\n",
        "            forecast = model.forecast(steps=1)\n",
        "            predictions.append(forecast[0])\n",
        "        else:\n",
        "            # Para modelos como promedio móvil que no tienen forecast\n",
        "            predictions.append(model.iloc[-1])  # Usar el último valor de la media móvil\n",
        "    \n",
        "    return predictions\n",
        "\n",
        "# Evaluación con Ventana Recursiva\n",
        "def recursive_window_evaluation(series, model_func, params, initial_train_size=12):\n",
        "    predictions = []\n",
        "    train = series[:initial_train_size].copy()\n",
        "    \n",
        "    for i in range(initial_train_size, len(series)):\n",
        "        model = model_func(train, **params)\n",
        "        forecast = model.forecast(steps=1)\n",
        "        predictions.append(forecast[0])\n",
        "        train = train.append(series[i:i+1])\n",
        "    \n",
        "    return predictions\n",
        "\n",
        "# Calcular RMSE\n",
        "def calculate_rmse(true_values, predictions):\n",
        "    return np.sqrt(mean_squared_error(true_values, predictions))"
      ]
    },
    {
      "cell_type": "markdown",
      "metadata": {},
      "source": [
        "## **5. MODELOS**"
      ]
    },
    {
      "cell_type": "markdown",
      "metadata": {},
      "source": [
        "Implementaremos funciones para:\n",
        "\n",
        "- Promedio Móvil.\n",
        "\n",
        "- Suavización Exponencial (Simple, Holt, Holt-Winters).\n",
        "\n",
        "- ARIMA."
      ]
    },
    {
      "cell_type": "code",
      "execution_count": null,
      "metadata": {},
      "outputs": [],
      "source": [
        "#from statsmodels.tsa.holtwinters import ExponentialSmoothing\n",
        "#from statsmodels.tsa.arima.model import ARIMA\n",
        "\n",
        "# Promedio Móvil ajustado\n",
        "def moving_average_model(series, window):\n",
        "    return series.rolling(window=window).mean()\n",
        "\n",
        "# Suavización Exponencial Simple\n",
        "def exponential_smoothing_model(series, alpha):\n",
        "    model = ExponentialSmoothing(series, trend=None, seasonal=None)\n",
        "    fit_model = model.fit(smoothing_level=alpha)\n",
        "    return fit_model\n",
        "\n",
        "# Holt\n",
        "def holt_model(series, alpha, beta):\n",
        "    model = ExponentialSmoothing(series, trend=\"add\")\n",
        "    fit_model = model.fit(smoothing_level=alpha, smoothing_slope=beta)\n",
        "    return fit_model\n",
        "\n",
        "\"\"\"\n",
        "# Holt-Winters\n",
        "def holt_winters_model(series, alpha, beta, gamma):\n",
        "    model = ExponentialSmoothing(series, trend=\"add\", seasonal=\"add\", seasonal_periods=12)\n",
        "    fit_model = model.fit(smoothing_level=alpha, smoothing_slope=beta, smoothing_seasonal=gamma)\n",
        "    return fit_model\n",
        "\"\"\"\n",
        "\n",
        "# Modelo Holt-Winters ajustado\n",
        "from statsmodels.tsa.holtwinters import ExponentialSmoothing\n",
        "\n",
        "def holt_winters_model(series, alpha, beta, gamma, seasonal_periods=12):\n",
        "    try:\n",
        "        model = ExponentialSmoothing(series, trend='add', seasonal='add', seasonal_periods=seasonal_periods)\n",
        "        fitted_model = model.fit(smoothing_level=alpha, smoothing_slope=beta, smoothing_seasonal=gamma)\n",
        "        return fitted_model\n",
        "    except ValueError as e:\n",
        "        print(f\"Error en Holt-Winters: {e}\")\n",
        "        # Si no hay suficientes datos estacionales, retornar un modelo sin componente estacional\n",
        "        model = ExponentialSmoothing(series, trend='add', seasonal=None)\n",
        "        fitted_model = model.fit(smoothing_level=alpha, smoothing_slope=beta)\n",
        "        return fitted_model\n",
        "\n",
        "\n",
        "\n",
        "# ARIMA\n",
        "def arima_model(series, p, d, q):\n",
        "    model = ARIMA(series, order=(p,d,q))\n",
        "    fit_model = model.fit()\n",
        "    return fit_model"
      ]
    },
    {
      "cell_type": "markdown",
      "metadata": {},
      "source": [
        "Búsqueda de Hiperparámetros y Ejecución"
      ]
    },
    {
      "cell_type": "code",
      "execution_count": null,
      "metadata": {},
      "outputs": [],
      "source": [
        "#Se realizarán pruebas con diferentes combinaciones de parámetros para cada modelo.\n",
        "\n",
        "# Búsqueda de Hiperparámetros para Holt\n",
        "#def hyperparameter_search(series, model_name):\n",
        "def hyperparameter_search(series, model_name, seasonal_periods=12):\n",
        "    \n",
        "    if model_name == 'Promedio Movil':\n",
        "        best_rmse = float('inf')\n",
        "        best_window = None\n",
        "        for window in range(2, 13):  # Prueba ventanas de 2 a 12\n",
        "            predictions = rolling_window_evaluation(series, moving_average_model, {'window': window})\n",
        "            rmse = calculate_rmse(series[12:], predictions)\n",
        "            if rmse < best_rmse:\n",
        "                best_rmse = rmse\n",
        "                best_window = window\n",
        "        return best_rmse, best_window\n",
        "\n",
        "    elif model_name == 'Suavización Exponencial':\n",
        "        best_rmse = float('inf')\n",
        "        best_alpha = None\n",
        "        for alpha in np.linspace(0.1, 1.0, 10):  # Prueba alphas de 0.1 a 1.0\n",
        "            predictions = rolling_window_evaluation(series, exponential_smoothing_model, {'alpha': alpha})\n",
        "            rmse = calculate_rmse(series[12:], predictions)\n",
        "            if rmse < best_rmse:\n",
        "                best_rmse = rmse\n",
        "                best_alpha = alpha\n",
        "        return best_rmse, best_alpha\n",
        "\n",
        "    elif model_name == 'Holt':\n",
        "        best_rmse = float('inf')\n",
        "        best_params = None\n",
        "        for alpha in np.linspace(0.1, 1.0, 10):  # Prueba alphas de 0.1 a 1.0\n",
        "            for beta in np.linspace(0.1, 1.0, 10):  # Prueba betas de 0.1 a 1.0\n",
        "                predictions = rolling_window_evaluation(series, holt_model, {'alpha': alpha, 'beta': beta})\n",
        "                rmse = calculate_rmse(series[12:], predictions)\n",
        "                if rmse < best_rmse:\n",
        "                    best_rmse = rmse\n",
        "                    best_params = (alpha, beta)\n",
        "        return best_rmse, best_params\n",
        "\n",
        "    #elif model_name == 'Holt-Winters':\n",
        "    #    best_rmse = float('inf')\n",
        "    #    best_params = None\n",
        "    #    for alpha in np.linspace(0.1, 1.0, 10):  # Prueba alphas de 0.1 a 1.0\n",
        "    #        for beta in np.linspace(0.1, 1.0, 10):  # Prueba betas de 0.1 a 1.0\n",
        "    #            for gamma in np.linspace(0.1, 1.0, 10):  # Prueba gammas de 0.1 a 1.0\n",
        "    #                predictions = rolling_window_evaluation(series, holt_winters_model, {'alpha': alpha, 'beta': beta, 'gamma': gamma})\n",
        "    #                rmse = calculate_rmse(series[12:], predictions)\n",
        "    #                if rmse < best_rmse:\n",
        "    #                    best_rmse = rmse\n",
        "    #                    best_params = (alpha, beta, gamma)\n",
        "    #    return best_rmse, best_params\n",
        "      \n",
        "    elif model_name == 'Holt-Winters':\n",
        "        best_rmse = float('inf')\n",
        "        best_params = None\n",
        "        for alpha in np.linspace(0.1, 1.0, 10):  # Prueba alphas de 0.1 a 1.0\n",
        "            for beta in np.linspace(0.1, 1.0, 10):  # Prueba betas de 0.1 a 1.0\n",
        "                for gamma in np.linspace(0.1, 1.0, 10):  # Prueba gammas de 0.1 a 1.0\n",
        "                    predictions = rolling_window_evaluation(series, holt_winters_model, {'alpha': alpha, 'beta': beta, 'gamma': gamma, 'seasonal_periods': seasonal_periods})\n",
        "                    rmse = calculate_rmse(series[12:], predictions)\n",
        "                    if rmse < best_rmse:\n",
        "                        best_rmse = rmse\n",
        "                        best_params = (alpha, beta, gamma)\n",
        "        return best_rmse, best_params\n",
        "\n",
        "    elif model_name == 'ARIMA':\n",
        "        best_rmse = float('inf')\n",
        "        best_order = None\n",
        "        for p in range(0, 5):  # Prueba p de 0 a 4\n",
        "            for d in range(0, 3):  # Prueba d de 0 a 2\n",
        "                for q in range(0, 5):  # Prueba q de 0 a 4\n",
        "                    try:\n",
        "                        predictions = rolling_window_evaluation(series, arima_model, {'p': p, 'd': d, 'q': q})\n",
        "                        rmse = calculate_rmse(series[12:], predictions)\n",
        "                        if rmse < best_rmse:\n",
        "                            best_rmse = rmse\n",
        "                            best_order = (p, d, q)\n",
        "                    except:\n",
        "                        continue\n",
        "        return best_rmse, best_order\n"
      ]
    },
    {
      "cell_type": "markdown",
      "metadata": {},
      "source": [
        "Almacenamiento de Resultados y Gráficos"
      ]
    },
    {
      "cell_type": "code",
      "execution_count": null,
      "metadata": {},
      "outputs": [],
      "source": [
        "#Se almacenarán los resultados de RMSE para cada serie y modelo en un dataframe, luego se graficarán.\n",
        "\n",
        "# Dataframe para almacenar los resultados\n",
        "results = []\n",
        "\n",
        "for serie_name in ['producto1', 'producto2']:\n",
        "    series = data[serie_name]\n",
        "    \n",
        "    # Promedio Móvil\n",
        "    rmse, window = hyperparameter_search(series, 'Promedio Movil')\n",
        "    results.append({'modelo': 'Promedio Movil', 'serie': serie_name, 'RMSE': rmse, 'window': window})\n",
        "\n",
        "    # Suavización Exponencial\n",
        "    rmse, alpha = hyperparameter_search(series, 'Suavización Exponencial')\n",
        "    results.append({'modelo': 'Suavización Exponencial', 'serie': serie_name, 'RMSE': rmse, 'alpha': alpha})\n",
        "\n",
        "    # Holt\n",
        "    rmse, params = hyperparameter_search(series, 'Holt')\n",
        "    results.append({'modelo': 'Holt', 'serie': serie_name, 'RMSE': rmse, 'alpha': params[0], 'beta': params[1]})\n",
        "\n",
        "    # Holt-Winters\n",
        "    rmse, params = hyperparameter_search(series, 'Holt-Winters')\n",
        "    results.append({'modelo': 'Holt-Winters', 'serie': serie_name, 'RMSE': rmse, 'alpha': params[0], 'beta': params[1], 'gamma': params[2]})\n",
        "\n",
        "    # ARIMA\n",
        "    rmse, order = hyperparameter_search(series, 'ARIMA')\n",
        "    results.append({'modelo': 'ARIMA', 'serie': serie_name, 'RMSE': rmse, 'p': order[0], 'd': order[1], 'q': order[2]})\n",
        "\n",
        "# Convertir resultados en un dataframe\n",
        "results_df = pd.DataFrame(results)\n",
        "\n",
        "# Visualizar los resultados\n",
        "print(results_df)\n"
      ]
    },
    {
      "cell_type": "code",
      "execution_count": null,
      "metadata": {},
      "outputs": [],
      "source": [
        "results_df"
      ]
    },
    {
      "cell_type": "markdown",
      "metadata": {},
      "source": [
        "visualizemos claramente la RMSE para cada modelo de ambas series en un mismo gráfico."
      ]
    },
    {
      "cell_type": "code",
      "execution_count": null,
      "metadata": {},
      "outputs": [],
      "source": [
        "# Graficar los resultados\n",
        "plt.figure(figsize=(10,6))\n",
        "for serie_name in ['producto1', 'producto2']:\n",
        "    serie_results = results_df[results_df['serie'] == serie_name]\n",
        "    plt.plot(serie_results['modelo'], serie_results['RMSE'], label=serie_name)\n",
        "\n",
        "plt.xlabel('Modelos')\n",
        "plt.ylabel('RMSE')\n",
        "plt.title('Comparación de RMSE entre modelos')\n",
        "plt.legend()\n",
        "plt.show()\n"
      ]
    },
    {
      "cell_type": "code",
      "execution_count": null,
      "metadata": {},
      "outputs": [],
      "source": [
        "# Graficar los resultados\n",
        "plt.figure(figsize=(10,6))\n",
        "\n",
        "# Convertir los nombres de los modelos en índices numéricos\n",
        "modelos = results_df['modelo'].unique()\n",
        "x_values = list(range(len(modelos)))  # Números para el eje X\n",
        "\n",
        "for serie_name in ['producto1', 'producto2']:\n",
        "    serie_results = results_df[results_df['serie'] == serie_name]\n",
        "    \n",
        "    # Asignar los RMSE a los valores numéricos del eje X\n",
        "    y_values = serie_results['RMSE'].values\n",
        "    plt.plot(x_values, y_values, label=serie_name, marker='o')\n",
        "\n",
        "# Configurar etiquetas del eje X\n",
        "plt.xticks(x_values, modelos, rotation=45)\n",
        "\n",
        "plt.xlabel('Modelos')\n",
        "plt.ylabel('RMSE')\n",
        "plt.title('Comparación de RMSE entre modelos')\n",
        "plt.legend()\n",
        "plt.tight_layout()  # Ajustar el layout para evitar solapamiento\n",
        "plt.show()\n"
      ]
    },
    {
      "cell_type": "markdown",
      "metadata": {},
      "source": [
        "visualizemos las predicciones del mejor modelo para cada serie (producto1 y producto2) junto con los valores reales de las series de tiempo."
      ]
    },
    {
      "cell_type": "code",
      "execution_count": null,
      "metadata": {},
      "outputs": [],
      "source": [
        "# Encontrar el mejor modelo para cada serie (menor RMSE)\n",
        "best_models = results_df.loc[results_df.groupby('serie')['RMSE'].idxmin()]\n",
        "\n",
        "# Definir una función para ajustar el mejor modelo y hacer predicciones\n",
        "def fit_and_forecast_best_model(series, model_name, params):\n",
        "    if model_name == 'Promedio Movil':\n",
        "        return rolling_window_evaluation(series, moving_average_model, {'window': params['window']})\n",
        "    elif model_name == 'Suavización Exponencial':\n",
        "        return rolling_window_evaluation(series, exponential_smoothing_model, {'alpha': params['alpha']})\n",
        "    elif model_name == 'Holt':\n",
        "        return rolling_window_evaluation(series, holt_model, {'alpha': params['alpha'], 'beta': params['beta']})\n",
        "    elif model_name == 'Holt-Winters':\n",
        "        return rolling_window_evaluation(series, holt_winters_model, {'alpha': params['alpha'], 'beta': params['beta'], 'gamma': params['gamma'], 'seasonal_periods': 12})\n",
        "    elif model_name == 'ARIMA':\n",
        "        return rolling_window_evaluation(series, arima_model, {'p': params['p'], 'd': params['d'], 'q': params['q']})\n",
        "\n",
        "# Graficar el mejor modelo para cada serie\n",
        "plt.figure(figsize=(10,6))\n",
        "\n",
        "for _, row in best_models.iterrows():\n",
        "    serie_name = row['serie']\n",
        "    model_name = row['modelo']\n",
        "    series = data[serie_name]\n",
        "    \n",
        "    # Obtener los parámetros del mejor modelo\n",
        "    if model_name == 'Promedio Movil':\n",
        "        params = {'window': row['window']}\n",
        "    elif model_name == 'Suavización Exponencial':\n",
        "        params = {'alpha': row['alpha']}\n",
        "    elif model_name == 'Holt':\n",
        "        params = {'alpha': row['alpha'], 'beta': row['beta']}\n",
        "    elif model_name == 'Holt-Winters':\n",
        "        params = {'alpha': row['alpha'], 'beta': row['beta'], 'gamma': row['gamma']}\n",
        "    elif model_name == 'ARIMA':\n",
        "        params = {'p': row['p'], 'd': row['d'], 'q': row['q']}\n",
        "    \n",
        "    # Ajustar el mejor modelo y predecir\n",
        "    predictions = fit_and_forecast_best_model(series, model_name, params)\n",
        "    \n",
        "    # Graficar los valores reales y las predicciones\n",
        "    plt.plot(series.index, series, label=f'Valores reales {serie_name}')\n",
        "    plt.plot(series.index[12:], predictions, label=f'Predicciones {serie_name} ({model_name})')\n",
        "\n",
        "plt.xlabel('Tiempo')\n",
        "plt.ylabel('Valor')\n",
        "plt.title('Mejor modelo para cada serie')\n",
        "plt.legend()\n",
        "plt.tight_layout()\n",
        "plt.show()\n"
      ]
    },
    {
      "cell_type": "markdown",
      "metadata": {},
      "source": [
        "Ahora veremos claramente el valor pronosticado para el próximo mes (desconocido) y cómo se compara con los datos históricos en las gráficas."
      ]
    },
    {
      "cell_type": "code",
      "execution_count": null,
      "metadata": {},
      "outputs": [],
      "source": [
        "# Función para ajustar el mejor modelo y hacer predicciones a un mes en el futuro\n",
        "def forecast_next_month(series, model_name, params):\n",
        "    if model_name == 'Promedio Movil':\n",
        "        model = moving_average_model(series, **params)\n",
        "        return model.iloc[-1]  # Último valor del modelo\n",
        "    elif model_name == 'Suavización Exponencial':\n",
        "        model = exponential_smoothing_model(series, **params)\n",
        "        return model.forecast(steps=1)[0]  # Pronóstico para el próximo mes\n",
        "    elif model_name == 'Holt':\n",
        "        model = holt_model(series, **params)\n",
        "        return model.forecast(steps=1)[0]  # Pronóstico para el próximo mes\n",
        "    elif model_name == 'Holt-Winters':\n",
        "        model = holt_winters_model(series, **params)\n",
        "        return model.forecast(steps=1)[0]  # Pronóstico para el próximo mes\n",
        "    elif model_name == 'ARIMA':\n",
        "        model = arima_model(series, **params)\n",
        "        return model.forecast(steps=1)[0]  # Pronóstico para el próximo mes\n",
        "\n",
        "# Graficar el mejor modelo y su pronóstico\n",
        "plt.figure(figsize=(12, 6))\n",
        "\n",
        "for _, row in best_models.iterrows():\n",
        "    serie_name = row['serie']\n",
        "    model_name = row['modelo']\n",
        "    series = data[serie_name]\n",
        "    \n",
        "    # Obtener los parámetros del mejor modelo\n",
        "    if model_name == 'Promedio Movil':\n",
        "        params = {'window': row['window']}\n",
        "    elif model_name == 'Suavización Exponencial':\n",
        "        params = {'alpha': row['alpha']}\n",
        "    elif model_name == 'Holt':\n",
        "        params = {'alpha': row['alpha'], 'beta': row['beta']}\n",
        "    elif model_name == 'Holt-Winters':\n",
        "        params = {'alpha': row['alpha'], 'beta': row['beta'], 'gamma': row['gamma']}\n",
        "    elif model_name == 'ARIMA':\n",
        "        params = {'p': row['p'], 'd': row['d'], 'q': row['q']}\n",
        "    \n",
        "    # Ajustar el mejor modelo y pronosticar el próximo mes\n",
        "    next_month_forecast = forecast_next_month(series, model_name, params)\n",
        "    \n",
        "    # Graficar los valores reales y la predicción del próximo mes\n",
        "    plt.plot(series.index, series, label=f'Valores reales {serie_name}')\n",
        "    plt.axvline(x=series.index[-1], color='r', linestyle='--', label='Último mes en datos')\n",
        "    plt.scatter(series.index[-1] + pd.DateOffset(months=1), next_month_forecast, color='green', zorder=5, label=f'Pronóstico {serie_name}')\n",
        "    \n",
        "plt.xlabel('Tiempo')\n",
        "plt.ylabel('Valor')\n",
        "plt.title('Pronóstico de un mes en el futuro con el mejor modelo')\n",
        "plt.legend()\n",
        "plt.tight_layout()\n",
        "plt.show()\n",
        "\n",
        "# Imprimir los valores pronosticados\n",
        "for _, row in best_models.iterrows():\n",
        "    serie_name = row['serie']\n",
        "    model_name = row['modelo']\n",
        "    series = data[serie_name]\n",
        "    \n",
        "    # Obtener los parámetros del mejor modelo\n",
        "    if model_name == 'Promedio Movil':\n",
        "        params = {'window': row['window']}\n",
        "    elif model_name == 'Suavización Exponencial':\n",
        "        params = {'alpha': row['alpha']}\n",
        "    elif model_name == 'Holt':\n",
        "        params = {'alpha': row['alpha'], 'beta': row['beta']}\n",
        "    elif model_name == 'Holt-Winters':\n",
        "        params = {'alpha': row['alpha'], 'beta': row['beta'], 'gamma': row['gamma']}\n",
        "    elif model_name == 'ARIMA':\n",
        "        params = {'p': row['p'], 'd': row['d'], 'q': row['q']}\n",
        "    \n",
        "    # Ajustar el mejor modelo y pronosticar el próximo mes\n",
        "    next_month_forecast = forecast_next_month(series, model_name, params)\n",
        "    \n",
        "    print(f\"Serie: {serie_name}, Modelo: {model_name}, Pronóstico para el próximo mes: {next_month_forecast}\")\n"
      ]
    },
    {
      "cell_type": "markdown",
      "metadata": {
        "id": "KEhAlk_oyoz5"
      },
      "source": [
        "## **Por definir**\n",
        "\n",
        "## **n---3. Optimización Bayesiana serie producto1**"
      ]
    }
  ],
  "metadata": {
    "colab": {
      "provenance": []
    },
    "kernelspec": {
      "display_name": "Python 3",
      "name": "python3"
    },
    "language_info": {
      "codemirror_mode": {
        "name": "ipython",
        "version": 3
      },
      "file_extension": ".py",
      "mimetype": "text/x-python",
      "name": "python",
      "nbconvert_exporter": "python",
      "pygments_lexer": "ipython3",
      "version": "3.12.2"
    }
  },
  "nbformat": 4,
  "nbformat_minor": 0
}
