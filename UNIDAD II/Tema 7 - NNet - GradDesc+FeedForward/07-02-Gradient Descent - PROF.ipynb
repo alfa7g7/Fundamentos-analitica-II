{
 "cells": [
  {
   "cell_type": "markdown",
   "metadata": {
    "toc": true
   },
   "source": [
    "<h1>Table of Contents<span class=\"tocSkip\"></span></h1>\n",
    "<div class=\"toc\"><ul class=\"toc-item\"><li><span><a href=\"#Descenso-de-gradiente-para-modelos-de-regresión-lineal-por-OLS\" data-toc-modified-id=\"Descenso-de-gradiente-para-modelos-de-regresión-lineal-por-OLS-1\"><span class=\"toc-item-num\">1&nbsp;&nbsp;</span>Descenso de gradiente para modelos de regresión lineal por OLS</a></span><ul class=\"toc-item\"><li><span><a href=\"#Preparación-de-los-datos\" data-toc-modified-id=\"Preparación-de-los-datos-1.1\"><span class=\"toc-item-num\">1.1&nbsp;&nbsp;</span>Preparación de los datos</a></span></li><li><span><a href=\"#Aprendizaje-del-modelo\" data-toc-modified-id=\"Aprendizaje-del-modelo-1.2\"><span class=\"toc-item-num\">1.2&nbsp;&nbsp;</span>Aprendizaje del modelo</a></span></li><li><span><a href=\"#Significancia-de-los-parámetros-del-modelo\" data-toc-modified-id=\"Significancia-de-los-parámetros-del-modelo-1.3\"><span class=\"toc-item-num\">1.3&nbsp;&nbsp;</span>Significancia de los parámetros del modelo</a></span></li><li><span><a href=\"#Obtención-de-los-parámetros-a-partir-de-Gradient-Descent\" data-toc-modified-id=\"Obtención-de-los-parámetros-a-partir-de-Gradient-Descent-1.4\"><span class=\"toc-item-num\">1.4&nbsp;&nbsp;</span>Obtención de los parámetros a partir de Gradient Descent</a></span></li></ul></li></ul></div>"
   ]
  },
  {
   "cell_type": "markdown",
   "metadata": {},
   "source": [
    "# Descenso de gradiente para modelos de regresión lineal por OLS"
   ]
  },
  {
   "cell_type": "markdown",
   "metadata": {},
   "source": [
    "## Preparación de los datos"
   ]
  },
  {
   "cell_type": "markdown",
   "metadata": {},
   "source": [
    "Se importan las librerías que se van a utilizar:\n",
    "- **numpy**: librería numérica que proporciona todo tipo de operaciones matemáticas y de algebra lineal. Vamos a utilizar el random y operaciones sobre arrays y matrices\n",
    "- **matplotlib**: permite crear gráficos 2D, con algunas pocas funcionalidades 3D\n",
    "- **sklearn**: librería para machine learning en Python (scikit-learn), incluye modelos de clasificación, regresión, clustering, y herramientas de reducción de dimensionalidad, selección de modelos y preprocesamiento\n",
    "- **statsmodels**: librería de métodos y algoritmos estadísticos\n",
    "- **scipy**: librería que integra paquetes utilizados en computación scientífica"
   ]
  },
  {
   "cell_type": "code",
   "execution_count": 1,
   "metadata": {},
   "outputs": [],
   "source": [
    "import numpy as np\n",
    "import matplotlib.pyplot as plt\n",
    "from scipy import stats\n",
    "import statsmodels.api as sm"
   ]
  },
  {
   "cell_type": "code",
   "execution_count": 2,
   "metadata": {},
   "outputs": [],
   "source": [
    "from sklearn import linear_model\n",
    "from sklearn.metrics import mean_squared_error, r2_score"
   ]
  },
  {
   "cell_type": "markdown",
   "metadata": {},
   "source": [
    "Vamos a especificar un valor de la semilla a utilizar para el generador de números pseudo aleatorio"
   ]
  },
  {
   "cell_type": "code",
   "execution_count": 3,
   "metadata": {},
   "outputs": [],
   "source": [
    "np.random.seed(123456)"
   ]
  },
  {
   "cell_type": "markdown",
   "metadata": {},
   "source": [
    "Vamos a crear un set de datos sintéticos: un array de 5000 filas y 1 columna con valores aleatorios, que servirán como variables predictoras del modelo de regresión: Y= w1\\*x1 + w0"
   ]
  },
  {
   "cell_type": "code",
   "execution_count": 4,
   "metadata": {},
   "outputs": [
    {
     "name": "stdout",
     "output_type": "stream",
     "text": [
      "x tiene un tamaño de:  5000\n",
      "x tiene un shape de:  (5000,)\n",
      "las primeras 5 filas de x son: \n",
      " [0.12696983 0.96671784 0.26047601 0.89723652 0.37674972]\n"
     ]
    }
   ],
   "source": [
    "x = np.random.random(5000)\n",
    "print(\"x tiene un tamaño de: \", len(x))\n",
    "print(\"x tiene un shape de: \", x.shape)\n",
    "print(\"las primeras 5 filas de x son: \\n\", x[0:5])"
   ]
  },
  {
   "cell_type": "markdown",
   "metadata": {},
   "source": [
    "Generamos los Y (la variable objetivo) a partir de una combinación lineal \n",
    "- del predictor X1,\n",
    "- de los parámetros w0 (sesgo/bias) y w1 (coeficiente de la variable independiente) con valores de 2 y 4 respectivamente, \n",
    "- introduciendo un poco de ruido aleatorio siguiendo una distribución estándar (queda en el vector epsilon) para que un modelo de regresión no sea perfecto."
   ]
  },
  {
   "cell_type": "code",
   "execution_count": 5,
   "metadata": {},
   "outputs": [],
   "source": [
    "w0 = 2\n",
    "w1 = 4"
   ]
  },
  {
   "cell_type": "code",
   "execution_count": 6,
   "metadata": {},
   "outputs": [
    {
     "name": "stdout",
     "output_type": "stream",
     "text": [
      "5000\n",
      "(5000,)\n",
      "[2.64300652 5.97994856 3.2790552  5.58932761 3.73684693]\n"
     ]
    }
   ],
   "source": [
    "epsilon = 0.5*np.random.normal(0, 1, 5000)\n",
    "y = x*w1 + w0 + epsilon\n",
    "print(y.size)\n",
    "print(y.shape)\n",
    "print(y[0:5])"
   ]
  },
  {
   "cell_type": "markdown",
   "metadata": {},
   "source": [
    "Visualicemos los datos generados."
   ]
  },
  {
   "cell_type": "code",
   "execution_count": 7,
   "metadata": {},
   "outputs": [
    {
     "data": {
      "image/png": "[encoded data removed]",
      "text/plain": [
       "<Figure size 432x288 with 1 Axes>"
      ]
     },
     "metadata": {
      "needs_background": "light"
     },
     "output_type": "display_data"
    }
   ],
   "source": [
    "# Plot outputs\n",
    "plt.scatter(x, y,  color='black')\n",
    "plt.show()\n"
   ]
  },
  {
   "cell_type": "markdown",
   "metadata": {},
   "source": [
    "## Aprendizaje del modelo"
   ]
  },
  {
   "cell_type": "markdown",
   "metadata": {},
   "source": [
    "Ahora vamos a aprender un modelo de regresión con scikit-learn como **si no conocieramos los parámetros** reales w0 y w1.\n",
    "El modelo es un objeto y ofrece diferentes métodos. Obtenemos los resultados para analizar su calidad."
   ]
  },
  {
   "cell_type": "markdown",
   "metadata": {},
   "source": [
    "Se crea el modelo de regresión lineal y se entrena con los datos de las variables independientes y dependiente"
   ]
  },
  {
   "cell_type": "code",
   "execution_count": 11,
   "metadata": {},
   "outputs": [
    {
     "data": {
      "text/plain": [
       "LinearRegression()"
      ]
     },
     "execution_count": 11,
     "metadata": {},
     "output_type": "execute_result"
    }
   ],
   "source": [
    "modelo = linear_model.LinearRegression()\n",
    "modelo.fit(np.expand_dims(x, axis=1), y)"
   ]
  },
  {
   "cell_type": "code",
   "execution_count": 12,
   "metadata": {},
   "outputs": [
    {
     "data": {
      "text/plain": [
       "array([0.12696983, 0.96671784, 0.26047601, ..., 0.85721774, 0.19447551,\n",
       "       0.51329213])"
      ]
     },
     "execution_count": 12,
     "metadata": {},
     "output_type": "execute_result"
    }
   ],
   "source": [
    "x"
   ]
  },
  {
   "cell_type": "code",
   "execution_count": 13,
   "metadata": {},
   "outputs": [
    {
     "data": {
      "text/plain": [
       "array([[0.12696983],\n",
       "       [0.96671784],\n",
       "       [0.26047601],\n",
       "       ...,\n",
       "       [0.85721774],\n",
       "       [0.19447551],\n",
       "       [0.51329213]])"
      ]
     },
     "execution_count": 13,
     "metadata": {},
     "output_type": "execute_result"
    }
   ],
   "source": [
    "np.expand_dims(x, axis=1)"
   ]
  },
  {
   "cell_type": "markdown",
   "metadata": {},
   "source": [
    "Podemos utilizar el modelo para predecir sobre los mismos datos originales (en la vida real esto no se debe hacer, pues se estaría subestimando el error real dado el sobre aprendizaje)"
   ]
  },
  {
   "cell_type": "code",
   "execution_count": 14,
   "metadata": {},
   "outputs": [
    {
     "name": "stdout",
     "output_type": "stream",
     "text": [
      "(5000,)\n",
      "Predichos:  [2.51012308 5.84746794 3.04070622 5.57133379 3.50280374 3.34173659\n",
      " 3.79938702 5.3448769  2.49475202 4.16362339]\n",
      "Reales:     [2.64300652 5.97994856 3.2790552  5.58932761 3.73684693 3.5420426\n",
      " 3.3656697  5.3785062  3.0831803  4.65401643]\n"
     ]
    }
   ],
   "source": [
    "y_pred = modelo.predict(np.expand_dims(x, axis=1))\n",
    "print(y_pred.shape)\n",
    "print(\"Predichos: \", y_pred[0:10])\n",
    "print(\"Reales:    \", y[0:10])"
   ]
  },
  {
   "cell_type": "markdown",
   "metadata": {},
   "source": [
    "Podemos obtener los coeficientes resultados de la regresión, así como métricas de calidad de ajuste del modelo."
   ]
  },
  {
   "cell_type": "code",
   "execution_count": 15,
   "metadata": {},
   "outputs": [
    {
     "name": "stdout",
     "output_type": "stream",
     "text": [
      "Coefficients: \n",
      " [2.00551679 3.97422185]\n",
      "Mean squared error: 0.25307308\n",
      "Variance score (R2): 0.83707441\n",
      "R2 adjusted: 0.83704181\n"
     ]
    }
   ],
   "source": [
    "params = np.append(modelo.intercept_, modelo.coef_)\n",
    "print('Coefficients: \\n', params)\n",
    "print(\"Mean squared error: %.8f\" %mean_squared_error(y, y_pred))\n",
    "r2 = r2_score(y, y_pred)\n",
    "print('Variance score (R2): %.8f' %r2_score(y, y_pred))\n",
    "\n",
    "r2_adjusted = 1 - (1-r2)*(len(y)-1) / (len(y) - 1 - 1)\n",
    "print('R2 adjusted: %.8f' %r2_adjusted)"
   ]
  },
  {
   "cell_type": "markdown",
   "metadata": {},
   "source": [
    "**Nota al margen:** Aunque en este caso no aplica, mostramos como se calcula el R2 ajustado (no disponible en scikit-learn), una modificación del R2 que penaliza el número de parámetros utilizados que se utilizaría para comparar modelos con diferente número de parámetros. Al agregar más predictores a un modelo, el R2 siempre aumenta, así las variables agregadas no estén realmente correlacionadas con la variable objetivo. El R2 ajustado corrige ese sesgo en la medida de calidad del ajuste."
   ]
  },
  {
   "cell_type": "markdown",
   "metadata": {},
   "source": [
    "## Significancia de los parámetros del modelo"
   ]
  },
  {
   "cell_type": "markdown",
   "metadata": {},
   "source": [
    "Usamos el package statsmodels para poder analizar los coeficientes de regresión (scikit-learn no incluye los betas!!) .\n",
    "Si queremos el coeficiente del intercepto con statsmodels, es necesario adicionar una constante inicial a los datos predictores"
   ]
  },
  {
   "cell_type": "code",
   "execution_count": 16,
   "metadata": {},
   "outputs": [
    {
     "name": "stdout",
     "output_type": "stream",
     "text": [
      "[[1.         0.12696983]\n",
      " [1.         0.96671784]\n",
      " [1.         0.26047601]\n",
      " [1.         0.89723652]\n",
      " [1.         0.37674972]\n",
      " [1.         0.33622174]\n",
      " [1.         0.45137647]\n",
      " [1.         0.84025508]\n",
      " [1.         0.12310214]\n",
      " [1.         0.5430262 ]]\n"
     ]
    }
   ],
   "source": [
    "x2 = sm.add_constant(x)\n",
    "print(x2[0:10])"
   ]
  },
  {
   "cell_type": "code",
   "execution_count": 17,
   "metadata": {},
   "outputs": [
    {
     "data": {
      "text/html": [
       "<table class=\"simpletable\">\n",
       "<caption>OLS Regression Results</caption>\n",
       "<tr>\n",
       "  <th>Dep. Variable:</th>            <td>y</td>        <th>  R-squared:         </th> <td>   0.837</td> \n",
       "</tr>\n",
       "<tr>\n",
       "  <th>Model:</th>                   <td>OLS</td>       <th>  Adj. R-squared:    </th> <td>   0.837</td> \n",
       "</tr>\n",
       "<tr>\n",
       "  <th>Method:</th>             <td>Least Squares</td>  <th>  F-statistic:       </th> <td>2.568e+04</td>\n",
       "</tr>\n",
       "<tr>\n",
       "  <th>Date:</th>             <td>Tue, 18 May 2021</td> <th>  Prob (F-statistic):</th>  <td>  0.00</td>  \n",
       "</tr>\n",
       "<tr>\n",
       "  <th>Time:</th>                 <td>21:11:36</td>     <th>  Log-Likelihood:    </th> <td> -3659.5</td> \n",
       "</tr>\n",
       "<tr>\n",
       "  <th>No. Observations:</th>      <td>  5000</td>      <th>  AIC:               </th> <td>   7323.</td> \n",
       "</tr>\n",
       "<tr>\n",
       "  <th>Df Residuals:</th>          <td>  4998</td>      <th>  BIC:               </th> <td>   7336.</td> \n",
       "</tr>\n",
       "<tr>\n",
       "  <th>Df Model:</th>              <td>     1</td>      <th>                     </th>     <td> </td>    \n",
       "</tr>\n",
       "<tr>\n",
       "  <th>Covariance Type:</th>      <td>nonrobust</td>    <th>                     </th>     <td> </td>    \n",
       "</tr>\n",
       "</table>\n",
       "<table class=\"simpletable\">\n",
       "<tr>\n",
       "    <td></td>       <th>coef</th>     <th>std err</th>      <th>t</th>      <th>P>|t|</th>  <th>[0.025</th>    <th>0.975]</th>  \n",
       "</tr>\n",
       "<tr>\n",
       "  <th>const</th> <td>    2.0055</td> <td>    0.014</td> <td>  139.528</td> <td> 0.000</td> <td>    1.977</td> <td>    2.034</td>\n",
       "</tr>\n",
       "<tr>\n",
       "  <th>x1</th>    <td>    3.9742</td> <td>    0.025</td> <td>  160.245</td> <td> 0.000</td> <td>    3.926</td> <td>    4.023</td>\n",
       "</tr>\n",
       "</table>\n",
       "<table class=\"simpletable\">\n",
       "<tr>\n",
       "  <th>Omnibus:</th>       <td> 2.156</td> <th>  Durbin-Watson:     </th> <td>   2.013</td>\n",
       "</tr>\n",
       "<tr>\n",
       "  <th>Prob(Omnibus):</th> <td> 0.340</td> <th>  Jarque-Bera (JB):  </th> <td>   2.189</td>\n",
       "</tr>\n",
       "<tr>\n",
       "  <th>Skew:</th>          <td>-0.049</td> <th>  Prob(JB):          </th> <td>   0.335</td>\n",
       "</tr>\n",
       "<tr>\n",
       "  <th>Kurtosis:</th>      <td> 2.970</td> <th>  Cond. No.          </th> <td>    4.43</td>\n",
       "</tr>\n",
       "</table><br/><br/>Notes:<br/>[1] Standard Errors assume that the covariance matrix of the errors is correctly specified."
      ],
      "text/plain": [
       "<class 'statsmodels.iolib.summary.Summary'>\n",
       "\"\"\"\n",
       "                            OLS Regression Results                            \n",
       "==============================================================================\n",
       "Dep. Variable:                      y   R-squared:                       0.837\n",
       "Model:                            OLS   Adj. R-squared:                  0.837\n",
       "Method:                 Least Squares   F-statistic:                 2.568e+04\n",
       "Date:                Tue, 18 May 2021   Prob (F-statistic):               0.00\n",
       "Time:                        21:11:36   Log-Likelihood:                -3659.5\n",
       "No. Observations:                5000   AIC:                             7323.\n",
       "Df Residuals:                    4998   BIC:                             7336.\n",
       "Df Model:                           1                                         \n",
       "Covariance Type:            nonrobust                                         \n",
       "==============================================================================\n",
       "                 coef    std err          t      P>|t|      [0.025      0.975]\n",
       "------------------------------------------------------------------------------\n",
       "const          2.0055      0.014    139.528      0.000       1.977       2.034\n",
       "x1             3.9742      0.025    160.245      0.000       3.926       4.023\n",
       "==============================================================================\n",
       "Omnibus:                        2.156   Durbin-Watson:                   2.013\n",
       "Prob(Omnibus):                  0.340   Jarque-Bera (JB):                2.189\n",
       "Skew:                          -0.049   Prob(JB):                        0.335\n",
       "Kurtosis:                       2.970   Cond. No.                         4.43\n",
       "==============================================================================\n",
       "\n",
       "Notes:\n",
       "[1] Standard Errors assume that the covariance matrix of the errors is correctly specified.\n",
       "\"\"\""
      ]
     },
     "execution_count": 17,
     "metadata": {},
     "output_type": "execute_result"
    }
   ],
   "source": [
    "modeloStats = sm.OLS(y, x2)\n",
    "results = modeloStats.fit();\n",
    "#Consultamos la calidad del modelo a partir de sus estadísticas\n",
    "results.summary()"
   ]
  },
  {
   "cell_type": "markdown",
   "metadata": {},
   "source": [
    "Vemos que el coeficiente asociado a x1 es significativo, al tener un valor p cercano a 0."
   ]
  },
  {
   "cell_type": "markdown",
   "metadata": {},
   "source": [
    "## Obtención de los parámetros a partir de Gradient Descent"
   ]
  },
  {
   "cell_type": "markdown",
   "metadata": {},
   "source": [
    "Vamos a definir una función que nos permitirá ejecutar un paso de descenso de gradiente utilizando numpy."
   ]
  },
  {
   "cell_type": "markdown",
   "metadata": {},
   "source": [
    "Partimos de la función de costo que considera la regresión con 1 parámetro:\n",
    "\n",
    "$𝐽(w_0,w_1,\\textbf{𝑥}_1,\\textbf{y}_1)=\\frac{1}{2𝑚} ∑_{𝑖=1}^{𝑚}(w_0+w_1*𝑥_1^{(𝑖)}−𝑦^{(𝑖)})^2 $\n",
    "\n",
    "Y para cada coeficiente calculamos el gradiente correspondiente:\n",
    "- $gradiente_{w_0} = \\frac{1}{m} ∑_{i=1}^𝑚(w_0+w_1*𝑥_1^{(i)}−𝑦^{(i)})$\n",
    "- $gradiente_{w_1} = \\frac{1}{m} ∑_{i=1}^𝑚(w_0+w_1*𝑥_1^{(i)}−𝑦^{(i)})*𝑥_1^{(i)}$\n"
   ]
  },
  {
   "cell_type": "markdown",
   "metadata": {},
   "source": [
    "Tareas a desarrollar:\n",
    "\n",
    "- **funcionDeCosto(w0_actual, w1_actual, arrayX, arrayY)**: función que calcula el costo de utilizar los parámetros w0 y w1 para predecir los valores de la variable dependiente Y a partir de X. Se trata del $𝐽(w_0,w_1)$ definido más arriba.\n",
    "- **pasoDescensoGradiente(w0_actual, w1_actual, arrayX, arrayY, learningRate)**: función que calcula un paso de descenso de gradiente. Retorna una lista (w0_modificado, w1_modificado)\n",
    "- **cicloDescensoGradiente(epocas, learningRate)**: función que inicializa los parámetros w0 y w1 e itera el número de pocas determinadas, ejecutando cada vez un paso de descenso de gradiente con el learningRate dado. Retorna los valores finales de w0 y w1."
   ]
  },
  {
   "cell_type": "code",
   "execution_count": 18,
   "metadata": {},
   "outputs": [],
   "source": [
    "def funcionDeCosto(w0_actual, w1_actual, arrayX, arrayY):\n",
    "    \"\"\"Calcula el valor de la función de costo de una regresión lineal simple con los parámetros w0 y w1.\n",
    "    Retorna: \n",
    "    error: el valor de la función de costo inicial\n",
    "\n",
    "    Argumentos:\n",
    "    w0_actual -- el valor actual del coeficiente de la intersección \n",
    "    w1_actual -- el valor actual del coeficiente asociado al predictor\n",
    "    arrayX -- array con los valores del predictor X de todas las instancias\n",
    "    arrayY -- array con los valores de la variable objetivo Y de todas las instancias\n",
    "    \"\"\"\n",
    "\n",
    "    # Vamos a recorrer todos los puntos y a acumular el error cuadrático (el costo aportado por cada punto)\n",
    "    error = 0\n",
    "    m = len(arrayX)\n",
    "    for i in range(0, m): # Se recorren los puntos\n",
    "#        print(\"    error=\", error)\n",
    "        x = arrayX[i]\n",
    "        y = arrayY[i]\n",
    "        errorPunto = (w0_actual + w1_actual*x - y)**2\n",
    "        error+=errorPunto\n",
    "    # El error total lo dividimos por 2*m\n",
    "    return error / (2*m)"
   ]
  },
  {
   "cell_type": "code",
   "execution_count": 19,
   "metadata": {},
   "outputs": [],
   "source": [
    "def gradientDescent(w0_actual, w1_actual, arrayX, arrayY, learningRate):\n",
    "    \"\"\"Calcula la actualización de un paso de gradient descent para los coeficientes de una\n",
    "    regresión lineal simple (un predictor).\n",
    "    Retorna una lista con tres posiciones: \n",
    "    w0_modificado: el valor modificado del coeficiente de la intersección después del paso de gradiente\n",
    "    w1_modificado: el valor actual del coeficiente asociado al predictor después del paso de gradiente\n",
    "    costo: el valor de la función de costo para la iteración actual\n",
    "\n",
    "    Argumentos:\n",
    "    w0_actual -- el valor actual del coeficiente de la intersección \n",
    "    w1_actual -- el valor actual del coeficiente asociado al predictor\n",
    "    arrayX -- array con los valores del predictor X de todas las instancias\n",
    "    arrayY -- array con los valores de la variable objetivo Y de todas las instancias\n",
    "    learningRate -- tasa de aprendizaje para el paso de descenso de gradiente calculado \n",
    "    \"\"\"\n",
    "    costo = funcionDeCosto(w0_actual, w1_actual, arrayX, arrayY)\n",
    "\n",
    "    #Vamos ahora a calcular el gradiente de cada parámetro, acumulandolo con cada iteración\n",
    "    m = len(arrayX)\n",
    "    gradW0 = 0\n",
    "    gradW1 = 0\n",
    "    for i in range(0, m): # Se recorren los puntos\n",
    "        x = arrayX[i]\n",
    "        y = arrayY[i]\n",
    "        gradW0 += (w0_actual + w1_actual*x - y)\n",
    "        gradW1 += (w0_actual + w1_actual*x - y)*x\n",
    "    gradW0 = gradW0 / m\n",
    "    gradW1 = gradW1 / m\n",
    "\n",
    "    # Ahora actualizamos los valores actuales y los retornamos\n",
    "    w0_modificado = w0_actual - learningRate*gradW0\n",
    "    w1_modificado = w1_actual - learningRate*gradW1\n",
    "    \n",
    "    return [w0_modificado, w1_modificado, costo]"
   ]
  },
  {
   "cell_type": "markdown",
   "metadata": {},
   "source": [
    "Ahora vamos a llamar la función que acabamos de definir tantas veces como épocas o iteraciones queramos, para obtener los valores de los parámetros."
   ]
  },
  {
   "cell_type": "code",
   "execution_count": 29,
   "metadata": {},
   "outputs": [
    {
     "name": "stdout",
     "output_type": "stream",
     "text": [
      "Valores finales: w0=2.007338 w1=3.970839 costo=0.126537\n"
     ]
    }
   ],
   "source": [
    "# Hiperparámetros del algoritmo de gradient descent\n",
    "learningRate = 0.1\n",
    "epocas = 1000\n",
    "\n",
    "# Definimos los valores iniciales de los coeficientes\n",
    "w0 = 0\n",
    "w1 = 0\n",
    "\n",
    "#Vamos a iterar sobre las épocas llamando cada vez a un nuevo paso de gradient descent\n",
    "w0s = []\n",
    "w1s = []\n",
    "costos = []\n",
    "for i in range(epocas):\n",
    "    [w0, w1, costo] = gradientDescent(w0, w1, np.array(x), np.array(y), learningRate)\n",
    "    costos.append(costo)\n",
    "    w0s.append(w0)\n",
    "    w1s.append(w1)\n",
    "    #print(\"w0={:f} w1={:f} costo={:f}\".format(w0, w1, costo))\n",
    "print(\"Valores finales: w0={:f} w1={:f} costo={:f}\".format(w0, w1, costo))"
   ]
  },
  {
   "cell_type": "code",
   "execution_count": 30,
   "metadata": {},
   "outputs": [
    {
     "data": {
      "text/plain": [
       "Text(0, 0.5, 'costo')"
      ]
     },
     "execution_count": 30,
     "metadata": {},
     "output_type": "execute_result"
    },
    {
     "data": {
      "image/png": "[encoded data removed]",
      "text/plain": [
       "<Figure size 1296x360 with 1 Axes>"
      ]
     },
     "metadata": {
      "needs_background": "light"
     },
     "output_type": "display_data"
    }
   ],
   "source": [
    "fig = plt.figure(figsize=(18,5))\n",
    "plt.plot(costos)\n",
    "plt.xlabel(\"época\")\n",
    "plt.ylabel(\"costo\")\n"
   ]
  },
  {
   "cell_type": "markdown",
   "metadata": {},
   "source": [
    "Los coeficientes de regresión encontrados con el modelo de regresión de scikit-learn y statsmodels fueron muy parecidos que con el gradient descent, aunque no fueron perfectos.\n",
    "Es necesario ensayar con diferentes valores del learning rate. Los resultados que obtuvimos se produjeron con un learning rate de 0.1 y 1000 iteraciones.\n",
    "Es posible que con más puntos nos hubieramos acercado más a los coeficientes reales.\n",
    "\n",
    "Podemos utilizar diferentes configuraciones del learning rate para entender su influencia.\n",
    "Por ejemplo, **intenten con valores de 0.0001 y 10**."
   ]
  },
  {
   "cell_type": "code",
   "execution_count": 31,
   "metadata": {},
   "outputs": [
    {
     "data": {
      "text/plain": [
       "Text(0, 0.5, 'costo')"
      ]
     },
     "execution_count": 31,
     "metadata": {},
     "output_type": "execute_result"
    },
    {
     "data": {
      "image/png": "[encoded data removed]",
      "text/plain": [
       "<Figure size 1296x360 with 2 Axes>"
      ]
     },
     "metadata": {
      "needs_background": "light"
     },
     "output_type": "display_data"
    }
   ],
   "source": [
    "fig = plt.figure(figsize=(18,5))\n",
    "\n",
    "plt.subplot(1, 2, 1)\n",
    "plt.scatter(w1s, costos, c=range(0, epocas), cmap=\"gist_rainbow\")\n",
    "plt.xlabel(\"w0\")\n",
    "plt.ylabel(\"costo\")\n",
    "\n",
    "plt.subplot(1, 2, 2)\n",
    "plt.scatter(w0s, costos, c=range(0, epocas), cmap=\"gist_rainbow\")\n",
    "plt.xlabel(\"w1\")\n",
    "plt.ylabel(\"costo\")\n"
   ]
  },
  {
   "cell_type": "code",
   "execution_count": null,
   "metadata": {},
   "outputs": [],
   "source": []
  }
 ],
 "metadata": {
  "kernelspec": {
   "display_name": "Python 3 (ipykernel)",
   "language": "python",
   "name": "python3"
  },
  "language_info": {
   "codemirror_mode": {
    "name": "ipython",
    "version": 3
   },
   "file_extension": ".py",
   "mimetype": "text/x-python",
   "name": "python",
   "nbconvert_exporter": "python",
   "pygments_lexer": "ipython3",
   "version": "3.9.13"
  },
  "toc": {
   "base_numbering": 1,
   "nav_menu": {},
   "number_sections": true,
   "sideBar": true,
   "skip_h1_title": false,
   "title_cell": "Table of Contents",
   "title_sidebar": "Contents",
   "toc_cell": true,
   "toc_position": {
    "height": "calc(100% - 180px)",
    "left": "10px",
    "top": "150px",
    "width": "165px"
   },
   "toc_section_display": true,
   "toc_window_display": true
  }
 },
 "nbformat": 4,
 "nbformat_minor": 2
}
