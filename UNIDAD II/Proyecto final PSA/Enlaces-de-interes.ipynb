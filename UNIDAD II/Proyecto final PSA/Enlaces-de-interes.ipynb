{
 "cells": [
  {
   "cell_type": "markdown",
   "metadata": {},
   "source": [
    "Enlaces de interes:\n",
    "\n",
    "- Repositorio github:\n",
    "\n",
    "https://github.com/alfa7g7/Fundamentos-analitica-II/tree/ecc7cb8c31acd53e6a2250943232827bd52ae99a/UNIDAD%20II/Proyecto%20final%20PSA\n",
    "\n",
    "- Competencia Kaggle:\n",
    "\n",
    "https://www.kaggle.com/competitions/fa-ii-2024-ii-flujos-de-modelos-tradicionales/overview\n",
    "\n"
   ]
  }
 ],
 "metadata": {
  "language_info": {
   "name": "python"
  }
 },
 "nbformat": 4,
 "nbformat_minor": 2
}
