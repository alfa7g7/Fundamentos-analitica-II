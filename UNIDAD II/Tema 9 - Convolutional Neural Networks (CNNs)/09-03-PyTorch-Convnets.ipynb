{
 "cells": [
  {
   "cell_type": "markdown",
   "metadata": {
    "id": "444PEqZUuUF0"
   },
   "source": [
    "# Redes convolucionales en PyTorch"
   ]
  },
  {
   "cell_type": "markdown",
   "metadata": {
    "id": "nL-yhus7uUF5"
   },
   "source": [
    "Bibliografía:\n",
    "- Machine Learning with PyTorch and Scikit-Learn: Develop machine learning and deep learning models with Python (capítulo 14), Sebastian Rachska et al., 2022 Packt\n",
    "- Deep Learning with PyTorch, Eli Stevens et al, 2020 Manning\n",
    "- Deep Learning with Python (capítulo 2), Francois Chollet, 2018 Manning\n",
    "- https://pytorch.org/tutorials"
   ]
  },
  {
   "cell_type": "markdown",
   "metadata": {
    "id": "rznoVuZeWnBn"
   },
   "source": [
    "En este noteboook presentamos:\n",
    "- Uso de datasets incluidos internamente en TensorFlow (FashionMNIST y MNIST)\n",
    "- Construcción de modelos de clasificación de imágenes utilizando neuronas ```Conv2d```, ```MaxPool2d```, ```Linear``` y ```Flatten```.\n",
    "- Tratamiento de imágenes en escala de grises con modelos convolucionales 2D.\n",
    "- Persistencia de modelos"
   ]
  },
  {
   "cell_type": "markdown",
   "metadata": {
    "id": "ju5DgVskWnBn"
   },
   "source": [
    "Utilizamos los siguientes componentes técnicos:\n",
    "- layers: ```Conv2d```, ```MaxPooling2d```, ```Flatten```, ```Linear```\n",
    "- optimizadores: ```Adam```\n",
    "- loss functions: ```CrossEntropyLoss```\n",
    "- métricas de seguimiento y evaluación: accuracy\n",
    "- funciones de activación: relu, softmax\n",
    "- métodos de persistencia de modelos\n",
    "\n",
    "Vamos a crear un modelo de clasificación de imágenes para los datasets FashionMNIST y MNIST que utilice capas con filtros (kernels) convolucionales."
   ]
  },
  {
   "cell_type": "markdown",
   "metadata": {
    "id": "GbzAW103WnBo"
   },
   "source": [
    "\n",
    "La diferencia entre un modelo convolucional y uno \"fully connected\" es que este último aprende patrones globales, mientras que el convolucional aprende patrones locales, lo cual es muy importante en el caso del análisis de imágenes, presentando 2 características muy importantes:\n",
    "- los patrones aprendidos son invariantes a la traslación: una capa convolucional puede reconocer el patrón independientemente de dónde se encuentre en la imagen, uno fully connected necesitaría una red dependiente del lugar donde esté el mismo patrón en dos imágenes diferentes.\n",
    "- se puede reconocer una jerarquía espacial entre los patrones aprendidos: las primeras capas convolucionales aprenden a un mayor nivel de abstracción, que se va especializando a medida que las capas son más profundas. Las abstracciones de las primeras capas son los bloques que componen los patrones de las siguientes capas, todo sucesivamente, hasta llegar a la última capa con mayor complejidad en las representaciones que puede aprender."
   ]
  },
  {
   "cell_type": "markdown",
   "metadata": {
    "id": "1b8ad7c5-7896-4b48-866f-ed1cc10ab8e0"
   },
   "source": [
    "## Preparación del dataset Fashion MNIST"
   ]
  },
  {
   "cell_type": "code",
   "execution_count": 1,
   "metadata": {
    "id": "73ca8a84-3856-454e-97cc-c9c78e662738"
   },
   "outputs": [],
   "source": [
    "#import pandas as pd\n",
    "import os # gestion de archivos y directorios\n",
    "import os.path as osp # gestion de paths de archivos y directorios\n",
    "import time\n",
    "\n",
    "import numpy as np\n",
    "import random\n",
    "import matplotlib.pyplot as plt\n",
    "import torch, torchvision\n",
    "import torch.nn.functional as F\n",
    "from torch import nn"
   ]
  },
  {
   "cell_type": "code",
   "execution_count": 2,
   "metadata": {
    "colab": {
     "base_uri": "https://localhost:8080/"
    },
    "id": "AWCrNl8Dof2Y",
    "outputId": "9a1bda03-1026-47db-d214-83dfa440893d"
   },
   "outputs": [],
   "source": [
    "#!pip install torchmetrics\n",
    "import torchmetrics # métricas de modelos"
   ]
  },
  {
   "cell_type": "code",
   "execution_count": 3,
   "metadata": {
    "colab": {
     "base_uri": "https://localhost:8080/",
     "height": 35
    },
    "id": "7QHv76fmuUF8",
    "outputId": "547d7b80-ba8a-44ea-da7f-8f9c246688ca"
   },
   "outputs": [
    {
     "data": {
      "text/plain": [
       "'1.12.0+cpu'"
      ]
     },
     "execution_count": 3,
     "metadata": {},
     "output_type": "execute_result"
    }
   ],
   "source": [
    "torch.__version__"
   ]
  },
  {
   "cell_type": "markdown",
   "metadata": {
    "id": "yLeB0g8FvLig"
   },
   "source": [
    "Si hay una GPU disponible, la utilizaremos."
   ]
  },
  {
   "cell_type": "code",
   "execution_count": 4,
   "metadata": {
    "colab": {
     "base_uri": "https://localhost:8080/"
    },
    "id": "0BE2TkauxB_R",
    "outputId": "061d7dc8-b905-481c-a655-48a4bef03251"
   },
   "outputs": [
    {
     "name": "stderr",
     "output_type": "stream",
     "text": [
      "'nvidia-smi' is not recognized as an internal or external command,\n",
      "operable program or batch file.\n"
     ]
    }
   ],
   "source": [
    "!nvidia-smi"
   ]
  },
  {
   "cell_type": "code",
   "execution_count": 5,
   "metadata": {
    "colab": {
     "base_uri": "https://localhost:8080/"
    },
    "id": "-VzB78OBvUMT",
    "outputId": "13823e66-96e6-4c0d-87a6-3cf434c75b89"
   },
   "outputs": [
    {
     "name": "stdout",
     "output_type": "stream",
     "text": [
      "No hay GPU, toca correr todo en CPU\n"
     ]
    },
    {
     "data": {
      "text/plain": [
       "device(type='cpu')"
      ]
     },
     "execution_count": 5,
     "metadata": {},
     "output_type": "execute_result"
    }
   ],
   "source": [
    "if torch.cuda.is_available():\n",
    "    print(\"Utilizamos la primera GPU disponible\")\n",
    "    DEVICE=device = torch.device('cuda:0')\n",
    "else:\n",
    "    print(\"No hay GPU, toca correr todo en CPU\")\n",
    "    DEVICE=device = torch.device('cpu')\n",
    "\n",
    "DEVICE"
   ]
  },
  {
   "cell_type": "markdown",
   "metadata": {
    "id": "vBk55NmMyeVp"
   },
   "source": [
    "Las GPUs y CPUs tienen diferentes semillas de generación aleatoria que no están sincronizadas. Además, algunas operaciones en GPUs se implementan por defecto estocásticamente para que sean más eficientes.\n",
    "Por todo esto, para garantizar reproducibilidad, necesitamos configurar las semillas por aparte, e indicar el deseo de un proceso determinístico en caso de usar GPUs."
   ]
  },
  {
   "cell_type": "code",
   "execution_count": 6,
   "metadata": {
    "id": "tYK4psPXuUGJ"
   },
   "outputs": [],
   "source": [
    "def reset_seed():\n",
    "    random_seed = 42\n",
    "    torch.backends.cudnn.enabled = True\n",
    "    torch.manual_seed(random_seed)\n",
    "    np.random.seed(random_seed)\n",
    "    random.seed(random_seed)\n",
    "\n",
    "    if torch.cuda.is_available(): \n",
    "        torch.cuda.manual_seed(42)\n",
    "        torch.cuda.manual_seed_all(42)\n",
    "\n",
    "        torch.backends.cudnn.deterministic = True\n",
    "        torch.backends.cudnn.benchmark = False\n",
    "\n",
    "reset_seed()"
   ]
  },
  {
   "cell_type": "markdown",
   "metadata": {
    "id": "d452ad9e-dbcf-4aa6-8c30-8e2adb9a0783"
   },
   "source": [
    "Cargamos **Fashion MNIST** del paquete **torchvision**. Al igual que con el dataset **MNIST**, se trata de un dataset de imágenes en escala de grises, clasificadas en 10 categorías (tipos de prendas). Para saber mas acerca del dataset, ir a https://github.com/zalandoresearch/fashion-mnist.\n",
    "\n",
    "Vamos a seguir el mismo proceso que con el dataset de **MNIST**, lo vamos a descargar en memoria (y en disco) en una instancia de ```torch.utils.data.Dataset```, que luego será manipulado a partir de una instancia de ```torch.utils.data.DataLoader```."
   ]
  },
  {
   "cell_type": "code",
   "execution_count": 7,
   "metadata": {
    "id": "Uagmi_YwuUF_"
   },
   "outputs": [],
   "source": [
    "# Verificamos que exista el directorio de data, sino, lo creamos\n",
    "if not os.path.exists(\"../data\"):\n",
    "    os.mkdir(\"../data\")"
   ]
  },
  {
   "cell_type": "code",
   "execution_count": 8,
   "metadata": {
    "colab": {
     "base_uri": "https://localhost:8080/",
     "height": 423,
     "referenced_widgets": [
      "44afc71ba8d34cd98a2bdbe5c27a8456",
      "72f992cdbb2146269399114fc9e1b02c",
      "51d59df802464c4ea66788dde9525705",
      "44310874ffa74fdaaf1a55af03490836",
      "4ff5752a421c43d2b261a49ecb943022",
      "1e4223c9391443b0b2b1a1126bf1a78d",
      "d96ff505419c487e85d03a30b25158a9",
      "2f6b4b1c49284f4fa75e8e90c2e12232",
      "689d0d7020a94f20b1c13ddd8802e736",
      "9a693af4254d435fa3d46b0b53805748",
      "c900d8c73a9b457b9d6732b81f1ef919",
      "cde6d3caf6c8467ba8b19d5d7c3f5dd7",
      "3dcd84ea7d9d474093dc913d7a3f18c7",
      "3d0eed7f4a584c789986d1c337dc2fb5",
      "ce566d06f6aa4ef08a5e8f4af58a1391",
      "8b9d209165ce44fb9d891d127920e4fa",
      "907d8929ae8b4f05b23110b8280c905c",
      "acf71cf2086e4008a067623cc12101da",
      "4b621c1abe27404c816cb699b83f6ff1",
      "21b02e20386b4b0385750b7b56050f54",
      "8d680dab78fd4e90ab5a736f0ca061cf",
      "e1f678ab4b9047ad981635198effd3ba",
      "fb3728552e8f418f89f429009d22e641",
      "abe5b7e516ad4736b22cf3f018cb61a7",
      "36498faa0ed742a0833df00b6d8991e4",
      "217d918d232a4cc79deb798d5e74f16b",
      "8d8c27ea6ab845c9b90c7784426691f3",
      "e4737b12248d4b588222725bc35404d1",
      "a63f0ea474ee4fd88904a2f7ec4d7b25",
      "c44e2384037642e680c808137bc3e150",
      "64f90671765c4b76a4199a6e5fcaf43d",
      "9b45711ca1e547a2b32b7b80527c0259",
      "317232b16949462bb2606eb363ce4cc5",
      "f9cea6c87dda439c89eaaed8cebfb98a",
      "942d333f3cd64da8aebd1406bc8ed201",
      "a37070ad4fbd45f2ace111204de9e8eb",
      "00143ec114fa4e15aecd1d17b4488534",
      "7ec9e70ca92f41f5bb8efc52d5fd57f3",
      "b3232f2c38ae40fcbbfca5ef73495971",
      "825083854848401fb74011e721854e80",
      "4971b2d0eff04a1a98bd4850040573fc",
      "f0b3e0f0213542b9abaec0a03b47ef0b",
      "3b01aa6bb6b54be3a27570eb8402a6d8",
      "faaa7096a0514cf39ab78a487b4f402e"
     ]
    },
    "id": "H9LFdxgmuUGA",
    "outputId": "c0a637d3-8ca1-45fd-d570-49a80f6cc8bd"
   },
   "outputs": [],
   "source": [
    "# Definimos una transformación que convierte los datos en tensores de Pytorch al descargarlos\n",
    "transform = torchvision.transforms.Compose([\n",
    "    torchvision.transforms.ToTensor()\n",
    "])\n",
    "\n",
    "# Download and load the training data\n",
    "fashion_train_dataset = torchvision.datasets.FashionMNIST('../data/', download = True, train = True, transform = transform)\n",
    "fashion_test_dataset = torchvision.datasets.FashionMNIST('../data/', download = True, train = False, transform = transform)\n",
    "train_loader = torch.utils.data.DataLoader(fashion_train_dataset, batch_size = 256, shuffle = True)\n",
    "test_loader = torch.utils.data.DataLoader(fashion_test_dataset, batch_size = 1024, shuffle = True)"
   ]
  },
  {
   "cell_type": "code",
   "execution_count": 9,
   "metadata": {
    "colab": {
     "base_uri": "https://localhost:8080/"
    },
    "id": "07bytLhXuUGD",
    "outputId": "b65ce071-b95d-4d18-d06a-6914d670ce02"
   },
   "outputs": [
    {
     "data": {
      "text/plain": [
       "['T-shirt/top',\n",
       " 'Trouser',\n",
       " 'Pullover',\n",
       " 'Dress',\n",
       " 'Coat',\n",
       " 'Sandal',\n",
       " 'Shirt',\n",
       " 'Sneaker',\n",
       " 'Bag',\n",
       " 'Ankle boot']"
      ]
     },
     "execution_count": 9,
     "metadata": {},
     "output_type": "execute_result"
    }
   ],
   "source": [
    "fashion_train_dataset.classes"
   ]
  },
  {
   "cell_type": "markdown",
   "metadata": {
    "id": "VE8FKzOrWnBw"
   },
   "source": [
    "Veámos algunas de las imágenes:"
   ]
  },
  {
   "cell_type": "code",
   "execution_count": 11,
   "metadata": {
    "colab": {
     "base_uri": "https://localhost:8080/",
     "height": 571
    },
    "id": "jC1_okwAuUGF",
    "outputId": "54d16b48-af2e-4667-e7a5-43a83fe04055"
   },
   "outputs": [
    {
     "name": "stdout",
     "output_type": "stream",
     "text": [
      "Feature batch shape: torch.Size([256, 1, 28, 28])\n",
      "Labels batch shape: torch.Size([256])\n"
     ]
    },
    {
     "data": {
      "image/png": "[encoded data removed]",
      "text/plain": [
       "<Figure size 864x648 with 12 Axes>"
      ]
     },
     "metadata": {
      "needs_background": "light"
     },
     "output_type": "display_data"
    }
   ],
   "source": [
    "train_features, train_labels = next(iter(train_loader))\n",
    "print(f\"Feature batch shape: {train_features.size()}\")\n",
    "print(f\"Labels batch shape: {train_labels.size()}\")\n",
    "\n",
    "figure = plt.figure(figsize=(12, 9))\n",
    "\n",
    "cols, rows = 4, 3\n",
    "for i in range(1, cols * rows + 1):    \n",
    "    img = train_features[i]\n",
    "    label = fashion_train_dataset.classes[train_labels[i]]\n",
    "    figure.add_subplot(rows, cols, i)\n",
    "    plt.title(f\"Clase real: ({train_labels[i]}) {label}\")\n",
    "    plt.axis(\"off\")\n",
    "    plt.imshow(img.squeeze(), cmap=\"gray\")\n",
    "plt.show()"
   ]
  },
  {
   "cell_type": "markdown",
   "metadata": {
    "id": "8rIYGK8bWnBx"
   },
   "source": [
    "El primer eje corresponde al batch, el segundo al canal de color (uno solo - gris), y el tercero y cuarto al alto y ancho de la imágen.\n",
    "Veamos los valores de una de las filas de la primera imágen."
   ]
  },
  {
   "cell_type": "code",
   "execution_count": 12,
   "metadata": {
    "colab": {
     "base_uri": "https://localhost:8080/"
    },
    "id": "YtBjdDgvWnBx",
    "outputId": "a61bae6e-43ad-40c6-8f12-c39fc56e0817"
   },
   "outputs": [
    {
     "data": {
      "text/plain": [
       "tensor([0.0000, 0.0000, 0.0000, 0.0000, 0.0000, 0.0039, 0.0000, 0.0000, 0.0000,\n",
       "        0.0000, 0.0000, 0.0000, 0.3725, 0.7451, 0.2000, 0.6588, 0.5647, 1.0000,\n",
       "        0.1686, 0.1098, 0.4118, 0.3529, 0.2941, 0.6706, 0.5725, 0.2078, 0.2941,\n",
       "        0.0000])"
      ]
     },
     "execution_count": 12,
     "metadata": {},
     "output_type": "execute_result"
    }
   ],
   "source": [
    "train_features[0][0][10]"
   ]
  },
  {
   "cell_type": "markdown",
   "metadata": {
    "id": "ZCzc3lnQuUGG"
   },
   "source": [
    "Los datos ya están normalizados de tal manera que el negro corresponde a un valor de 0 y el blanco a un valor de 1."
   ]
  },
  {
   "cell_type": "markdown",
   "metadata": {
    "id": "00UM4A9euUGI"
   },
   "source": [
    "## Construcción de una red convolucional con PyTorch"
   ]
  },
  {
   "cell_type": "markdown",
   "metadata": {
    "id": "e3c2d32c-985a-494f-95d3-67b4dc45dab5"
   },
   "source": [
    "### Convoluciones"
   ]
  },
  {
   "cell_type": "markdown",
   "metadata": {
    "id": "f5050616-2d23-4be9-967c-a7b0fb3ec798"
   },
   "source": [
    "Las convoluciones en imágenes operan sobre tensores de rango 3 llamados **feature maps**, con dos ejes espaciales (alto y ancho) y uno de profundidad (los canales). Las imágenes del FashionMNIST solo tenían los ejes espaciales, es por esto que se agregó el tercer eje con un solo canal (nivel de gris).\n",
    "Los filtros de las convoluciones van aplicándose a ventanas de las imágenes de entrada, produciendo **feature maps** de salida, donde la profundidad (el eje de canales) está dada por el número de filtros en cada capa. Cada filtro produce la imágen de un canal. "
   ]
  },
  {
   "cell_type": "markdown",
   "metadata": {
    "id": "9a78c698-b926-4378-8a47-7077a66a9ffe"
   },
   "source": [
    "Esto también aplica para imágenes de entrada con múltiples canales: si fueran RGB, cada filtro produce al final un feature map de un solo canal. Cada filtro se aplicaría a los diferentes canales de entrada. En la primera capa convolucional se reciben entonces imágenes de 28x28x3, se consideran entonces ventanas de 26x26 (dado el padding 'valid', ver en la subsección siguiente), por cada uno de los canales RGB. Así, un filtro aplicado va a producir 3 imágenes de 26x26 que se deben agregar en una sola; el promedio de las 3 imágenes creadas por un filtro va a dar la imagen 26x26 del canal de salida correspondiente al filtro en cuestión.\n",
    "\n",
    "En Keras, una capa convolucional se especifica con 2 parámetros principales: la profundidad (número de filtros), y el tamaño del filtro (alto, ancho) que se va a desplazar a cada ventana de los inputs 2D."
   ]
  },
  {
   "cell_type": "markdown",
   "metadata": {
    "id": "9c85d2a7-4ef4-4ac9-89c9-42f9ccb7047f"
   },
   "source": [
    "### Padding, strides y número de parámetros"
   ]
  },
  {
   "cell_type": "markdown",
   "metadata": {
    "id": "1735801d-15f3-4cc1-bc22-4f73378a3bda"
   },
   "source": [
    "Las capas convolucionales y de pooling tienen como argumento el tipo de **padding** a utilizar, que consiste en la configuración a seguir cuando se estén tratando los pixeles que se encuentren en los extremos de las imágenes. Existen 2 tipos (no incluimos el padding **full**):\n",
    "* '**valid**': que no agrega pixeles en los extremos de las imágenes, teniendo como resultado imágenes de salida con un tamaño inferior al de la entrada. El qué tan inferior depende del tamaño del filtro. Con un padding 'valid' y con filtros 3x3, se reduce en 2 pixeles el alto y ancho de las imágenes; con filtros 5x5, se reducen en 4 pixeles; con filtros 7x7 se reducen en 6 pixeles. Este es el valor por defecto en las capas convolucionales y de pooling.\n",
    "* '**same**': que agrega los pixeles que sean necesarios en los extremos de las imágenes para que las imágenes de salida tengan el mismo alto y ancho que las de entrada."
   ]
  },
  {
   "cell_type": "markdown",
   "metadata": {
    "id": "b9ee13c8-bdd3-410f-a559-d62e65d0333e"
   },
   "source": [
    "En cuanto al **stride** a utilizar, que especifica los saltos que se deben tomar en cada ventana de análisis:\n",
    "* en el caso de las convoluciones, el stride por defecto es de (1, 1), es decir, los filtros se aplican en ventanas que se mueven de a 1 pixel en el eje del alto y de a 1 pixel en el eje del ancho.\n",
    "* en el caso del pooling, el stride por defecto es igual al tamaño de la ventana (*pool_size*), de tal manera que las ventanas de análisis no se sobreponen nunca."
   ]
  },
  {
   "cell_type": "markdown",
   "metadata": {
    "id": "2f4cbceb-f0cf-4bf4-ab02-c2b5ce11b6c8"
   },
   "source": [
    "Las capas ```torch.nn.Conv2d```, reciben los siguientes parámetros durante su creación (los más importantes):\n",
    "- ```in_channels```: el número de canales del tensor de entrada de la capa. En el caso de la capa inicial que recibe imágenes RGB su valor sería de 3, en el caso de capas posteriores, recibe el número de feature maps producidos por la capa anterior (e.g. número de filtros convolucionales si la capa anterior es una capa convolucional).\n",
    "- ```out_channels```: el número de canales del tensor de salida producidos por esta capa, es decir, el número de filtros convolucionales de esta capa.\n",
    "- ```kernel_size```: el tamaño de la ventana del kernel de los filtros convolucionales de esta capa. Si se especifica un escalar (valores comunes son 1, 3, 5), el filtro tendrá el mismo tamaño en todos los ejes. Se puede especificar una tupla con diferentes tamaños en los diferentes ejes.\n",
    "- ```stride```: el tamaño del salto al hacer la operación de convolución. Si se especifica un solo número, se supone el mismo salto en todos los ejes. Puede especificarse una tupla para saltos diferentes a lo largo de cada eje. Su valor es 1, por defecto\n",
    "- ```padding```: el tipo de padding a utilizar, por defecto es \"valid\", pero se puede establecer \"same\" si se desea. También se puede definir con una tupla un padding diferente.\n",
    "- ```device```: determina el dispositivo que alojará el tensor de los parámetros (CPU o CUDA).\n",
    "\n",
    "Los únicos parámetros obligatorios son el número de canales de entrada, de salida, y el tamaño del filtro."
   ]
  },
  {
   "cell_type": "markdown",
   "metadata": {
    "id": "oU69LOyLuUGJ"
   },
   "source": [
    "Creemos una capa convolucional con 16 filtros y analicemos sus parámetros y el efecto de aplicarla sobre un batch de imágenes."
   ]
  },
  {
   "cell_type": "code",
   "execution_count": 13,
   "metadata": {
    "colab": {
     "base_uri": "https://localhost:8080/"
    },
    "id": "uemQjbZtuUGK",
    "outputId": "f4e1b220-b9f0-4553-d47e-92ac386948d4"
   },
   "outputs": [
    {
     "name": "stdout",
     "output_type": "stream",
     "text": [
      "parámetro weight: torch.Size([16, 1, 3, 3])\n",
      "parámetro bias: torch.Size([16])\n"
     ]
    }
   ],
   "source": [
    "conv_layer = nn.Conv2d(in_channels=1, out_channels=16, kernel_size=3)\n",
    "for i in conv_layer.named_parameters():\n",
    "    print(f\"parámetro {i[0]}: {i[1].shape}\")"
   ]
  },
  {
   "cell_type": "markdown",
   "metadata": {
    "id": "K7j_k5JRWnB2"
   },
   "source": [
    "El número de parámetros de cada filtro es de (KxKxin_channels\\ + 1 sesgo) = (3x3x1 + 1) = 10. Cómo tenemos 16 filtros, tendremos 160 parámetros en esta capa convolucional."
   ]
  },
  {
   "cell_type": "code",
   "execution_count": 14,
   "metadata": {
    "colab": {
     "base_uri": "https://localhost:8080/"
    },
    "id": "heDsCpdJWnB2",
    "outputId": "8b1db740-6b9f-4f3d-811f-7712d5096e52"
   },
   "outputs": [
    {
     "name": "stdout",
     "output_type": "stream",
     "text": [
      "Tensor de entrada a la capa convolucional: torch.Size([256, 1, 28, 28])\n",
      "Tensor resultado de la capa convolucional: torch.Size([256, 16, 26, 26])\n"
     ]
    }
   ],
   "source": [
    "output_conv = conv_layer(train_features)\n",
    "print(f\"Tensor de entrada a la capa convolucional: {train_features.shape}\")\n",
    "print(f\"Tensor resultado de la capa convolucional: {output_conv.shape}\")"
   ]
  },
  {
   "cell_type": "markdown",
   "metadata": {
    "id": "2N2VH9SlWnB2"
   },
   "source": [
    "Podemos ver que el tensor resultado del paso de la capa convolucional tiene:\n",
    "- un primer eje representando el tamaño del batch, que no se modifica, cada instancia de entrada tiene su instancia de salida correspondiente\n",
    "- un segundo eje en donde vemos que se tienen 16 feature maps producidos por la capa, ya que se definieron 16 filtros convolucionales. Cada kernel gerena su propio feature map, que se concatenan en el tensor de salida\n",
    "- un tercer y cuarto eje en los que se redujo el tamaño del feature map en 2 pixeles (un pixel arriba y uno a la derecha en el eje del alto, uno a la derecha y otro a la izquierda en el eje del ancho), pues se tiene un kernel de tamaño 3, con stride 1 (valor por defecto) y con padding \"valid\" (por defecto)."
   ]
  },
  {
   "cell_type": "markdown",
   "metadata": {
    "id": "e966fa19-29d8-42cb-8f96-6d9d66112c71"
   },
   "source": [
    "### Pooling"
   ]
  },
  {
   "cell_type": "markdown",
   "metadata": {
    "id": "a4fcc130-7988-476d-a38d-b94f9d79fbb6"
   },
   "source": [
    "Las capas convolucionales son a menudo seguidas de capas de **pooling** que permiten reducir la dimensionalidad (y el número de parámetros de los pesos de capas convolucionales subsecuentes. Las capas de pooling consisten en ventanas que se deslizan sobre las imágenes de entrada para resumir los datos. La función de agregación más usada es el **max**, pero tambien es posible usar poolings con **average**.\n",
    "\n",
    "Por defecto, las ventanas tienen un stride correspondiente al tamaño de las mismas, de tal modo que se divide el tamaño de las imágenes de entrada por el tamaño de la ventana del pooling para dar una representación de salida con dimensiones reducidas. Con ventanas de 2x2 (las mas usuales), el pooling termina reduciendo las imágenes a la mitad.\n",
    "\n",
    "Las capas de pooling, y la reducción de las imágenes son necesarias porque, por un lado, esto permite que las capas mas profundas tengan una visión mayor, cada vez menos localizada de las capas superiores, uno de los objetivos es aprender la jerarquía espacial de los patrones detectados; las convoluciones sucesivas tienen una visión cada vez más grande de los datos.\n",
    "Por otro lado, el número de valores de la última capa convolucional debe reducirse, teniendo en cuenta la conexión con las capas densas finales, y no tener millones de parámetros y los problemas que ello genera (tiempo y espacio durante el entrenamiento, overfitting).\n",
    "\n",
    "La reducción de los datos también se pudo haber logrado utilizando strides, o utilizar un promedio de los datos agregados, pero en la aplicación, max pooling tiende a funcionar mejor."
   ]
  },
  {
   "cell_type": "markdown",
   "metadata": {
    "id": "2b04c8d2-324c-473e-9425-3423637a07c7"
   },
   "source": [
    "Las capas ```torch.nn.MaxPool2d```, reciben los siguientes parámetros durante su creación (los más importantes):\n",
    "- ```kernel_size```: el tamaño de la ventana de agregación. Si se especifica un escalar, el filtro tendrá el mismo tamaño en todos los ejes. Se puede especificar una tupla con diferentes tamaños en los diferentes ejes.\n",
    "- ```stride```: el tamaño del salto al hacer la operación de agregación. Si se especifica un solo número, se supone el mismo salto en todos los ejes. Puede especificarse una tupla para saltos diferentes a lo largo de cada eje. Por defecto se toman las mismas dimensiones que para el ```kernel_size```.\n",
    "- ```padding```: el número de ceros a agregar en cada borde, por defecto su valor es 0.\n",
    "\n",
    "Se debe definir al menos el ```kernel_size```."
   ]
  },
  {
   "cell_type": "markdown",
   "metadata": {
    "id": "6F2j58Z3WnB3"
   },
   "source": [
    "Creemos una capa convolucional y analicemos sus parámetros y el efecto de aplicarla sobre un batch de imágenes."
   ]
  },
  {
   "cell_type": "code",
   "execution_count": 15,
   "metadata": {
    "id": "GNuMXWc5WnB3"
   },
   "outputs": [],
   "source": [
    "pool_layer = nn.MaxPool2d(kernel_size=2)\n",
    "for i in pool_layer.named_parameters():\n",
    "    print(f\"parámetro {i[0]}: {i[1].shape}\")"
   ]
  },
  {
   "cell_type": "code",
   "execution_count": 16,
   "metadata": {
    "colab": {
     "base_uri": "https://localhost:8080/"
    },
    "id": "JDVpygBBWnB3",
    "outputId": "98b78aac-e951-4b94-a269-eb7cd782f46a"
   },
   "outputs": [
    {
     "name": "stdout",
     "output_type": "stream",
     "text": [
      "Tensor de entrada a la capa de pooling: torch.Size([256, 16, 26, 26])\n",
      "Tensor resultado de la capa de pooling: torch.Size([256, 16, 13, 13])\n"
     ]
    }
   ],
   "source": [
    "output_pool = pool_layer(output_conv)\n",
    "print(f\"Tensor de entrada a la capa de pooling: {output_conv.shape}\")\n",
    "print(f\"Tensor resultado de la capa de pooling: {output_pool.shape}\")"
   ]
  },
  {
   "cell_type": "markdown",
   "metadata": {
    "id": "eyT5u5sDWnB4"
   },
   "source": [
    "Podemos ver que el tensor resultado del paso de la capa de pooling tiene:\n",
    "- un primer eje representando el tamaño del batch, que no se modifica, cada instancia de entrada tiene su instancia de salida correspondiente\n",
    "- un segundo eje en donde vemos que se conservan los canales de entrada\n",
    "- un tercer y cuarto eje en los que se redujo el tamaño del feature map en 2, dado el tamaño de la ventana."
   ]
  },
  {
   "cell_type": "markdown",
   "metadata": {
    "id": "BirZsQrzWnB4"
   },
   "source": [
    "### Modelo secuencial convolucional"
   ]
  },
  {
   "cell_type": "markdown",
   "metadata": {
    "id": "48dcb828-8715-4fe0-90a8-d76e9f870332"
   },
   "source": [
    "Cuando se desesa construir un modelo cuyas capas se conectan una detrás de otra, se puede simplificar el proceso utilizando ```nn.Sequential```, un módulo contenedor de módulos ordenados secuencialmente, encadenando el procesamiento a través de los llamados a los métodos ```forward()``` de cada uno de los módulos. Las funciones de activación se agregarán como módulos miembro.\n",
    "El modelo que crearemos tendrá:\n",
    "- una capa ```Conv2d``` con 16 filtros de tamaño 3x3. Tiene como entrada tensores de dimensionalidad (28, 28, 1), produciendo features maps de (16, 26, 26)\n",
    "Por cada filtro aplicado, se tiene un feature map de salida resultado de la convolución; si hay N filtros, el tensor de salida tendrá una profundidad de N.\n",
    "Esta capa tiene entonces 16x(3x3x1 + 1)=160 parámetros.\n",
    "- una capa ```MaxPool2d```con una ventana de tamaño 3x3, que reducirá el tamaño de los feature maps a (16, 8, 8), ya que solo se conserva la parte entera de la división 26/3, ignorando lo últimos 2 pixeles a la derecha y abajo de la imagen. Las capas de pooling no requieren parámetros. \n",
    "Esta capa permite:\n",
    "  - si la capa siguiente es una capa convolucional: reducir el número de operaciones a realizar\n",
    "  - si la capa siguiente es una capa densa (no contando una ```Flatten```): reducir el número de conexiones necesarias y por ende de parámetros de pesos, al comprimir la imagen, en este caso, a 1/9 de su tamaño original.\n",
    "- una capa ```Flatten``` que se encarga de aplanar los feature maps para que queden en un solo array de 16x8x8=1024 entradas de la capa densa siguiente. Las capas ```Flatten``` no requieren parámetros.\n",
    "- una capa densa ```Linear``` de 10 neuronas que produce los logits que permitirán la clasificación final, con una neurona por cada categoría posible, que necesita el ajuste de 10x1024+10=10250 parámetros."
   ]
  },
  {
   "cell_type": "markdown",
   "metadata": {
    "id": "gPu0I3eZuUGL"
   },
   "source": [
    "Vamos a crear una clase de Python que represente el modelo convolucional basándose en los modulos que serán organizados por el contenedor ```nn.Sequential``` (que también hereda de ```torch.nn.Module```). Implementaremos los dos métodos siguientes:\n",
    "- un método constructor ```__init__()```, en donde se declaran las capas y demás módulos con parámetros. Este método recibe el número de canales del tensor de entrada y el número de categorias de la última capa.\n",
    "- un método ```forward()```, que se encarga de establecer las operaciones del feed forward, que es trackeado indirectamente por PyTorch para la propagación de gradientes."
   ]
  },
  {
   "cell_type": "code",
   "execution_count": 17,
   "metadata": {
    "id": "Obp4V-C_uUGL"
   },
   "outputs": [],
   "source": [
    "class ClassifConv1Layers(nn.Module):\n",
    "    def __init__(self, in_channels, num_classes):\n",
    "        super(ClassifConv1Layers, self).__init__()    \n",
    "\n",
    "        self.conv = nn.Sequential(         \n",
    "            nn.Conv2d(in_channels=in_channels, out_channels=16, kernel_size=3, stride=1, padding=\"valid\"),\n",
    "            nn.ReLU(),\n",
    "            nn.MaxPool2d(kernel_size=3),\n",
    "            nn.Flatten(),\n",
    "            nn.Linear(in_features=16*8*8, out_features=num_classes)\n",
    "        )\n",
    "\n",
    "    def forward(self, image):\n",
    "        logits = self.conv(image)\n",
    "        return logits"
   ]
  },
  {
   "cell_type": "code",
   "execution_count": 18,
   "metadata": {
    "colab": {
     "base_uri": "https://localhost:8080/"
    },
    "id": "JA2ePSISWnB5",
    "outputId": "e0747637-3b5d-47da-c099-cb9d51832da5"
   },
   "outputs": [
    {
     "data": {
      "text/plain": [
       "ClassifConv1Layers(\n",
       "  (conv): Sequential(\n",
       "    (0): Conv2d(1, 16, kernel_size=(3, 3), stride=(1, 1), padding=valid)\n",
       "    (1): ReLU()\n",
       "    (2): MaxPool2d(kernel_size=3, stride=3, padding=0, dilation=1, ceil_mode=False)\n",
       "    (3): Flatten(start_dim=1, end_dim=-1)\n",
       "    (4): Linear(in_features=1024, out_features=10, bias=True)\n",
       "  )\n",
       ")"
      ]
     },
     "execution_count": 18,
     "metadata": {},
     "output_type": "execute_result"
    }
   ],
   "source": [
    "modelo_fashion = ClassifConv1Layers(in_channels=1, num_classes=10)\n",
    "modelo_fashion"
   ]
  },
  {
   "cell_type": "markdown",
   "metadata": {
    "id": "nbo33ohMWnB5"
   },
   "source": [
    "Veamos los parámetros del modelo:"
   ]
  },
  {
   "cell_type": "code",
   "execution_count": 19,
   "metadata": {
    "colab": {
     "base_uri": "https://localhost:8080/"
    },
    "id": "qCtGlReUWnB5",
    "outputId": "96fe5f3b-01e1-4fdf-ea18-5bcbeaa408cc"
   },
   "outputs": [
    {
     "name": "stdout",
     "output_type": "stream",
     "text": [
      "torch.Size([16, 1, 3, 3])\n",
      "torch.Size([16])\n",
      "torch.Size([10, 1024])\n",
      "torch.Size([10])\n"
     ]
    }
   ],
   "source": [
    "for param in modelo_fashion.parameters():\n",
    "    print(f\"{param.shape}\")"
   ]
  },
  {
   "cell_type": "markdown",
   "metadata": {
    "id": "xDGweNFruUGM"
   },
   "source": [
    "Ahora, apliquemos el modelo recién creado a un batch de imágenes."
   ]
  },
  {
   "cell_type": "code",
   "execution_count": 20,
   "metadata": {
    "colab": {
     "base_uri": "https://localhost:8080/"
    },
    "id": "1C6drAByuUGM",
    "outputId": "63e0dcc9-5088-4e5b-b365-52f3d1e5b58c"
   },
   "outputs": [
    {
     "name": "stdout",
     "output_type": "stream",
     "text": [
      "torch.Size([256, 10])\n"
     ]
    },
    {
     "data": {
      "text/plain": [
       "tensor([ 0.0138,  0.1380,  0.0986, -0.0088,  0.2029,  0.1016,  0.0442,  0.0789,\n",
       "         0.1071, -0.1587], grad_fn=<SelectBackward0>)"
      ]
     },
     "execution_count": 20,
     "metadata": {},
     "output_type": "execute_result"
    }
   ],
   "source": [
    "modelo_fashion.eval()\n",
    "preds = modelo_fashion(train_features)\n",
    "print(preds.shape)\n",
    "preds[0]"
   ]
  },
  {
   "cell_type": "markdown",
   "metadata": {
    "id": "I55ZHwZXuUGN"
   },
   "source": [
    "Vemos que el batch de predicciones tiene el mismo tamaño que el batch de imágenes (una predicción por cada imagen).\n",
    "Cada una de las predicciones es un array con 10 valores (los logits)."
   ]
  },
  {
   "cell_type": "markdown",
   "metadata": {
    "id": "sLdGniMXuUGN"
   },
   "source": [
    "## Entrenamiento del modelo"
   ]
  },
  {
   "cell_type": "markdown",
   "metadata": {
    "id": "246EkfufuUGN"
   },
   "source": [
    "Durante el entrenamiento del modelo necesitamos comparar para todo un batch las predicciones con los valores reales utilizaremos ```nn.CrossEntropyLoss()``` como función de pérdida, que recibe los labels numéricos y las predicciones en forma de logits."
   ]
  },
  {
   "cell_type": "markdown",
   "metadata": {
    "id": "8ngzidwmuUGN"
   },
   "source": [
    "Utilizaremos un optimizador **Adam**, instanciando la clase ```torch.optim.Adam```. Al crearlo, le indicaremos los objetivos de optimización (los parámetros del modelo, que se obtienen a partir del método ```parameters()```), así como el learning rate. Se puede especificar otros hiper parámetros más detallados si se desea.\n",
    "\n",
    "**OJO**: Es una buena práctica llamar al método ```eval()``` del modelo cuando se va a utilizar para inferencia y ```train()``` cuando se esté entrenando. Lo explicaremos en el siguiente modelo cuando veamos modelos con capas **Dropout** y **BatchNormalization**.\n",
    "\n",
    "Creamos un ciclo de entrenamiento similar al del notebook anterior, aunque esta vez crearemos un dataset de validación a partir del dataset de entrenamiento, teniendo al final un training set, un validation set y un test set."
   ]
  },
  {
   "cell_type": "code",
   "execution_count": 21,
   "metadata": {
    "id": "9QN9RaXOuUGO"
   },
   "outputs": [],
   "source": [
    "def train_model(modelo, train_dataset, train_batch_size=128, learning_rate = 1e-3, epocas=30, val_split=0, verbose=False):\n",
    "    \"\"\"Se encarga de realizar el ciclo de épocas de entrenamiento.\n",
    "\n",
    "    :modelo:\n",
    "        instancia creada del modelo a entrenar\n",
    "    :train_dataset:\n",
    "        instancia de Dataset con los datos de entrenamiento\n",
    "    :train_batch_size:\n",
    "        tamaño del batch size de entrenamiento\n",
    "    :learning_rate:\n",
    "        learning rate del optimizador.\n",
    "    :epocas:\n",
    "        número de iteraciones de entrenamiento sobre el dataset completo\n",
    "    :val_split:\n",
    "        porcentaje del dataset de entrenamiento dedicado a la validación, su valor será limitado al intervalo [0 (sin validación), 0.5]\n",
    "    :verbose:\n",
    "        indica si se quiere imprimr el avance del proceso o no\n",
    "    :returns:\n",
    "        el modelo entrenado y 4 arrays con los valores de losses y accuracies del training dataset, y los losses y accuracies del val set después de cada época\n",
    "    \"\"\"\n",
    "\n",
    "    reset_seed()\n",
    "\n",
    "    # Gestión de los loaders de training y validation\n",
    "    if val_split > 0.5:\n",
    "        val_split=0.5\n",
    "\n",
    "    if val_split < 0:\n",
    "        val_split=0\n",
    "\n",
    "    if val_split > 0:\n",
    "        num_training_instances = int(train_dataset.data.shape[0]*(1-val_split))\n",
    "        num_validation_instances = int(train_dataset.data.shape[0]*val_split)\n",
    "        print(f\"val_split: {val_split}, num_training_instances {num_training_instances}, num_validation_instances {num_validation_instances}\")\n",
    "        training_subset, validation_subset = torch.utils.data.random_split(\n",
    "            train_dataset, [num_training_instances, num_validation_instances])\n",
    "    \n",
    "        train_loader = torch.utils.data.DataLoader(\n",
    "            training_subset, batch_size=train_batch_size, shuffle=True, num_workers=2)\n",
    "        validation_loader = torch.utils.data.DataLoader(\n",
    "            validation_subset, batch_size=1024, num_workers=2)\n",
    "        \n",
    "    else : \n",
    "        train_loader = torch.utils.data.DataLoader(\n",
    "            train_dataset, batch_size=train_batch_size, shuffle=True, num_workers=2)\n",
    "\n",
    "\n",
    "    # Se crea el modelo y optimizador\n",
    "    modelo = modelo.to(DEVICE) # situar el modelo en el dispositivo de procesamiento\n",
    "    loss_fn = nn.CrossEntropyLoss()\n",
    "    optimizer = torch.optim.Adam(modelo.parameters(), lr=learning_rate)\n",
    "\n",
    "    # Creamos vectores donde almacenaremos los losses y métricas después de cada época\n",
    "    train_losses = [0] * epocas\n",
    "    train_accuracies = [0] * epocas\n",
    "    val_losses = [0] * epocas\n",
    "    val_accuracies = [0] * epocas\n",
    "\n",
    "    for epoca in range(epocas):\n",
    "        epoca_start_time = time.time()\n",
    "        modelo.train()\n",
    "        for batch_features, batch_labels in train_loader:\n",
    "            # Nos aseguramos que los inputs del modelo estén en el mismo dispositivo\n",
    "            batch_features = batch_features.to(DEVICE)\n",
    "            batch_labels = batch_labels.to(DEVICE)\n",
    "            # Generar las predicciones\n",
    "            batch_preds = modelo(batch_features)\n",
    "            # Comparar con las realidades a partir del loss function\n",
    "            loss = loss_fn(batch_preds, batch_labels)\n",
    "            # Calcular los gradientes de la función de pérdida\n",
    "            loss.backward()\n",
    "            # Actualizar parámetros con los gradientes\n",
    "            optimizer.step()\n",
    "            # Resetear los gradientes para no reacumularlos\n",
    "            optimizer.zero_grad()\n",
    "            # se acumulan los losses de la epoca (ponderados por el tamaño del batch)\n",
    "            train_losses[epoca] += loss.item() * batch_labels.size(0)\n",
    "            # se acumulan las predicciones correctas de la epoca\n",
    "            correctos = (batch_preds.argmax(1) == batch_labels)\n",
    "            train_accuracies[epoca] += correctos.type(torch.float).sum().item() \n",
    "\n",
    "        # se normalizan el loss y el accuracy del training set\n",
    "        train_losses[epoca] /= len(train_loader.dataset)\n",
    "        train_accuracies[epoca] /= len(train_loader.dataset)\n",
    "        \n",
    "        if val_split > 0:\n",
    "            # se desactiva la diferenciación automática para la inferencia sobre el val set\n",
    "            modelo.eval()\n",
    "            with torch.no_grad():\n",
    "                for batch_features, batch_labels in validation_loader:\n",
    "                    # Nos aseguramos que los inputs del modelo estén en el mismo dispositivo\n",
    "                    batch_features = batch_features.to(DEVICE)\n",
    "                    batch_labels = batch_labels.to(DEVICE)\n",
    "                    # Generar las predicciones\n",
    "                    batch_preds = modelo(batch_features)\n",
    "                    # Comparar con las realidades a partir del loss function\n",
    "                    loss = loss_fn(batch_preds, batch_labels)\n",
    "                    # se acumulan los losses de la epoca (ponderados por el tamaño del batch)\n",
    "                    val_losses[epoca] += loss.item() * batch_labels.size(0)\n",
    "                    # se acumulan las predicciones correctas de la epoca\n",
    "                    correctos = (batch_preds.argmax(1) == batch_labels)\n",
    "                    val_accuracies[epoca] += correctos.type(torch.float).sum().item() \n",
    "            # se normalizan el loss y el accuracy del val set\n",
    "            val_losses[epoca] /= len(validation_loader.dataset)\n",
    "            val_accuracies[epoca] /= len(validation_loader.dataset)\n",
    "\n",
    "        epoca_end_time = time.time()\n",
    "        segundos = epoca_end_time - epoca_start_time\n",
    "\n",
    "        if verbose:\n",
    "            if val_split > 0:\n",
    "                print(f\"{epoca}:  loss: {train_losses[epoca]:>7f}, accuracy: {train_accuracies[epoca]:>7f}, val loss: {val_losses[epoca]:>7f}, val accuracy: {val_accuracies[epoca]:>7f}\",\n",
    "                      f\"-- epoch time: {segundos:.2f}\")\n",
    "            else:\n",
    "                print(f\"{epoca}:  loss: {train_losses[epoca]:>7f}, accuracy: {train_accuracies[epoca]:>7f}\",\n",
    "                      f\"-- epoch time: {segundos:.2f}\")\n",
    "    if val_split > 0:     \n",
    "        return modelo, train_losses, train_accuracies, val_losses, val_accuracies\n",
    "    else:\n",
    "        return modelo, train_losses, train_accuracies"
   ]
  },
  {
   "cell_type": "markdown",
   "metadata": {
    "id": "sbW4dlsMWnB7"
   },
   "source": [
    "Entrenamos el modelo en 50 épocas"
   ]
  },
  {
   "cell_type": "code",
   "execution_count": 22,
   "metadata": {
    "colab": {
     "base_uri": "https://localhost:8080/"
    },
    "id": "6pEitbYHWnB7",
    "outputId": "e7994f12-d6dd-44f3-fd57-863c343653f5"
   },
   "outputs": [
    {
     "name": "stdout",
     "output_type": "stream",
     "text": [
      "val_split: 0.2, num_training_instances 48000, num_validation_instances 12000\n",
      "0:  loss: 1.103273, accuracy: 0.700229, val loss: 0.638283, val accuracy: 0.778667 -- epoch time: 8.79\n",
      "1:  loss: 0.552251, accuracy: 0.809438, val loss: 0.508196, val accuracy: 0.822167 -- epoch time: 5.59\n",
      "2:  loss: 0.468903, accuracy: 0.837187, val loss: 0.452532, val accuracy: 0.844000 -- epoch time: 5.64\n",
      "3:  loss: 0.429524, accuracy: 0.850625, val loss: 0.425718, val accuracy: 0.854000 -- epoch time: 5.56\n",
      "4:  loss: 0.405783, accuracy: 0.858812, val loss: 0.407094, val accuracy: 0.858250 -- epoch time: 5.61\n",
      "5:  loss: 0.385101, accuracy: 0.865938, val loss: 0.389931, val accuracy: 0.865083 -- epoch time: 5.61\n",
      "6:  loss: 0.371903, accuracy: 0.870667, val loss: 0.386201, val accuracy: 0.865583 -- epoch time: 5.64\n",
      "7:  loss: 0.360766, accuracy: 0.874292, val loss: 0.373961, val accuracy: 0.870083 -- epoch time: 5.66\n",
      "8:  loss: 0.352373, accuracy: 0.876625, val loss: 0.366004, val accuracy: 0.873667 -- epoch time: 5.62\n",
      "9:  loss: 0.344009, accuracy: 0.880042, val loss: 0.358056, val accuracy: 0.874333 -- epoch time: 5.66\n",
      "10:  loss: 0.337157, accuracy: 0.881896, val loss: 0.360142, val accuracy: 0.876083 -- epoch time: 5.63\n",
      "11:  loss: 0.332130, accuracy: 0.883500, val loss: 0.353273, val accuracy: 0.877000 -- epoch time: 5.72\n",
      "12:  loss: 0.327330, accuracy: 0.884958, val loss: 0.344232, val accuracy: 0.879833 -- epoch time: 5.63\n",
      "13:  loss: 0.321197, accuracy: 0.887125, val loss: 0.340801, val accuracy: 0.882333 -- epoch time: 6.42\n",
      "14:  loss: 0.317494, accuracy: 0.887813, val loss: 0.336299, val accuracy: 0.882500 -- epoch time: 5.63\n",
      "15:  loss: 0.313804, accuracy: 0.888833, val loss: 0.336307, val accuracy: 0.879917 -- epoch time: 5.65\n",
      "16:  loss: 0.309593, accuracy: 0.890021, val loss: 0.332699, val accuracy: 0.885083 -- epoch time: 5.62\n",
      "17:  loss: 0.307805, accuracy: 0.890271, val loss: 0.332589, val accuracy: 0.885000 -- epoch time: 5.62\n",
      "18:  loss: 0.303764, accuracy: 0.892437, val loss: 0.329603, val accuracy: 0.885333 -- epoch time: 5.64\n",
      "19:  loss: 0.301027, accuracy: 0.893333, val loss: 0.332205, val accuracy: 0.882250 -- epoch time: 5.62\n",
      "20:  loss: 0.298297, accuracy: 0.894021, val loss: 0.327440, val accuracy: 0.884833 -- epoch time: 5.67\n",
      "21:  loss: 0.295086, accuracy: 0.894771, val loss: 0.320945, val accuracy: 0.889333 -- epoch time: 5.63\n",
      "22:  loss: 0.291877, accuracy: 0.896188, val loss: 0.320860, val accuracy: 0.889250 -- epoch time: 5.61\n",
      "23:  loss: 0.289686, accuracy: 0.896958, val loss: 0.319834, val accuracy: 0.888750 -- epoch time: 5.68\n",
      "24:  loss: 0.289178, accuracy: 0.896854, val loss: 0.320621, val accuracy: 0.888083 -- epoch time: 5.62\n",
      "25:  loss: 0.286571, accuracy: 0.897646, val loss: 0.317151, val accuracy: 0.889917 -- epoch time: 5.68\n",
      "26:  loss: 0.283575, accuracy: 0.898813, val loss: 0.318298, val accuracy: 0.888833 -- epoch time: 5.71\n",
      "27:  loss: 0.282782, accuracy: 0.900104, val loss: 0.314914, val accuracy: 0.888583 -- epoch time: 5.62\n",
      "28:  loss: 0.281249, accuracy: 0.899479, val loss: 0.320499, val accuracy: 0.887500 -- epoch time: 6.51\n",
      "29:  loss: 0.279040, accuracy: 0.900000, val loss: 0.309012, val accuracy: 0.891917 -- epoch time: 5.68\n",
      "30:  loss: 0.277844, accuracy: 0.900583, val loss: 0.311015, val accuracy: 0.892250 -- epoch time: 5.58\n",
      "31:  loss: 0.275325, accuracy: 0.901583, val loss: 0.312428, val accuracy: 0.889917 -- epoch time: 5.70\n",
      "32:  loss: 0.273920, accuracy: 0.900979, val loss: 0.310358, val accuracy: 0.891333 -- epoch time: 5.62\n",
      "33:  loss: 0.273603, accuracy: 0.902146, val loss: 0.308208, val accuracy: 0.893083 -- epoch time: 5.65\n",
      "34:  loss: 0.271593, accuracy: 0.903167, val loss: 0.307548, val accuracy: 0.891333 -- epoch time: 5.63\n",
      "35:  loss: 0.270396, accuracy: 0.903271, val loss: 0.314704, val accuracy: 0.890583 -- epoch time: 5.69\n",
      "36:  loss: 0.269270, accuracy: 0.902646, val loss: 0.307361, val accuracy: 0.893083 -- epoch time: 5.64\n",
      "37:  loss: 0.267138, accuracy: 0.904479, val loss: 0.308409, val accuracy: 0.893500 -- epoch time: 5.73\n",
      "38:  loss: 0.265972, accuracy: 0.905021, val loss: 0.304007, val accuracy: 0.893833 -- epoch time: 5.66\n",
      "39:  loss: 0.265985, accuracy: 0.905312, val loss: 0.308351, val accuracy: 0.891917 -- epoch time: 5.77\n",
      "40:  loss: 0.266633, accuracy: 0.904583, val loss: 0.305065, val accuracy: 0.894833 -- epoch time: 5.75\n",
      "41:  loss: 0.262681, accuracy: 0.905937, val loss: 0.303379, val accuracy: 0.893500 -- epoch time: 5.65\n",
      "42:  loss: 0.261412, accuracy: 0.906354, val loss: 0.305105, val accuracy: 0.892000 -- epoch time: 5.70\n",
      "43:  loss: 0.260584, accuracy: 0.907542, val loss: 0.301201, val accuracy: 0.894250 -- epoch time: 6.45\n",
      "44:  loss: 0.260333, accuracy: 0.905479, val loss: 0.301742, val accuracy: 0.895000 -- epoch time: 5.67\n",
      "45:  loss: 0.259648, accuracy: 0.906167, val loss: 0.305085, val accuracy: 0.893333 -- epoch time: 5.66\n",
      "46:  loss: 0.258537, accuracy: 0.906813, val loss: 0.304463, val accuracy: 0.893417 -- epoch time: 5.68\n",
      "47:  loss: 0.256883, accuracy: 0.907229, val loss: 0.303049, val accuracy: 0.893250 -- epoch time: 5.60\n",
      "48:  loss: 0.255382, accuracy: 0.908771, val loss: 0.301833, val accuracy: 0.893000 -- epoch time: 5.66\n",
      "49:  loss: 0.255010, accuracy: 0.908937, val loss: 0.298635, val accuracy: 0.898250 -- epoch time: 5.61\n"
     ]
    }
   ],
   "source": [
    "modelo_fashion, train_losses, train_accuracies, val_losses, val_accuracies = train_model(\n",
    "    ClassifConv1Layers(in_channels=1, num_classes=10), fashion_train_dataset,\n",
    "    train_batch_size=512, learning_rate=1e-3, epocas=50, val_split=0.2, verbose=True)"
   ]
  },
  {
   "cell_type": "markdown",
   "metadata": {
    "id": "b8SmcFVpZYZ0"
   },
   "source": [
    "Creamos una función reutilizable para plotear los resultados a lo largo del entrenamiento."
   ]
  },
  {
   "cell_type": "code",
   "execution_count": 23,
   "metadata": {
    "id": "hCqiv2vEuUGP"
   },
   "outputs": [],
   "source": [
    "def plot_losses_and_accuracies(train_losses, train_accuracies, val_losses=None, val_accuracies=None):\n",
    "    fig = plt.figure(figsize=(15,6))\n",
    "\n",
    "    ax = fig.add_subplot(1, 2, 1)\n",
    "    ax.plot(train_losses)\n",
    "    if val_losses is not None:\n",
    "        ax.plot(val_losses)\n",
    "        plt.legend(['train', 'val'], loc='upper left')\n",
    "    plt.title('model loss')\n",
    "    plt.ylabel('loss')\n",
    "    plt.xlabel('epoch')\n",
    "    plt.title('model loss')\n",
    "\n",
    "    ax = fig.add_subplot(1, 2, 2)\n",
    "    ax.plot(train_accuracies)\n",
    "    if val_accuracies is not None:\n",
    "        ax.plot(val_accuracies)\n",
    "        plt.legend(['train', 'val'], loc='upper left')\n",
    "    plt.ylabel('accuracy')\n",
    "    plt.xlabel('epoch')\n",
    "    plt.title('model accuracy')\n",
    "\n",
    "    _=plt.show()\n"
   ]
  },
  {
   "cell_type": "code",
   "execution_count": null,
   "metadata": {
    "colab": {
     "base_uri": "https://localhost:8080/",
     "height": 404
    },
    "id": "TZXglLJ_c2IE",
    "outputId": "b82818aa-9f99-4a9e-ee05-f23c72e3b38f"
   },
   "outputs": [
    {
     "data": {
      "image/png": "[encoded data removed]",
      "text/plain": [
       "<Figure size 1080x432 with 2 Axes>"
      ]
     },
     "metadata": {
      "needs_background": "light"
     },
     "output_type": "display_data"
    }
   ],
   "source": [
    "plot_losses_and_accuracies(train_losses, train_accuracies, val_losses, val_accuracies)"
   ]
  },
  {
   "cell_type": "markdown",
   "metadata": {
    "id": "nIhh_6XXWnB7"
   },
   "source": [
    "Vemos que en la época 20 empezamos a tener una separación entre las curvas de loss y accuracy entre el training set y validation set. \n",
    "Podemos ver que después de alrededor la capa 40, si bien las pérdidas siguen siendo decrecientes, la del validation set desciende a menor velocidad que la del training set, comenzando a tener overfitting\n",
    "\n",
    "Vamos ahora a evaluar sobre el test set."
   ]
  },
  {
   "cell_type": "code",
   "execution_count": 24,
   "metadata": {
    "id": "PJ9_vBJTWnB8"
   },
   "outputs": [],
   "source": [
    "def eval_model(modelo, dataloader):\n",
    "    correctos = 0\n",
    "    modelo.eval()\n",
    "    with torch.no_grad():\n",
    "        for batch_features, batch_labels in dataloader:\n",
    "            batch_features = batch_features.to(DEVICE)\n",
    "            batch_labels = batch_labels.to(DEVICE)\n",
    "            batch_preds = modelo(batch_features)\n",
    "            correctos += (batch_preds.argmax(1) == batch_labels).type(torch.float).sum().item() \n",
    "    return correctos / dataloader.dataset.data.shape[0]"
   ]
  },
  {
   "cell_type": "code",
   "execution_count": 25,
   "metadata": {
    "id": "UIbhjUGiarBe"
   },
   "outputs": [],
   "source": [
    "test_acc = eval_model(modelo_fashion, test_loader)"
   ]
  },
  {
   "cell_type": "code",
   "execution_count": 26,
   "metadata": {
    "colab": {
     "base_uri": "https://localhost:8080/"
    },
    "id": "mnFEcSMoWnB8",
    "outputId": "d992e3a5-f1f8-4f6a-b8d2-249c1dce73db"
   },
   "outputs": [
    {
     "name": "stdout",
     "output_type": "stream",
     "text": [
      "El mínimo loss de validación 0.299 se alcanzó en la época 49\n",
      "El accuracy de entrenamiento correspondiente es de 0.909. \n",
      "El accuracy de validación correspondiente es de 0.898. \n",
      "El accuracy de test es de 0.891. \n"
     ]
    }
   ],
   "source": [
    "print(f\"El mínimo loss de validación {np.min(val_losses):.3f} se alcanzó en la época {np.argmin(val_losses)}\")\n",
    "print(f\"El accuracy de entrenamiento correspondiente es de {train_accuracies[np.argmin(val_losses)]:.3f}. \")\n",
    "print(f\"El accuracy de validación correspondiente es de {val_accuracies[np.argmin(val_losses)]:.3f}. \")\n",
    "print(f\"El accuracy de test es de {test_acc:.3f}. \")"
   ]
  },
  {
   "cell_type": "markdown",
   "metadata": {
    "id": "qr6WPhrsWnB8"
   },
   "source": [
    "Vemos que el accuracy sobre el test set es de 88.8\\%, muy cercano al 89.2\\% estimado sobre el validation set y al 90.2\\% del training set."
   ]
  },
  {
   "cell_type": "markdown",
   "metadata": {
    "id": "8a6c3d60-4b79-4957-9783-547ba0c56240"
   },
   "source": [
    "## Proceso completo con modelo convolucional de 2 capas para MNIST y FashionMNIST"
   ]
  },
  {
   "cell_type": "markdown",
   "metadata": {
    "id": "a2204a29-ac5c-40f8-b71c-db94a1b97a0f"
   },
   "source": [
    "Realizamos el proceso completo para el dataset MNIST que contiene imágenes de digitos escritos a mano (10 clases)."
   ]
  },
  {
   "cell_type": "markdown",
   "metadata": {
    "id": "d001ec09-25ed-4788-ac20-b53c3301004e"
   },
   "source": [
    "Cargamos la data y la ponemos en la forma indicada"
   ]
  },
  {
   "cell_type": "code",
   "execution_count": 27,
   "metadata": {
    "colab": {
     "base_uri": "https://localhost:8080/",
     "height": 423,
     "referenced_widgets": [
      "8412fda92ee340b8ab896d231049a328",
      "52eb5f4cae674cb5bd3952810c33dd0d",
      "089d3b660d39435bbf0aae7a2d0ad563",
      "11855554205846cc9bfc9d2e8a49e15d",
      "842e7950c7b44bc18ce007110f350e8c",
      "085474b5fefd4dba870b5abf86f4302c",
      "b3e863ef94d04df19a353110c743edda",
      "3b26ceb2a5ef440d9cde6a93a6c9eef9",
      "dacc3cb4c23f459999a14c996014a6c1",
      "699a3b063e2849afba5b938d2a2db87b",
      "3b36411b5549418aab98c542fafdf97d",
      "d5f4fdf5fa004481a316b1968faa6231",
      "a2368d4b97c748deada66575c1699a2a",
      "4cbd5dee4dc74d75b39acf5a43bdda05",
      "c0b97cc41a984a3a99e1240b5bc5bd20",
      "bd8ac830010a408db7b95a734435a849",
      "c9a5314e76884fafbdd62306e21edb35",
      "e521486889c14582b479110e01ac9258",
      "965ed30c2d1f4cdeacdec489cb8a1638",
      "abf85935ec874ff089dccf3b08bcc876",
      "40e46331edc3481fb2c4bfbe49b10457",
      "231c24398f124122991f4091ae898b3c",
      "e28fd9520e654235a8d3dd76f2b7bb09",
      "8db24556339b414d99f18e4e25b1682f",
      "10ccb394e09343a49d0d07446b5c7cdf",
      "131e9bd7811d483caf4e1bae8454aad3",
      "f6f955bba8b44d8d828596650de96016",
      "e69066e990a645b7b991ab42a19871c6",
      "9d6d7ab4df814b95b6c26aead4eee8e4",
      "9dece3cb77ae46e5a90dd2bcded0957e",
      "2c101587739244c2a1b7736d053e59ef",
      "13b38b4ce2e44cfaaecdd194b90c9353",
      "adf343126b77485d8abef33dca775b24",
      "461f1b5b307f469baf59739542f2b372",
      "8eb2bf05b3b14c3295ac77379b48ff63",
      "3e24c785ed2c402a80ce626ebdaf1ea7",
      "b21d0aeb6c4d4dd0957799e0c88f2a70",
      "c65a0fb8ac9b42dfa8f1dc5c760461c3",
      "1adca6bce44b4d778a03de8cbfd90b80",
      "ad36cdf769774116b2a6925962508161",
      "653139fa43d34a04b5782d8b3d6e9d8a",
      "6b5fdd30df14490e92459813855b97e7",
      "73236bd6bbde402dbb515bfcf72691d3",
      "f7ec5418d87c457b894623daa40821aa"
     ]
    },
    "id": "RznWX-09VtCv",
    "outputId": "0bd8bac2-86ea-4974-9aa6-1ca48cac5a93"
   },
   "outputs": [
    {
     "name": "stdout",
     "output_type": "stream",
     "text": [
      "Downloading http://yann.lecun.com/exdb/mnist/train-images-idx3-ubyte.gz\n",
      "Downloading http://yann.lecun.com/exdb/mnist/train-images-idx3-ubyte.gz to ../data/MNIST/raw/train-images-idx3-ubyte.gz\n"
     ]
    },
    {
     "data": {
      "application/vnd.jupyter.widget-view+json": {
       "model_id": "8412fda92ee340b8ab896d231049a328",
       "version_major": 2,
       "version_minor": 0
      },
      "text/plain": [
       "  0%|          | 0/9912422 [00:00<?, ?it/s]"
      ]
     },
     "metadata": {},
     "output_type": "display_data"
    },
    {
     "name": "stdout",
     "output_type": "stream",
     "text": [
      "Extracting ../data/MNIST/raw/train-images-idx3-ubyte.gz to ../data/MNIST/raw\n",
      "\n",
      "Downloading http://yann.lecun.com/exdb/mnist/train-labels-idx1-ubyte.gz\n",
      "Downloading http://yann.lecun.com/exdb/mnist/train-labels-idx1-ubyte.gz to ../data/MNIST/raw/train-labels-idx1-ubyte.gz\n"
     ]
    },
    {
     "data": {
      "application/vnd.jupyter.widget-view+json": {
       "model_id": "d5f4fdf5fa004481a316b1968faa6231",
       "version_major": 2,
       "version_minor": 0
      },
      "text/plain": [
       "  0%|          | 0/28881 [00:00<?, ?it/s]"
      ]
     },
     "metadata": {},
     "output_type": "display_data"
    },
    {
     "name": "stdout",
     "output_type": "stream",
     "text": [
      "Extracting ../data/MNIST/raw/train-labels-idx1-ubyte.gz to ../data/MNIST/raw\n",
      "\n",
      "Downloading http://yann.lecun.com/exdb/mnist/t10k-images-idx3-ubyte.gz\n",
      "Downloading http://yann.lecun.com/exdb/mnist/t10k-images-idx3-ubyte.gz to ../data/MNIST/raw/t10k-images-idx3-ubyte.gz\n"
     ]
    },
    {
     "data": {
      "application/vnd.jupyter.widget-view+json": {
       "model_id": "e28fd9520e654235a8d3dd76f2b7bb09",
       "version_major": 2,
       "version_minor": 0
      },
      "text/plain": [
       "  0%|          | 0/1648877 [00:00<?, ?it/s]"
      ]
     },
     "metadata": {},
     "output_type": "display_data"
    },
    {
     "name": "stdout",
     "output_type": "stream",
     "text": [
      "Extracting ../data/MNIST/raw/t10k-images-idx3-ubyte.gz to ../data/MNIST/raw\n",
      "\n",
      "Downloading http://yann.lecun.com/exdb/mnist/t10k-labels-idx1-ubyte.gz\n",
      "Downloading http://yann.lecun.com/exdb/mnist/t10k-labels-idx1-ubyte.gz to ../data/MNIST/raw/t10k-labels-idx1-ubyte.gz\n"
     ]
    },
    {
     "data": {
      "application/vnd.jupyter.widget-view+json": {
       "model_id": "461f1b5b307f469baf59739542f2b372",
       "version_major": 2,
       "version_minor": 0
      },
      "text/plain": [
       "  0%|          | 0/4542 [00:00<?, ?it/s]"
      ]
     },
     "metadata": {},
     "output_type": "display_data"
    },
    {
     "name": "stdout",
     "output_type": "stream",
     "text": [
      "Extracting ../data/MNIST/raw/t10k-labels-idx1-ubyte.gz to ../data/MNIST/raw\n",
      "\n"
     ]
    }
   ],
   "source": [
    "# Definimos una transformación que convierte los datos en tensores de Pytorch al descargarlos\n",
    "transform = torchvision.transforms.Compose([\n",
    "    torchvision.transforms.ToTensor()\n",
    "])\n",
    "\n",
    "# Download and load the training data\n",
    "mnist_train_dataset = torchvision.datasets.MNIST('../data/', download = True, train = True, transform = transform)\n",
    "mnist_test_dataset = torchvision.datasets.MNIST('../data/', download = True, train = False, transform = transform)\n",
    "train_loader = torch.utils.data.DataLoader(mnist_train_dataset, batch_size = 256, shuffle = True)\n",
    "test_loader = torch.utils.data.DataLoader(mnist_test_dataset, batch_size = 1024, shuffle = True)"
   ]
  },
  {
   "cell_type": "code",
   "execution_count": 28,
   "metadata": {
    "colab": {
     "base_uri": "https://localhost:8080/",
     "height": 282
    },
    "id": "Ytbd6HWKVtCv",
    "outputId": "d1f94066-fd50-4566-acd4-a1634aeddd68"
   },
   "outputs": [
    {
     "data": {
      "text/plain": [
       "<matplotlib.image.AxesImage at 0x7fbbd7d4fc90>"
      ]
     },
     "execution_count": 28,
     "metadata": {},
     "output_type": "execute_result"
    },
    {
     "data": {
      "image/png": "[encoded data removed]",
      "text/plain": [
       "<Figure size 432x288 with 1 Axes>"
      ]
     },
     "metadata": {
      "needs_background": "light"
     },
     "output_type": "display_data"
    }
   ],
   "source": [
    "plt.imshow(mnist_train_dataset.data[0], cmap=\"gray\")"
   ]
  },
  {
   "cell_type": "code",
   "execution_count": 29,
   "metadata": {
    "id": "fHagQ6cpVtCw"
   },
   "outputs": [],
   "source": [
    "class ClassifConv2Layers(nn.Module):\n",
    "    def __init__(self, in_channels, num_classes):\n",
    "        super(ClassifConv2Layers, self).__init__()    \n",
    "\n",
    "        self.conv = nn.Sequential(         \n",
    "            nn.Conv2d(in_channels=in_channels, out_channels=32, kernel_size=3, stride=1, padding=\"valid\"),\n",
    "            nn.ReLU(),\n",
    "            nn.MaxPool2d(kernel_size=2),\n",
    "            nn.Conv2d(in_channels=32, out_channels=64, kernel_size=3, stride=1, padding=\"valid\"),\n",
    "            nn.ReLU(),\n",
    "            nn.MaxPool2d(kernel_size=2),\n",
    "            nn.Flatten(),\n",
    "            nn.Linear(in_features=64*5*5, out_features=num_classes)\n",
    "        )\n",
    "\n",
    "    def forward(self, image):\n",
    "        logits = self.conv(image)\n",
    "        return logits"
   ]
  },
  {
   "cell_type": "markdown",
   "metadata": {
    "id": "b19shVfnX2yL"
   },
   "source": [
    "Si implementamos la función ```train_model()``` lo más genérica posible, no es necesaria modificarla para otras arquitecturas. Vamos a reutilizarla para entrenar un modelo sobre este otro dataset."
   ]
  },
  {
   "cell_type": "code",
   "execution_count": 30,
   "metadata": {
    "colab": {
     "base_uri": "https://localhost:8080/"
    },
    "id": "nv6ge1vGX2yL",
    "outputId": "f47993cf-b96e-440b-e138-0d4211934911"
   },
   "outputs": [
    {
     "name": "stdout",
     "output_type": "stream",
     "text": [
      "val_split: 0.2, num_training_instances 48000, num_validation_instances 12000\n",
      "0:  loss: 0.587299, accuracy: 0.847063, val loss: 0.199741, val accuracy: 0.942417 -- epoch time: 7.88\n",
      "1:  loss: 0.139269, accuracy: 0.959792, val loss: 0.119504, val accuracy: 0.963917 -- epoch time: 7.80\n",
      "2:  loss: 0.094009, accuracy: 0.972063, val loss: 0.087723, val accuracy: 0.973500 -- epoch time: 7.75\n",
      "3:  loss: 0.071911, accuracy: 0.978167, val loss: 0.075707, val accuracy: 0.977667 -- epoch time: 8.55\n",
      "4:  loss: 0.061586, accuracy: 0.981375, val loss: 0.065555, val accuracy: 0.980667 -- epoch time: 7.81\n",
      "5:  loss: 0.052117, accuracy: 0.984271, val loss: 0.063844, val accuracy: 0.980917 -- epoch time: 7.79\n",
      "6:  loss: 0.047286, accuracy: 0.985563, val loss: 0.055586, val accuracy: 0.983417 -- epoch time: 7.80\n",
      "7:  loss: 0.042582, accuracy: 0.987604, val loss: 0.055452, val accuracy: 0.983917 -- epoch time: 7.83\n",
      "8:  loss: 0.039561, accuracy: 0.988542, val loss: 0.050147, val accuracy: 0.984500 -- epoch time: 7.81\n",
      "9:  loss: 0.036248, accuracy: 0.988896, val loss: 0.047535, val accuracy: 0.985417 -- epoch time: 7.86\n",
      "10:  loss: 0.034066, accuracy: 0.989646, val loss: 0.047336, val accuracy: 0.985833 -- epoch time: 7.89\n",
      "11:  loss: 0.032096, accuracy: 0.990313, val loss: 0.046812, val accuracy: 0.986083 -- epoch time: 7.86\n",
      "12:  loss: 0.029333, accuracy: 0.990625, val loss: 0.048196, val accuracy: 0.986167 -- epoch time: 7.80\n",
      "13:  loss: 0.026690, accuracy: 0.991854, val loss: 0.043414, val accuracy: 0.987167 -- epoch time: 7.81\n",
      "14:  loss: 0.025847, accuracy: 0.991708, val loss: 0.044950, val accuracy: 0.986333 -- epoch time: 8.64\n",
      "15:  loss: 0.024618, accuracy: 0.992313, val loss: 0.045341, val accuracy: 0.986917 -- epoch time: 7.77\n",
      "16:  loss: 0.021613, accuracy: 0.993375, val loss: 0.044049, val accuracy: 0.985833 -- epoch time: 7.74\n",
      "17:  loss: 0.020531, accuracy: 0.993896, val loss: 0.048441, val accuracy: 0.985667 -- epoch time: 7.78\n",
      "18:  loss: 0.018324, accuracy: 0.995021, val loss: 0.045167, val accuracy: 0.986667 -- epoch time: 7.89\n",
      "19:  loss: 0.017640, accuracy: 0.994812, val loss: 0.042937, val accuracy: 0.987333 -- epoch time: 7.92\n",
      "20:  loss: 0.016151, accuracy: 0.995250, val loss: 0.041848, val accuracy: 0.987583 -- epoch time: 7.88\n",
      "21:  loss: 0.015066, accuracy: 0.995625, val loss: 0.042195, val accuracy: 0.988250 -- epoch time: 7.81\n",
      "22:  loss: 0.013885, accuracy: 0.995812, val loss: 0.045531, val accuracy: 0.986417 -- epoch time: 7.84\n",
      "23:  loss: 0.012788, accuracy: 0.996313, val loss: 0.045277, val accuracy: 0.986833 -- epoch time: 7.72\n",
      "24:  loss: 0.012396, accuracy: 0.996437, val loss: 0.044067, val accuracy: 0.987667 -- epoch time: 7.77\n",
      "25:  loss: 0.011575, accuracy: 0.996771, val loss: 0.048261, val accuracy: 0.987583 -- epoch time: 8.59\n",
      "26:  loss: 0.011216, accuracy: 0.996896, val loss: 0.042673, val accuracy: 0.988917 -- epoch time: 7.81\n",
      "27:  loss: 0.008626, accuracy: 0.998104, val loss: 0.046187, val accuracy: 0.987917 -- epoch time: 7.75\n",
      "28:  loss: 0.007815, accuracy: 0.998146, val loss: 0.046584, val accuracy: 0.986917 -- epoch time: 7.78\n",
      "29:  loss: 0.007862, accuracy: 0.998104, val loss: 0.047320, val accuracy: 0.988333 -- epoch time: 7.76\n"
     ]
    }
   ],
   "source": [
    "modelo_mnist, train_losses, train_accuracies, val_losses, val_accuracies = train_model(\n",
    "    ClassifConv2Layers(in_channels=1, num_classes=10), mnist_train_dataset,\n",
    "    train_batch_size=512, learning_rate=1e-3, epocas=30, val_split=0.2, verbose=True)"
   ]
  },
  {
   "cell_type": "code",
   "execution_count": 31,
   "metadata": {
    "colab": {
     "base_uri": "https://localhost:8080/",
     "height": 404
    },
    "id": "fHGaYvxPaBYB",
    "outputId": "c9686925-b891-4213-f728-689d0f50f13a"
   },
   "outputs": [
    {
     "data": {
      "image/png": "[encoded data removed]",
      "text/plain": [
       "<Figure size 1080x432 with 2 Axes>"
      ]
     },
     "metadata": {
      "needs_background": "light"
     },
     "output_type": "display_data"
    }
   ],
   "source": [
    "plot_losses_and_accuracies(train_losses, train_accuracies, val_losses, val_accuracies)"
   ]
  },
  {
   "cell_type": "code",
   "execution_count": 32,
   "metadata": {
    "id": "RW2z22vc33BO"
   },
   "outputs": [],
   "source": [
    "test_loader = torch.utils.data.DataLoader(mnist_test_dataset, batch_size = 1024, shuffle = True)"
   ]
  },
  {
   "cell_type": "code",
   "execution_count": 33,
   "metadata": {
    "id": "de8JSV18bGKU"
   },
   "outputs": [],
   "source": [
    "test_acc = eval_model(modelo_mnist, test_loader)"
   ]
  },
  {
   "cell_type": "code",
   "execution_count": 34,
   "metadata": {
    "colab": {
     "base_uri": "https://localhost:8080/"
    },
    "id": "k9durvP9VtCx",
    "outputId": "1089f598-b570-4e19-9d52-bfe31643623a"
   },
   "outputs": [
    {
     "name": "stdout",
     "output_type": "stream",
     "text": [
      "El mínimo loss de validación 0.042 se alcanzó en la época 20\n",
      "El accuracy de entrenamiento correspondiente es de 0.995. \n",
      "El accuracy de validación correspondiente es de 0.988. \n",
      "El accuracy de test es de 0.989. \n"
     ]
    }
   ],
   "source": [
    "print(f\"El mínimo loss de validación {np.min(val_losses):.3f} se alcanzó en la época {np.argmin(val_losses)}\")\n",
    "print(f\"El accuracy de entrenamiento correspondiente es de {train_accuracies[np.argmin(val_losses)]:.3f}. \")\n",
    "print(f\"El accuracy de validación correspondiente es de {val_accuracies[np.argmin(val_losses)]:.3f}. \")\n",
    "print(f\"El accuracy de test es de {test_acc:.3f}. \")"
   ]
  },
  {
   "cell_type": "markdown",
   "metadata": {
    "id": "9t6bc2GZVtCy"
   },
   "source": [
    "Llegamos a un accuracy de casi el 99\\% sobre el test set."
   ]
  },
  {
   "cell_type": "markdown",
   "metadata": {
    "id": "LELeKxA8Zbzj"
   },
   "source": [
    "Volvamos a tratar el dataset de **FashionMNIST**, pero esta vez con el modelo de 2 capas convolucionales, y sobre todo el training set (sin validación"
   ]
  },
  {
   "cell_type": "code",
   "execution_count": 35,
   "metadata": {
    "colab": {
     "base_uri": "https://localhost:8080/"
    },
    "id": "dhFc9QT5imHa",
    "outputId": "96812155-e264-4d3b-acf1-23cd2518ac36"
   },
   "outputs": [
    {
     "name": "stdout",
     "output_type": "stream",
     "text": [
      "0:  loss: 0.845745, accuracy: 0.718267 -- epoch time: 8.26\n",
      "1:  loss: 0.483006, accuracy: 0.822950 -- epoch time: 8.91\n",
      "2:  loss: 0.418769, accuracy: 0.850833 -- epoch time: 8.10\n",
      "3:  loss: 0.388731, accuracy: 0.860650 -- epoch time: 8.15\n",
      "4:  loss: 0.362047, accuracy: 0.871300 -- epoch time: 8.17\n",
      "5:  loss: 0.347098, accuracy: 0.875333 -- epoch time: 8.12\n",
      "6:  loss: 0.333305, accuracy: 0.881183 -- epoch time: 8.24\n",
      "7:  loss: 0.320669, accuracy: 0.885750 -- epoch time: 8.27\n",
      "8:  loss: 0.308564, accuracy: 0.889867 -- epoch time: 8.10\n",
      "9:  loss: 0.301910, accuracy: 0.891233 -- epoch time: 8.15\n",
      "10:  loss: 0.293338, accuracy: 0.895483 -- epoch time: 8.14\n",
      "11:  loss: 0.286399, accuracy: 0.897067 -- epoch time: 8.26\n",
      "12:  loss: 0.281792, accuracy: 0.898667 -- epoch time: 8.74\n",
      "13:  loss: 0.275322, accuracy: 0.900833 -- epoch time: 8.10\n",
      "14:  loss: 0.268908, accuracy: 0.902950 -- epoch time: 8.14\n",
      "15:  loss: 0.263141, accuracy: 0.904917 -- epoch time: 8.15\n",
      "16:  loss: 0.256859, accuracy: 0.907533 -- epoch time: 8.37\n",
      "17:  loss: 0.250467, accuracy: 0.910233 -- epoch time: 8.38\n",
      "18:  loss: 0.250630, accuracy: 0.909633 -- epoch time: 8.25\n",
      "19:  loss: 0.245158, accuracy: 0.912800 -- epoch time: 8.76\n",
      "20:  loss: 0.239160, accuracy: 0.913950 -- epoch time: 8.53\n",
      "21:  loss: 0.233065, accuracy: 0.916333 -- epoch time: 8.32\n",
      "22:  loss: 0.230268, accuracy: 0.915783 -- epoch time: 8.95\n",
      "23:  loss: 0.227131, accuracy: 0.918083 -- epoch time: 8.17\n",
      "24:  loss: 0.221567, accuracy: 0.919750 -- epoch time: 8.21\n",
      "25:  loss: 0.217851, accuracy: 0.921733 -- epoch time: 8.29\n",
      "26:  loss: 0.217604, accuracy: 0.921417 -- epoch time: 8.16\n",
      "27:  loss: 0.209897, accuracy: 0.924183 -- epoch time: 8.23\n",
      "28:  loss: 0.210798, accuracy: 0.923283 -- epoch time: 8.18\n",
      "29:  loss: 0.207861, accuracy: 0.923783 -- epoch time: 8.20\n"
     ]
    }
   ],
   "source": [
    "modelo_fashion, train_losses, train_accuracies = train_model(\n",
    "    ClassifConv2Layers(in_channels=1, num_classes=10), fashion_train_dataset,\n",
    "    train_batch_size=512, learning_rate=1e-3, epocas=30, val_split=0, verbose=True)"
   ]
  },
  {
   "cell_type": "code",
   "execution_count": 36,
   "metadata": {
    "colab": {
     "base_uri": "https://localhost:8080/",
     "height": 404
    },
    "id": "6nSKNWLykwI5",
    "outputId": "9e78b34d-9baa-4ee7-9244-8d060f137e46"
   },
   "outputs": [
    {
     "data": {
      "image/png": "[encoded data removed]",
      "text/plain": [
       "<Figure size 1080x432 with 2 Axes>"
      ]
     },
     "metadata": {
      "needs_background": "light"
     },
     "output_type": "display_data"
    }
   ],
   "source": [
    "plot_losses_and_accuracies(train_losses, train_accuracies)"
   ]
  },
  {
   "cell_type": "code",
   "execution_count": 89,
   "metadata": {
    "id": "BVCOiUPeqQOC"
   },
   "outputs": [],
   "source": [
    "test_loader = torch.utils.data.DataLoader(fashion_test_dataset, batch_size = 1024, shuffle = False)"
   ]
  },
  {
   "cell_type": "code",
   "execution_count": 90,
   "metadata": {
    "colab": {
     "base_uri": "https://localhost:8080/"
    },
    "id": "YmDzuco2n6yK",
    "outputId": "c9e2b2e3-5333-4223-8415-53191c41b609"
   },
   "outputs": [
    {
     "data": {
      "text/plain": [
       "0.9004"
      ]
     },
     "execution_count": 90,
     "metadata": {},
     "output_type": "execute_result"
    }
   ],
   "source": [
    "eval_model(modelo_fashion, test_loader)"
   ]
  },
  {
   "cell_type": "markdown",
   "metadata": {
    "id": "VBuIXwqXqRG2"
   },
   "source": [
    "Vemos que llegamos a mas del 90% de accuracy sobre el test set."
   ]
  },
  {
   "cell_type": "markdown",
   "metadata": {
    "id": "ei4UGSxUqWzn"
   },
   "source": [
    "## Entendimiento del proceso de activación a partir de convoluciones"
   ]
  },
  {
   "cell_type": "markdown",
   "metadata": {
    "id": "Atuboyjy33BS"
   },
   "source": [
    "En el dataset de test, encontramos que las imágenes que se encuentran en los índices 0, 23, 28 son de botines (label 9)."
   ]
  },
  {
   "cell_type": "code",
   "execution_count": 91,
   "metadata": {
    "id": "0gU-_ObI33BT"
   },
   "outputs": [],
   "source": [
    "features, labels = next(iter(test_loader))"
   ]
  },
  {
   "cell_type": "code",
   "execution_count": 132,
   "metadata": {
    "id": "-MwZ70Z733BT"
   },
   "outputs": [],
   "source": [
    "FIRST_IMAGE=0\n",
    "SECOND_IMAGE=28\n",
    "THIRD_IMAGE=39"
   ]
  },
  {
   "cell_type": "code",
   "execution_count": 133,
   "metadata": {
    "colab": {
     "base_uri": "https://localhost:8080/",
     "height": 149
    },
    "id": "F4k_bzK833BT",
    "outputId": "21f42ab3-0bb2-439e-cf98-c3c7f985bdab"
   },
   "outputs": [
    {
     "data": {
      "image/png": "[encoded data removed]",
      "text/plain": [
       "<Figure size 432x288 with 3 Axes>"
      ]
     },
     "metadata": {
      "needs_background": "light"
     },
     "output_type": "display_data"
    }
   ],
   "source": [
    "indexes = [FIRST_IMAGE, SECOND_IMAGE, THIRD_IMAGE]\n",
    "botines = features[indexes]\n",
    "f, axarr = plt.subplots(1,len(indexes))\n",
    "for i, img in enumerate(botines):\n",
    "    axarr[i].imshow(img.squeeze())\n",
    "    axarr[i].grid(False)\n",
    "plt.show()"
   ]
  },
  {
   "cell_type": "code",
   "execution_count": 134,
   "metadata": {
    "id": "odsInZTH9jjh"
   },
   "outputs": [],
   "source": [
    "botines = botines.to(DEVICE)"
   ]
  },
  {
   "cell_type": "markdown",
   "metadata": {
    "id": "FsOpPxE333BT"
   },
   "source": [
    "Vamos a analizar las activaciones intermediarias de estas imágenes a través de las capas convolucionales y de MaxPooling.\n",
    "Veamos como está estructurado el modelo."
   ]
  },
  {
   "cell_type": "code",
   "execution_count": 135,
   "metadata": {
    "colab": {
     "base_uri": "https://localhost:8080/"
    },
    "id": "ONsie5rV33BU",
    "outputId": "ed54a8b9-499f-46f7-f1aa-aef83cea0f2b"
   },
   "outputs": [
    {
     "data": {
      "text/plain": [
       "ClassifConv2Layers(\n",
       "  (conv): Sequential(\n",
       "    (0): Conv2d(1, 32, kernel_size=(3, 3), stride=(1, 1), padding=valid)\n",
       "    (1): ReLU()\n",
       "    (2): MaxPool2d(kernel_size=2, stride=2, padding=0, dilation=1, ceil_mode=False)\n",
       "    (3): Conv2d(32, 64, kernel_size=(3, 3), stride=(1, 1), padding=valid)\n",
       "    (4): ReLU()\n",
       "    (5): MaxPool2d(kernel_size=2, stride=2, padding=0, dilation=1, ceil_mode=False)\n",
       "    (6): Flatten(start_dim=1, end_dim=-1)\n",
       "    (7): Linear(in_features=1600, out_features=10, bias=True)\n",
       "  )\n",
       ")"
      ]
     },
     "execution_count": 135,
     "metadata": {},
     "output_type": "execute_result"
    }
   ],
   "source": [
    "modelo_fashion"
   ]
  },
  {
   "cell_type": "markdown",
   "metadata": {
    "id": "L_XM68YB33BU"
   },
   "source": [
    "Vemos que el modulo del modelo tiene un submodulo ```Sequential``` llamado \"conv\", y este tiene internamente los submodulos correspondientes a las capas y funciones de activación, accesibles a partir de su índice en la secuencia."
   ]
  },
  {
   "cell_type": "code",
   "execution_count": 136,
   "metadata": {
    "colab": {
     "base_uri": "https://localhost:8080/"
    },
    "id": "CP16wgc033BU",
    "outputId": "8e87b8dd-5b7f-42ef-92d1-8840f80665fa"
   },
   "outputs": [
    {
     "data": {
      "text/plain": [
       "Conv2d(32, 64, kernel_size=(3, 3), stride=(1, 1), padding=valid)"
      ]
     },
     "execution_count": 136,
     "metadata": {},
     "output_type": "execute_result"
    }
   ],
   "source": [
    "modelo_fashion.conv[3]"
   ]
  },
  {
   "cell_type": "markdown",
   "metadata": {
    "id": "ZdgKc3L_33BV"
   },
   "source": [
    "Si queremos inspeccionar o modificar los resultados o los gradientes de una capa, se utiliza una función llamada **hook**, que se pueden registrar sobre un módulo.\n",
    "Una función **hook** puede aplicarse al proceso de entrenamiento ya sea sobre la ejecución del forward pass o del backward pass. \n",
    "Se pueden registrar funciones **hooks** con los siguientes métodos de la clase ```nn.Module```:\n",
    "- ```register_forward_hook()```: la función **hook** se llamará después del ```forward()``` del módulo, y recibirá el módulo en cuestión, una tupla con los inputs del forward y el tensor con el output. Se pueden modificar los outputs, así como los inputs de la capa, aunque modificar los inputs no tendrá efecto sobre el resultado del forward. La función **hook** puede retornar ```None``` o el output modificado.\n",
    "- ```register_forward_pre_hook()```: la función **hook** se llamará antes del ```forward()``` del módulo, y recibirá el módulo en cuestión y una tupla con los inputs del forward. Se pueden modificar los inputs de la capa retornando el nuevo valor en la función **hook**, influyendo en el ```forward()``` siguiente. La función **hook** puede retornar ```None``` o el input modificado.\n",
    "- ```register_full_backward_hook()```: la función **hook** se llamará cada vez que los gradientes del modulo con respecto a sus inputs sean modificados, y recibirá el módulo en cuestión, una tupla con los gradientes de los inputs y una tupla con los gradientes de los outputs. Modificar los inputs y outputs de generará un error en el método ```backward()```, aunque se puede retornar un valor de gradiente de los inputs diferente. La función **hook** puede retornar ```None``` o un nuevo gradiente del input.\n",
    "\n",
    "Los métodos de registro de hooks de ```nn.Module``` retornan un \"handle\" que permitira removerlos hooks, llamando ```handle.remove()```.\n",
    "**OJO**: no hay manera elegante de eliminar **hooks** a menos de hacerlo a través de los handles retornados."
   ]
  },
  {
   "cell_type": "code",
   "execution_count": 137,
   "metadata": {
    "colab": {
     "base_uri": "https://localhost:8080/"
    },
    "id": "MLo5sa3A33BV",
    "outputId": "5026ac93-d91f-4ada-8517-8280f5c1f23d"
   },
   "outputs": [
    {
     "data": {
      "text/plain": [
       "ClassifConv2Layers(\n",
       "  (conv): Sequential(\n",
       "    (0): Conv2d(1, 32, kernel_size=(3, 3), stride=(1, 1), padding=valid)\n",
       "    (1): ReLU()\n",
       "    (2): MaxPool2d(kernel_size=2, stride=2, padding=0, dilation=1, ceil_mode=False)\n",
       "    (3): Conv2d(32, 64, kernel_size=(3, 3), stride=(1, 1), padding=valid)\n",
       "    (4): ReLU()\n",
       "    (5): MaxPool2d(kernel_size=2, stride=2, padding=0, dilation=1, ceil_mode=False)\n",
       "    (6): Flatten(start_dim=1, end_dim=-1)\n",
       "    (7): Linear(in_features=1600, out_features=10, bias=True)\n",
       "  )\n",
       ")"
      ]
     },
     "execution_count": 137,
     "metadata": {},
     "output_type": "execute_result"
    }
   ],
   "source": [
    "modelo_fashion.eval()"
   ]
  },
  {
   "cell_type": "code",
   "execution_count": 138,
   "metadata": {
    "id": "NYFiO2w333BV"
   },
   "outputs": [],
   "source": [
    "def debug_capa(self, input, output):\n",
    "    print('Adentro de ' + self.__class__.__name__ + ' forward')\n",
    "    print('')\n",
    "    print('input: ', type(input))\n",
    "    print('   len: ', len(input))\n",
    "    print('input[0]: ', type(input[0]))\n",
    "    print('output: ', type(output))\n",
    "    print('')\n",
    "    print('input size:', input[0].size())\n",
    "    print('output size:', output.data.size())\n",
    "    print('output norm:', output.data.norm())"
   ]
  },
  {
   "cell_type": "code",
   "execution_count": 139,
   "metadata": {
    "id": "5DUrRPdj33BW"
   },
   "outputs": [],
   "source": [
    "handle = modelo_fashion.conv[0].register_forward_hook(debug_capa)"
   ]
  },
  {
   "cell_type": "code",
   "execution_count": 140,
   "metadata": {
    "colab": {
     "base_uri": "https://localhost:8080/"
    },
    "id": "Md06YVCf33BW",
    "outputId": "025eef73-749b-4dad-dab7-6eb2dbac8fc2"
   },
   "outputs": [
    {
     "name": "stdout",
     "output_type": "stream",
     "text": [
      "Adentro de Conv2d forward\n",
      "\n",
      "input:  <class 'tuple'>\n",
      "   len:  1\n",
      "input[0]:  <class 'torch.Tensor'>\n",
      "output:  <class 'torch.Tensor'>\n",
      "\n",
      "input size: torch.Size([1, 1, 28, 28])\n",
      "output size: torch.Size([1, 32, 26, 26])\n",
      "output norm: tensor(86.1981, device='cuda:0')\n"
     ]
    }
   ],
   "source": [
    "with torch.no_grad():\n",
    "    pred = modelo_fashion(features[FIRST_IMAGE].unsqueeze(0).to(DEVICE))"
   ]
  },
  {
   "cell_type": "markdown",
   "metadata": {
    "id": "wmSVpMyE33BW"
   },
   "source": [
    "Podemos ver que la primera capa convolucional recibe el tensor del batch de entrada con las imágenes originales de 28x28, y que retorna un tensor con el batch de 32 feature maps de 26x26 resultados de las convoluciones.\n",
    "\n",
    "No podemos olvidar remover el **hook**."
   ]
  },
  {
   "cell_type": "code",
   "execution_count": 141,
   "metadata": {
    "id": "E5BZp4aG33BX"
   },
   "outputs": [],
   "source": [
    "handle.remove()"
   ]
  },
  {
   "cell_type": "code",
   "execution_count": 142,
   "metadata": {
    "colab": {
     "base_uri": "https://localhost:8080/"
    },
    "id": "VzKOr0lY9ugc",
    "outputId": "239a54fa-3ea1-44ba-acf0-bce03d113a0a"
   },
   "outputs": [
    {
     "data": {
      "text/plain": [
       "OrderedDict()"
      ]
     },
     "execution_count": 142,
     "metadata": {},
     "output_type": "execute_result"
    }
   ],
   "source": [
    "modelo_fashion.conv[0]._forward_hooks"
   ]
  },
  {
   "cell_type": "markdown",
   "metadata": {
    "id": "snyoLbZy33BX"
   },
   "source": [
    "Ahora creamos un hook para obtener los feature maps resultantes de cada capa.\n",
    "El tensor en cuestión lo vamos a separar del proceso de diferenciación automática con el método ```detach()```.\n",
    "Creamos una función que retornará la función hook para cada capa, y almacenaremos las activaciones en un diccionario indexado con el índice de la capa."
   ]
  },
  {
   "cell_type": "code",
   "execution_count": 143,
   "metadata": {
    "id": "ytxuDnR133BX"
   },
   "outputs": [],
   "source": [
    "activaciones = {} # Creamos un diccionario con las activaciones\n",
    "def get_activation(name):\n",
    "    def hook(model, input, output): # esta es la función hook, no tiene retorno\n",
    "        activaciones[name] = output.detach()\n",
    "    return hook"
   ]
  },
  {
   "cell_type": "code",
   "execution_count": 144,
   "metadata": {
    "id": "cnEKRRyQ33BY"
   },
   "outputs": [],
   "source": [
    "handles = []\n",
    "for indice in range(0, 8):\n",
    "    handles.append(modelo_fashion.conv[indice].register_forward_hook(get_activation(indice)))"
   ]
  },
  {
   "cell_type": "markdown",
   "metadata": {
    "id": "aLB1MzOX33BY"
   },
   "source": [
    "Ahora que ya tenemos los hooks registrados, vamos a procesar las tres imágenes con el modelo, para obtener sus feature maps, no olvidaremos después remover los hooks."
   ]
  },
  {
   "cell_type": "code",
   "execution_count": 145,
   "metadata": {
    "id": "iozqX47G33BY"
   },
   "outputs": [],
   "source": [
    "with torch.no_grad():\n",
    "    pred = modelo_fashion(botines)"
   ]
  },
  {
   "cell_type": "code",
   "execution_count": 146,
   "metadata": {
    "id": "BocCFc5133BY"
   },
   "outputs": [],
   "source": [
    "for indice in range(0, 8):\n",
    "    handles[indice].remove()"
   ]
  },
  {
   "cell_type": "markdown",
   "metadata": {
    "id": "V2GpF9Vx33BZ"
   },
   "source": [
    "Como tenemos 8 pasos secuenciales en el modelo, tendremos 8 batches de activaciones para cada una de las 3 imágenes.\n",
    "Visualicemos la salida de las siguientes capas:\n",
    "- índice 1: salida de la función de activación ReLU de la primera capa convolucional\n",
    "- índice 2: salida de la primera capa de max pooling\n",
    "- índice 4: salida de la función de activación ReLU de la segunda capa convolucional\n",
    "- índice 5: salida de la segunda capa de max pooling\n",
    "\n",
    "Vamos a escoger para cada capa uno de los canales, sin olvidar que no hay ninguna relación entre el i-ésimo número de canal de la primera convolución con el i-ésimo número de canal de la segunda convolución."
   ]
  },
  {
   "cell_type": "code",
   "execution_count": 147,
   "metadata": {
    "id": "QPC3WeLh33BZ"
   },
   "outputs": [],
   "source": [
    "CANAL=3\n",
    "CAPA=1\n",
    "IMAGEN=0"
   ]
  },
  {
   "cell_type": "code",
   "execution_count": 148,
   "metadata": {
    "colab": {
     "base_uri": "https://localhost:8080/",
     "height": 376
    },
    "id": "S44wyaw733BZ",
    "outputId": "843ce261-a78f-46a4-b928-761c45196d27"
   },
   "outputs": [
    {
     "data": {
      "image/png": "[encoded data removed]",
      "text/plain": [
       "<Figure size 1080x432 with 15 Axes>"
      ]
     },
     "metadata": {
      "needs_background": "light"
     },
     "output_type": "display_data"
    }
   ],
   "source": [
    "f, axarr = plt.subplots(3,5, figsize=(15, 6))\n",
    "CANAL=13\n",
    "CAPAS=[1,2,4,5]\n",
    "\n",
    "for i, img in enumerate(botines):\n",
    "    axarr[i,0].imshow(img.squeeze().cpu(), cmap='inferno')\n",
    "    axarr[i,0].grid(False)\n",
    "\n",
    "    for i_capa, capa in enumerate(CAPAS):\n",
    "        activaciones_capa = activaciones[capa]\n",
    "        feature_map = activaciones_capa[i, CANAL]\n",
    "        axarr[i, 1+i_capa].imshow(feature_map.cpu(), cmap='inferno')\n",
    "        axarr[i, 1+i_capa].grid(False)"
   ]
  },
  {
   "cell_type": "markdown",
   "metadata": {
    "id": "NyGE8KVT33Ba"
   },
   "source": [
    "En la primera convolución podemos ver una detección del borde y la segunda, del empeine de la bota."
   ]
  },
  {
   "cell_type": "markdown",
   "metadata": {
    "id": "tCeaN3i633Bc"
   },
   "source": [
    "## Persistencia de modelos"
   ]
  },
  {
   "cell_type": "markdown",
   "metadata": {
    "id": "2de4ab62-3d48-4c32-a9d6-27907b9596e0"
   },
   "source": [
    "Es siempre una buena idea **grabar el modelo una vez entrenado**, así se puede volver a usar sin tener que pasar por todo el proceso de entrenamiento, sobretodo teniendo en cuenta que este proceso puede ser bastante largo, y el no determinismo del mismo, que puede finalizar con pesos de modelos diferentes dadas las mismas condiciones iniciales. \n",
    "Además, dado que los modelos de redes neuronales son **online**, un modelo previamente entrenado se puede continuer reentrenando cada cierto tiempo, actualizando las relaciones entre inputs y outputs sin tener que empezar desde cero."
   ]
  },
  {
   "cell_type": "markdown",
   "metadata": {
    "id": "144880b4-c116-4c4f-8437-58956d5bdfcf"
   },
   "source": [
    "Hay varias maneras de persistir modelos. Lo primero que hay que considerar es que se puede persistir los parámetros de manera independiente de la arquitectura de la red, o las dos cosas al mismo tiempo."
   ]
  },
  {
   "cell_type": "markdown",
   "metadata": {
    "id": "SuCbbUsd33Bd"
   },
   "source": [
    "### Persistencia de los parámetros de un modelo\n"
   ]
  },
  {
   "cell_type": "markdown",
   "metadata": {
    "id": "HLAR0cjJ33Bd"
   },
   "source": [
    "Los parámetros aprendidos durante el entrenamiento de un modelo son almacenados en memoria dentre de un diccionario, que se puede acceder a través del método ```state_dict()```, que puede ser persisitido en disco duro con el método ```torch.save()``` y cargado de nuevo sobre un modelo que dispone de la misma arquitectura con el método ```load_state_dict()``` de la clase ```nn.Module```."
   ]
  },
  {
   "cell_type": "code",
   "execution_count": 149,
   "metadata": {
    "colab": {
     "base_uri": "https://localhost:8080/"
    },
    "id": "_5CNxFRb33Bd",
    "outputId": "2ed24681-9cef-4cfb-a50c-7881f6541034"
   },
   "outputs": [
    {
     "name": "stdout",
     "output_type": "stream",
     "text": [
      "Tamaño del diccionario de parámetros: 6\n",
      "Llaves del diccionario odict_keys(['conv.0.weight', 'conv.0.bias', 'conv.3.weight', 'conv.3.bias', 'conv.7.weight', 'conv.7.bias'])\n"
     ]
    }
   ],
   "source": [
    "print(f'Tamaño del diccionario de parámetros: {len(modelo_fashion.state_dict())}\\nLlaves del diccionario {modelo_fashion.state_dict().keys()}')"
   ]
  },
  {
   "cell_type": "markdown",
   "metadata": {
    "id": "sr0I4ozs33Be"
   },
   "source": [
    "En el caso del modelo de fashionMNIST, vemos que las capas que contienen parámetros entrenables son la 0 (primera capa convolucional), la 3 (segunda capa convolucional) y la 7 (capa lineal de salida). Cada una de ellas tiene un tensor para los pesos y otro para los sesgos."
   ]
  },
  {
   "cell_type": "code",
   "execution_count": 150,
   "metadata": {
    "id": "MwaSY_5p33Be"
   },
   "outputs": [],
   "source": [
    "torch.save(modelo_fashion.state_dict(), 'model_weights.pth')"
   ]
  },
  {
   "cell_type": "code",
   "execution_count": 151,
   "metadata": {
    "colab": {
     "base_uri": "https://localhost:8080/"
    },
    "id": "Vu14fKdZ33Be",
    "outputId": "4d5858a7-2b74-48d8-b03d-a912e4437780"
   },
   "outputs": [
    {
     "name": "stdout",
     "output_type": "stream",
     "text": [
      "Pesos del modelo original entrenado\n",
      "Primer filtro de la primera capa tensor([[ 0.2698, -0.3914, -0.3539],\n",
      "        [ 0.4247, -0.4083,  0.1113],\n",
      "        [ 0.4133, -0.3341,  0.3928]], device='cuda:0',\n",
      "       grad_fn=<SelectBackward0>)\n",
      "Predicciones aleatorias tensor([9, 9, 9], device='cuda:0')\n"
     ]
    }
   ],
   "source": [
    "print(f\"Pesos del modelo original entrenado\")\n",
    "print(f\"Primer filtro de la primera capa {modelo_fashion.get_parameter('conv.0.weight')[0, 0]}\") # primer filtro convolucional de la primera capa convolucional\n",
    "pred = modelo_fashion(botines)\n",
    "print(f\"Predicciones aleatorias {pred.argmax(1)}\")"
   ]
  },
  {
   "cell_type": "code",
   "execution_count": 154,
   "metadata": {
    "colab": {
     "base_uri": "https://localhost:8080/"
    },
    "id": "NbJ0O8tp33Bf",
    "outputId": "26e7ed83-73a9-46be-cffb-0930272e71b3"
   },
   "outputs": [
    {
     "name": "stdout",
     "output_type": "stream",
     "text": [
      "Pesos del nuevo modelo sin entrenar\n",
      "Primer filtro de la primera capa tensor([[ 0.2548,  0.2767, -0.0781],\n",
      "        [ 0.3062, -0.0730,  0.0673],\n",
      "        [-0.1623,  0.1958,  0.2938]], device='cuda:0',\n",
      "       grad_fn=<SelectBackward0>)\n",
      "Predicciones aleatorias tensor([5, 5, 5], device='cuda:0')\n"
     ]
    }
   ],
   "source": [
    "reset_seed()\n",
    "modelo_fashion2 = ClassifConv2Layers(in_channels=1, num_classes=10)\n",
    "modelo_fashion2 = modelo_fashion2.to(DEVICE)\n",
    "modelo_fashion2.eval()\n",
    "print(f\"Pesos del nuevo modelo sin entrenar\")\n",
    "print(f\"Primer filtro de la primera capa {modelo_fashion2.get_parameter('conv.0.weight')[0, 0]}\") # primer filtro convolucional de la primera capa convolucional\n",
    "pred = modelo_fashion2(botines)\n",
    "print(f\"Predicciones aleatorias {pred.argmax(1)}\")"
   ]
  },
  {
   "cell_type": "code",
   "execution_count": 155,
   "metadata": {
    "colab": {
     "base_uri": "https://localhost:8080/"
    },
    "id": "gQA_8IrE33Bf",
    "outputId": "3372781e-803c-4d88-e510-14f0bb34378b"
   },
   "outputs": [
    {
     "name": "stdout",
     "output_type": "stream",
     "text": [
      "Pesos del nuevo modelo con parámetros entrenados cargados\n",
      "Primer filtro de la primera capa tensor([[ 0.2698, -0.3914, -0.3539],\n",
      "        [ 0.4247, -0.4083,  0.1113],\n",
      "        [ 0.4133, -0.3341,  0.3928]], device='cuda:0',\n",
      "       grad_fn=<SelectBackward0>)\n",
      "Predicciones aleatorias tensor([9, 9, 9], device='cuda:0')\n"
     ]
    }
   ],
   "source": [
    "modelo_fashion2.load_state_dict(torch.load('model_weights.pth'))\n",
    "modelo_fashion2.eval()\n",
    "print(f\"Pesos del nuevo modelo con parámetros entrenados cargados\")\n",
    "print(f\"Primer filtro de la primera capa {modelo_fashion2.get_parameter('conv.0.weight')[0, 0]}\") # primer filtro convolucional de la primera capa convolucional\n",
    "pred = modelo_fashion2(botines)\n",
    "print(f\"Predicciones aleatorias {pred.argmax(1)}\")"
   ]
  },
  {
   "cell_type": "markdown",
   "metadata": {
    "id": "OXTqQs2o33Bf"
   },
   "source": [
    "Vemos que los pesos cargados son diferentes de los pesos aleatoriamente inicializados."
   ]
  },
  {
   "cell_type": "markdown",
   "metadata": {
    "id": "RoeZM8vc33Bg"
   },
   "source": [
    "### Persistencia de paráemtros y arquitectura de modelo\n"
   ]
  },
  {
   "cell_type": "code",
   "execution_count": 175,
   "metadata": {
    "id": "M2Jpr8stAoO4"
   },
   "outputs": [],
   "source": [
    "#modelo_fashion.conv[8]._forward_hooks\n",
    "#del modelo_fashion.conv[7]._forward_hooks[8]"
   ]
  },
  {
   "cell_type": "markdown",
   "metadata": {
    "id": "VMa890t933Bh"
   },
   "source": [
    "La función ```torch.save()``` también permite persistir el modelo completo, con su arquitectura, lo que implica que no es necesario instanciarlo previamente, cuando se carga con la función ````torch.load()```."
   ]
  },
  {
   "cell_type": "code",
   "execution_count": 176,
   "metadata": {
    "id": "FVAN-dTL33Bi"
   },
   "outputs": [],
   "source": [
    "torch.save(modelo_fashion.cpu(), 'modelo_fashion.pth')"
   ]
  },
  {
   "cell_type": "code",
   "execution_count": 178,
   "metadata": {
    "colab": {
     "base_uri": "https://localhost:8080/"
    },
    "id": "YLf1Rvty33Bi",
    "outputId": "38bb1414-b8ef-4ebb-cd32-9ab3c3c8e928"
   },
   "outputs": [
    {
     "name": "stdout",
     "output_type": "stream",
     "text": [
      "Pesos del nuevo modelo con parámetros entrenados cargados\n",
      "Primer filtro de la primera capa tensor([[ 0.2698, -0.3914, -0.3539],\n",
      "        [ 0.4247, -0.4083,  0.1113],\n",
      "        [ 0.4133, -0.3341,  0.3928]], device='cuda:0',\n",
      "       grad_fn=<SelectBackward0>)\n",
      "Predicciones aleatorias tensor([9, 9, 9], device='cuda:0')\n"
     ]
    }
   ],
   "source": [
    "modelo_fashion3 = torch.load('modelo_fashion.pth')\n",
    "modelo_fashion3 = modelo_fashion3.to(DEVICE)\n",
    "modelo_fashion3.eval()\n",
    "print(f\"Pesos del nuevo modelo con parámetros entrenados cargados\")\n",
    "print(f\"Primer filtro de la primera capa {modelo_fashion3.get_parameter('conv.0.weight')[0, 0]}\") # primer filtro convolucional de la primera capa convolucional\n",
    "pred = modelo_fashion3(botines)\n",
    "print(f\"Predicciones aleatorias {pred.argmax(1)}\")"
   ]
  },
  {
   "cell_type": "markdown",
   "metadata": {
    "id": "kBJa5IP333Bi"
   },
   "source": [
    "Ahora que ya sabemos grabar y cargar modelos, es posible modificar la función con el ciclo de entrenamiento, de tal manera que guardemos **checkpoints** del modelo cuando se mejore la pérdida del validation set."
   ]
  },
  {
   "cell_type": "code",
   "execution_count": 2,
   "metadata": {
    "id": "in11kaL933Bj"
   },
   "outputs": [],
   "source": [
    "def train_model(modelo, train_dataset, train_batch_size=128, learning_rate = 1e-3, epocas=30, val_split=0, verbose=False):\n",
    "    \"\"\"Se encarga de realizar el ciclo de épocas de entrenamiento.\n",
    "\n",
    "    :modelo:\n",
    "        instancia creada del modelo a entrenar\n",
    "    :train_dataset:\n",
    "        instancia de Dataset con los datos de entrenamiento\n",
    "    :train_batch_size:\n",
    "        tamaño del batch size de entrenamiento\n",
    "    :learning_rate:\n",
    "        learning rate del optimizador.\n",
    "    :epocas:\n",
    "        número de iteraciones de entrenamiento sobre el dataset completo\n",
    "    :val_split:\n",
    "        porcentaje del dataset de entrenamiento dedicado a la validación, su valor será limitado al intervalo [0 (sin validación), 0.5]\n",
    "    :verbose:\n",
    "        indica si se quiere imprimr el avance del proceso o no\n",
    "    :returns:\n",
    "        el modelo entrenado y 4 arrays con los valores de losses y accuracies del training dataset, y los losses y accuracies del val set después de cada época\n",
    "    \"\"\"\n",
    "\n",
    "    reset_seed()\n",
    "\n",
    "    # Gestión de los loaders de training y validation\n",
    "    if val_split > 0.5:\n",
    "        val_split=0.5\n",
    "\n",
    "    if val_split < 0:\n",
    "        val_split=0\n",
    "\n",
    "    if val_split > 0:\n",
    "        num_training_instances = int(train_dataset.data.shape[0]*(1-val_split))\n",
    "        num_validation_instances = int(train_dataset.data.shape[0]*val_split)\n",
    "        print(f\"val_split: {val_split}, num_training_instances {num_training_instances}, num_validation_instances {num_validation_instances}\")\n",
    "        training_subset, validation_subset = torch.utils.data.random_split(\n",
    "            train_dataset, [num_training_instances, num_validation_instances])\n",
    "    \n",
    "        train_loader = torch.utils.data.DataLoader(\n",
    "            training_subset, batch_size=train_batch_size, shuffle=True, num_workers=2)\n",
    "        validation_loader = torch.utils.data.DataLoader(\n",
    "            validation_subset, batch_size=1024, num_workers=2)\n",
    "        \n",
    "    else : \n",
    "        train_loader = torch.utils.data.DataLoader(\n",
    "            train_dataset, batch_size=train_batch_size, shuffle=True, num_workers=2)\n",
    "\n",
    "\n",
    "    # Se crea el modelo y optimizador\n",
    "    modelo = modelo.to(DEVICE) # situar el modelo en el dispositivo de procesamiento\n",
    "    loss_fn = nn.CrossEntropyLoss()\n",
    "    optimizer = torch.optim.Adam(modelo.parameters(), lr=learning_rate)\n",
    "\n",
    "    # Creamos vectores donde almacenaremos los losses y métricas después de cada época\n",
    "    train_losses = [0] * epocas\n",
    "    train_accuracies = [0] * epocas\n",
    "    val_losses = [0] * epocas\n",
    "    val_accuracies = [0] * epocas\n",
    "\n",
    "    min_loss = np.Inf\n",
    "\n",
    "    for epoca in range(epocas):\n",
    "        epoca_start_time = time.time()\n",
    "        modelo.train()\n",
    "        for batch_features, batch_labels in train_loader:\n",
    "            # Nos aseguramos que los inputs del modelo estén en el mismo dispositivo\n",
    "            batch_features = batch_features.to(DEVICE)\n",
    "            batch_labels = batch_labels.to(DEVICE)\n",
    "            # Generar las predicciones\n",
    "            batch_preds = modelo(batch_features)\n",
    "            # Comparar con las realidades a partir del loss function\n",
    "            loss = loss_fn(batch_preds, batch_labels)\n",
    "            # Calcular los gradientes de la función de pérdida\n",
    "            loss.backward()\n",
    "            # Actualizar parámetros con los gradientes\n",
    "            optimizer.step()\n",
    "            # Resetear los gradientes para no reacumularlos\n",
    "            optimizer.zero_grad()\n",
    "            # se acumulan los losses de la epoca (ponderados por el tamaño del batch)\n",
    "            train_losses[epoca] += loss.item() * batch_labels.size(0)\n",
    "            # se acumulan las predicciones correctas de la epoca\n",
    "            correctos = (batch_preds.argmax(1) == batch_labels)\n",
    "            train_accuracies[epoca] += correctos.type(torch.float).sum().item() \n",
    "\n",
    "        # se normalizan el loss y el accuracy del training set\n",
    "        train_losses[epoca] /= len(train_loader.dataset)\n",
    "        train_accuracies[epoca] /= len(train_loader.dataset)\n",
    "        \n",
    "        if val_split > 0:\n",
    "            # se desactiva la diferenciación automática para la inferencia sobre el val set\n",
    "            modelo.eval()\n",
    "            with torch.no_grad():\n",
    "                for batch_features, batch_labels in validation_loader:\n",
    "                    # Nos aseguramos que los inputs del modelo estén en el mismo dispositivo\n",
    "                    batch_features = batch_features.to(DEVICE)\n",
    "                    batch_labels = batch_labels.to(DEVICE)\n",
    "                    # Generar las predicciones\n",
    "                    batch_preds = modelo(batch_features)\n",
    "                    # Comparar con las realidades a partir del loss function\n",
    "                    loss = loss_fn(batch_preds, batch_labels)\n",
    "                    # se acumulan los losses de la epoca (ponderados por el tamaño del batch)\n",
    "                    val_losses[epoca] += loss.item() * batch_labels.size(0)\n",
    "                    # se acumulan las predicciones correctas de la epoca\n",
    "                    correctos = (batch_preds.argmax(1) == batch_labels)\n",
    "                    val_accuracies[epoca] += correctos.type(torch.float).sum().item() \n",
    "            # se normalizan el loss y el accuracy del val set\n",
    "            val_losses[epoca] /= len(validation_loader.dataset)\n",
    "            val_accuracies[epoca] /= len(validation_loader.dataset)\n",
    "\n",
    "        epoca_end_time = time.time()\n",
    "        segundos = epoca_end_time - epoca_start_time\n",
    "\n",
    "        if verbose:\n",
    "            if val_split > 0:\n",
    "                print(f\"{epoca}:  loss: {train_losses[epoca]:>7f}, accuracy: {train_accuracies[epoca]:>7f}, val loss: {val_losses[epoca]:>7f}, val accuracy: {val_accuracies[epoca]:>7f}\",\n",
    "                      f\"-- epoch time: {segundos:.2f}\")\n",
    "                \n",
    "                # model checkpoint\n",
    "                if val_losses[epoca] < min_loss:\n",
    "                    torch.save(modelo, \"best_model.pth\")\n",
    "                    print(f\"Se mejoró el loss de {min_loss} a {val_losses[epoca]}\")\n",
    "                    min_loss = val_losses[epoca]\n",
    "\n",
    "\n",
    "            else:\n",
    "                print(f\"{epoca}:  loss: {train_losses[epoca]:>7f}, accuracy: {train_accuracies[epoca]:>7f}\",\n",
    "                      f\"-- epoch time: {segundos:.2f}\")\n",
    "\n",
    "                # model checkpoint\n",
    "                if train_losses[epoca] < min_loss:\n",
    "                    torch.save(modelo, \"best_model.pth\")\n",
    "                    print(f\"Se mejoró el loss de {min_loss} a {train_losses[epoca]}\")\n",
    "                    min_loss = train_losses[epoca]\n",
    "\n",
    "    if val_split > 0:     \n",
    "        return modelo, train_losses, train_accuracies, val_losses, val_accuracies\n",
    "    else:\n",
    "        return modelo, train_losses, train_accuracies"
   ]
  },
  {
   "cell_type": "code",
   "execution_count": 3,
   "metadata": {
    "colab": {
     "base_uri": "https://localhost:8080/"
    },
    "id": "wBLZ0Jbo33Bj",
    "outputId": "04a71954-65e2-4919-c34d-8367f09bb888"
   },
   "outputs": [
    {
     "ename": "NameError",
     "evalue": "name 'ClassifConv2Layers' is not defined",
     "output_type": "error",
     "traceback": [
      "\u001b[1;31m---------------------------------------------------------------------------\u001b[0m",
      "\u001b[1;31mNameError\u001b[0m                                 Traceback (most recent call last)",
      "\u001b[1;32mc:\\Users\\Javier Diaz\\DevProjects\\FAII-PyTorch\\faii-pytorch\\notebooks\\3-convnets.ipynb Cell 134\u001b[0m in \u001b[0;36m<cell line: 1>\u001b[1;34m()\u001b[0m\n\u001b[0;32m      <a href='vscode-notebook-cell:/c%3A/Users/Javier%20Diaz/DevProjects/FAII-PyTorch/faii-pytorch/notebooks/3-convnets.ipynb#Y250sZmlsZQ%3D%3D?line=0'>1</a>\u001b[0m modelo_fashion, train_losses, train_accuracies, val_losses, val_accuracies \u001b[39m=\u001b[39m train_model(\n\u001b[1;32m----> <a href='vscode-notebook-cell:/c%3A/Users/Javier%20Diaz/DevProjects/FAII-PyTorch/faii-pytorch/notebooks/3-convnets.ipynb#Y250sZmlsZQ%3D%3D?line=1'>2</a>\u001b[0m     ClassifConv2Layers(in_channels\u001b[39m=\u001b[39m\u001b[39m1\u001b[39m, num_classes\u001b[39m=\u001b[39m\u001b[39m10\u001b[39m), fashion_train_dataset,\n\u001b[0;32m      <a href='vscode-notebook-cell:/c%3A/Users/Javier%20Diaz/DevProjects/FAII-PyTorch/faii-pytorch/notebooks/3-convnets.ipynb#Y250sZmlsZQ%3D%3D?line=2'>3</a>\u001b[0m     train_batch_size\u001b[39m=\u001b[39m\u001b[39m512\u001b[39m, learning_rate\u001b[39m=\u001b[39m\u001b[39m1e-3\u001b[39m, epocas\u001b[39m=\u001b[39m\u001b[39m3\u001b[39m, val_split\u001b[39m=\u001b[39m\u001b[39m0.1\u001b[39m, verbose\u001b[39m=\u001b[39m\u001b[39mTrue\u001b[39;00m)\n",
      "\u001b[1;31mNameError\u001b[0m: name 'ClassifConv2Layers' is not defined"
     ]
    }
   ],
   "source": [
    "modelo_fashion, train_losses, train_accuracies, val_losses, val_accuracies = train_model(\n",
    "    ClassifConv2Layers(in_channels=1, num_classes=10), fashion_train_dataset,\n",
    "    train_batch_size=512, learning_rate=1e-3, epocas=30, val_split=0.1, verbose=True)"
   ]
  },
  {
   "cell_type": "code",
   "execution_count": null,
   "metadata": {
    "id": "lTLRw_RJ33Bk"
   },
   "outputs": [],
   "source": []
  }
 ],
 "metadata": {
  "accelerator": "GPU",
  "colab": {
   "collapsed_sections": [],
   "name": "3-convnets.ipynb",
   "provenance": []
  },
  "gpuClass": "standard",
  "kernelspec": {
   "display_name": "Python 3 (ipykernel)",
   "language": "python",
   "name": "python3"
  },
  "language_info": {
   "codemirror_mode": {
    "name": "ipython",
    "version": 3
   },
   "file_extension": ".py",
   "mimetype": "text/x-python",
   "name": "python",
   "nbconvert_exporter": "python",
   "pygments_lexer": "ipython3",
   "version": "3.9.13"
  },
  "vscode": {
   "interpreter": {
    "hash": "5ca457c4d5855f91b63b4e3f4f9f155259cb120d23cbf731d35e7103ec65654d"
   }
  },
  "widgets": {
   "application/vnd.jupyter.widget-state+json": {
    "00143ec114fa4e15aecd1d17b4488534": {
     "model_module": "@jupyter-widgets/controls",
     "model_module_version": "1.5.0",
     "model_name": "HTMLModel",
     "state": {
      "_dom_classes": [],
      "_model_module": "@jupyter-widgets/controls",
      "_model_module_version": "1.5.0",
      "_model_name": "HTMLModel",
      "_view_count": null,
      "_view_module": "@jupyter-widgets/controls",
      "_view_module_version": "1.5.0",
      "_view_name": "HTMLView",
      "description": "",
      "description_tooltip": null,
      "layout": "IPY_MODEL_3b01aa6bb6b54be3a27570eb8402a6d8",
      "placeholder": "​",
      "style": "IPY_MODEL_faaa7096a0514cf39ab78a487b4f402e",
      "value": " 5148/5148 [00:00&lt;00:00, 165451.72it/s]"
     }
    },
    "085474b5fefd4dba870b5abf86f4302c": {
     "model_module": "@jupyter-widgets/base",
     "model_module_version": "1.2.0",
     "model_name": "LayoutModel",
     "state": {
      "_model_module": "@jupyter-widgets/base",
      "_model_module_version": "1.2.0",
      "_model_name": "LayoutModel",
      "_view_count": null,
      "_view_module": "@jupyter-widgets/base",
      "_view_module_version": "1.2.0",
      "_view_name": "LayoutView",
      "align_content": null,
      "align_items": null,
      "align_self": null,
      "border": null,
      "bottom": null,
      "display": null,
      "flex": null,
      "flex_flow": null,
      "grid_area": null,
      "grid_auto_columns": null,
      "grid_auto_flow": null,
      "grid_auto_rows": null,
      "grid_column": null,
      "grid_gap": null,
      "grid_row": null,
      "grid_template_areas": null,
      "grid_template_columns": null,
      "grid_template_rows": null,
      "height": null,
      "justify_content": null,
      "justify_items": null,
      "left": null,
      "margin": null,
      "max_height": null,
      "max_width": null,
      "min_height": null,
      "min_width": null,
      "object_fit": null,
      "object_position": null,
      "order": null,
      "overflow": null,
      "overflow_x": null,
      "overflow_y": null,
      "padding": null,
      "right": null,
      "top": null,
      "visibility": null,
      "width": null
     }
    },
    "089d3b660d39435bbf0aae7a2d0ad563": {
     "model_module": "@jupyter-widgets/controls",
     "model_module_version": "1.5.0",
     "model_name": "FloatProgressModel",
     "state": {
      "_dom_classes": [],
      "_model_module": "@jupyter-widgets/controls",
      "_model_module_version": "1.5.0",
      "_model_name": "FloatProgressModel",
      "_view_count": null,
      "_view_module": "@jupyter-widgets/controls",
      "_view_module_version": "1.5.0",
      "_view_name": "ProgressView",
      "bar_style": "success",
      "description": "",
      "description_tooltip": null,
      "layout": "IPY_MODEL_3b26ceb2a5ef440d9cde6a93a6c9eef9",
      "max": 9912422,
      "min": 0,
      "orientation": "horizontal",
      "style": "IPY_MODEL_dacc3cb4c23f459999a14c996014a6c1",
      "value": 9912422
     }
    },
    "10ccb394e09343a49d0d07446b5c7cdf": {
     "model_module": "@jupyter-widgets/controls",
     "model_module_version": "1.5.0",
     "model_name": "FloatProgressModel",
     "state": {
      "_dom_classes": [],
      "_model_module": "@jupyter-widgets/controls",
      "_model_module_version": "1.5.0",
      "_model_name": "FloatProgressModel",
      "_view_count": null,
      "_view_module": "@jupyter-widgets/controls",
      "_view_module_version": "1.5.0",
      "_view_name": "ProgressView",
      "bar_style": "success",
      "description": "",
      "description_tooltip": null,
      "layout": "IPY_MODEL_9dece3cb77ae46e5a90dd2bcded0957e",
      "max": 1648877,
      "min": 0,
      "orientation": "horizontal",
      "style": "IPY_MODEL_2c101587739244c2a1b7736d053e59ef",
      "value": 1648877
     }
    },
    "11855554205846cc9bfc9d2e8a49e15d": {
     "model_module": "@jupyter-widgets/controls",
     "model_module_version": "1.5.0",
     "model_name": "HTMLModel",
     "state": {
      "_dom_classes": [],
      "_model_module": "@jupyter-widgets/controls",
      "_model_module_version": "1.5.0",
      "_model_name": "HTMLModel",
      "_view_count": null,
      "_view_module": "@jupyter-widgets/controls",
      "_view_module_version": "1.5.0",
      "_view_name": "HTMLView",
      "description": "",
      "description_tooltip": null,
      "layout": "IPY_MODEL_699a3b063e2849afba5b938d2a2db87b",
      "placeholder": "​",
      "style": "IPY_MODEL_3b36411b5549418aab98c542fafdf97d",
      "value": " 9912422/9912422 [00:00&lt;00:00, 162572775.22it/s]"
     }
    },
    "131e9bd7811d483caf4e1bae8454aad3": {
     "model_module": "@jupyter-widgets/controls",
     "model_module_version": "1.5.0",
     "model_name": "HTMLModel",
     "state": {
      "_dom_classes": [],
      "_model_module": "@jupyter-widgets/controls",
      "_model_module_version": "1.5.0",
      "_model_name": "HTMLModel",
      "_view_count": null,
      "_view_module": "@jupyter-widgets/controls",
      "_view_module_version": "1.5.0",
      "_view_name": "HTMLView",
      "description": "",
      "description_tooltip": null,
      "layout": "IPY_MODEL_13b38b4ce2e44cfaaecdd194b90c9353",
      "placeholder": "​",
      "style": "IPY_MODEL_adf343126b77485d8abef33dca775b24",
      "value": " 1648877/1648877 [00:00&lt;00:00, 35670989.25it/s]"
     }
    },
    "13b38b4ce2e44cfaaecdd194b90c9353": {
     "model_module": "@jupyter-widgets/base",
     "model_module_version": "1.2.0",
     "model_name": "LayoutModel",
     "state": {
      "_model_module": "@jupyter-widgets/base",
      "_model_module_version": "1.2.0",
      "_model_name": "LayoutModel",
      "_view_count": null,
      "_view_module": "@jupyter-widgets/base",
      "_view_module_version": "1.2.0",
      "_view_name": "LayoutView",
      "align_content": null,
      "align_items": null,
      "align_self": null,
      "border": null,
      "bottom": null,
      "display": null,
      "flex": null,
      "flex_flow": null,
      "grid_area": null,
      "grid_auto_columns": null,
      "grid_auto_flow": null,
      "grid_auto_rows": null,
      "grid_column": null,
      "grid_gap": null,
      "grid_row": null,
      "grid_template_areas": null,
      "grid_template_columns": null,
      "grid_template_rows": null,
      "height": null,
      "justify_content": null,
      "justify_items": null,
      "left": null,
      "margin": null,
      "max_height": null,
      "max_width": null,
      "min_height": null,
      "min_width": null,
      "object_fit": null,
      "object_position": null,
      "order": null,
      "overflow": null,
      "overflow_x": null,
      "overflow_y": null,
      "padding": null,
      "right": null,
      "top": null,
      "visibility": null,
      "width": null
     }
    },
    "1adca6bce44b4d778a03de8cbfd90b80": {
     "model_module": "@jupyter-widgets/base",
     "model_module_version": "1.2.0",
     "model_name": "LayoutModel",
     "state": {
      "_model_module": "@jupyter-widgets/base",
      "_model_module_version": "1.2.0",
      "_model_name": "LayoutModel",
      "_view_count": null,
      "_view_module": "@jupyter-widgets/base",
      "_view_module_version": "1.2.0",
      "_view_name": "LayoutView",
      "align_content": null,
      "align_items": null,
      "align_self": null,
      "border": null,
      "bottom": null,
      "display": null,
      "flex": null,
      "flex_flow": null,
      "grid_area": null,
      "grid_auto_columns": null,
      "grid_auto_flow": null,
      "grid_auto_rows": null,
      "grid_column": null,
      "grid_gap": null,
      "grid_row": null,
      "grid_template_areas": null,
      "grid_template_columns": null,
      "grid_template_rows": null,
      "height": null,
      "justify_content": null,
      "justify_items": null,
      "left": null,
      "margin": null,
      "max_height": null,
      "max_width": null,
      "min_height": null,
      "min_width": null,
      "object_fit": null,
      "object_position": null,
      "order": null,
      "overflow": null,
      "overflow_x": null,
      "overflow_y": null,
      "padding": null,
      "right": null,
      "top": null,
      "visibility": null,
      "width": null
     }
    },
    "1e4223c9391443b0b2b1a1126bf1a78d": {
     "model_module": "@jupyter-widgets/base",
     "model_module_version": "1.2.0",
     "model_name": "LayoutModel",
     "state": {
      "_model_module": "@jupyter-widgets/base",
      "_model_module_version": "1.2.0",
      "_model_name": "LayoutModel",
      "_view_count": null,
      "_view_module": "@jupyter-widgets/base",
      "_view_module_version": "1.2.0",
      "_view_name": "LayoutView",
      "align_content": null,
      "align_items": null,
      "align_self": null,
      "border": null,
      "bottom": null,
      "display": null,
      "flex": null,
      "flex_flow": null,
      "grid_area": null,
      "grid_auto_columns": null,
      "grid_auto_flow": null,
      "grid_auto_rows": null,
      "grid_column": null,
      "grid_gap": null,
      "grid_row": null,
      "grid_template_areas": null,
      "grid_template_columns": null,
      "grid_template_rows": null,
      "height": null,
      "justify_content": null,
      "justify_items": null,
      "left": null,
      "margin": null,
      "max_height": null,
      "max_width": null,
      "min_height": null,
      "min_width": null,
      "object_fit": null,
      "object_position": null,
      "order": null,
      "overflow": null,
      "overflow_x": null,
      "overflow_y": null,
      "padding": null,
      "right": null,
      "top": null,
      "visibility": null,
      "width": null
     }
    },
    "217d918d232a4cc79deb798d5e74f16b": {
     "model_module": "@jupyter-widgets/controls",
     "model_module_version": "1.5.0",
     "model_name": "HTMLModel",
     "state": {
      "_dom_classes": [],
      "_model_module": "@jupyter-widgets/controls",
      "_model_module_version": "1.5.0",
      "_model_name": "HTMLModel",
      "_view_count": null,
      "_view_module": "@jupyter-widgets/controls",
      "_view_module_version": "1.5.0",
      "_view_name": "HTMLView",
      "description": "",
      "description_tooltip": null,
      "layout": "IPY_MODEL_9b45711ca1e547a2b32b7b80527c0259",
      "placeholder": "​",
      "style": "IPY_MODEL_317232b16949462bb2606eb363ce4cc5",
      "value": " 4422102/4422102 [00:01&lt;00:00, 4403847.57it/s]"
     }
    },
    "21b02e20386b4b0385750b7b56050f54": {
     "model_module": "@jupyter-widgets/controls",
     "model_module_version": "1.5.0",
     "model_name": "ProgressStyleModel",
     "state": {
      "_model_module": "@jupyter-widgets/controls",
      "_model_module_version": "1.5.0",
      "_model_name": "ProgressStyleModel",
      "_view_count": null,
      "_view_module": "@jupyter-widgets/base",
      "_view_module_version": "1.2.0",
      "_view_name": "StyleView",
      "bar_color": null,
      "description_width": ""
     }
    },
    "231c24398f124122991f4091ae898b3c": {
     "model_module": "@jupyter-widgets/controls",
     "model_module_version": "1.5.0",
     "model_name": "DescriptionStyleModel",
     "state": {
      "_model_module": "@jupyter-widgets/controls",
      "_model_module_version": "1.5.0",
      "_model_name": "DescriptionStyleModel",
      "_view_count": null,
      "_view_module": "@jupyter-widgets/base",
      "_view_module_version": "1.2.0",
      "_view_name": "StyleView",
      "description_width": ""
     }
    },
    "2c101587739244c2a1b7736d053e59ef": {
     "model_module": "@jupyter-widgets/controls",
     "model_module_version": "1.5.0",
     "model_name": "ProgressStyleModel",
     "state": {
      "_model_module": "@jupyter-widgets/controls",
      "_model_module_version": "1.5.0",
      "_model_name": "ProgressStyleModel",
      "_view_count": null,
      "_view_module": "@jupyter-widgets/base",
      "_view_module_version": "1.2.0",
      "_view_name": "StyleView",
      "bar_color": null,
      "description_width": ""
     }
    },
    "2f6b4b1c49284f4fa75e8e90c2e12232": {
     "model_module": "@jupyter-widgets/base",
     "model_module_version": "1.2.0",
     "model_name": "LayoutModel",
     "state": {
      "_model_module": "@jupyter-widgets/base",
      "_model_module_version": "1.2.0",
      "_model_name": "LayoutModel",
      "_view_count": null,
      "_view_module": "@jupyter-widgets/base",
      "_view_module_version": "1.2.0",
      "_view_name": "LayoutView",
      "align_content": null,
      "align_items": null,
      "align_self": null,
      "border": null,
      "bottom": null,
      "display": null,
      "flex": null,
      "flex_flow": null,
      "grid_area": null,
      "grid_auto_columns": null,
      "grid_auto_flow": null,
      "grid_auto_rows": null,
      "grid_column": null,
      "grid_gap": null,
      "grid_row": null,
      "grid_template_areas": null,
      "grid_template_columns": null,
      "grid_template_rows": null,
      "height": null,
      "justify_content": null,
      "justify_items": null,
      "left": null,
      "margin": null,
      "max_height": null,
      "max_width": null,
      "min_height": null,
      "min_width": null,
      "object_fit": null,
      "object_position": null,
      "order": null,
      "overflow": null,
      "overflow_x": null,
      "overflow_y": null,
      "padding": null,
      "right": null,
      "top": null,
      "visibility": null,
      "width": null
     }
    },
    "317232b16949462bb2606eb363ce4cc5": {
     "model_module": "@jupyter-widgets/controls",
     "model_module_version": "1.5.0",
     "model_name": "DescriptionStyleModel",
     "state": {
      "_model_module": "@jupyter-widgets/controls",
      "_model_module_version": "1.5.0",
      "_model_name": "DescriptionStyleModel",
      "_view_count": null,
      "_view_module": "@jupyter-widgets/base",
      "_view_module_version": "1.2.0",
      "_view_name": "StyleView",
      "description_width": ""
     }
    },
    "36498faa0ed742a0833df00b6d8991e4": {
     "model_module": "@jupyter-widgets/controls",
     "model_module_version": "1.5.0",
     "model_name": "FloatProgressModel",
     "state": {
      "_dom_classes": [],
      "_model_module": "@jupyter-widgets/controls",
      "_model_module_version": "1.5.0",
      "_model_name": "FloatProgressModel",
      "_view_count": null,
      "_view_module": "@jupyter-widgets/controls",
      "_view_module_version": "1.5.0",
      "_view_name": "ProgressView",
      "bar_style": "success",
      "description": "",
      "description_tooltip": null,
      "layout": "IPY_MODEL_c44e2384037642e680c808137bc3e150",
      "max": 4422102,
      "min": 0,
      "orientation": "horizontal",
      "style": "IPY_MODEL_64f90671765c4b76a4199a6e5fcaf43d",
      "value": 4422102
     }
    },
    "3b01aa6bb6b54be3a27570eb8402a6d8": {
     "model_module": "@jupyter-widgets/base",
     "model_module_version": "1.2.0",
     "model_name": "LayoutModel",
     "state": {
      "_model_module": "@jupyter-widgets/base",
      "_model_module_version": "1.2.0",
      "_model_name": "LayoutModel",
      "_view_count": null,
      "_view_module": "@jupyter-widgets/base",
      "_view_module_version": "1.2.0",
      "_view_name": "LayoutView",
      "align_content": null,
      "align_items": null,
      "align_self": null,
      "border": null,
      "bottom": null,
      "display": null,
      "flex": null,
      "flex_flow": null,
      "grid_area": null,
      "grid_auto_columns": null,
      "grid_auto_flow": null,
      "grid_auto_rows": null,
      "grid_column": null,
      "grid_gap": null,
      "grid_row": null,
      "grid_template_areas": null,
      "grid_template_columns": null,
      "grid_template_rows": null,
      "height": null,
      "justify_content": null,
      "justify_items": null,
      "left": null,
      "margin": null,
      "max_height": null,
      "max_width": null,
      "min_height": null,
      "min_width": null,
      "object_fit": null,
      "object_position": null,
      "order": null,
      "overflow": null,
      "overflow_x": null,
      "overflow_y": null,
      "padding": null,
      "right": null,
      "top": null,
      "visibility": null,
      "width": null
     }
    },
    "3b26ceb2a5ef440d9cde6a93a6c9eef9": {
     "model_module": "@jupyter-widgets/base",
     "model_module_version": "1.2.0",
     "model_name": "LayoutModel",
     "state": {
      "_model_module": "@jupyter-widgets/base",
      "_model_module_version": "1.2.0",
      "_model_name": "LayoutModel",
      "_view_count": null,
      "_view_module": "@jupyter-widgets/base",
      "_view_module_version": "1.2.0",
      "_view_name": "LayoutView",
      "align_content": null,
      "align_items": null,
      "align_self": null,
      "border": null,
      "bottom": null,
      "display": null,
      "flex": null,
      "flex_flow": null,
      "grid_area": null,
      "grid_auto_columns": null,
      "grid_auto_flow": null,
      "grid_auto_rows": null,
      "grid_column": null,
      "grid_gap": null,
      "grid_row": null,
      "grid_template_areas": null,
      "grid_template_columns": null,
      "grid_template_rows": null,
      "height": null,
      "justify_content": null,
      "justify_items": null,
      "left": null,
      "margin": null,
      "max_height": null,
      "max_width": null,
      "min_height": null,
      "min_width": null,
      "object_fit": null,
      "object_position": null,
      "order": null,
      "overflow": null,
      "overflow_x": null,
      "overflow_y": null,
      "padding": null,
      "right": null,
      "top": null,
      "visibility": null,
      "width": null
     }
    },
    "3b36411b5549418aab98c542fafdf97d": {
     "model_module": "@jupyter-widgets/controls",
     "model_module_version": "1.5.0",
     "model_name": "DescriptionStyleModel",
     "state": {
      "_model_module": "@jupyter-widgets/controls",
      "_model_module_version": "1.5.0",
      "_model_name": "DescriptionStyleModel",
      "_view_count": null,
      "_view_module": "@jupyter-widgets/base",
      "_view_module_version": "1.2.0",
      "_view_name": "StyleView",
      "description_width": ""
     }
    },
    "3d0eed7f4a584c789986d1c337dc2fb5": {
     "model_module": "@jupyter-widgets/controls",
     "model_module_version": "1.5.0",
     "model_name": "FloatProgressModel",
     "state": {
      "_dom_classes": [],
      "_model_module": "@jupyter-widgets/controls",
      "_model_module_version": "1.5.0",
      "_model_name": "FloatProgressModel",
      "_view_count": null,
      "_view_module": "@jupyter-widgets/controls",
      "_view_module_version": "1.5.0",
      "_view_name": "ProgressView",
      "bar_style": "success",
      "description": "",
      "description_tooltip": null,
      "layout": "IPY_MODEL_4b621c1abe27404c816cb699b83f6ff1",
      "max": 29515,
      "min": 0,
      "orientation": "horizontal",
      "style": "IPY_MODEL_21b02e20386b4b0385750b7b56050f54",
      "value": 29515
     }
    },
    "3dcd84ea7d9d474093dc913d7a3f18c7": {
     "model_module": "@jupyter-widgets/controls",
     "model_module_version": "1.5.0",
     "model_name": "HTMLModel",
     "state": {
      "_dom_classes": [],
      "_model_module": "@jupyter-widgets/controls",
      "_model_module_version": "1.5.0",
      "_model_name": "HTMLModel",
      "_view_count": null,
      "_view_module": "@jupyter-widgets/controls",
      "_view_module_version": "1.5.0",
      "_view_name": "HTMLView",
      "description": "",
      "description_tooltip": null,
      "layout": "IPY_MODEL_907d8929ae8b4f05b23110b8280c905c",
      "placeholder": "​",
      "style": "IPY_MODEL_acf71cf2086e4008a067623cc12101da",
      "value": "100%"
     }
    },
    "3e24c785ed2c402a80ce626ebdaf1ea7": {
     "model_module": "@jupyter-widgets/controls",
     "model_module_version": "1.5.0",
     "model_name": "FloatProgressModel",
     "state": {
      "_dom_classes": [],
      "_model_module": "@jupyter-widgets/controls",
      "_model_module_version": "1.5.0",
      "_model_name": "FloatProgressModel",
      "_view_count": null,
      "_view_module": "@jupyter-widgets/controls",
      "_view_module_version": "1.5.0",
      "_view_name": "ProgressView",
      "bar_style": "success",
      "description": "",
      "description_tooltip": null,
      "layout": "IPY_MODEL_653139fa43d34a04b5782d8b3d6e9d8a",
      "max": 4542,
      "min": 0,
      "orientation": "horizontal",
      "style": "IPY_MODEL_6b5fdd30df14490e92459813855b97e7",
      "value": 4542
     }
    },
    "40e46331edc3481fb2c4bfbe49b10457": {
     "model_module": "@jupyter-widgets/base",
     "model_module_version": "1.2.0",
     "model_name": "LayoutModel",
     "state": {
      "_model_module": "@jupyter-widgets/base",
      "_model_module_version": "1.2.0",
      "_model_name": "LayoutModel",
      "_view_count": null,
      "_view_module": "@jupyter-widgets/base",
      "_view_module_version": "1.2.0",
      "_view_name": "LayoutView",
      "align_content": null,
      "align_items": null,
      "align_self": null,
      "border": null,
      "bottom": null,
      "display": null,
      "flex": null,
      "flex_flow": null,
      "grid_area": null,
      "grid_auto_columns": null,
      "grid_auto_flow": null,
      "grid_auto_rows": null,
      "grid_column": null,
      "grid_gap": null,
      "grid_row": null,
      "grid_template_areas": null,
      "grid_template_columns": null,
      "grid_template_rows": null,
      "height": null,
      "justify_content": null,
      "justify_items": null,
      "left": null,
      "margin": null,
      "max_height": null,
      "max_width": null,
      "min_height": null,
      "min_width": null,
      "object_fit": null,
      "object_position": null,
      "order": null,
      "overflow": null,
      "overflow_x": null,
      "overflow_y": null,
      "padding": null,
      "right": null,
      "top": null,
      "visibility": null,
      "width": null
     }
    },
    "44310874ffa74fdaaf1a55af03490836": {
     "model_module": "@jupyter-widgets/controls",
     "model_module_version": "1.5.0",
     "model_name": "HTMLModel",
     "state": {
      "_dom_classes": [],
      "_model_module": "@jupyter-widgets/controls",
      "_model_module_version": "1.5.0",
      "_model_name": "HTMLModel",
      "_view_count": null,
      "_view_module": "@jupyter-widgets/controls",
      "_view_module_version": "1.5.0",
      "_view_name": "HTMLView",
      "description": "",
      "description_tooltip": null,
      "layout": "IPY_MODEL_9a693af4254d435fa3d46b0b53805748",
      "placeholder": "​",
      "style": "IPY_MODEL_c900d8c73a9b457b9d6732b81f1ef919",
      "value": " 26421880/26421880 [00:03&lt;00:00, 12670824.92it/s]"
     }
    },
    "44afc71ba8d34cd98a2bdbe5c27a8456": {
     "model_module": "@jupyter-widgets/controls",
     "model_module_version": "1.5.0",
     "model_name": "HBoxModel",
     "state": {
      "_dom_classes": [],
      "_model_module": "@jupyter-widgets/controls",
      "_model_module_version": "1.5.0",
      "_model_name": "HBoxModel",
      "_view_count": null,
      "_view_module": "@jupyter-widgets/controls",
      "_view_module_version": "1.5.0",
      "_view_name": "HBoxView",
      "box_style": "",
      "children": [
       "IPY_MODEL_72f992cdbb2146269399114fc9e1b02c",
       "IPY_MODEL_51d59df802464c4ea66788dde9525705",
       "IPY_MODEL_44310874ffa74fdaaf1a55af03490836"
      ],
      "layout": "IPY_MODEL_4ff5752a421c43d2b261a49ecb943022"
     }
    },
    "461f1b5b307f469baf59739542f2b372": {
     "model_module": "@jupyter-widgets/controls",
     "model_module_version": "1.5.0",
     "model_name": "HBoxModel",
     "state": {
      "_dom_classes": [],
      "_model_module": "@jupyter-widgets/controls",
      "_model_module_version": "1.5.0",
      "_model_name": "HBoxModel",
      "_view_count": null,
      "_view_module": "@jupyter-widgets/controls",
      "_view_module_version": "1.5.0",
      "_view_name": "HBoxView",
      "box_style": "",
      "children": [
       "IPY_MODEL_8eb2bf05b3b14c3295ac77379b48ff63",
       "IPY_MODEL_3e24c785ed2c402a80ce626ebdaf1ea7",
       "IPY_MODEL_b21d0aeb6c4d4dd0957799e0c88f2a70"
      ],
      "layout": "IPY_MODEL_c65a0fb8ac9b42dfa8f1dc5c760461c3"
     }
    },
    "4971b2d0eff04a1a98bd4850040573fc": {
     "model_module": "@jupyter-widgets/base",
     "model_module_version": "1.2.0",
     "model_name": "LayoutModel",
     "state": {
      "_model_module": "@jupyter-widgets/base",
      "_model_module_version": "1.2.0",
      "_model_name": "LayoutModel",
      "_view_count": null,
      "_view_module": "@jupyter-widgets/base",
      "_view_module_version": "1.2.0",
      "_view_name": "LayoutView",
      "align_content": null,
      "align_items": null,
      "align_self": null,
      "border": null,
      "bottom": null,
      "display": null,
      "flex": null,
      "flex_flow": null,
      "grid_area": null,
      "grid_auto_columns": null,
      "grid_auto_flow": null,
      "grid_auto_rows": null,
      "grid_column": null,
      "grid_gap": null,
      "grid_row": null,
      "grid_template_areas": null,
      "grid_template_columns": null,
      "grid_template_rows": null,
      "height": null,
      "justify_content": null,
      "justify_items": null,
      "left": null,
      "margin": null,
      "max_height": null,
      "max_width": null,
      "min_height": null,
      "min_width": null,
      "object_fit": null,
      "object_position": null,
      "order": null,
      "overflow": null,
      "overflow_x": null,
      "overflow_y": null,
      "padding": null,
      "right": null,
      "top": null,
      "visibility": null,
      "width": null
     }
    },
    "4b621c1abe27404c816cb699b83f6ff1": {
     "model_module": "@jupyter-widgets/base",
     "model_module_version": "1.2.0",
     "model_name": "LayoutModel",
     "state": {
      "_model_module": "@jupyter-widgets/base",
      "_model_module_version": "1.2.0",
      "_model_name": "LayoutModel",
      "_view_count": null,
      "_view_module": "@jupyter-widgets/base",
      "_view_module_version": "1.2.0",
      "_view_name": "LayoutView",
      "align_content": null,
      "align_items": null,
      "align_self": null,
      "border": null,
      "bottom": null,
      "display": null,
      "flex": null,
      "flex_flow": null,
      "grid_area": null,
      "grid_auto_columns": null,
      "grid_auto_flow": null,
      "grid_auto_rows": null,
      "grid_column": null,
      "grid_gap": null,
      "grid_row": null,
      "grid_template_areas": null,
      "grid_template_columns": null,
      "grid_template_rows": null,
      "height": null,
      "justify_content": null,
      "justify_items": null,
      "left": null,
      "margin": null,
      "max_height": null,
      "max_width": null,
      "min_height": null,
      "min_width": null,
      "object_fit": null,
      "object_position": null,
      "order": null,
      "overflow": null,
      "overflow_x": null,
      "overflow_y": null,
      "padding": null,
      "right": null,
      "top": null,
      "visibility": null,
      "width": null
     }
    },
    "4cbd5dee4dc74d75b39acf5a43bdda05": {
     "model_module": "@jupyter-widgets/controls",
     "model_module_version": "1.5.0",
     "model_name": "FloatProgressModel",
     "state": {
      "_dom_classes": [],
      "_model_module": "@jupyter-widgets/controls",
      "_model_module_version": "1.5.0",
      "_model_name": "FloatProgressModel",
      "_view_count": null,
      "_view_module": "@jupyter-widgets/controls",
      "_view_module_version": "1.5.0",
      "_view_name": "ProgressView",
      "bar_style": "success",
      "description": "",
      "description_tooltip": null,
      "layout": "IPY_MODEL_965ed30c2d1f4cdeacdec489cb8a1638",
      "max": 28881,
      "min": 0,
      "orientation": "horizontal",
      "style": "IPY_MODEL_abf85935ec874ff089dccf3b08bcc876",
      "value": 28881
     }
    },
    "4ff5752a421c43d2b261a49ecb943022": {
     "model_module": "@jupyter-widgets/base",
     "model_module_version": "1.2.0",
     "model_name": "LayoutModel",
     "state": {
      "_model_module": "@jupyter-widgets/base",
      "_model_module_version": "1.2.0",
      "_model_name": "LayoutModel",
      "_view_count": null,
      "_view_module": "@jupyter-widgets/base",
      "_view_module_version": "1.2.0",
      "_view_name": "LayoutView",
      "align_content": null,
      "align_items": null,
      "align_self": null,
      "border": null,
      "bottom": null,
      "display": null,
      "flex": null,
      "flex_flow": null,
      "grid_area": null,
      "grid_auto_columns": null,
      "grid_auto_flow": null,
      "grid_auto_rows": null,
      "grid_column": null,
      "grid_gap": null,
      "grid_row": null,
      "grid_template_areas": null,
      "grid_template_columns": null,
      "grid_template_rows": null,
      "height": null,
      "justify_content": null,
      "justify_items": null,
      "left": null,
      "margin": null,
      "max_height": null,
      "max_width": null,
      "min_height": null,
      "min_width": null,
      "object_fit": null,
      "object_position": null,
      "order": null,
      "overflow": null,
      "overflow_x": null,
      "overflow_y": null,
      "padding": null,
      "right": null,
      "top": null,
      "visibility": null,
      "width": null
     }
    },
    "51d59df802464c4ea66788dde9525705": {
     "model_module": "@jupyter-widgets/controls",
     "model_module_version": "1.5.0",
     "model_name": "FloatProgressModel",
     "state": {
      "_dom_classes": [],
      "_model_module": "@jupyter-widgets/controls",
      "_model_module_version": "1.5.0",
      "_model_name": "FloatProgressModel",
      "_view_count": null,
      "_view_module": "@jupyter-widgets/controls",
      "_view_module_version": "1.5.0",
      "_view_name": "ProgressView",
      "bar_style": "success",
      "description": "",
      "description_tooltip": null,
      "layout": "IPY_MODEL_2f6b4b1c49284f4fa75e8e90c2e12232",
      "max": 26421880,
      "min": 0,
      "orientation": "horizontal",
      "style": "IPY_MODEL_689d0d7020a94f20b1c13ddd8802e736",
      "value": 26421880
     }
    },
    "52eb5f4cae674cb5bd3952810c33dd0d": {
     "model_module": "@jupyter-widgets/controls",
     "model_module_version": "1.5.0",
     "model_name": "HTMLModel",
     "state": {
      "_dom_classes": [],
      "_model_module": "@jupyter-widgets/controls",
      "_model_module_version": "1.5.0",
      "_model_name": "HTMLModel",
      "_view_count": null,
      "_view_module": "@jupyter-widgets/controls",
      "_view_module_version": "1.5.0",
      "_view_name": "HTMLView",
      "description": "",
      "description_tooltip": null,
      "layout": "IPY_MODEL_085474b5fefd4dba870b5abf86f4302c",
      "placeholder": "​",
      "style": "IPY_MODEL_b3e863ef94d04df19a353110c743edda",
      "value": "100%"
     }
    },
    "64f90671765c4b76a4199a6e5fcaf43d": {
     "model_module": "@jupyter-widgets/controls",
     "model_module_version": "1.5.0",
     "model_name": "ProgressStyleModel",
     "state": {
      "_model_module": "@jupyter-widgets/controls",
      "_model_module_version": "1.5.0",
      "_model_name": "ProgressStyleModel",
      "_view_count": null,
      "_view_module": "@jupyter-widgets/base",
      "_view_module_version": "1.2.0",
      "_view_name": "StyleView",
      "bar_color": null,
      "description_width": ""
     }
    },
    "653139fa43d34a04b5782d8b3d6e9d8a": {
     "model_module": "@jupyter-widgets/base",
     "model_module_version": "1.2.0",
     "model_name": "LayoutModel",
     "state": {
      "_model_module": "@jupyter-widgets/base",
      "_model_module_version": "1.2.0",
      "_model_name": "LayoutModel",
      "_view_count": null,
      "_view_module": "@jupyter-widgets/base",
      "_view_module_version": "1.2.0",
      "_view_name": "LayoutView",
      "align_content": null,
      "align_items": null,
      "align_self": null,
      "border": null,
      "bottom": null,
      "display": null,
      "flex": null,
      "flex_flow": null,
      "grid_area": null,
      "grid_auto_columns": null,
      "grid_auto_flow": null,
      "grid_auto_rows": null,
      "grid_column": null,
      "grid_gap": null,
      "grid_row": null,
      "grid_template_areas": null,
      "grid_template_columns": null,
      "grid_template_rows": null,
      "height": null,
      "justify_content": null,
      "justify_items": null,
      "left": null,
      "margin": null,
      "max_height": null,
      "max_width": null,
      "min_height": null,
      "min_width": null,
      "object_fit": null,
      "object_position": null,
      "order": null,
      "overflow": null,
      "overflow_x": null,
      "overflow_y": null,
      "padding": null,
      "right": null,
      "top": null,
      "visibility": null,
      "width": null
     }
    },
    "689d0d7020a94f20b1c13ddd8802e736": {
     "model_module": "@jupyter-widgets/controls",
     "model_module_version": "1.5.0",
     "model_name": "ProgressStyleModel",
     "state": {
      "_model_module": "@jupyter-widgets/controls",
      "_model_module_version": "1.5.0",
      "_model_name": "ProgressStyleModel",
      "_view_count": null,
      "_view_module": "@jupyter-widgets/base",
      "_view_module_version": "1.2.0",
      "_view_name": "StyleView",
      "bar_color": null,
      "description_width": ""
     }
    },
    "699a3b063e2849afba5b938d2a2db87b": {
     "model_module": "@jupyter-widgets/base",
     "model_module_version": "1.2.0",
     "model_name": "LayoutModel",
     "state": {
      "_model_module": "@jupyter-widgets/base",
      "_model_module_version": "1.2.0",
      "_model_name": "LayoutModel",
      "_view_count": null,
      "_view_module": "@jupyter-widgets/base",
      "_view_module_version": "1.2.0",
      "_view_name": "LayoutView",
      "align_content": null,
      "align_items": null,
      "align_self": null,
      "border": null,
      "bottom": null,
      "display": null,
      "flex": null,
      "flex_flow": null,
      "grid_area": null,
      "grid_auto_columns": null,
      "grid_auto_flow": null,
      "grid_auto_rows": null,
      "grid_column": null,
      "grid_gap": null,
      "grid_row": null,
      "grid_template_areas": null,
      "grid_template_columns": null,
      "grid_template_rows": null,
      "height": null,
      "justify_content": null,
      "justify_items": null,
      "left": null,
      "margin": null,
      "max_height": null,
      "max_width": null,
      "min_height": null,
      "min_width": null,
      "object_fit": null,
      "object_position": null,
      "order": null,
      "overflow": null,
      "overflow_x": null,
      "overflow_y": null,
      "padding": null,
      "right": null,
      "top": null,
      "visibility": null,
      "width": null
     }
    },
    "6b5fdd30df14490e92459813855b97e7": {
     "model_module": "@jupyter-widgets/controls",
     "model_module_version": "1.5.0",
     "model_name": "ProgressStyleModel",
     "state": {
      "_model_module": "@jupyter-widgets/controls",
      "_model_module_version": "1.5.0",
      "_model_name": "ProgressStyleModel",
      "_view_count": null,
      "_view_module": "@jupyter-widgets/base",
      "_view_module_version": "1.2.0",
      "_view_name": "StyleView",
      "bar_color": null,
      "description_width": ""
     }
    },
    "72f992cdbb2146269399114fc9e1b02c": {
     "model_module": "@jupyter-widgets/controls",
     "model_module_version": "1.5.0",
     "model_name": "HTMLModel",
     "state": {
      "_dom_classes": [],
      "_model_module": "@jupyter-widgets/controls",
      "_model_module_version": "1.5.0",
      "_model_name": "HTMLModel",
      "_view_count": null,
      "_view_module": "@jupyter-widgets/controls",
      "_view_module_version": "1.5.0",
      "_view_name": "HTMLView",
      "description": "",
      "description_tooltip": null,
      "layout": "IPY_MODEL_1e4223c9391443b0b2b1a1126bf1a78d",
      "placeholder": "​",
      "style": "IPY_MODEL_d96ff505419c487e85d03a30b25158a9",
      "value": "100%"
     }
    },
    "73236bd6bbde402dbb515bfcf72691d3": {
     "model_module": "@jupyter-widgets/base",
     "model_module_version": "1.2.0",
     "model_name": "LayoutModel",
     "state": {
      "_model_module": "@jupyter-widgets/base",
      "_model_module_version": "1.2.0",
      "_model_name": "LayoutModel",
      "_view_count": null,
      "_view_module": "@jupyter-widgets/base",
      "_view_module_version": "1.2.0",
      "_view_name": "LayoutView",
      "align_content": null,
      "align_items": null,
      "align_self": null,
      "border": null,
      "bottom": null,
      "display": null,
      "flex": null,
      "flex_flow": null,
      "grid_area": null,
      "grid_auto_columns": null,
      "grid_auto_flow": null,
      "grid_auto_rows": null,
      "grid_column": null,
      "grid_gap": null,
      "grid_row": null,
      "grid_template_areas": null,
      "grid_template_columns": null,
      "grid_template_rows": null,
      "height": null,
      "justify_content": null,
      "justify_items": null,
      "left": null,
      "margin": null,
      "max_height": null,
      "max_width": null,
      "min_height": null,
      "min_width": null,
      "object_fit": null,
      "object_position": null,
      "order": null,
      "overflow": null,
      "overflow_x": null,
      "overflow_y": null,
      "padding": null,
      "right": null,
      "top": null,
      "visibility": null,
      "width": null
     }
    },
    "7ec9e70ca92f41f5bb8efc52d5fd57f3": {
     "model_module": "@jupyter-widgets/base",
     "model_module_version": "1.2.0",
     "model_name": "LayoutModel",
     "state": {
      "_model_module": "@jupyter-widgets/base",
      "_model_module_version": "1.2.0",
      "_model_name": "LayoutModel",
      "_view_count": null,
      "_view_module": "@jupyter-widgets/base",
      "_view_module_version": "1.2.0",
      "_view_name": "LayoutView",
      "align_content": null,
      "align_items": null,
      "align_self": null,
      "border": null,
      "bottom": null,
      "display": null,
      "flex": null,
      "flex_flow": null,
      "grid_area": null,
      "grid_auto_columns": null,
      "grid_auto_flow": null,
      "grid_auto_rows": null,
      "grid_column": null,
      "grid_gap": null,
      "grid_row": null,
      "grid_template_areas": null,
      "grid_template_columns": null,
      "grid_template_rows": null,
      "height": null,
      "justify_content": null,
      "justify_items": null,
      "left": null,
      "margin": null,
      "max_height": null,
      "max_width": null,
      "min_height": null,
      "min_width": null,
      "object_fit": null,
      "object_position": null,
      "order": null,
      "overflow": null,
      "overflow_x": null,
      "overflow_y": null,
      "padding": null,
      "right": null,
      "top": null,
      "visibility": null,
      "width": null
     }
    },
    "825083854848401fb74011e721854e80": {
     "model_module": "@jupyter-widgets/controls",
     "model_module_version": "1.5.0",
     "model_name": "DescriptionStyleModel",
     "state": {
      "_model_module": "@jupyter-widgets/controls",
      "_model_module_version": "1.5.0",
      "_model_name": "DescriptionStyleModel",
      "_view_count": null,
      "_view_module": "@jupyter-widgets/base",
      "_view_module_version": "1.2.0",
      "_view_name": "StyleView",
      "description_width": ""
     }
    },
    "8412fda92ee340b8ab896d231049a328": {
     "model_module": "@jupyter-widgets/controls",
     "model_module_version": "1.5.0",
     "model_name": "HBoxModel",
     "state": {
      "_dom_classes": [],
      "_model_module": "@jupyter-widgets/controls",
      "_model_module_version": "1.5.0",
      "_model_name": "HBoxModel",
      "_view_count": null,
      "_view_module": "@jupyter-widgets/controls",
      "_view_module_version": "1.5.0",
      "_view_name": "HBoxView",
      "box_style": "",
      "children": [
       "IPY_MODEL_52eb5f4cae674cb5bd3952810c33dd0d",
       "IPY_MODEL_089d3b660d39435bbf0aae7a2d0ad563",
       "IPY_MODEL_11855554205846cc9bfc9d2e8a49e15d"
      ],
      "layout": "IPY_MODEL_842e7950c7b44bc18ce007110f350e8c"
     }
    },
    "842e7950c7b44bc18ce007110f350e8c": {
     "model_module": "@jupyter-widgets/base",
     "model_module_version": "1.2.0",
     "model_name": "LayoutModel",
     "state": {
      "_model_module": "@jupyter-widgets/base",
      "_model_module_version": "1.2.0",
      "_model_name": "LayoutModel",
      "_view_count": null,
      "_view_module": "@jupyter-widgets/base",
      "_view_module_version": "1.2.0",
      "_view_name": "LayoutView",
      "align_content": null,
      "align_items": null,
      "align_self": null,
      "border": null,
      "bottom": null,
      "display": null,
      "flex": null,
      "flex_flow": null,
      "grid_area": null,
      "grid_auto_columns": null,
      "grid_auto_flow": null,
      "grid_auto_rows": null,
      "grid_column": null,
      "grid_gap": null,
      "grid_row": null,
      "grid_template_areas": null,
      "grid_template_columns": null,
      "grid_template_rows": null,
      "height": null,
      "justify_content": null,
      "justify_items": null,
      "left": null,
      "margin": null,
      "max_height": null,
      "max_width": null,
      "min_height": null,
      "min_width": null,
      "object_fit": null,
      "object_position": null,
      "order": null,
      "overflow": null,
      "overflow_x": null,
      "overflow_y": null,
      "padding": null,
      "right": null,
      "top": null,
      "visibility": null,
      "width": null
     }
    },
    "8b9d209165ce44fb9d891d127920e4fa": {
     "model_module": "@jupyter-widgets/base",
     "model_module_version": "1.2.0",
     "model_name": "LayoutModel",
     "state": {
      "_model_module": "@jupyter-widgets/base",
      "_model_module_version": "1.2.0",
      "_model_name": "LayoutModel",
      "_view_count": null,
      "_view_module": "@jupyter-widgets/base",
      "_view_module_version": "1.2.0",
      "_view_name": "LayoutView",
      "align_content": null,
      "align_items": null,
      "align_self": null,
      "border": null,
      "bottom": null,
      "display": null,
      "flex": null,
      "flex_flow": null,
      "grid_area": null,
      "grid_auto_columns": null,
      "grid_auto_flow": null,
      "grid_auto_rows": null,
      "grid_column": null,
      "grid_gap": null,
      "grid_row": null,
      "grid_template_areas": null,
      "grid_template_columns": null,
      "grid_template_rows": null,
      "height": null,
      "justify_content": null,
      "justify_items": null,
      "left": null,
      "margin": null,
      "max_height": null,
      "max_width": null,
      "min_height": null,
      "min_width": null,
      "object_fit": null,
      "object_position": null,
      "order": null,
      "overflow": null,
      "overflow_x": null,
      "overflow_y": null,
      "padding": null,
      "right": null,
      "top": null,
      "visibility": null,
      "width": null
     }
    },
    "8d680dab78fd4e90ab5a736f0ca061cf": {
     "model_module": "@jupyter-widgets/base",
     "model_module_version": "1.2.0",
     "model_name": "LayoutModel",
     "state": {
      "_model_module": "@jupyter-widgets/base",
      "_model_module_version": "1.2.0",
      "_model_name": "LayoutModel",
      "_view_count": null,
      "_view_module": "@jupyter-widgets/base",
      "_view_module_version": "1.2.0",
      "_view_name": "LayoutView",
      "align_content": null,
      "align_items": null,
      "align_self": null,
      "border": null,
      "bottom": null,
      "display": null,
      "flex": null,
      "flex_flow": null,
      "grid_area": null,
      "grid_auto_columns": null,
      "grid_auto_flow": null,
      "grid_auto_rows": null,
      "grid_column": null,
      "grid_gap": null,
      "grid_row": null,
      "grid_template_areas": null,
      "grid_template_columns": null,
      "grid_template_rows": null,
      "height": null,
      "justify_content": null,
      "justify_items": null,
      "left": null,
      "margin": null,
      "max_height": null,
      "max_width": null,
      "min_height": null,
      "min_width": null,
      "object_fit": null,
      "object_position": null,
      "order": null,
      "overflow": null,
      "overflow_x": null,
      "overflow_y": null,
      "padding": null,
      "right": null,
      "top": null,
      "visibility": null,
      "width": null
     }
    },
    "8d8c27ea6ab845c9b90c7784426691f3": {
     "model_module": "@jupyter-widgets/base",
     "model_module_version": "1.2.0",
     "model_name": "LayoutModel",
     "state": {
      "_model_module": "@jupyter-widgets/base",
      "_model_module_version": "1.2.0",
      "_model_name": "LayoutModel",
      "_view_count": null,
      "_view_module": "@jupyter-widgets/base",
      "_view_module_version": "1.2.0",
      "_view_name": "LayoutView",
      "align_content": null,
      "align_items": null,
      "align_self": null,
      "border": null,
      "bottom": null,
      "display": null,
      "flex": null,
      "flex_flow": null,
      "grid_area": null,
      "grid_auto_columns": null,
      "grid_auto_flow": null,
      "grid_auto_rows": null,
      "grid_column": null,
      "grid_gap": null,
      "grid_row": null,
      "grid_template_areas": null,
      "grid_template_columns": null,
      "grid_template_rows": null,
      "height": null,
      "justify_content": null,
      "justify_items": null,
      "left": null,
      "margin": null,
      "max_height": null,
      "max_width": null,
      "min_height": null,
      "min_width": null,
      "object_fit": null,
      "object_position": null,
      "order": null,
      "overflow": null,
      "overflow_x": null,
      "overflow_y": null,
      "padding": null,
      "right": null,
      "top": null,
      "visibility": null,
      "width": null
     }
    },
    "8db24556339b414d99f18e4e25b1682f": {
     "model_module": "@jupyter-widgets/controls",
     "model_module_version": "1.5.0",
     "model_name": "HTMLModel",
     "state": {
      "_dom_classes": [],
      "_model_module": "@jupyter-widgets/controls",
      "_model_module_version": "1.5.0",
      "_model_name": "HTMLModel",
      "_view_count": null,
      "_view_module": "@jupyter-widgets/controls",
      "_view_module_version": "1.5.0",
      "_view_name": "HTMLView",
      "description": "",
      "description_tooltip": null,
      "layout": "IPY_MODEL_e69066e990a645b7b991ab42a19871c6",
      "placeholder": "​",
      "style": "IPY_MODEL_9d6d7ab4df814b95b6c26aead4eee8e4",
      "value": "100%"
     }
    },
    "8eb2bf05b3b14c3295ac77379b48ff63": {
     "model_module": "@jupyter-widgets/controls",
     "model_module_version": "1.5.0",
     "model_name": "HTMLModel",
     "state": {
      "_dom_classes": [],
      "_model_module": "@jupyter-widgets/controls",
      "_model_module_version": "1.5.0",
      "_model_name": "HTMLModel",
      "_view_count": null,
      "_view_module": "@jupyter-widgets/controls",
      "_view_module_version": "1.5.0",
      "_view_name": "HTMLView",
      "description": "",
      "description_tooltip": null,
      "layout": "IPY_MODEL_1adca6bce44b4d778a03de8cbfd90b80",
      "placeholder": "​",
      "style": "IPY_MODEL_ad36cdf769774116b2a6925962508161",
      "value": "100%"
     }
    },
    "907d8929ae8b4f05b23110b8280c905c": {
     "model_module": "@jupyter-widgets/base",
     "model_module_version": "1.2.0",
     "model_name": "LayoutModel",
     "state": {
      "_model_module": "@jupyter-widgets/base",
      "_model_module_version": "1.2.0",
      "_model_name": "LayoutModel",
      "_view_count": null,
      "_view_module": "@jupyter-widgets/base",
      "_view_module_version": "1.2.0",
      "_view_name": "LayoutView",
      "align_content": null,
      "align_items": null,
      "align_self": null,
      "border": null,
      "bottom": null,
      "display": null,
      "flex": null,
      "flex_flow": null,
      "grid_area": null,
      "grid_auto_columns": null,
      "grid_auto_flow": null,
      "grid_auto_rows": null,
      "grid_column": null,
      "grid_gap": null,
      "grid_row": null,
      "grid_template_areas": null,
      "grid_template_columns": null,
      "grid_template_rows": null,
      "height": null,
      "justify_content": null,
      "justify_items": null,
      "left": null,
      "margin": null,
      "max_height": null,
      "max_width": null,
      "min_height": null,
      "min_width": null,
      "object_fit": null,
      "object_position": null,
      "order": null,
      "overflow": null,
      "overflow_x": null,
      "overflow_y": null,
      "padding": null,
      "right": null,
      "top": null,
      "visibility": null,
      "width": null
     }
    },
    "942d333f3cd64da8aebd1406bc8ed201": {
     "model_module": "@jupyter-widgets/controls",
     "model_module_version": "1.5.0",
     "model_name": "HTMLModel",
     "state": {
      "_dom_classes": [],
      "_model_module": "@jupyter-widgets/controls",
      "_model_module_version": "1.5.0",
      "_model_name": "HTMLModel",
      "_view_count": null,
      "_view_module": "@jupyter-widgets/controls",
      "_view_module_version": "1.5.0",
      "_view_name": "HTMLView",
      "description": "",
      "description_tooltip": null,
      "layout": "IPY_MODEL_b3232f2c38ae40fcbbfca5ef73495971",
      "placeholder": "​",
      "style": "IPY_MODEL_825083854848401fb74011e721854e80",
      "value": "100%"
     }
    },
    "965ed30c2d1f4cdeacdec489cb8a1638": {
     "model_module": "@jupyter-widgets/base",
     "model_module_version": "1.2.0",
     "model_name": "LayoutModel",
     "state": {
      "_model_module": "@jupyter-widgets/base",
      "_model_module_version": "1.2.0",
      "_model_name": "LayoutModel",
      "_view_count": null,
      "_view_module": "@jupyter-widgets/base",
      "_view_module_version": "1.2.0",
      "_view_name": "LayoutView",
      "align_content": null,
      "align_items": null,
      "align_self": null,
      "border": null,
      "bottom": null,
      "display": null,
      "flex": null,
      "flex_flow": null,
      "grid_area": null,
      "grid_auto_columns": null,
      "grid_auto_flow": null,
      "grid_auto_rows": null,
      "grid_column": null,
      "grid_gap": null,
      "grid_row": null,
      "grid_template_areas": null,
      "grid_template_columns": null,
      "grid_template_rows": null,
      "height": null,
      "justify_content": null,
      "justify_items": null,
      "left": null,
      "margin": null,
      "max_height": null,
      "max_width": null,
      "min_height": null,
      "min_width": null,
      "object_fit": null,
      "object_position": null,
      "order": null,
      "overflow": null,
      "overflow_x": null,
      "overflow_y": null,
      "padding": null,
      "right": null,
      "top": null,
      "visibility": null,
      "width": null
     }
    },
    "9a693af4254d435fa3d46b0b53805748": {
     "model_module": "@jupyter-widgets/base",
     "model_module_version": "1.2.0",
     "model_name": "LayoutModel",
     "state": {
      "_model_module": "@jupyter-widgets/base",
      "_model_module_version": "1.2.0",
      "_model_name": "LayoutModel",
      "_view_count": null,
      "_view_module": "@jupyter-widgets/base",
      "_view_module_version": "1.2.0",
      "_view_name": "LayoutView",
      "align_content": null,
      "align_items": null,
      "align_self": null,
      "border": null,
      "bottom": null,
      "display": null,
      "flex": null,
      "flex_flow": null,
      "grid_area": null,
      "grid_auto_columns": null,
      "grid_auto_flow": null,
      "grid_auto_rows": null,
      "grid_column": null,
      "grid_gap": null,
      "grid_row": null,
      "grid_template_areas": null,
      "grid_template_columns": null,
      "grid_template_rows": null,
      "height": null,
      "justify_content": null,
      "justify_items": null,
      "left": null,
      "margin": null,
      "max_height": null,
      "max_width": null,
      "min_height": null,
      "min_width": null,
      "object_fit": null,
      "object_position": null,
      "order": null,
      "overflow": null,
      "overflow_x": null,
      "overflow_y": null,
      "padding": null,
      "right": null,
      "top": null,
      "visibility": null,
      "width": null
     }
    },
    "9b45711ca1e547a2b32b7b80527c0259": {
     "model_module": "@jupyter-widgets/base",
     "model_module_version": "1.2.0",
     "model_name": "LayoutModel",
     "state": {
      "_model_module": "@jupyter-widgets/base",
      "_model_module_version": "1.2.0",
      "_model_name": "LayoutModel",
      "_view_count": null,
      "_view_module": "@jupyter-widgets/base",
      "_view_module_version": "1.2.0",
      "_view_name": "LayoutView",
      "align_content": null,
      "align_items": null,
      "align_self": null,
      "border": null,
      "bottom": null,
      "display": null,
      "flex": null,
      "flex_flow": null,
      "grid_area": null,
      "grid_auto_columns": null,
      "grid_auto_flow": null,
      "grid_auto_rows": null,
      "grid_column": null,
      "grid_gap": null,
      "grid_row": null,
      "grid_template_areas": null,
      "grid_template_columns": null,
      "grid_template_rows": null,
      "height": null,
      "justify_content": null,
      "justify_items": null,
      "left": null,
      "margin": null,
      "max_height": null,
      "max_width": null,
      "min_height": null,
      "min_width": null,
      "object_fit": null,
      "object_position": null,
      "order": null,
      "overflow": null,
      "overflow_x": null,
      "overflow_y": null,
      "padding": null,
      "right": null,
      "top": null,
      "visibility": null,
      "width": null
     }
    },
    "9d6d7ab4df814b95b6c26aead4eee8e4": {
     "model_module": "@jupyter-widgets/controls",
     "model_module_version": "1.5.0",
     "model_name": "DescriptionStyleModel",
     "state": {
      "_model_module": "@jupyter-widgets/controls",
      "_model_module_version": "1.5.0",
      "_model_name": "DescriptionStyleModel",
      "_view_count": null,
      "_view_module": "@jupyter-widgets/base",
      "_view_module_version": "1.2.0",
      "_view_name": "StyleView",
      "description_width": ""
     }
    },
    "9dece3cb77ae46e5a90dd2bcded0957e": {
     "model_module": "@jupyter-widgets/base",
     "model_module_version": "1.2.0",
     "model_name": "LayoutModel",
     "state": {
      "_model_module": "@jupyter-widgets/base",
      "_model_module_version": "1.2.0",
      "_model_name": "LayoutModel",
      "_view_count": null,
      "_view_module": "@jupyter-widgets/base",
      "_view_module_version": "1.2.0",
      "_view_name": "LayoutView",
      "align_content": null,
      "align_items": null,
      "align_self": null,
      "border": null,
      "bottom": null,
      "display": null,
      "flex": null,
      "flex_flow": null,
      "grid_area": null,
      "grid_auto_columns": null,
      "grid_auto_flow": null,
      "grid_auto_rows": null,
      "grid_column": null,
      "grid_gap": null,
      "grid_row": null,
      "grid_template_areas": null,
      "grid_template_columns": null,
      "grid_template_rows": null,
      "height": null,
      "justify_content": null,
      "justify_items": null,
      "left": null,
      "margin": null,
      "max_height": null,
      "max_width": null,
      "min_height": null,
      "min_width": null,
      "object_fit": null,
      "object_position": null,
      "order": null,
      "overflow": null,
      "overflow_x": null,
      "overflow_y": null,
      "padding": null,
      "right": null,
      "top": null,
      "visibility": null,
      "width": null
     }
    },
    "a2368d4b97c748deada66575c1699a2a": {
     "model_module": "@jupyter-widgets/controls",
     "model_module_version": "1.5.0",
     "model_name": "HTMLModel",
     "state": {
      "_dom_classes": [],
      "_model_module": "@jupyter-widgets/controls",
      "_model_module_version": "1.5.0",
      "_model_name": "HTMLModel",
      "_view_count": null,
      "_view_module": "@jupyter-widgets/controls",
      "_view_module_version": "1.5.0",
      "_view_name": "HTMLView",
      "description": "",
      "description_tooltip": null,
      "layout": "IPY_MODEL_c9a5314e76884fafbdd62306e21edb35",
      "placeholder": "​",
      "style": "IPY_MODEL_e521486889c14582b479110e01ac9258",
      "value": "100%"
     }
    },
    "a37070ad4fbd45f2ace111204de9e8eb": {
     "model_module": "@jupyter-widgets/controls",
     "model_module_version": "1.5.0",
     "model_name": "FloatProgressModel",
     "state": {
      "_dom_classes": [],
      "_model_module": "@jupyter-widgets/controls",
      "_model_module_version": "1.5.0",
      "_model_name": "FloatProgressModel",
      "_view_count": null,
      "_view_module": "@jupyter-widgets/controls",
      "_view_module_version": "1.5.0",
      "_view_name": "ProgressView",
      "bar_style": "success",
      "description": "",
      "description_tooltip": null,
      "layout": "IPY_MODEL_4971b2d0eff04a1a98bd4850040573fc",
      "max": 5148,
      "min": 0,
      "orientation": "horizontal",
      "style": "IPY_MODEL_f0b3e0f0213542b9abaec0a03b47ef0b",
      "value": 5148
     }
    },
    "a63f0ea474ee4fd88904a2f7ec4d7b25": {
     "model_module": "@jupyter-widgets/controls",
     "model_module_version": "1.5.0",
     "model_name": "DescriptionStyleModel",
     "state": {
      "_model_module": "@jupyter-widgets/controls",
      "_model_module_version": "1.5.0",
      "_model_name": "DescriptionStyleModel",
      "_view_count": null,
      "_view_module": "@jupyter-widgets/base",
      "_view_module_version": "1.2.0",
      "_view_name": "StyleView",
      "description_width": ""
     }
    },
    "abe5b7e516ad4736b22cf3f018cb61a7": {
     "model_module": "@jupyter-widgets/controls",
     "model_module_version": "1.5.0",
     "model_name": "HTMLModel",
     "state": {
      "_dom_classes": [],
      "_model_module": "@jupyter-widgets/controls",
      "_model_module_version": "1.5.0",
      "_model_name": "HTMLModel",
      "_view_count": null,
      "_view_module": "@jupyter-widgets/controls",
      "_view_module_version": "1.5.0",
      "_view_name": "HTMLView",
      "description": "",
      "description_tooltip": null,
      "layout": "IPY_MODEL_e4737b12248d4b588222725bc35404d1",
      "placeholder": "​",
      "style": "IPY_MODEL_a63f0ea474ee4fd88904a2f7ec4d7b25",
      "value": "100%"
     }
    },
    "abf85935ec874ff089dccf3b08bcc876": {
     "model_module": "@jupyter-widgets/controls",
     "model_module_version": "1.5.0",
     "model_name": "ProgressStyleModel",
     "state": {
      "_model_module": "@jupyter-widgets/controls",
      "_model_module_version": "1.5.0",
      "_model_name": "ProgressStyleModel",
      "_view_count": null,
      "_view_module": "@jupyter-widgets/base",
      "_view_module_version": "1.2.0",
      "_view_name": "StyleView",
      "bar_color": null,
      "description_width": ""
     }
    },
    "acf71cf2086e4008a067623cc12101da": {
     "model_module": "@jupyter-widgets/controls",
     "model_module_version": "1.5.0",
     "model_name": "DescriptionStyleModel",
     "state": {
      "_model_module": "@jupyter-widgets/controls",
      "_model_module_version": "1.5.0",
      "_model_name": "DescriptionStyleModel",
      "_view_count": null,
      "_view_module": "@jupyter-widgets/base",
      "_view_module_version": "1.2.0",
      "_view_name": "StyleView",
      "description_width": ""
     }
    },
    "ad36cdf769774116b2a6925962508161": {
     "model_module": "@jupyter-widgets/controls",
     "model_module_version": "1.5.0",
     "model_name": "DescriptionStyleModel",
     "state": {
      "_model_module": "@jupyter-widgets/controls",
      "_model_module_version": "1.5.0",
      "_model_name": "DescriptionStyleModel",
      "_view_count": null,
      "_view_module": "@jupyter-widgets/base",
      "_view_module_version": "1.2.0",
      "_view_name": "StyleView",
      "description_width": ""
     }
    },
    "adf343126b77485d8abef33dca775b24": {
     "model_module": "@jupyter-widgets/controls",
     "model_module_version": "1.5.0",
     "model_name": "DescriptionStyleModel",
     "state": {
      "_model_module": "@jupyter-widgets/controls",
      "_model_module_version": "1.5.0",
      "_model_name": "DescriptionStyleModel",
      "_view_count": null,
      "_view_module": "@jupyter-widgets/base",
      "_view_module_version": "1.2.0",
      "_view_name": "StyleView",
      "description_width": ""
     }
    },
    "b21d0aeb6c4d4dd0957799e0c88f2a70": {
     "model_module": "@jupyter-widgets/controls",
     "model_module_version": "1.5.0",
     "model_name": "HTMLModel",
     "state": {
      "_dom_classes": [],
      "_model_module": "@jupyter-widgets/controls",
      "_model_module_version": "1.5.0",
      "_model_name": "HTMLModel",
      "_view_count": null,
      "_view_module": "@jupyter-widgets/controls",
      "_view_module_version": "1.5.0",
      "_view_name": "HTMLView",
      "description": "",
      "description_tooltip": null,
      "layout": "IPY_MODEL_73236bd6bbde402dbb515bfcf72691d3",
      "placeholder": "​",
      "style": "IPY_MODEL_f7ec5418d87c457b894623daa40821aa",
      "value": " 4542/4542 [00:00&lt;00:00, 146518.86it/s]"
     }
    },
    "b3232f2c38ae40fcbbfca5ef73495971": {
     "model_module": "@jupyter-widgets/base",
     "model_module_version": "1.2.0",
     "model_name": "LayoutModel",
     "state": {
      "_model_module": "@jupyter-widgets/base",
      "_model_module_version": "1.2.0",
      "_model_name": "LayoutModel",
      "_view_count": null,
      "_view_module": "@jupyter-widgets/base",
      "_view_module_version": "1.2.0",
      "_view_name": "LayoutView",
      "align_content": null,
      "align_items": null,
      "align_self": null,
      "border": null,
      "bottom": null,
      "display": null,
      "flex": null,
      "flex_flow": null,
      "grid_area": null,
      "grid_auto_columns": null,
      "grid_auto_flow": null,
      "grid_auto_rows": null,
      "grid_column": null,
      "grid_gap": null,
      "grid_row": null,
      "grid_template_areas": null,
      "grid_template_columns": null,
      "grid_template_rows": null,
      "height": null,
      "justify_content": null,
      "justify_items": null,
      "left": null,
      "margin": null,
      "max_height": null,
      "max_width": null,
      "min_height": null,
      "min_width": null,
      "object_fit": null,
      "object_position": null,
      "order": null,
      "overflow": null,
      "overflow_x": null,
      "overflow_y": null,
      "padding": null,
      "right": null,
      "top": null,
      "visibility": null,
      "width": null
     }
    },
    "b3e863ef94d04df19a353110c743edda": {
     "model_module": "@jupyter-widgets/controls",
     "model_module_version": "1.5.0",
     "model_name": "DescriptionStyleModel",
     "state": {
      "_model_module": "@jupyter-widgets/controls",
      "_model_module_version": "1.5.0",
      "_model_name": "DescriptionStyleModel",
      "_view_count": null,
      "_view_module": "@jupyter-widgets/base",
      "_view_module_version": "1.2.0",
      "_view_name": "StyleView",
      "description_width": ""
     }
    },
    "bd8ac830010a408db7b95a734435a849": {
     "model_module": "@jupyter-widgets/base",
     "model_module_version": "1.2.0",
     "model_name": "LayoutModel",
     "state": {
      "_model_module": "@jupyter-widgets/base",
      "_model_module_version": "1.2.0",
      "_model_name": "LayoutModel",
      "_view_count": null,
      "_view_module": "@jupyter-widgets/base",
      "_view_module_version": "1.2.0",
      "_view_name": "LayoutView",
      "align_content": null,
      "align_items": null,
      "align_self": null,
      "border": null,
      "bottom": null,
      "display": null,
      "flex": null,
      "flex_flow": null,
      "grid_area": null,
      "grid_auto_columns": null,
      "grid_auto_flow": null,
      "grid_auto_rows": null,
      "grid_column": null,
      "grid_gap": null,
      "grid_row": null,
      "grid_template_areas": null,
      "grid_template_columns": null,
      "grid_template_rows": null,
      "height": null,
      "justify_content": null,
      "justify_items": null,
      "left": null,
      "margin": null,
      "max_height": null,
      "max_width": null,
      "min_height": null,
      "min_width": null,
      "object_fit": null,
      "object_position": null,
      "order": null,
      "overflow": null,
      "overflow_x": null,
      "overflow_y": null,
      "padding": null,
      "right": null,
      "top": null,
      "visibility": null,
      "width": null
     }
    },
    "c0b97cc41a984a3a99e1240b5bc5bd20": {
     "model_module": "@jupyter-widgets/controls",
     "model_module_version": "1.5.0",
     "model_name": "HTMLModel",
     "state": {
      "_dom_classes": [],
      "_model_module": "@jupyter-widgets/controls",
      "_model_module_version": "1.5.0",
      "_model_name": "HTMLModel",
      "_view_count": null,
      "_view_module": "@jupyter-widgets/controls",
      "_view_module_version": "1.5.0",
      "_view_name": "HTMLView",
      "description": "",
      "description_tooltip": null,
      "layout": "IPY_MODEL_40e46331edc3481fb2c4bfbe49b10457",
      "placeholder": "​",
      "style": "IPY_MODEL_231c24398f124122991f4091ae898b3c",
      "value": " 28881/28881 [00:00&lt;00:00, 695111.52it/s]"
     }
    },
    "c44e2384037642e680c808137bc3e150": {
     "model_module": "@jupyter-widgets/base",
     "model_module_version": "1.2.0",
     "model_name": "LayoutModel",
     "state": {
      "_model_module": "@jupyter-widgets/base",
      "_model_module_version": "1.2.0",
      "_model_name": "LayoutModel",
      "_view_count": null,
      "_view_module": "@jupyter-widgets/base",
      "_view_module_version": "1.2.0",
      "_view_name": "LayoutView",
      "align_content": null,
      "align_items": null,
      "align_self": null,
      "border": null,
      "bottom": null,
      "display": null,
      "flex": null,
      "flex_flow": null,
      "grid_area": null,
      "grid_auto_columns": null,
      "grid_auto_flow": null,
      "grid_auto_rows": null,
      "grid_column": null,
      "grid_gap": null,
      "grid_row": null,
      "grid_template_areas": null,
      "grid_template_columns": null,
      "grid_template_rows": null,
      "height": null,
      "justify_content": null,
      "justify_items": null,
      "left": null,
      "margin": null,
      "max_height": null,
      "max_width": null,
      "min_height": null,
      "min_width": null,
      "object_fit": null,
      "object_position": null,
      "order": null,
      "overflow": null,
      "overflow_x": null,
      "overflow_y": null,
      "padding": null,
      "right": null,
      "top": null,
      "visibility": null,
      "width": null
     }
    },
    "c65a0fb8ac9b42dfa8f1dc5c760461c3": {
     "model_module": "@jupyter-widgets/base",
     "model_module_version": "1.2.0",
     "model_name": "LayoutModel",
     "state": {
      "_model_module": "@jupyter-widgets/base",
      "_model_module_version": "1.2.0",
      "_model_name": "LayoutModel",
      "_view_count": null,
      "_view_module": "@jupyter-widgets/base",
      "_view_module_version": "1.2.0",
      "_view_name": "LayoutView",
      "align_content": null,
      "align_items": null,
      "align_self": null,
      "border": null,
      "bottom": null,
      "display": null,
      "flex": null,
      "flex_flow": null,
      "grid_area": null,
      "grid_auto_columns": null,
      "grid_auto_flow": null,
      "grid_auto_rows": null,
      "grid_column": null,
      "grid_gap": null,
      "grid_row": null,
      "grid_template_areas": null,
      "grid_template_columns": null,
      "grid_template_rows": null,
      "height": null,
      "justify_content": null,
      "justify_items": null,
      "left": null,
      "margin": null,
      "max_height": null,
      "max_width": null,
      "min_height": null,
      "min_width": null,
      "object_fit": null,
      "object_position": null,
      "order": null,
      "overflow": null,
      "overflow_x": null,
      "overflow_y": null,
      "padding": null,
      "right": null,
      "top": null,
      "visibility": null,
      "width": null
     }
    },
    "c900d8c73a9b457b9d6732b81f1ef919": {
     "model_module": "@jupyter-widgets/controls",
     "model_module_version": "1.5.0",
     "model_name": "DescriptionStyleModel",
     "state": {
      "_model_module": "@jupyter-widgets/controls",
      "_model_module_version": "1.5.0",
      "_model_name": "DescriptionStyleModel",
      "_view_count": null,
      "_view_module": "@jupyter-widgets/base",
      "_view_module_version": "1.2.0",
      "_view_name": "StyleView",
      "description_width": ""
     }
    },
    "c9a5314e76884fafbdd62306e21edb35": {
     "model_module": "@jupyter-widgets/base",
     "model_module_version": "1.2.0",
     "model_name": "LayoutModel",
     "state": {
      "_model_module": "@jupyter-widgets/base",
      "_model_module_version": "1.2.0",
      "_model_name": "LayoutModel",
      "_view_count": null,
      "_view_module": "@jupyter-widgets/base",
      "_view_module_version": "1.2.0",
      "_view_name": "LayoutView",
      "align_content": null,
      "align_items": null,
      "align_self": null,
      "border": null,
      "bottom": null,
      "display": null,
      "flex": null,
      "flex_flow": null,
      "grid_area": null,
      "grid_auto_columns": null,
      "grid_auto_flow": null,
      "grid_auto_rows": null,
      "grid_column": null,
      "grid_gap": null,
      "grid_row": null,
      "grid_template_areas": null,
      "grid_template_columns": null,
      "grid_template_rows": null,
      "height": null,
      "justify_content": null,
      "justify_items": null,
      "left": null,
      "margin": null,
      "max_height": null,
      "max_width": null,
      "min_height": null,
      "min_width": null,
      "object_fit": null,
      "object_position": null,
      "order": null,
      "overflow": null,
      "overflow_x": null,
      "overflow_y": null,
      "padding": null,
      "right": null,
      "top": null,
      "visibility": null,
      "width": null
     }
    },
    "cde6d3caf6c8467ba8b19d5d7c3f5dd7": {
     "model_module": "@jupyter-widgets/controls",
     "model_module_version": "1.5.0",
     "model_name": "HBoxModel",
     "state": {
      "_dom_classes": [],
      "_model_module": "@jupyter-widgets/controls",
      "_model_module_version": "1.5.0",
      "_model_name": "HBoxModel",
      "_view_count": null,
      "_view_module": "@jupyter-widgets/controls",
      "_view_module_version": "1.5.0",
      "_view_name": "HBoxView",
      "box_style": "",
      "children": [
       "IPY_MODEL_3dcd84ea7d9d474093dc913d7a3f18c7",
       "IPY_MODEL_3d0eed7f4a584c789986d1c337dc2fb5",
       "IPY_MODEL_ce566d06f6aa4ef08a5e8f4af58a1391"
      ],
      "layout": "IPY_MODEL_8b9d209165ce44fb9d891d127920e4fa"
     }
    },
    "ce566d06f6aa4ef08a5e8f4af58a1391": {
     "model_module": "@jupyter-widgets/controls",
     "model_module_version": "1.5.0",
     "model_name": "HTMLModel",
     "state": {
      "_dom_classes": [],
      "_model_module": "@jupyter-widgets/controls",
      "_model_module_version": "1.5.0",
      "_model_name": "HTMLModel",
      "_view_count": null,
      "_view_module": "@jupyter-widgets/controls",
      "_view_module_version": "1.5.0",
      "_view_name": "HTMLView",
      "description": "",
      "description_tooltip": null,
      "layout": "IPY_MODEL_8d680dab78fd4e90ab5a736f0ca061cf",
      "placeholder": "​",
      "style": "IPY_MODEL_e1f678ab4b9047ad981635198effd3ba",
      "value": " 29515/29515 [00:00&lt;00:00, 147289.29it/s]"
     }
    },
    "d5f4fdf5fa004481a316b1968faa6231": {
     "model_module": "@jupyter-widgets/controls",
     "model_module_version": "1.5.0",
     "model_name": "HBoxModel",
     "state": {
      "_dom_classes": [],
      "_model_module": "@jupyter-widgets/controls",
      "_model_module_version": "1.5.0",
      "_model_name": "HBoxModel",
      "_view_count": null,
      "_view_module": "@jupyter-widgets/controls",
      "_view_module_version": "1.5.0",
      "_view_name": "HBoxView",
      "box_style": "",
      "children": [
       "IPY_MODEL_a2368d4b97c748deada66575c1699a2a",
       "IPY_MODEL_4cbd5dee4dc74d75b39acf5a43bdda05",
       "IPY_MODEL_c0b97cc41a984a3a99e1240b5bc5bd20"
      ],
      "layout": "IPY_MODEL_bd8ac830010a408db7b95a734435a849"
     }
    },
    "d96ff505419c487e85d03a30b25158a9": {
     "model_module": "@jupyter-widgets/controls",
     "model_module_version": "1.5.0",
     "model_name": "DescriptionStyleModel",
     "state": {
      "_model_module": "@jupyter-widgets/controls",
      "_model_module_version": "1.5.0",
      "_model_name": "DescriptionStyleModel",
      "_view_count": null,
      "_view_module": "@jupyter-widgets/base",
      "_view_module_version": "1.2.0",
      "_view_name": "StyleView",
      "description_width": ""
     }
    },
    "dacc3cb4c23f459999a14c996014a6c1": {
     "model_module": "@jupyter-widgets/controls",
     "model_module_version": "1.5.0",
     "model_name": "ProgressStyleModel",
     "state": {
      "_model_module": "@jupyter-widgets/controls",
      "_model_module_version": "1.5.0",
      "_model_name": "ProgressStyleModel",
      "_view_count": null,
      "_view_module": "@jupyter-widgets/base",
      "_view_module_version": "1.2.0",
      "_view_name": "StyleView",
      "bar_color": null,
      "description_width": ""
     }
    },
    "e1f678ab4b9047ad981635198effd3ba": {
     "model_module": "@jupyter-widgets/controls",
     "model_module_version": "1.5.0",
     "model_name": "DescriptionStyleModel",
     "state": {
      "_model_module": "@jupyter-widgets/controls",
      "_model_module_version": "1.5.0",
      "_model_name": "DescriptionStyleModel",
      "_view_count": null,
      "_view_module": "@jupyter-widgets/base",
      "_view_module_version": "1.2.0",
      "_view_name": "StyleView",
      "description_width": ""
     }
    },
    "e28fd9520e654235a8d3dd76f2b7bb09": {
     "model_module": "@jupyter-widgets/controls",
     "model_module_version": "1.5.0",
     "model_name": "HBoxModel",
     "state": {
      "_dom_classes": [],
      "_model_module": "@jupyter-widgets/controls",
      "_model_module_version": "1.5.0",
      "_model_name": "HBoxModel",
      "_view_count": null,
      "_view_module": "@jupyter-widgets/controls",
      "_view_module_version": "1.5.0",
      "_view_name": "HBoxView",
      "box_style": "",
      "children": [
       "IPY_MODEL_8db24556339b414d99f18e4e25b1682f",
       "IPY_MODEL_10ccb394e09343a49d0d07446b5c7cdf",
       "IPY_MODEL_131e9bd7811d483caf4e1bae8454aad3"
      ],
      "layout": "IPY_MODEL_f6f955bba8b44d8d828596650de96016"
     }
    },
    "e4737b12248d4b588222725bc35404d1": {
     "model_module": "@jupyter-widgets/base",
     "model_module_version": "1.2.0",
     "model_name": "LayoutModel",
     "state": {
      "_model_module": "@jupyter-widgets/base",
      "_model_module_version": "1.2.0",
      "_model_name": "LayoutModel",
      "_view_count": null,
      "_view_module": "@jupyter-widgets/base",
      "_view_module_version": "1.2.0",
      "_view_name": "LayoutView",
      "align_content": null,
      "align_items": null,
      "align_self": null,
      "border": null,
      "bottom": null,
      "display": null,
      "flex": null,
      "flex_flow": null,
      "grid_area": null,
      "grid_auto_columns": null,
      "grid_auto_flow": null,
      "grid_auto_rows": null,
      "grid_column": null,
      "grid_gap": null,
      "grid_row": null,
      "grid_template_areas": null,
      "grid_template_columns": null,
      "grid_template_rows": null,
      "height": null,
      "justify_content": null,
      "justify_items": null,
      "left": null,
      "margin": null,
      "max_height": null,
      "max_width": null,
      "min_height": null,
      "min_width": null,
      "object_fit": null,
      "object_position": null,
      "order": null,
      "overflow": null,
      "overflow_x": null,
      "overflow_y": null,
      "padding": null,
      "right": null,
      "top": null,
      "visibility": null,
      "width": null
     }
    },
    "e521486889c14582b479110e01ac9258": {
     "model_module": "@jupyter-widgets/controls",
     "model_module_version": "1.5.0",
     "model_name": "DescriptionStyleModel",
     "state": {
      "_model_module": "@jupyter-widgets/controls",
      "_model_module_version": "1.5.0",
      "_model_name": "DescriptionStyleModel",
      "_view_count": null,
      "_view_module": "@jupyter-widgets/base",
      "_view_module_version": "1.2.0",
      "_view_name": "StyleView",
      "description_width": ""
     }
    },
    "e69066e990a645b7b991ab42a19871c6": {
     "model_module": "@jupyter-widgets/base",
     "model_module_version": "1.2.0",
     "model_name": "LayoutModel",
     "state": {
      "_model_module": "@jupyter-widgets/base",
      "_model_module_version": "1.2.0",
      "_model_name": "LayoutModel",
      "_view_count": null,
      "_view_module": "@jupyter-widgets/base",
      "_view_module_version": "1.2.0",
      "_view_name": "LayoutView",
      "align_content": null,
      "align_items": null,
      "align_self": null,
      "border": null,
      "bottom": null,
      "display": null,
      "flex": null,
      "flex_flow": null,
      "grid_area": null,
      "grid_auto_columns": null,
      "grid_auto_flow": null,
      "grid_auto_rows": null,
      "grid_column": null,
      "grid_gap": null,
      "grid_row": null,
      "grid_template_areas": null,
      "grid_template_columns": null,
      "grid_template_rows": null,
      "height": null,
      "justify_content": null,
      "justify_items": null,
      "left": null,
      "margin": null,
      "max_height": null,
      "max_width": null,
      "min_height": null,
      "min_width": null,
      "object_fit": null,
      "object_position": null,
      "order": null,
      "overflow": null,
      "overflow_x": null,
      "overflow_y": null,
      "padding": null,
      "right": null,
      "top": null,
      "visibility": null,
      "width": null
     }
    },
    "f0b3e0f0213542b9abaec0a03b47ef0b": {
     "model_module": "@jupyter-widgets/controls",
     "model_module_version": "1.5.0",
     "model_name": "ProgressStyleModel",
     "state": {
      "_model_module": "@jupyter-widgets/controls",
      "_model_module_version": "1.5.0",
      "_model_name": "ProgressStyleModel",
      "_view_count": null,
      "_view_module": "@jupyter-widgets/base",
      "_view_module_version": "1.2.0",
      "_view_name": "StyleView",
      "bar_color": null,
      "description_width": ""
     }
    },
    "f6f955bba8b44d8d828596650de96016": {
     "model_module": "@jupyter-widgets/base",
     "model_module_version": "1.2.0",
     "model_name": "LayoutModel",
     "state": {
      "_model_module": "@jupyter-widgets/base",
      "_model_module_version": "1.2.0",
      "_model_name": "LayoutModel",
      "_view_count": null,
      "_view_module": "@jupyter-widgets/base",
      "_view_module_version": "1.2.0",
      "_view_name": "LayoutView",
      "align_content": null,
      "align_items": null,
      "align_self": null,
      "border": null,
      "bottom": null,
      "display": null,
      "flex": null,
      "flex_flow": null,
      "grid_area": null,
      "grid_auto_columns": null,
      "grid_auto_flow": null,
      "grid_auto_rows": null,
      "grid_column": null,
      "grid_gap": null,
      "grid_row": null,
      "grid_template_areas": null,
      "grid_template_columns": null,
      "grid_template_rows": null,
      "height": null,
      "justify_content": null,
      "justify_items": null,
      "left": null,
      "margin": null,
      "max_height": null,
      "max_width": null,
      "min_height": null,
      "min_width": null,
      "object_fit": null,
      "object_position": null,
      "order": null,
      "overflow": null,
      "overflow_x": null,
      "overflow_y": null,
      "padding": null,
      "right": null,
      "top": null,
      "visibility": null,
      "width": null
     }
    },
    "f7ec5418d87c457b894623daa40821aa": {
     "model_module": "@jupyter-widgets/controls",
     "model_module_version": "1.5.0",
     "model_name": "DescriptionStyleModel",
     "state": {
      "_model_module": "@jupyter-widgets/controls",
      "_model_module_version": "1.5.0",
      "_model_name": "DescriptionStyleModel",
      "_view_count": null,
      "_view_module": "@jupyter-widgets/base",
      "_view_module_version": "1.2.0",
      "_view_name": "StyleView",
      "description_width": ""
     }
    },
    "f9cea6c87dda439c89eaaed8cebfb98a": {
     "model_module": "@jupyter-widgets/controls",
     "model_module_version": "1.5.0",
     "model_name": "HBoxModel",
     "state": {
      "_dom_classes": [],
      "_model_module": "@jupyter-widgets/controls",
      "_model_module_version": "1.5.0",
      "_model_name": "HBoxModel",
      "_view_count": null,
      "_view_module": "@jupyter-widgets/controls",
      "_view_module_version": "1.5.0",
      "_view_name": "HBoxView",
      "box_style": "",
      "children": [
       "IPY_MODEL_942d333f3cd64da8aebd1406bc8ed201",
       "IPY_MODEL_a37070ad4fbd45f2ace111204de9e8eb",
       "IPY_MODEL_00143ec114fa4e15aecd1d17b4488534"
      ],
      "layout": "IPY_MODEL_7ec9e70ca92f41f5bb8efc52d5fd57f3"
     }
    },
    "faaa7096a0514cf39ab78a487b4f402e": {
     "model_module": "@jupyter-widgets/controls",
     "model_module_version": "1.5.0",
     "model_name": "DescriptionStyleModel",
     "state": {
      "_model_module": "@jupyter-widgets/controls",
      "_model_module_version": "1.5.0",
      "_model_name": "DescriptionStyleModel",
      "_view_count": null,
      "_view_module": "@jupyter-widgets/base",
      "_view_module_version": "1.2.0",
      "_view_name": "StyleView",
      "description_width": ""
     }
    },
    "fb3728552e8f418f89f429009d22e641": {
     "model_module": "@jupyter-widgets/controls",
     "model_module_version": "1.5.0",
     "model_name": "HBoxModel",
     "state": {
      "_dom_classes": [],
      "_model_module": "@jupyter-widgets/controls",
      "_model_module_version": "1.5.0",
      "_model_name": "HBoxModel",
      "_view_count": null,
      "_view_module": "@jupyter-widgets/controls",
      "_view_module_version": "1.5.0",
      "_view_name": "HBoxView",
      "box_style": "",
      "children": [
       "IPY_MODEL_abe5b7e516ad4736b22cf3f018cb61a7",
       "IPY_MODEL_36498faa0ed742a0833df00b6d8991e4",
       "IPY_MODEL_217d918d232a4cc79deb798d5e74f16b"
      ],
      "layout": "IPY_MODEL_8d8c27ea6ab845c9b90c7784426691f3"
     }
    }
   }
  }
 },
 "nbformat": 4,
 "nbformat_minor": 1
}
