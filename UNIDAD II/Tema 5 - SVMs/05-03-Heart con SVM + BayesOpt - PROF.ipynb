{
 "cells": [
  {
   "cell_type": "markdown",
   "metadata": {
    "toc": true
   },
   "source": [
    "<h1>Table of Contents<span class=\"tocSkip\"></span></h1>\n",
    "<div class=\"toc\"><ul class=\"toc-item\"><li><span><a href=\"#SVMs-con-el-dataset-de-Enfermedades-cardíacas-(Heart)\" data-toc-modified-id=\"SVMs-con-el-dataset-de-Enfermedades-cardíacas-(Heart)-1\"><span class=\"toc-item-num\">1&nbsp;&nbsp;</span>SVMs con el dataset de Enfermedades cardíacas (Heart)</a></span></li><li><span><a href=\"#SVMs-con-el-dataset-de-Enfermedades-cardíacas-(Heart)\" data-toc-modified-id=\"SVMs-con-el-dataset-de-Enfermedades-cardíacas-(Heart)-2\"><span class=\"toc-item-num\">2&nbsp;&nbsp;</span>SVMs con el dataset de Enfermedades cardíacas (Heart)</a></span><ul class=\"toc-item\"><li><span><a href=\"#2.1-Entendimiento-y-preparación-de-los-datos\" data-toc-modified-id=\"2.1-Entendimiento-y-preparación-de-los-datos-2.1\"><span class=\"toc-item-num\">2.1&nbsp;&nbsp;</span>2.1 Entendimiento y preparación de los datos</a></span><ul class=\"toc-item\"><li><span><a href=\"#2.1.2-Visualizaciones-de-una-variable-independiente-vs.-variable-objetivo\" data-toc-modified-id=\"2.1.2-Visualizaciones-de-una-variable-independiente-vs.-variable-objetivo-2.1.1\"><span class=\"toc-item-num\">2.1.1&nbsp;&nbsp;</span>2.1.2 Visualizaciones de una variable independiente vs. variable objetivo</a></span></li><li><span><a href=\"#2.1.2-Visualizaciones-de-pares-de-variables-independientes-vs.-variable-objetivo\" data-toc-modified-id=\"2.1.2-Visualizaciones-de-pares-de-variables-independientes-vs.-variable-objetivo-2.1.2\"><span class=\"toc-item-num\">2.1.2&nbsp;&nbsp;</span>2.1.2 Visualizaciones de pares de variables independientes vs. variable objetivo</a></span></li></ul></li><li><span><a href=\"#2.2-PCA\" data-toc-modified-id=\"2.2-PCA-2.2\"><span class=\"toc-item-num\">2.2&nbsp;&nbsp;</span>2.2 PCA</a></span></li><li><span><a href=\"#2.3-Pipelines-de-entrenamiento-y-evaluación-del-mejor-modelo\" data-toc-modified-id=\"2.3-Pipelines-de-entrenamiento-y-evaluación-del-mejor-modelo-2.3\"><span class=\"toc-item-num\">2.3&nbsp;&nbsp;</span>2.3 Pipelines de entrenamiento y evaluación del mejor modelo</a></span><ul class=\"toc-item\"><li><span><a href=\"#Modelos-sin-preprocesamiento:\" data-toc-modified-id=\"Modelos-sin-preprocesamiento:-2.3.1\"><span class=\"toc-item-num\">2.3.1&nbsp;&nbsp;</span>Modelos sin preprocesamiento:</a></span></li><li><span><a href=\"#Modelos-con-estandarización-de-los-datos:\" data-toc-modified-id=\"Modelos-con-estandarización-de-los-datos:-2.3.2\"><span class=\"toc-item-num\">2.3.2&nbsp;&nbsp;</span>Modelos con estandarización de los datos:</a></span></li><li><span><a href=\"#Modelos-con-estandarización-de-los-datos-y-PCA:\" data-toc-modified-id=\"Modelos-con-estandarización-de-los-datos-y-PCA:-2.3.3\"><span class=\"toc-item-num\">2.3.3&nbsp;&nbsp;</span>Modelos con estandarización de los datos y PCA:</a></span></li><li><span><a href=\"#Modelos-con-estandarización-de-los-datos-y-LDA:\" data-toc-modified-id=\"Modelos-con-estandarización-de-los-datos-y-LDA:-2.3.4\"><span class=\"toc-item-num\">2.3.4&nbsp;&nbsp;</span>Modelos con estandarización de los datos y LDA:</a></span></li><li><span><a href=\"#Curvas-ROC-AUC-de-los-mejores-clasificadores\" data-toc-modified-id=\"Curvas-ROC-AUC-de-los-mejores-clasificadores-2.3.5\"><span class=\"toc-item-num\">2.3.5&nbsp;&nbsp;</span>Curvas ROC AUC de los mejores clasificadores</a></span></li></ul></li><li><span><a href=\"#Optimización-bayesiana\" data-toc-modified-id=\"Optimización-bayesiana-2.4\"><span class=\"toc-item-num\">2.4&nbsp;&nbsp;</span>Optimización bayesiana</a></span></li></ul></li></ul></div>"
   ]
  },
  {
   "cell_type": "markdown",
   "metadata": {},
   "source": [
    "# SVMs con el dataset de Enfermedades cardíacas (Heart)"
   ]
  },
  {
   "cell_type": "markdown",
   "metadata": {},
   "source": [
    "Cargamos las librerías"
   ]
  },
  {
   "cell_type": "code",
   "execution_count": 1,
   "metadata": {},
   "outputs": [],
   "source": [
    "import numpy as np\n",
    "import pandas as pd\n",
    "import matplotlib.pyplot as plt\n",
    "import seaborn as sns\n",
    "import math\n",
    "from sklearn.svm import SVC\n",
    "from sklearn.model_selection import train_test_split\n",
    "from sklearn.model_selection import GridSearchCV\n",
    "from sklearn.metrics import confusion_matrix, roc_curve, auc, accuracy_score\n",
    "from sklearn.pipeline import Pipeline\n",
    "from sklearn.preprocessing import MinMaxScaler\n",
    "from sklearn.preprocessing import StandardScaler\n",
    "from sklearn.discriminant_analysis import LinearDiscriminantAnalysis"
   ]
  },
  {
   "cell_type": "code",
   "execution_count": 2,
   "metadata": {},
   "outputs": [],
   "source": [
    "#import warnings\n",
    "#warnings.filterwarnings('ignore')\n",
    "#warnings.filterwarnings(action=‘ignore’,category=DeprecationWarning)\n",
    "#warnings.filterwarnings(action=‘ignore’,category=FutureWarning)"
   ]
  },
  {
   "cell_type": "markdown",
   "metadata": {},
   "source": [
    "# SVMs con el dataset de Enfermedades cardíacas (Heart)"
   ]
  },
  {
   "cell_type": "markdown",
   "metadata": {},
   "source": [
    "El dataset **heart.csv** contiene registros de pacientes con síntomas de problemas cardíacos.\n",
    "Se tienen los datos provenientes bases de datos de enfermedades del corazón, provenientes del centros médicos *Cleveland Clinic Foundation*"
   ]
  },
  {
   "cell_type": "markdown",
   "metadata": {},
   "source": [
    "Los campos del dataset son los siguientes:\n",
    "1. age: edad en años\n",
    "2. sex: 1=hombre, 0=mujer\n",
    "3. cp: tipo de dolor de pecho (1=angina típico, 2=angina atípico, 3=dolor no de angina, 4=sin síntoma de dolor)\n",
    "4. trestbps: presión de la sangre en reposo (en mm/Hg, en el momento de admisión al hospital)\n",
    "5. chol: nivel del colesterol (en mg/dl)\n",
    "6. fbs: indica si el nivel de azucar en la sangre en ayunas es superior a 120 mg/dl (1) o no (0)\n",
    "7. restecg: resultado de electro cardiograma en reposo (0=normal, 1=anormalidad del nivel de ST, 2=hipertrofía ventricular probable)\n",
    "8. thalach: frecuencia cardiaca máxima alcanzada (pulso)\n",
    "9. exang: si se induce a una angina a través del ejercicio (1) o no (0)\n",
    "10. oldpeak: diferencia relativa entre el nivel de ST inducido por el ejercicio comparado con el nivel del reposo.\n",
    "11. slope: la pendiente de llegada al máximo del nivel ST durante el ejercicio (1=creciente, 2=plana, 3=decreciente)\n",
    "12. ca: número de venas mayores coloreadas a partir de la fluorescopia (0 a 3)\n",
    "13. thal: tipo de defecto (valores aceptados 3=normal, 4=defecto arreglado, 7=defecto reversible)\n",
    "14. target: indica si en efecto el paciente presenta una enfermedad cardiaca (1) o no (0) "
   ]
  },
  {
   "cell_type": "markdown",
   "metadata": {},
   "source": [
    "## 2.1 Entendimiento y preparación de los datos"
   ]
  },
  {
   "cell_type": "markdown",
   "metadata": {},
   "source": [
    "Leemos el archivo con el dataset, cargándolo en memoria"
   ]
  },
  {
   "cell_type": "code",
   "execution_count": 3,
   "metadata": {
    "scrolled": true
   },
   "outputs": [
    {
     "name": "stdout",
     "output_type": "stream",
     "text": [
      "(303, 14)\n"
     ]
    },
    {
     "data": {
      "text/html": [
       "<div>\n",
       "<style scoped>\n",
       "    .dataframe tbody tr th:only-of-type {\n",
       "        vertical-align: middle;\n",
       "    }\n",
       "\n",
       "    .dataframe tbody tr th {\n",
       "        vertical-align: top;\n",
       "    }\n",
       "\n",
       "    .dataframe thead th {\n",
       "        text-align: right;\n",
       "    }\n",
       "</style>\n",
       "<table border=\"1\" class=\"dataframe\">\n",
       "  <thead>\n",
       "    <tr style=\"text-align: right;\">\n",
       "      <th></th>\n",
       "      <th>age</th>\n",
       "      <th>sex</th>\n",
       "      <th>cp</th>\n",
       "      <th>trestbps</th>\n",
       "      <th>chol</th>\n",
       "      <th>fbs</th>\n",
       "      <th>restecg</th>\n",
       "      <th>thalach</th>\n",
       "      <th>exang</th>\n",
       "      <th>oldpeak</th>\n",
       "      <th>slope</th>\n",
       "      <th>ca</th>\n",
       "      <th>thal</th>\n",
       "      <th>target</th>\n",
       "    </tr>\n",
       "  </thead>\n",
       "  <tbody>\n",
       "    <tr>\n",
       "      <th>0</th>\n",
       "      <td>63</td>\n",
       "      <td>1</td>\n",
       "      <td>3</td>\n",
       "      <td>145</td>\n",
       "      <td>233</td>\n",
       "      <td>1</td>\n",
       "      <td>0</td>\n",
       "      <td>150</td>\n",
       "      <td>0</td>\n",
       "      <td>2.3</td>\n",
       "      <td>0</td>\n",
       "      <td>0</td>\n",
       "      <td>1</td>\n",
       "      <td>1</td>\n",
       "    </tr>\n",
       "    <tr>\n",
       "      <th>1</th>\n",
       "      <td>37</td>\n",
       "      <td>1</td>\n",
       "      <td>2</td>\n",
       "      <td>130</td>\n",
       "      <td>250</td>\n",
       "      <td>0</td>\n",
       "      <td>1</td>\n",
       "      <td>187</td>\n",
       "      <td>0</td>\n",
       "      <td>3.5</td>\n",
       "      <td>0</td>\n",
       "      <td>0</td>\n",
       "      <td>2</td>\n",
       "      <td>1</td>\n",
       "    </tr>\n",
       "    <tr>\n",
       "      <th>2</th>\n",
       "      <td>41</td>\n",
       "      <td>0</td>\n",
       "      <td>1</td>\n",
       "      <td>130</td>\n",
       "      <td>204</td>\n",
       "      <td>0</td>\n",
       "      <td>0</td>\n",
       "      <td>172</td>\n",
       "      <td>0</td>\n",
       "      <td>1.4</td>\n",
       "      <td>2</td>\n",
       "      <td>0</td>\n",
       "      <td>2</td>\n",
       "      <td>1</td>\n",
       "    </tr>\n",
       "    <tr>\n",
       "      <th>3</th>\n",
       "      <td>56</td>\n",
       "      <td>1</td>\n",
       "      <td>1</td>\n",
       "      <td>120</td>\n",
       "      <td>236</td>\n",
       "      <td>0</td>\n",
       "      <td>1</td>\n",
       "      <td>178</td>\n",
       "      <td>0</td>\n",
       "      <td>0.8</td>\n",
       "      <td>2</td>\n",
       "      <td>0</td>\n",
       "      <td>2</td>\n",
       "      <td>1</td>\n",
       "    </tr>\n",
       "    <tr>\n",
       "      <th>4</th>\n",
       "      <td>57</td>\n",
       "      <td>0</td>\n",
       "      <td>0</td>\n",
       "      <td>120</td>\n",
       "      <td>354</td>\n",
       "      <td>0</td>\n",
       "      <td>1</td>\n",
       "      <td>163</td>\n",
       "      <td>1</td>\n",
       "      <td>0.6</td>\n",
       "      <td>2</td>\n",
       "      <td>0</td>\n",
       "      <td>2</td>\n",
       "      <td>1</td>\n",
       "    </tr>\n",
       "  </tbody>\n",
       "</table>\n",
       "</div>"
      ],
      "text/plain": [
       "   age  sex  cp  trestbps  chol  fbs  restecg  thalach  exang  oldpeak  slope  \\\n",
       "0   63    1   3       145   233    1        0      150      0      2.3      0   \n",
       "1   37    1   2       130   250    0        1      187      0      3.5      0   \n",
       "2   41    0   1       130   204    0        0      172      0      1.4      2   \n",
       "3   56    1   1       120   236    0        1      178      0      0.8      2   \n",
       "4   57    0   0       120   354    0        1      163      1      0.6      2   \n",
       "\n",
       "   ca  thal  target  \n",
       "0   0     1       1  \n",
       "1   0     2       1  \n",
       "2   0     2       1  \n",
       "3   0     2       1  \n",
       "4   0     2       1  "
      ]
     },
     "execution_count": 3,
     "metadata": {},
     "output_type": "execute_result"
    }
   ],
   "source": [
    "df = pd.read_csv('06-03-Heart.csv', sep=',')\n",
    "print(df.shape)\n",
    "df.head(5)"
   ]
  },
  {
   "cell_type": "markdown",
   "metadata": {},
   "source": [
    "Vamos a renombrar las columnas para facilitar el análisis posterior:"
   ]
  },
  {
   "cell_type": "code",
   "execution_count": 4,
   "metadata": {},
   "outputs": [
    {
     "name": "stdout",
     "output_type": "stream",
     "text": [
      "<class 'pandas.core.frame.DataFrame'>\n",
      "RangeIndex: 303 entries, 0 to 302\n",
      "Data columns (total 14 columns):\n",
      " #   Column      Non-Null Count  Dtype  \n",
      "---  ------      --------------  -----  \n",
      " 0   edad        303 non-null    int64  \n",
      " 1   sexo        303 non-null    int64  \n",
      " 2   tipo_dolor  303 non-null    int64  \n",
      " 3   presion     303 non-null    int64  \n",
      " 4   colesterol  303 non-null    int64  \n",
      " 5   azucar      303 non-null    int64  \n",
      " 6   ecg         303 non-null    int64  \n",
      " 7   pulso       303 non-null    int64  \n",
      " 8   angina      303 non-null    int64  \n",
      " 9   st          303 non-null    float64\n",
      " 10  pendiente   303 non-null    int64  \n",
      " 11  venas       303 non-null    int64  \n",
      " 12  thal        303 non-null    int64  \n",
      " 13  target      303 non-null    int64  \n",
      "dtypes: float64(1), int64(13)\n",
      "memory usage: 33.3 KB\n"
     ]
    }
   ],
   "source": [
    "colnames = [\"edad\", \"sexo\", \"tipo_dolor\", \"presion\", \"colesterol\", \"azucar\", \"ecg\", \"pulso\", \"angina\", \n",
    "         \"st\", \"pendiente\", \"venas\", \"thal\", \"target\"]\n",
    "df.columns=colnames\n",
    "df.info()"
   ]
  },
  {
   "cell_type": "code",
   "execution_count": 5,
   "metadata": {},
   "outputs": [],
   "source": [
    "var_numericas = ['edad', 'presion', 'colesterol', 'pulso', 'st', 'venas']\n",
    "var_categoricas = ['sexo', 'tipo_dolor', 'azucar','ecg', 'angina', 'pendiente', 'thal']"
   ]
  },
  {
   "cell_type": "markdown",
   "metadata": {},
   "source": [
    "Hay 303 registros, con 14 variables, incluyendo la variable objetivo *target* del clasificador (la última)."
   ]
  },
  {
   "cell_type": "code",
   "execution_count": 6,
   "metadata": {},
   "outputs": [
    {
     "data": {
      "text/html": [
       "<div>\n",
       "<style scoped>\n",
       "    .dataframe tbody tr th:only-of-type {\n",
       "        vertical-align: middle;\n",
       "    }\n",
       "\n",
       "    .dataframe tbody tr th {\n",
       "        vertical-align: top;\n",
       "    }\n",
       "\n",
       "    .dataframe thead th {\n",
       "        text-align: right;\n",
       "    }\n",
       "</style>\n",
       "<table border=\"1\" class=\"dataframe\">\n",
       "  <thead>\n",
       "    <tr style=\"text-align: right;\">\n",
       "      <th>col_0</th>\n",
       "      <th>count</th>\n",
       "    </tr>\n",
       "    <tr>\n",
       "      <th>target</th>\n",
       "      <th></th>\n",
       "    </tr>\n",
       "  </thead>\n",
       "  <tbody>\n",
       "    <tr>\n",
       "      <th>0</th>\n",
       "      <td>138</td>\n",
       "    </tr>\n",
       "    <tr>\n",
       "      <th>1</th>\n",
       "      <td>165</td>\n",
       "    </tr>\n",
       "  </tbody>\n",
       "</table>\n",
       "</div>"
      ],
      "text/plain": [
       "col_0   count\n",
       "target       \n",
       "0         138\n",
       "1         165"
      ]
     },
     "execution_count": 6,
     "metadata": {},
     "output_type": "execute_result"
    },
    {
     "data": {
      "image/png": "[encoded data removed]",
      "text/plain": [
       "<Figure size 432x288 with 1 Axes>"
      ]
     },
     "metadata": {
      "needs_background": "light"
     },
     "output_type": "display_data"
    }
   ],
   "source": [
    "sns.countplot(x=\"target\", data=df)\n",
    "pd.crosstab(index=df[\"target\"], columns=\"count\")"
   ]
  },
  {
   "cell_type": "code",
   "execution_count": 7,
   "metadata": {},
   "outputs": [
    {
     "data": {
      "text/plain": [
       "54.45544554455446"
      ]
     },
     "execution_count": 7,
     "metadata": {},
     "output_type": "execute_result"
    }
   ],
   "source": [
    "df.target[df.target==1].aggregate('count') / df.shape[0] * 100"
   ]
  },
  {
   "cell_type": "markdown",
   "metadata": {},
   "source": [
    "Encontramos que la base de datos está aceptablemente balanceada, con un 54% de los individuos presentando una enfermedad cardiaca."
   ]
  },
  {
   "cell_type": "markdown",
   "metadata": {},
   "source": [
    "Es necesario remarcar que todas las variables tienen un tipo numérico, lo que es un error, ya que algunas de entre ellas tienen una codificación categórica que no debería interpretarse como una cantidad."
   ]
  },
  {
   "cell_type": "code",
   "execution_count": 8,
   "metadata": {},
   "outputs": [
    {
     "name": "stdout",
     "output_type": "stream",
     "text": [
      "Valores de sexo: [1 0]\n",
      "Valores de tipo_dolor: [3 2 1 0]\n",
      "Valores de azucar: [1 0]\n",
      "Valores de ecg: [0 1 2]\n",
      "Valores de angina: [0 1]\n",
      "Valores de pendiente: [0 2 1]\n",
      "Valores de thal: [1 2 3 0]\n"
     ]
    }
   ],
   "source": [
    "for var in var_categoricas:\n",
    "    unicos = df[var].unique()\n",
    "    print('Valores de {}: {}'.format(var, unicos))"
   ]
  },
  {
   "cell_type": "markdown",
   "metadata": {},
   "source": [
    " De particular atención son las variables *tipo_dolor*, *ecg*, *pendiente*, *thal*, que poseen mas de 2 categorías."
   ]
  },
  {
   "cell_type": "markdown",
   "metadata": {},
   "source": [
    "Vamos a crear una estructura donde guardaremos variables en su estado original, ya que vamos a modificarlas para poder utilizarlas todas en la creación del modelo. Utilizaremos la función **copy** de pandas para crear un nuevo objeto independiente del inicial (copia profunda), de tal manera que la modificación de los elementos de un dataframe no afectarán al otro."
   ]
  },
  {
   "cell_type": "code",
   "execution_count": 9,
   "metadata": {},
   "outputs": [],
   "source": [
    "df_ori = df.copy(deep=True)"
   ]
  },
  {
   "cell_type": "markdown",
   "metadata": {},
   "source": [
    "Vamos a cambiar los tipos de datos de las variables categóricas"
   ]
  },
  {
   "cell_type": "code",
   "execution_count": 10,
   "metadata": {},
   "outputs": [],
   "source": [
    "for var in var_categoricas:\n",
    "    df[var] = df[var].astype(str)"
   ]
  },
  {
   "cell_type": "code",
   "execution_count": 11,
   "metadata": {},
   "outputs": [
    {
     "name": "stdout",
     "output_type": "stream",
     "text": [
      "<class 'pandas.core.frame.DataFrame'>\n",
      "RangeIndex: 303 entries, 0 to 302\n",
      "Data columns (total 14 columns):\n",
      " #   Column      Non-Null Count  Dtype  \n",
      "---  ------      --------------  -----  \n",
      " 0   edad        303 non-null    int64  \n",
      " 1   sexo        303 non-null    object \n",
      " 2   tipo_dolor  303 non-null    object \n",
      " 3   presion     303 non-null    int64  \n",
      " 4   colesterol  303 non-null    int64  \n",
      " 5   azucar      303 non-null    object \n",
      " 6   ecg         303 non-null    object \n",
      " 7   pulso       303 non-null    int64  \n",
      " 8   angina      303 non-null    object \n",
      " 9   st          303 non-null    float64\n",
      " 10  pendiente   303 non-null    object \n",
      " 11  venas       303 non-null    int64  \n",
      " 12  thal        303 non-null    object \n",
      " 13  target      303 non-null    int64  \n",
      "dtypes: float64(1), int64(6), object(7)\n",
      "memory usage: 33.3+ KB\n"
     ]
    }
   ],
   "source": [
    "df.info()"
   ]
  },
  {
   "cell_type": "markdown",
   "metadata": {},
   "source": [
    "### 2.1.2 Visualizaciones de una variable independiente vs. variable objetivo"
   ]
  },
  {
   "cell_type": "markdown",
   "metadata": {},
   "source": [
    "Vamos a realizar unas visualizaciones para entender el poder predictivo de cada variable."
   ]
  },
  {
   "cell_type": "markdown",
   "metadata": {},
   "source": [
    "Para las variables categóricas, creamos plots de barras de conteo de instancias para cada clase."
   ]
  },
  {
   "cell_type": "code",
   "execution_count": 12,
   "metadata": {},
   "outputs": [
    {
     "data": {
      "image/png": "[encoded data removed]",
      "text/plain": [
       "<Figure size 1296x1080 with 7 Axes>"
      ]
     },
     "metadata": {
      "needs_background": "light"
     },
     "output_type": "display_data"
    }
   ],
   "source": [
    "fig = plt.figure(figsize=(18,15))\n",
    "i=1\n",
    "for variable in var_categoricas:\n",
    "    ax = fig.add_subplot(math.ceil(len(var_categoricas)/2), 2, i)\n",
    "    sns.countplot(x=variable, hue=\"target\", data=df, palette={0: 'g', 1: 'r'})\n",
    "    plt.legend(['Control', 'Enfermo'])\n",
    "    i+=1"
   ]
  },
  {
   "cell_type": "markdown",
   "metadata": {},
   "source": [
    "Para las variables numéricas, creamos plots de densidad de los valores"
   ]
  },
  {
   "cell_type": "code",
   "execution_count": 13,
   "metadata": {},
   "outputs": [
    {
     "data": {
      "text/plain": [
       "['edad', 'presion', 'colesterol', 'pulso', 'st']"
      ]
     },
     "execution_count": 13,
     "metadata": {},
     "output_type": "execute_result"
    }
   ],
   "source": [
    "var_numericas[0:5]"
   ]
  },
  {
   "cell_type": "code",
   "execution_count": 14,
   "metadata": {},
   "outputs": [
    {
     "name": "stderr",
     "output_type": "stream",
     "text": [
      "C:\\Install\\anaconda3\\envs\\tf-py397\\lib\\site-packages\\seaborn\\distributions.py:1699: FutureWarning: The `bw` parameter is deprecated in favor of `bw_method` and `bw_adjust`. Using 0.1 for `bw_method`, but please see the docs for the new parameters and update your code.\n",
      "  warnings.warn(msg, FutureWarning)\n",
      "C:\\Install\\anaconda3\\envs\\tf-py397\\lib\\site-packages\\seaborn\\distributions.py:1699: FutureWarning: The `bw` parameter is deprecated in favor of `bw_method` and `bw_adjust`. Using 0.1 for `bw_method`, but please see the docs for the new parameters and update your code.\n",
      "  warnings.warn(msg, FutureWarning)\n"
     ]
    },
    {
     "data": {
      "text/plain": [
       "<matplotlib.legend.Legend at 0x2b84ffbb730>"
      ]
     },
     "execution_count": 14,
     "metadata": {},
     "output_type": "execute_result"
    },
    {
     "data": {
      "image/png": "[encoded data removed]",
      "text/plain": [
       "<Figure size 1296x1080 with 6 Axes>"
      ]
     },
     "metadata": {
      "needs_background": "light"
     },
     "output_type": "display_data"
    }
   ],
   "source": [
    "fig = plt.figure(figsize=(18,15)) # Definimos el tamaño de la figura\n",
    "i=1\n",
    "for variable in var_numericas[0:5]:\n",
    "    ax = fig.add_subplot(math.ceil(len(var_numericas)/2), 2, i)\n",
    "    sns.kdeplot(df.loc[df.target==0, variable], shade=True, color='g', ax=ax);\n",
    "    sns.kdeplot(df.loc[df.target==1, variable], shade=True, color='r', ax=ax);\n",
    "    plt.title(variable)\n",
    "    plt.legend(['Control', 'Enfermo'])\n",
    "    i+=1\n",
    "    \n",
    "ax = fig.add_subplot(math.ceil(len(var_numericas)/2), 2, i)\n",
    "sns.kdeplot(df.loc[df.target==0, \"venas\"], shade=True, color='g', ax=ax,bw=0.1);\n",
    "sns.kdeplot(df.loc[df.target==1, \"venas\"], shade=True, color='r', ax=ax,bw=0.1);\n",
    "plt.title(\"venas\")\n",
    "plt.legend(['Control', 'Enfermo'])"
   ]
  },
  {
   "cell_type": "markdown",
   "metadata": {},
   "source": [
    "Obtenemos ahora las variables dummy"
   ]
  },
  {
   "cell_type": "code",
   "execution_count": 15,
   "metadata": {},
   "outputs": [
    {
     "data": {
      "text/html": [
       "<div>\n",
       "<style scoped>\n",
       "    .dataframe tbody tr th:only-of-type {\n",
       "        vertical-align: middle;\n",
       "    }\n",
       "\n",
       "    .dataframe tbody tr th {\n",
       "        vertical-align: top;\n",
       "    }\n",
       "\n",
       "    .dataframe thead th {\n",
       "        text-align: right;\n",
       "    }\n",
       "</style>\n",
       "<table border=\"1\" class=\"dataframe\">\n",
       "  <thead>\n",
       "    <tr style=\"text-align: right;\">\n",
       "      <th></th>\n",
       "      <th>sexo_0</th>\n",
       "      <th>sexo_1</th>\n",
       "      <th>tipo_dolor_0</th>\n",
       "      <th>tipo_dolor_1</th>\n",
       "      <th>tipo_dolor_2</th>\n",
       "      <th>tipo_dolor_3</th>\n",
       "      <th>azucar_0</th>\n",
       "      <th>azucar_1</th>\n",
       "      <th>ecg_0</th>\n",
       "      <th>ecg_1</th>\n",
       "      <th>ecg_2</th>\n",
       "      <th>angina_0</th>\n",
       "      <th>angina_1</th>\n",
       "      <th>pendiente_0</th>\n",
       "      <th>pendiente_1</th>\n",
       "      <th>pendiente_2</th>\n",
       "      <th>thal_0</th>\n",
       "      <th>thal_1</th>\n",
       "      <th>thal_2</th>\n",
       "      <th>thal_3</th>\n",
       "    </tr>\n",
       "  </thead>\n",
       "  <tbody>\n",
       "    <tr>\n",
       "      <th>0</th>\n",
       "      <td>0</td>\n",
       "      <td>1</td>\n",
       "      <td>0</td>\n",
       "      <td>0</td>\n",
       "      <td>0</td>\n",
       "      <td>1</td>\n",
       "      <td>0</td>\n",
       "      <td>1</td>\n",
       "      <td>1</td>\n",
       "      <td>0</td>\n",
       "      <td>0</td>\n",
       "      <td>1</td>\n",
       "      <td>0</td>\n",
       "      <td>1</td>\n",
       "      <td>0</td>\n",
       "      <td>0</td>\n",
       "      <td>0</td>\n",
       "      <td>1</td>\n",
       "      <td>0</td>\n",
       "      <td>0</td>\n",
       "    </tr>\n",
       "    <tr>\n",
       "      <th>1</th>\n",
       "      <td>0</td>\n",
       "      <td>1</td>\n",
       "      <td>0</td>\n",
       "      <td>0</td>\n",
       "      <td>1</td>\n",
       "      <td>0</td>\n",
       "      <td>1</td>\n",
       "      <td>0</td>\n",
       "      <td>0</td>\n",
       "      <td>1</td>\n",
       "      <td>0</td>\n",
       "      <td>1</td>\n",
       "      <td>0</td>\n",
       "      <td>1</td>\n",
       "      <td>0</td>\n",
       "      <td>0</td>\n",
       "      <td>0</td>\n",
       "      <td>0</td>\n",
       "      <td>1</td>\n",
       "      <td>0</td>\n",
       "    </tr>\n",
       "    <tr>\n",
       "      <th>2</th>\n",
       "      <td>1</td>\n",
       "      <td>0</td>\n",
       "      <td>0</td>\n",
       "      <td>1</td>\n",
       "      <td>0</td>\n",
       "      <td>0</td>\n",
       "      <td>1</td>\n",
       "      <td>0</td>\n",
       "      <td>1</td>\n",
       "      <td>0</td>\n",
       "      <td>0</td>\n",
       "      <td>1</td>\n",
       "      <td>0</td>\n",
       "      <td>0</td>\n",
       "      <td>0</td>\n",
       "      <td>1</td>\n",
       "      <td>0</td>\n",
       "      <td>0</td>\n",
       "      <td>1</td>\n",
       "      <td>0</td>\n",
       "    </tr>\n",
       "    <tr>\n",
       "      <th>3</th>\n",
       "      <td>0</td>\n",
       "      <td>1</td>\n",
       "      <td>0</td>\n",
       "      <td>1</td>\n",
       "      <td>0</td>\n",
       "      <td>0</td>\n",
       "      <td>1</td>\n",
       "      <td>0</td>\n",
       "      <td>0</td>\n",
       "      <td>1</td>\n",
       "      <td>0</td>\n",
       "      <td>1</td>\n",
       "      <td>0</td>\n",
       "      <td>0</td>\n",
       "      <td>0</td>\n",
       "      <td>1</td>\n",
       "      <td>0</td>\n",
       "      <td>0</td>\n",
       "      <td>1</td>\n",
       "      <td>0</td>\n",
       "    </tr>\n",
       "    <tr>\n",
       "      <th>4</th>\n",
       "      <td>1</td>\n",
       "      <td>0</td>\n",
       "      <td>1</td>\n",
       "      <td>0</td>\n",
       "      <td>0</td>\n",
       "      <td>0</td>\n",
       "      <td>1</td>\n",
       "      <td>0</td>\n",
       "      <td>0</td>\n",
       "      <td>1</td>\n",
       "      <td>0</td>\n",
       "      <td>0</td>\n",
       "      <td>1</td>\n",
       "      <td>0</td>\n",
       "      <td>0</td>\n",
       "      <td>1</td>\n",
       "      <td>0</td>\n",
       "      <td>0</td>\n",
       "      <td>1</td>\n",
       "      <td>0</td>\n",
       "    </tr>\n",
       "  </tbody>\n",
       "</table>\n",
       "</div>"
      ],
      "text/plain": [
       "   sexo_0  sexo_1  tipo_dolor_0  tipo_dolor_1  tipo_dolor_2  tipo_dolor_3  \\\n",
       "0       0       1             0             0             0             1   \n",
       "1       0       1             0             0             1             0   \n",
       "2       1       0             0             1             0             0   \n",
       "3       0       1             0             1             0             0   \n",
       "4       1       0             1             0             0             0   \n",
       "\n",
       "   azucar_0  azucar_1  ecg_0  ecg_1  ecg_2  angina_0  angina_1  pendiente_0  \\\n",
       "0         0         1      1      0      0         1         0            1   \n",
       "1         1         0      0      1      0         1         0            1   \n",
       "2         1         0      1      0      0         1         0            0   \n",
       "3         1         0      0      1      0         1         0            0   \n",
       "4         1         0      0      1      0         0         1            0   \n",
       "\n",
       "   pendiente_1  pendiente_2  thal_0  thal_1  thal_2  thal_3  \n",
       "0            0            0       0       1       0       0  \n",
       "1            0            0       0       0       1       0  \n",
       "2            0            1       0       0       1       0  \n",
       "3            0            1       0       0       1       0  \n",
       "4            0            1       0       0       1       0  "
      ]
     },
     "execution_count": 15,
     "metadata": {},
     "output_type": "execute_result"
    }
   ],
   "source": [
    "dummies = pd.get_dummies(df[var_categoricas])\n",
    "dummies.head()"
   ]
  },
  {
   "cell_type": "markdown",
   "metadata": {},
   "source": [
    "Y creamos un nuevo dataset reemplazando las variables originales por las variables dummy:"
   ]
  },
  {
   "cell_type": "code",
   "execution_count": 16,
   "metadata": {},
   "outputs": [
    {
     "data": {
      "text/plain": [
       "Index(['edad', 'sexo', 'tipo_dolor', 'presion', 'colesterol', 'azucar', 'ecg',\n",
       "       'pulso', 'angina', 'st', 'pendiente', 'venas', 'thal', 'target'],\n",
       "      dtype='object')"
      ]
     },
     "execution_count": 16,
     "metadata": {},
     "output_type": "execute_result"
    }
   ],
   "source": [
    "df.columns"
   ]
  },
  {
   "cell_type": "code",
   "execution_count": 17,
   "metadata": {},
   "outputs": [],
   "source": [
    "df = pd.concat([    df[var_numericas],     dummies,    df[['target']]   ], axis = 1)"
   ]
  },
  {
   "cell_type": "code",
   "execution_count": 18,
   "metadata": {},
   "outputs": [
    {
     "data": {
      "text/html": [
       "<div>\n",
       "<style scoped>\n",
       "    .dataframe tbody tr th:only-of-type {\n",
       "        vertical-align: middle;\n",
       "    }\n",
       "\n",
       "    .dataframe tbody tr th {\n",
       "        vertical-align: top;\n",
       "    }\n",
       "\n",
       "    .dataframe thead th {\n",
       "        text-align: right;\n",
       "    }\n",
       "</style>\n",
       "<table border=\"1\" class=\"dataframe\">\n",
       "  <thead>\n",
       "    <tr style=\"text-align: right;\">\n",
       "      <th></th>\n",
       "      <th>0</th>\n",
       "      <th>1</th>\n",
       "      <th>2</th>\n",
       "      <th>3</th>\n",
       "      <th>4</th>\n",
       "    </tr>\n",
       "  </thead>\n",
       "  <tbody>\n",
       "    <tr>\n",
       "      <th>edad</th>\n",
       "      <td>63.0</td>\n",
       "      <td>37.0</td>\n",
       "      <td>41.0</td>\n",
       "      <td>56.0</td>\n",
       "      <td>57.0</td>\n",
       "    </tr>\n",
       "    <tr>\n",
       "      <th>presion</th>\n",
       "      <td>145.0</td>\n",
       "      <td>130.0</td>\n",
       "      <td>130.0</td>\n",
       "      <td>120.0</td>\n",
       "      <td>120.0</td>\n",
       "    </tr>\n",
       "    <tr>\n",
       "      <th>colesterol</th>\n",
       "      <td>233.0</td>\n",
       "      <td>250.0</td>\n",
       "      <td>204.0</td>\n",
       "      <td>236.0</td>\n",
       "      <td>354.0</td>\n",
       "    </tr>\n",
       "    <tr>\n",
       "      <th>pulso</th>\n",
       "      <td>150.0</td>\n",
       "      <td>187.0</td>\n",
       "      <td>172.0</td>\n",
       "      <td>178.0</td>\n",
       "      <td>163.0</td>\n",
       "    </tr>\n",
       "    <tr>\n",
       "      <th>st</th>\n",
       "      <td>2.3</td>\n",
       "      <td>3.5</td>\n",
       "      <td>1.4</td>\n",
       "      <td>0.8</td>\n",
       "      <td>0.6</td>\n",
       "    </tr>\n",
       "    <tr>\n",
       "      <th>venas</th>\n",
       "      <td>0.0</td>\n",
       "      <td>0.0</td>\n",
       "      <td>0.0</td>\n",
       "      <td>0.0</td>\n",
       "      <td>0.0</td>\n",
       "    </tr>\n",
       "    <tr>\n",
       "      <th>sexo_0</th>\n",
       "      <td>0.0</td>\n",
       "      <td>0.0</td>\n",
       "      <td>1.0</td>\n",
       "      <td>0.0</td>\n",
       "      <td>1.0</td>\n",
       "    </tr>\n",
       "    <tr>\n",
       "      <th>sexo_1</th>\n",
       "      <td>1.0</td>\n",
       "      <td>1.0</td>\n",
       "      <td>0.0</td>\n",
       "      <td>1.0</td>\n",
       "      <td>0.0</td>\n",
       "    </tr>\n",
       "    <tr>\n",
       "      <th>tipo_dolor_0</th>\n",
       "      <td>0.0</td>\n",
       "      <td>0.0</td>\n",
       "      <td>0.0</td>\n",
       "      <td>0.0</td>\n",
       "      <td>1.0</td>\n",
       "    </tr>\n",
       "    <tr>\n",
       "      <th>tipo_dolor_1</th>\n",
       "      <td>0.0</td>\n",
       "      <td>0.0</td>\n",
       "      <td>1.0</td>\n",
       "      <td>1.0</td>\n",
       "      <td>0.0</td>\n",
       "    </tr>\n",
       "    <tr>\n",
       "      <th>tipo_dolor_2</th>\n",
       "      <td>0.0</td>\n",
       "      <td>1.0</td>\n",
       "      <td>0.0</td>\n",
       "      <td>0.0</td>\n",
       "      <td>0.0</td>\n",
       "    </tr>\n",
       "    <tr>\n",
       "      <th>tipo_dolor_3</th>\n",
       "      <td>1.0</td>\n",
       "      <td>0.0</td>\n",
       "      <td>0.0</td>\n",
       "      <td>0.0</td>\n",
       "      <td>0.0</td>\n",
       "    </tr>\n",
       "    <tr>\n",
       "      <th>azucar_0</th>\n",
       "      <td>0.0</td>\n",
       "      <td>1.0</td>\n",
       "      <td>1.0</td>\n",
       "      <td>1.0</td>\n",
       "      <td>1.0</td>\n",
       "    </tr>\n",
       "    <tr>\n",
       "      <th>azucar_1</th>\n",
       "      <td>1.0</td>\n",
       "      <td>0.0</td>\n",
       "      <td>0.0</td>\n",
       "      <td>0.0</td>\n",
       "      <td>0.0</td>\n",
       "    </tr>\n",
       "    <tr>\n",
       "      <th>ecg_0</th>\n",
       "      <td>1.0</td>\n",
       "      <td>0.0</td>\n",
       "      <td>1.0</td>\n",
       "      <td>0.0</td>\n",
       "      <td>0.0</td>\n",
       "    </tr>\n",
       "    <tr>\n",
       "      <th>ecg_1</th>\n",
       "      <td>0.0</td>\n",
       "      <td>1.0</td>\n",
       "      <td>0.0</td>\n",
       "      <td>1.0</td>\n",
       "      <td>1.0</td>\n",
       "    </tr>\n",
       "    <tr>\n",
       "      <th>ecg_2</th>\n",
       "      <td>0.0</td>\n",
       "      <td>0.0</td>\n",
       "      <td>0.0</td>\n",
       "      <td>0.0</td>\n",
       "      <td>0.0</td>\n",
       "    </tr>\n",
       "    <tr>\n",
       "      <th>angina_0</th>\n",
       "      <td>1.0</td>\n",
       "      <td>1.0</td>\n",
       "      <td>1.0</td>\n",
       "      <td>1.0</td>\n",
       "      <td>0.0</td>\n",
       "    </tr>\n",
       "    <tr>\n",
       "      <th>angina_1</th>\n",
       "      <td>0.0</td>\n",
       "      <td>0.0</td>\n",
       "      <td>0.0</td>\n",
       "      <td>0.0</td>\n",
       "      <td>1.0</td>\n",
       "    </tr>\n",
       "    <tr>\n",
       "      <th>pendiente_0</th>\n",
       "      <td>1.0</td>\n",
       "      <td>1.0</td>\n",
       "      <td>0.0</td>\n",
       "      <td>0.0</td>\n",
       "      <td>0.0</td>\n",
       "    </tr>\n",
       "    <tr>\n",
       "      <th>pendiente_1</th>\n",
       "      <td>0.0</td>\n",
       "      <td>0.0</td>\n",
       "      <td>0.0</td>\n",
       "      <td>0.0</td>\n",
       "      <td>0.0</td>\n",
       "    </tr>\n",
       "    <tr>\n",
       "      <th>pendiente_2</th>\n",
       "      <td>0.0</td>\n",
       "      <td>0.0</td>\n",
       "      <td>1.0</td>\n",
       "      <td>1.0</td>\n",
       "      <td>1.0</td>\n",
       "    </tr>\n",
       "    <tr>\n",
       "      <th>thal_0</th>\n",
       "      <td>0.0</td>\n",
       "      <td>0.0</td>\n",
       "      <td>0.0</td>\n",
       "      <td>0.0</td>\n",
       "      <td>0.0</td>\n",
       "    </tr>\n",
       "    <tr>\n",
       "      <th>thal_1</th>\n",
       "      <td>1.0</td>\n",
       "      <td>0.0</td>\n",
       "      <td>0.0</td>\n",
       "      <td>0.0</td>\n",
       "      <td>0.0</td>\n",
       "    </tr>\n",
       "    <tr>\n",
       "      <th>thal_2</th>\n",
       "      <td>0.0</td>\n",
       "      <td>1.0</td>\n",
       "      <td>1.0</td>\n",
       "      <td>1.0</td>\n",
       "      <td>1.0</td>\n",
       "    </tr>\n",
       "    <tr>\n",
       "      <th>thal_3</th>\n",
       "      <td>0.0</td>\n",
       "      <td>0.0</td>\n",
       "      <td>0.0</td>\n",
       "      <td>0.0</td>\n",
       "      <td>0.0</td>\n",
       "    </tr>\n",
       "    <tr>\n",
       "      <th>target</th>\n",
       "      <td>1.0</td>\n",
       "      <td>1.0</td>\n",
       "      <td>1.0</td>\n",
       "      <td>1.0</td>\n",
       "      <td>1.0</td>\n",
       "    </tr>\n",
       "  </tbody>\n",
       "</table>\n",
       "</div>"
      ],
      "text/plain": [
       "                  0      1      2      3      4\n",
       "edad           63.0   37.0   41.0   56.0   57.0\n",
       "presion       145.0  130.0  130.0  120.0  120.0\n",
       "colesterol    233.0  250.0  204.0  236.0  354.0\n",
       "pulso         150.0  187.0  172.0  178.0  163.0\n",
       "st              2.3    3.5    1.4    0.8    0.6\n",
       "venas           0.0    0.0    0.0    0.0    0.0\n",
       "sexo_0          0.0    0.0    1.0    0.0    1.0\n",
       "sexo_1          1.0    1.0    0.0    1.0    0.0\n",
       "tipo_dolor_0    0.0    0.0    0.0    0.0    1.0\n",
       "tipo_dolor_1    0.0    0.0    1.0    1.0    0.0\n",
       "tipo_dolor_2    0.0    1.0    0.0    0.0    0.0\n",
       "tipo_dolor_3    1.0    0.0    0.0    0.0    0.0\n",
       "azucar_0        0.0    1.0    1.0    1.0    1.0\n",
       "azucar_1        1.0    0.0    0.0    0.0    0.0\n",
       "ecg_0           1.0    0.0    1.0    0.0    0.0\n",
       "ecg_1           0.0    1.0    0.0    1.0    1.0\n",
       "ecg_2           0.0    0.0    0.0    0.0    0.0\n",
       "angina_0        1.0    1.0    1.0    1.0    0.0\n",
       "angina_1        0.0    0.0    0.0    0.0    1.0\n",
       "pendiente_0     1.0    1.0    0.0    0.0    0.0\n",
       "pendiente_1     0.0    0.0    0.0    0.0    0.0\n",
       "pendiente_2     0.0    0.0    1.0    1.0    1.0\n",
       "thal_0          0.0    0.0    0.0    0.0    0.0\n",
       "thal_1          1.0    0.0    0.0    0.0    0.0\n",
       "thal_2          0.0    1.0    1.0    1.0    1.0\n",
       "thal_3          0.0    0.0    0.0    0.0    0.0\n",
       "target          1.0    1.0    1.0    1.0    1.0"
      ]
     },
     "execution_count": 18,
     "metadata": {},
     "output_type": "execute_result"
    }
   ],
   "source": [
    "df.head().T"
   ]
  },
  {
   "cell_type": "markdown",
   "metadata": {},
   "source": [
    "### 2.1.2 Visualizaciones de pares de variables independientes vs. variable objetivo"
   ]
  },
  {
   "cell_type": "markdown",
   "metadata": {},
   "source": [
    "Teniendo en cuenta las variables que parecen más importantes de manera independiente, vamos a ver como se relacionan por pares frente a la variable objetivo.\n",
    "\n",
    "En este caso vamos a utilizar directamente la librería **matplotlib**, sin pasar por **seaborn**. La primera es más verbosa que la segunda, pero permite una mayor flexibilidad."
   ]
  },
  {
   "cell_type": "code",
   "execution_count": 19,
   "metadata": {},
   "outputs": [
    {
     "data": {
      "image/png": "[encoded data removed]",
      "text/plain": [
       "<Figure size 1080x360 with 2 Axes>"
      ]
     },
     "metadata": {
      "needs_background": "light"
     },
     "output_type": "display_data"
    }
   ],
   "source": [
    "colores = {0: \"green\", 1: \"red\"}\n",
    "labels = {0: \"Control\", 1: \"Enfermo\"}\n",
    "fig, axs = plt.subplots(figsize=[15, 5], ncols=2, nrows=1)\n",
    "\n",
    "for codigo, group in df.groupby('target'):\n",
    "    color = colores[codigo]\n",
    "    label = labels[codigo]\n",
    "    axs[0].scatter(group[\"edad\"], group[\"pulso\"], alpha=0.8, c=color, edgecolors='none', s=30, label=label)\n",
    "axs[0].set_xlabel('edad')\n",
    "axs[0].set_ylabel('pulso')\n",
    "axs[0].set_title('Scatterplot: pulso vs. edad')\n",
    "axs[0].legend(loc=\"best\")\n",
    "\n",
    "for codigo, group in df.groupby('target'):\n",
    "    color = colores[codigo]\n",
    "    label = labels[codigo]\n",
    "    axs[1].scatter(group[\"edad\"], group[\"st\"], alpha=0.8, c=color, edgecolors='none', s=30, label=label)\n",
    "axs[1].set_xlabel('edad')\n",
    "axs[1].set_ylabel('pulso')\n",
    "axs[1].set_title('Scatterplot: st vs. edad')\n",
    "axs[1].legend(loc=\"best\")\n",
    "\n",
    "\n",
    "plt.show()"
   ]
  },
  {
   "cell_type": "markdown",
   "metadata": {},
   "source": [
    "## 2.2 PCA"
   ]
  },
  {
   "cell_type": "markdown",
   "metadata": {},
   "source": [
    "<font color='red'>El siguiente tratamiento es meramente ilustrativo. Al haber variables dummies en el dataset, no se debería utilizar PCA.</font>"
   ]
  },
  {
   "cell_type": "markdown",
   "metadata": {},
   "source": [
    "Vamos a visualizar los datos utilizando PCA (2 primeras dimensiones)."
   ]
  },
  {
   "cell_type": "code",
   "execution_count": 20,
   "metadata": {},
   "outputs": [],
   "source": [
    "from sklearn import preprocessing\n",
    "X_std = preprocessing.scale(df.iloc[:,:(len(df.columns)-1)])\n"
   ]
  },
  {
   "cell_type": "code",
   "execution_count": 21,
   "metadata": {},
   "outputs": [
    {
     "data": {
      "text/plain": [
       "(303, 26)"
      ]
     },
     "execution_count": 21,
     "metadata": {},
     "output_type": "execute_result"
    }
   ],
   "source": [
    "X_std.shape"
   ]
  },
  {
   "cell_type": "code",
   "execution_count": 22,
   "metadata": {},
   "outputs": [
    {
     "name": "stdout",
     "output_type": "stream",
     "text": [
      "edad: 4.6900510611227736e-17, 1.0\n",
      "presion: -7.035076591684161e-16, 1.0\n",
      "colesterol: -1.1138871270166586e-16, 0.9999999999999999\n",
      "pulso: -6.800574038628022e-16, 0.9999999999999998\n",
      "st: 2.3450255305613868e-17, 1.0\n",
      "venas: -2.3450255305613868e-17, 0.9999999999999999\n",
      "sexo_0: 2.3450255305613868e-17, 1.0\n",
      "sexo_1: -1.407015318336832e-16, 1.0\n",
      "tipo_dolor_0: 4.6900510611227736e-17, 1.0\n",
      "tipo_dolor_1: 7.03507659168416e-17, 0.9999999999999999\n",
      "tipo_dolor_2: 4.6900510611227736e-17, 0.9999999999999999\n",
      "tipo_dolor_3: 5.862563826403467e-18, 1.0\n",
      "azucar_0: 7.91446116564468e-17, 1.0\n",
      "azucar_1: -2.3450255305613868e-17, 1.0\n",
      "ecg_0: 1.75876914792104e-17, 0.9999999999999999\n",
      "ecg_1: 4.6900510611227736e-17, 0.9999999999999999\n",
      "ecg_2: 3.51753829584208e-17, 1.0\n",
      "angina_0: -2.3450255305613868e-17, 1.0\n",
      "angina_1: -4.6900510611227736e-17, 1.0\n",
      "pendiente_0: 2.3450255305613868e-17, 1.0\n",
      "pendiente_1: -2.3450255305613868e-17, 0.9999999999999998\n",
      "pendiente_2: -9.380102122245547e-17, 0.9999999999999999\n",
      "thal_0: 0.0, 0.9999999999999998\n",
      "thal_1: -1.75876914792104e-17, 0.9999999999999997\n",
      "thal_2: 9.380102122245547e-17, 1.0\n",
      "thal_3: -4.6900510611227736e-17, 1.0\n"
     ]
    }
   ],
   "source": [
    "i=0\n",
    "for var in df.columns[:(len(df.columns)-1)]:\n",
    "    print(\"{}: {}, {}\".format(var, np.mean(X_std[:,i]), np.std(X_std[:,i])))\n",
    "    i+=1"
   ]
  },
  {
   "cell_type": "code",
   "execution_count": 23,
   "metadata": {},
   "outputs": [
    {
     "data": {
      "text/plain": [
       "PCA()"
      ]
     },
     "execution_count": 23,
     "metadata": {},
     "output_type": "execute_result"
    }
   ],
   "source": [
    "from sklearn.decomposition import PCA\n",
    "\n",
    "pca = PCA()\n",
    "pca.fit(X_std)"
   ]
  },
  {
   "cell_type": "markdown",
   "metadata": {},
   "source": [
    "Una vez ajustado el objeto PCA a un dataset, este permite acceder a diferentes aspectos resultantes de la transformación:\n",
    "- components_: los ejes de los componentes principales en función de las variables originales. Como teníamos 6 variables, vamos a tener 6 PCs, cada uno con las cargas (*loadings*) correspondientes a cada variable original."
   ]
  },
  {
   "cell_type": "code",
   "execution_count": 24,
   "metadata": {},
   "outputs": [
    {
     "data": {
      "text/plain": [
       "array([[-1.59236911e-01, -9.72176386e-02, -4.27303893e-02,\n",
       "         2.84690370e-01, -2.78932159e-01, -1.66064853e-01,\n",
       "         1.44737226e-01, -1.44737226e-01, -2.95955631e-01,\n",
       "         1.87976580e-01,  1.70373342e-01,  3.35284167e-03,\n",
       "         4.98195522e-02, -4.98195522e-02, -1.19562658e-01,\n",
       "         1.30946886e-01, -5.00992708e-02,  3.14383764e-01,\n",
       "        -3.14383764e-01, -7.90156095e-02, -2.56809888e-01,\n",
       "         2.96789062e-01, -3.56807715e-03, -1.01532059e-01,\n",
       "         3.17190550e-01, -2.74364329e-01],\n",
       "       [ 2.57932534e-01,  1.75243552e-01,  2.46351530e-01,\n",
       "        -1.10665958e-01,  8.21413701e-02,  3.00762522e-02,\n",
       "         4.85197117e-01, -4.85197117e-01, -1.16501881e-02,\n",
       "        -8.05147254e-02,  7.77739352e-02,  1.94814082e-03,\n",
       "        -9.22930021e-02,  9.22930021e-02,  2.58546256e-01,\n",
       "        -2.89279585e-01,  1.35127434e-01,  3.90728057e-02,\n",
       "        -3.90728057e-02,  2.67123688e-02,  1.48037300e-01,\n",
       "        -1.61496579e-01,  1.50873686e-02, -1.63073908e-02,\n",
       "         2.24468382e-01, -2.24058680e-01],\n",
       "       [ 8.12103067e-02,  2.01904692e-01, -2.09795734e-02,\n",
       "         1.07955262e-01, -5.37829290e-03,  1.06188644e-01,\n",
       "        -2.01752442e-01,  2.01752442e-01, -1.84503853e-01,\n",
       "        -1.93246925e-02,  1.21368580e-01,  1.67528726e-01,\n",
       "        -5.41172758e-01,  5.41172758e-01,  1.95637433e-01,\n",
       "        -1.74838910e-01, -9.07388528e-02,  1.36232480e-01,\n",
       "        -1.36232480e-01,  1.39537803e-01, -1.59286723e-01,\n",
       "         8.81222541e-02,  4.00751699e-02,  9.68965464e-02,\n",
       "        -7.95303022e-02,  2.75904987e-02],\n",
       "       [ 7.12493534e-02,  2.10331444e-02, -8.97238038e-02,\n",
       "        -1.26637958e-01,  6.65214392e-02,  4.67781015e-02,\n",
       "         1.93047474e-01, -1.93047474e-01, -4.32899395e-02,\n",
       "        -1.07306908e-01,  1.98520612e-01, -1.07126272e-01,\n",
       "        -2.71558827e-01,  2.71558827e-01, -5.70920701e-01,\n",
       "         5.49223164e-01,  9.39607392e-02, -4.03434878e-02,\n",
       "         4.03434878e-02,  3.95129370e-02,  9.57929566e-02,\n",
       "        -1.15815126e-01,  9.05656869e-02,  2.92727030e-02,\n",
       "        -5.98057670e-02,  3.18619544e-02],\n",
       "       [ 3.79420264e-02,  4.48336137e-02, -1.80929617e-01,\n",
       "        -5.45598719e-02,  2.74997119e-01, -3.84036672e-02,\n",
       "        -1.12910039e-01,  1.12910039e-01, -2.74572156e-01,\n",
       "        -6.54911062e-02,  1.85161641e-01,  2.93028286e-01,\n",
       "         2.05141540e-01, -2.05141540e-01, -4.03037164e-02,\n",
       "         8.68290532e-03,  1.38444717e-01,  3.59562795e-01,\n",
       "        -3.59562795e-01,  1.95112133e-01,  2.65888379e-01,\n",
       "        -3.64946805e-01, -9.51522295e-02,  1.99456547e-01,\n",
       "        -6.04190125e-02, -1.92502997e-02],\n",
       "       [-1.52490196e-01,  8.59014006e-02, -1.78000329e-01,\n",
       "         3.49722864e-02,  1.95309853e-01, -2.49558693e-01,\n",
       "         3.58440784e-02, -3.58440784e-02,  7.79650443e-02,\n",
       "         1.29321613e-01, -2.83034532e-01,  1.55281680e-01,\n",
       "        -1.55605716e-02,  1.55605716e-02, -6.73414855e-02,\n",
       "         1.71233068e-02,  2.19862807e-01, -2.01556705e-01,\n",
       "         2.01556705e-01,  5.44504930e-01, -2.94968381e-01,\n",
       "         1.75702695e-02, -5.88472344e-03,  2.68278335e-01,\n",
       "         1.64713906e-01, -2.97658204e-01],\n",
       "       [-2.44535980e-01, -3.46234797e-01, -3.04197339e-01,\n",
       "        -1.14460785e-01, -1.81076325e-01, -1.66680994e-01,\n",
       "        -8.17525821e-02,  8.17525821e-02, -2.66762467e-02,\n",
       "        -6.27032719e-02,  1.37774041e-01, -9.71860611e-02,\n",
       "        -1.34739268e-01,  1.34739268e-01,  1.36608132e-01,\n",
       "        -1.17016917e-01, -8.55626737e-02, -1.30725579e-01,\n",
       "         1.30725579e-01, -2.29092434e-01,  3.31424067e-01,\n",
       "        -2.14522372e-01,  2.43377780e-01,  2.66691154e-01,\n",
       "         1.81028302e-01, -3.55023038e-01],\n",
       "       [ 1.98685719e-01,  5.34291380e-02,  2.64265826e-02,\n",
       "        -9.92326546e-02, -1.59019589e-01,  2.08578391e-01,\n",
       "        -5.17951942e-03,  5.17951942e-03,  9.11322252e-02,\n",
       "         4.90528875e-01, -5.38229704e-01,  6.01495730e-02,\n",
       "        -7.33653690e-02,  7.33653690e-02, -1.04072240e-01,\n",
       "         9.99339683e-02,  1.79298969e-02,  1.58106141e-01,\n",
       "        -1.58106141e-01, -2.69185890e-01,  1.69516501e-01,\n",
       "        -3.23579381e-02, -1.27563725e-01,  3.42610229e-01,\n",
       "        -1.02033854e-02, -1.34697734e-01],\n",
       "       [ 1.94103539e-01, -1.02231846e-01, -6.66946248e-02,\n",
       "        -1.68584257e-01,  8.79902100e-03,  3.78764210e-01,\n",
       "        -1.23979094e-01,  1.23979094e-01,  1.81416727e-01,\n",
       "        -2.02226085e-01,  2.28119851e-01, -4.48202642e-01,\n",
       "         7.69816976e-02, -7.69816976e-02, -2.21489828e-03,\n",
       "        -7.51813001e-02,  3.39046208e-01,  1.08330941e-01,\n",
       "        -1.08330941e-01,  4.05571618e-02, -2.46907705e-01,\n",
       "         2.26039142e-01, -9.18063197e-02,  3.08185274e-01,\n",
       "         6.57374997e-02, -2.01562843e-01],\n",
       "       [ 2.64523497e-01,  2.40329241e-01, -4.82991102e-02,\n",
       "        -8.38910075e-02, -9.88652868e-02,  7.59852335e-02,\n",
       "        -9.25779027e-02,  9.25779027e-02, -4.02586996e-02,\n",
       "        -3.89651084e-01,  4.47720873e-02,  5.45510120e-01,\n",
       "         9.05377654e-02, -9.05377654e-02, -9.60518725e-02,\n",
       "         1.19624094e-01, -1.03446474e-01, -1.84491534e-01,\n",
       "         1.84491534e-01, -2.93037481e-01, -4.56395583e-02,\n",
       "         1.94739720e-01, -1.38083803e-01,  5.89818266e-02,\n",
       "         2.29121237e-01, -2.39894063e-01],\n",
       "       [ 1.05925904e-01,  1.56426436e-01, -1.35925140e-01,\n",
       "        -7.04469098e-02, -8.33344337e-02, -9.81138134e-02,\n",
       "         7.05387518e-02, -7.05387518e-02,  1.18511669e-01,\n",
       "        -1.08550080e-01, -1.17282768e-01,  1.29099851e-01,\n",
       "         9.88696797e-02, -9.88696797e-02,  9.99849974e-03,\n",
       "        -3.31639306e-02,  1.01500163e-01,  1.39095161e-01,\n",
       "        -1.39095161e-01, -7.84599715e-02, -1.19137753e-01,\n",
       "         1.58960652e-01,  8.17175045e-01,  1.01061487e-01,\n",
       "        -2.45693229e-01,  6.61828810e-02],\n",
       "       [ 1.36718161e-02,  2.65929773e-01,  2.91633512e-01,\n",
       "         7.15531864e-02, -1.22602015e-01, -2.22807624e-01,\n",
       "        -1.03265231e-01,  1.03265231e-01, -3.88328809e-01,\n",
       "         2.75160733e-01,  2.49127007e-01, -7.92539513e-02,\n",
       "         4.75585540e-02, -4.75585540e-02, -4.67763130e-02,\n",
       "        -6.58919168e-02,  4.93477739e-01, -2.23011492e-01,\n",
       "         2.23011492e-01, -2.02101674e-01,  6.64532571e-02,\n",
       "         3.64679258e-02,  3.70206029e-02,  1.84591794e-01,\n",
       "        -1.40386759e-01,  4.77321629e-02],\n",
       "       [-3.85416399e-01, -4.83873319e-02, -3.34349862e-02,\n",
       "         2.88349748e-01, -8.24063435e-02, -1.00529972e-01,\n",
       "         1.11315715e-01, -1.11315715e-01,  2.95659858e-01,\n",
       "        -3.57992272e-01, -1.38956349e-01,  1.81819605e-01,\n",
       "        -1.16136746e-01,  1.16136746e-01, -2.54650288e-02,\n",
       "        -7.92145211e-02,  4.58522320e-01,  1.16169176e-01,\n",
       "        -1.16169176e-01, -2.42952877e-01,  6.92553093e-02,\n",
       "         5.44597632e-02, -2.61158160e-01,  9.57111885e-02,\n",
       "        -1.41267714e-01,  1.41379851e-01],\n",
       "       [ 8.24604236e-02, -2.70167453e-01, -1.35002142e-01,\n",
       "        -1.29459450e-01,  1.00124013e-01,  2.11283238e-01,\n",
       "        -1.25526222e-01,  1.25526222e-01, -8.45377150e-02,\n",
       "         1.43286683e-01, -1.36522188e-01,  1.91733204e-01,\n",
       "        -8.18696651e-02,  8.18696651e-02, -4.30568102e-02,\n",
       "        -7.31382263e-02,  5.08934764e-01, -1.62580083e-02,\n",
       "         1.62580083e-02, -4.53157885e-02,  3.60067133e-02,\n",
       "        -1.29100486e-02,  1.61258119e-01, -5.80310640e-01,\n",
       "         2.63309875e-01, -1.42402578e-02],\n",
       "       [ 2.63166962e-02, -4.25821946e-01,  7.66546838e-01,\n",
       "         1.91011168e-02,  6.74299936e-02, -1.01599244e-01,\n",
       "        -1.37752980e-01,  1.37752980e-01,  8.03356085e-02,\n",
       "        -1.53684822e-01, -5.65089744e-02,  1.60500103e-01,\n",
       "        -3.49869262e-02,  3.49869262e-02, -1.01269060e-01,\n",
       "         1.05195181e-01, -1.73925331e-02,  7.22820652e-02,\n",
       "        -7.22820652e-02,  1.05687050e-01, -1.26781101e-02,\n",
       "        -4.11232093e-02,  1.79729128e-01,  1.23814691e-01,\n",
       "         5.14962738e-02, -1.42650668e-01],\n",
       "       [-3.95508830e-01,  2.24651517e-01,  1.12716105e-01,\n",
       "         4.21241294e-01,  2.39211660e-01,  6.25062478e-01,\n",
       "         6.00410018e-03, -6.00410018e-03, -4.47779723e-02,\n",
       "         3.51968493e-02,  1.83215994e-02,  3.77463271e-03,\n",
       "         6.73926754e-02, -6.73926754e-02, -3.10034481e-02,\n",
       "         4.55655497e-02, -6.38515573e-02, -8.07684760e-02,\n",
       "         8.07684760e-02, -4.59832883e-02,  1.03079773e-01,\n",
       "        -7.95817440e-02,  2.56568113e-01,  5.20722632e-02,\n",
       "         9.16071112e-02, -1.61602141e-01],\n",
       "       [ 7.87012873e-03, -5.18359162e-01, -9.21947921e-02,\n",
       "        -4.72691385e-02, -2.53654656e-02,  3.13260702e-01,\n",
       "         2.39826157e-01, -2.39826157e-01, -3.16714094e-01,\n",
       "         9.64311396e-02,  8.32280760e-02,  3.19647045e-01,\n",
       "         3.23779191e-02, -3.23779191e-02,  7.61634941e-02,\n",
       "        -7.17332585e-02, -1.92621847e-02, -1.41735430e-01,\n",
       "         1.41735430e-01,  3.91452426e-02, -1.62423616e-01,\n",
       "         1.42351291e-01, -5.01918779e-02,  2.54338650e-01,\n",
       "        -2.92133029e-01,  1.83499239e-01],\n",
       "       [ 5.25719774e-01, -1.49231440e-01, -1.38961851e-01,\n",
       "         6.69816600e-01, -3.06142430e-01,  1.61889980e-02,\n",
       "        -2.26687525e-02,  2.26687525e-02,  8.13060118e-02,\n",
       "        -6.15413140e-02, -1.19453177e-02, -4.65953554e-02,\n",
       "         3.37943737e-02, -3.37943737e-02, -2.19731420e-02,\n",
       "         7.85986034e-03,  6.17842708e-02, -8.28776710e-02,\n",
       "         8.28776710e-02,  2.02066090e-01,  1.17614434e-01,\n",
       "        -2.20348352e-01,  4.30371018e-02,  2.53977850e-03,\n",
       "        -1.31886445e-02,  5.09121207e-03],\n",
       "       [ 2.53991116e-01, -1.58177708e-01, -1.16537764e-01,\n",
       "         2.78784257e-01,  7.31007188e-01, -2.45640799e-01,\n",
       "         1.21824728e-02, -1.21824728e-02,  2.60412305e-03,\n",
       "         7.54162476e-02, -6.03397685e-03, -1.00299237e-01,\n",
       "        -4.71020413e-02,  4.71020413e-02,  1.93574511e-02,\n",
       "        -4.35467086e-03, -6.56859011e-02, -1.14999418e-02,\n",
       "         1.14999418e-02, -3.82766017e-01, -1.84610311e-02,\n",
       "         2.13253715e-01,  4.91532813e-03,  7.34677775e-02,\n",
       "        -1.72628683e-03, -3.47230495e-02],\n",
       "       [-1.47794924e-17, -5.83414010e-17, -4.34130800e-17,\n",
       "         5.56955322e-17, -9.22806408e-17, -3.40298207e-17,\n",
       "        -7.44178552e-02, -7.44178552e-02,  4.26069984e-02,\n",
       "         3.16809498e-02,  3.86135234e-02,  2.26045499e-02,\n",
       "        -6.60120135e-01, -6.60120135e-01,  4.81375406e-02,\n",
       "         4.81585275e-02,  1.09933112e-02, -1.26802673e-01,\n",
       "        -1.26802673e-01, -4.43172692e-03, -8.69954642e-03,\n",
       "        -8.70754846e-03,  3.00789505e-02,  8.78057821e-02,\n",
       "         1.84875244e-01,  1.80848052e-01],\n",
       "       [-5.99379234e-17, -1.58406639e-16,  1.74877135e-16,\n",
       "        -2.87687584e-16, -5.28891918e-17, -5.48911513e-18,\n",
       "        -3.00811672e-01, -3.00811672e-01, -1.29364182e-01,\n",
       "        -9.61903048e-02, -1.17239117e-01, -6.86323662e-02,\n",
       "        -3.44096827e-02, -3.44096827e-02,  3.61959664e-02,\n",
       "         3.62117470e-02,  8.26617889e-03,  8.70322586e-02,\n",
       "         8.70322586e-02,  2.88731839e-01,  5.66784931e-01,\n",
       "         5.67306273e-01, -1.82937253e-02, -5.34026232e-02,\n",
       "        -1.12439326e-01, -1.09990028e-01],\n",
       "       [ 1.15634229e-16, -9.33798139e-17,  9.27800397e-17,\n",
       "         5.79471733e-17, -8.68955362e-18,  7.76468068e-17,\n",
       "        -2.14090935e-01, -2.14090935e-01,  2.74525483e-01,\n",
       "         2.04126748e-01,  2.48794718e-01,  1.45645673e-01,\n",
       "        -1.29259826e-01, -1.29259826e-01, -6.11711391e-02,\n",
       "        -6.11978083e-02, -1.39698322e-02,  5.79084284e-02,\n",
       "         5.79084284e-02, -7.15631750e-02, -1.40479586e-01,\n",
       "        -1.40608802e-01, -8.59002919e-02, -2.50758161e-01,\n",
       "        -5.27971794e-01, -5.16470829e-01],\n",
       "       [ 7.43678699e-17, -1.90313715e-16,  8.53270152e-17,\n",
       "        -5.52261991e-17,  3.42832889e-17,  1.30256837e-18,\n",
       "        -4.10304976e-01, -4.10304976e-01,  3.56840359e-01,\n",
       "         2.65332971e-01,  3.23394374e-01,  1.89316685e-01,\n",
       "         1.84073065e-01,  1.84073065e-01, -3.45539214e-02,\n",
       "        -3.45689861e-02, -7.89118025e-03, -2.54556615e-02,\n",
       "        -2.54556615e-02, -8.15818308e-03, -1.60146358e-02,\n",
       "        -1.60293664e-02,  5.50668028e-02,  1.60749747e-01,\n",
       "         3.38458904e-01,  3.31086154e-01],\n",
       "       [ 0.00000000e+00, -2.93341193e-17,  2.05950837e-16,\n",
       "         4.67264429e-18,  1.20406447e-16, -3.70055217e-18,\n",
       "        -1.37319617e-01, -1.37319617e-01, -8.45301132e-02,\n",
       "        -6.28533895e-02, -7.66072623e-02, -4.48462748e-02,\n",
       "         1.10883101e-01,  1.10883101e-01,  3.30715055e-01,\n",
       "         3.30859239e-01,  7.55263660e-02, -5.76266269e-01,\n",
       "        -5.76266269e-01, -2.19187422e-02, -4.30268198e-02,\n",
       "        -4.30663969e-02, -1.75915442e-02, -5.13528322e-02,\n",
       "        -1.08123488e-01, -1.05768202e-01],\n",
       "       [ 0.00000000e+00, -8.53300892e-17, -4.93275023e-17,\n",
       "        -1.38554952e-16,  6.30417672e-17,  7.98841931e-18,\n",
       "         3.55285259e-01,  3.55285259e-01,  3.02937142e-01,\n",
       "         2.25252581e-01,  2.74543405e-01,  1.60719084e-01,\n",
       "         1.24839124e-02,  1.24839124e-02, -2.40307998e-01,\n",
       "        -2.40412767e-01, -5.48798415e-02, -3.01954217e-01,\n",
       "        -3.01954217e-01,  1.51777311e-01,  2.97941137e-01,\n",
       "         2.98215190e-01, -4.73436064e-03, -1.38204370e-02,\n",
       "        -2.90989568e-02, -2.84650856e-02],\n",
       "       [ 7.89448597e-17, -1.41672077e-16, -9.71870025e-17,\n",
       "         1.41727824e-16,  4.94975652e-17,  1.16351094e-16,\n",
       "         2.11435396e-01,  2.11435396e-01,  2.37455577e-01,\n",
       "         1.76562970e-01,  2.15199306e-01,  1.25978751e-01,\n",
       "        -3.93380898e-03, -3.93380898e-03,  5.58034208e-01,\n",
       "         5.58277498e-01,  1.27439907e-01,  2.21553445e-01,\n",
       "         2.21553445e-01,  5.16546577e-02,  1.01398868e-01,\n",
       "         1.01492137e-01,  9.72111401e-04,  2.83776530e-03,\n",
       "         5.97492033e-03,  5.84476688e-03]])"
      ]
     },
     "execution_count": 24,
     "metadata": {},
     "output_type": "execute_result"
    }
   ],
   "source": [
    "pca.components_"
   ]
  },
  {
   "cell_type": "markdown",
   "metadata": {},
   "source": [
    "- explained_variance_: la varianza explicada por cada eje en las unidades originales"
   ]
  },
  {
   "cell_type": "code",
   "execution_count": 25,
   "metadata": {},
   "outputs": [
    {
     "data": {
      "text/plain": [
       "array([4.81159062e+00, 2.49447342e+00, 2.32402940e+00, 1.85092288e+00,\n",
       "       1.64098569e+00, 1.40456244e+00, 1.38332851e+00, 1.28064490e+00,\n",
       "       1.16460023e+00, 1.05419308e+00, 1.01503748e+00, 9.35981224e-01,\n",
       "       8.85869037e-01, 8.63916701e-01, 7.63968906e-01, 7.14486313e-01,\n",
       "       6.66507885e-01, 4.23434968e-01, 4.07559040e-01, 2.39118418e-31,\n",
       "       1.30465747e-31, 1.09963038e-31, 4.44621171e-32, 2.63991576e-32,\n",
       "       2.63991576e-32, 7.48878865e-33])"
      ]
     },
     "execution_count": 25,
     "metadata": {},
     "output_type": "execute_result"
    }
   ],
   "source": [
    "pca.explained_variance_"
   ]
  },
  {
   "cell_type": "markdown",
   "metadata": {},
   "source": [
    "- explained_variance_ratio_: la proporción de la varianza explicada por cada eje, en porcentaje (la suma da 100%)."
   ]
  },
  {
   "cell_type": "code",
   "execution_count": 26,
   "metadata": {},
   "outputs": [
    {
     "data": {
      "text/plain": [
       "array([1.84450415e-01, 9.56246473e-02, 8.90907436e-02, 7.09543932e-02,\n",
       "       6.29065343e-02, 5.38433431e-02, 5.30293488e-02, 4.90930136e-02,\n",
       "       4.46444871e-02, 4.04120728e-02, 3.89110584e-02, 3.58804684e-02,\n",
       "       3.39594376e-02, 3.31179035e-02, 2.92864445e-02, 2.73895489e-02,\n",
       "       2.55503150e-02, 1.62322113e-02, 1.56236139e-02, 9.16650954e-33,\n",
       "       5.00135257e-33, 4.21538938e-33, 1.70443759e-33, 1.01200122e-33,\n",
       "       1.01200122e-33, 2.87079738e-34])"
      ]
     },
     "execution_count": 26,
     "metadata": {},
     "output_type": "execute_result"
    }
   ],
   "source": [
    "var_exp=pca.explained_variance_ratio_ # varianza explicada por cada PC\n",
    "cum_var_exp = np.cumsum(var_exp) # varianza acumulada por los primeros n PCs\n",
    "var_exp"
   ]
  },
  {
   "cell_type": "markdown",
   "metadata": {},
   "source": [
    "El objeto PCA sirve además para pasar de la representación en las dimensiones originales a la de las dimensiones en el espacio de los componentes principales encontrados, a partir de su método transform:"
   ]
  },
  {
   "cell_type": "code",
   "execution_count": 27,
   "metadata": {},
   "outputs": [],
   "source": [
    "X_PCA = pca.transform(X_std)"
   ]
  },
  {
   "cell_type": "markdown",
   "metadata": {},
   "source": [
    "Veamos gráficamente la cantidad de información correspondiente a cada componente principal:"
   ]
  },
  {
   "cell_type": "code",
   "execution_count": 28,
   "metadata": {},
   "outputs": [
    {
     "data": {
      "image/png": "[encoded data removed]",
      "text/plain": [
       "<Figure size 1080x504 with 1 Axes>"
      ]
     },
     "metadata": {
      "needs_background": "light"
     },
     "output_type": "display_data"
    }
   ],
   "source": [
    "plt.figure(figsize=(15, 7))\n",
    "plt.bar(range(len(var_exp)), var_exp, alpha=0.3333, align='center', label='Varianza explicada por cada PC', color = 'g')\n",
    "plt.step(range(len(cum_var_exp)), cum_var_exp, where='mid',label='Varianza explicada acumulada')\n",
    "plt.ylabel('Porcentaje de varianza explicada')\n",
    "plt.xlabel('Componentes principales')\n",
    "plt.legend(loc='best')\n",
    "plt.show()"
   ]
  },
  {
   "cell_type": "code",
   "execution_count": 29,
   "metadata": {},
   "outputs": [
    {
     "data": {
      "text/plain": [
       "0.28007506223607226"
      ]
     },
     "execution_count": 29,
     "metadata": {},
     "output_type": "execute_result"
    }
   ],
   "source": [
    "np.sum(pca.explained_variance_ratio_[0:2])"
   ]
  },
  {
   "cell_type": "code",
   "execution_count": 30,
   "metadata": {},
   "outputs": [
    {
     "data": {
      "text/plain": [
       "0.744048998639868"
      ]
     },
     "execution_count": 30,
     "metadata": {},
     "output_type": "execute_result"
    }
   ],
   "source": [
    "np.sum(pca.explained_variance_ratio_[0:10])"
   ]
  },
  {
   "cell_type": "markdown",
   "metadata": {},
   "source": [
    "Encontramos que los primeros 10 componentes conservan el 74.4% de la información original. Con 2 ejes, solo ser conserva el 28% de la información."
   ]
  },
  {
   "cell_type": "markdown",
   "metadata": {},
   "source": [
    "Vamos a crear un plot mostrando los dos primeros componentes con respecto a la variable objetivo:"
   ]
  },
  {
   "cell_type": "code",
   "execution_count": 31,
   "metadata": {},
   "outputs": [
    {
     "data": {
      "text/html": [
       "<div>\n",
       "<style scoped>\n",
       "    .dataframe tbody tr th:only-of-type {\n",
       "        vertical-align: middle;\n",
       "    }\n",
       "\n",
       "    .dataframe tbody tr th {\n",
       "        vertical-align: top;\n",
       "    }\n",
       "\n",
       "    .dataframe thead th {\n",
       "        text-align: right;\n",
       "    }\n",
       "</style>\n",
       "<table border=\"1\" class=\"dataframe\">\n",
       "  <thead>\n",
       "    <tr style=\"text-align: right;\">\n",
       "      <th></th>\n",
       "      <th>PC1</th>\n",
       "      <th>PC2</th>\n",
       "      <th>target</th>\n",
       "    </tr>\n",
       "  </thead>\n",
       "  <tbody>\n",
       "    <tr>\n",
       "      <th>0</th>\n",
       "      <td>-1.407391</td>\n",
       "      <td>0.740081</td>\n",
       "      <td>1</td>\n",
       "    </tr>\n",
       "    <tr>\n",
       "      <th>1</th>\n",
       "      <td>1.502417</td>\n",
       "      <td>-1.093172</td>\n",
       "      <td>1</td>\n",
       "    </tr>\n",
       "    <tr>\n",
       "      <th>2</th>\n",
       "      <td>2.945509</td>\n",
       "      <td>1.089448</td>\n",
       "      <td>1</td>\n",
       "    </tr>\n",
       "    <tr>\n",
       "      <th>3</th>\n",
       "      <td>2.809178</td>\n",
       "      <td>-1.684810</td>\n",
       "      <td>1</td>\n",
       "    </tr>\n",
       "    <tr>\n",
       "      <th>4</th>\n",
       "      <td>0.737902</td>\n",
       "      <td>1.076580</td>\n",
       "      <td>1</td>\n",
       "    </tr>\n",
       "  </tbody>\n",
       "</table>\n",
       "</div>"
      ],
      "text/plain": [
       "        PC1       PC2  target\n",
       "0 -1.407391  0.740081       1\n",
       "1  1.502417 -1.093172       1\n",
       "2  2.945509  1.089448       1\n",
       "3  2.809178 -1.684810       1\n",
       "4  0.737902  1.076580       1"
      ]
     },
     "execution_count": 31,
     "metadata": {},
     "output_type": "execute_result"
    }
   ],
   "source": [
    "df_pca = pd.concat([    pd.DataFrame(X_PCA[:,0:2]), df[['target']]  ], axis = 1)\n",
    "df_pca.columns=['PC1', 'PC2', 'target']\n",
    "df_pca.head()"
   ]
  },
  {
   "cell_type": "code",
   "execution_count": 32,
   "metadata": {},
   "outputs": [
    {
     "data": {
      "image/png": "[encoded data removed]",
      "text/plain": [
       "<Figure size 504x360 with 1 Axes>"
      ]
     },
     "metadata": {
      "needs_background": "light"
     },
     "output_type": "display_data"
    }
   ],
   "source": [
    "colores = {0: \"green\", 1: \"red\"}\n",
    "labels = {0: \"Control\", 1: \"Enfermo\"}\n",
    "\n",
    "fig = plt.figure(figsize=(7,5))\n",
    "ax = fig.add_subplot(1, 1, 1)\n",
    "\n",
    "for codigo, group in df_pca.groupby('target'):\n",
    "    color = colores[codigo]\n",
    "    label = labels[codigo]\n",
    "    ax.scatter(group[\"PC1\"], group[\"PC2\"], alpha=0.8, c=color, edgecolors='none', s=30, label=label)\n",
    "ax.set_xlabel('PC1')\n",
    "ax.set_ylabel('PC2')\n",
    "ax.set_title('PC1 vs. PC2')\n",
    "ax.legend(loc=\"best\")\n",
    "plt.show()\n"
   ]
  },
  {
   "cell_type": "markdown",
   "metadata": {},
   "source": [
    "## 2.3 Pipelines de entrenamiento y evaluación del mejor modelo"
   ]
  },
  {
   "cell_type": "markdown",
   "metadata": {},
   "source": [
    "Utilizando objetos **Pipeline**, encuentren el mejor modelo **SVC** para el dataset analizado. Haga diferentes intentos, variando:\n",
    "\n",
    "- el tipo de normalización utilizada (Sin normalización, con **StandardScaler**)\n",
    "- el tipo de reducción de dimensionalidad (Sin reducción, con **PCA**, con **LDA**), especificando None, 10, 15 y 20 dimensiones\n",
    "- el tipo de kernel utilizado por un modelo **SVC** (linear, rbf, o sigmoid). El kernel poly, al tener 26 variables no es una opción viable.\n",
    "- el valor del parámetro *C*\n",
    "- el valor del parámetro *gamma* cuando aplique\n",
    "\n",
    "Trabaje sobre el 70% de los datos, particionados de manera estratificada según la variable objetivo.\n",
    "\n",
    "Utilice 'accuracy', como medida de evaluación de la calidad del ajuste de los modelos, usando el protocolo de evaluación de cross-validation con 5 folds.\n",
    "\n",
    "Compare las curvas ROC AUC de los 2 mejores clasificadores encontrados."
   ]
  },
  {
   "cell_type": "code",
   "execution_count": 79,
   "metadata": {},
   "outputs": [],
   "source": [
    "X_complete = df.iloc[:,:26]\n",
    "y_complete = df.target"
   ]
  },
  {
   "cell_type": "code",
   "execution_count": 80,
   "metadata": {},
   "outputs": [],
   "source": [
    "X_train, X_test, y_train, y_test = train_test_split(X_complete, y_complete, train_size=0.7, random_state=666)"
   ]
  },
  {
   "cell_type": "code",
   "execution_count": 34,
   "metadata": {},
   "outputs": [],
   "source": [
    "metrica = 'accuracy'"
   ]
  },
  {
   "cell_type": "markdown",
   "metadata": {},
   "source": [
    "### Modelos sin preprocesamiento:"
   ]
  },
  {
   "cell_type": "code",
   "execution_count": 35,
   "metadata": {},
   "outputs": [
    {
     "name": "stdout",
     "output_type": "stream",
     "text": [
      "score = 0.8022\n",
      "{'SVM_linear__C': 0.1}\n"
     ]
    }
   ],
   "source": [
    "steps = [(\"SVM_linear\", SVC(kernel=\"linear\"))]\n",
    "pipeline = Pipeline(steps)\n",
    "parametros = {'SVM_linear__C':[0.01,0.1,1,10]}\n",
    "grid1 = GridSearchCV(pipeline, param_grid=parametros, cv=5, scoring=metrica)\n",
    "grid1.fit(X_train, y_train)\n",
    "print(\"score = %3.4f\" %(grid1.score(X_test,y_test)))\n",
    "print(grid1.best_params_)"
   ]
  },
  {
   "cell_type": "code",
   "execution_count": 36,
   "metadata": {},
   "outputs": [
    {
     "name": "stdout",
     "output_type": "stream",
     "text": [
      "score = 0.5714\n",
      "{'SVM_rbf__C': 10, 'SVM_rbf__gamma': 0.05}\n"
     ]
    }
   ],
   "source": [
    "steps = [(\"SVM_rbf\", SVC(kernel=\"rbf\"))]\n",
    "pipeline = Pipeline(steps)\n",
    "parametros = {'SVM_rbf__C':[0.01,0.1,1,10], 'SVM_rbf__gamma':[0.05,0.01, 1, 5]}\n",
    "grid2 = GridSearchCV(pipeline, param_grid=parametros, cv=5, scoring=metrica)\n",
    "grid2.fit(X_train, y_train)\n",
    "print(\"score = %3.4f\" %(grid2.score(X_test,y_test)))\n",
    "print(grid2.best_params_)"
   ]
  },
  {
   "cell_type": "code",
   "execution_count": 37,
   "metadata": {},
   "outputs": [
    {
     "name": "stdout",
     "output_type": "stream",
     "text": [
      "score = 0.5604\n",
      "{'SVM_sigmoid__C': 0.01, 'SVM_sigmoid__gamma': 0.05}\n"
     ]
    }
   ],
   "source": [
    "steps = [(\"SVM_sigmoid\", SVC(kernel=\"sigmoid\"))]\n",
    "pipeline = Pipeline(steps)\n",
    "parametros = {'SVM_sigmoid__C':[0.01,0.1,1,10], 'SVM_sigmoid__gamma':[0.05,0.01, 1, 5]}\n",
    "grid3 = GridSearchCV(pipeline, param_grid=parametros, cv=5, scoring=metrica)\n",
    "grid3.fit(X_train, y_train)\n",
    "print(\"score = %3.4f\" %(grid3.score(X_test,y_test)))\n",
    "print(grid3.best_params_)"
   ]
  },
  {
   "cell_type": "markdown",
   "metadata": {},
   "source": [
    "### Modelos con estandarización de los datos:"
   ]
  },
  {
   "cell_type": "code",
   "execution_count": 38,
   "metadata": {},
   "outputs": [
    {
     "name": "stdout",
     "output_type": "stream",
     "text": [
      "score = 0.8022\n",
      "{'SVM_linear__C': 0.1}\n"
     ]
    }
   ],
   "source": [
    "steps = [('STD', StandardScaler()), (\"SVM_linear\", SVC(kernel=\"linear\",probability=True))]\n",
    "pipeline = Pipeline(steps)\n",
    "parametros = {'SVM_linear__C':[0.01,0.1,1,10]}\n",
    "grid4 = GridSearchCV(pipeline, param_grid=parametros, cv=5, scoring=metrica)\n",
    "grid4.fit(X_train, y_train)\n",
    "print(\"score = %3.4f\" %(grid4.score(X_test,y_test)))\n",
    "print(grid4.best_params_)"
   ]
  },
  {
   "cell_type": "code",
   "execution_count": 39,
   "metadata": {},
   "outputs": [
    {
     "name": "stdout",
     "output_type": "stream",
     "text": [
      "score = 0.7802\n",
      "{'SVM_rbf__C': 0.1, 'SVM_rbf__gamma': 0.01}\n"
     ]
    }
   ],
   "source": [
    "steps = [('STD', StandardScaler()),(\"SVM_rbf\", SVC(kernel=\"rbf\",probability=True))]\n",
    "pipeline = Pipeline(steps)\n",
    "parametros = {'SVM_rbf__C':[0.01,0.1,1,10], 'SVM_rbf__gamma':[0.05,0.01, 1, 5]}\n",
    "grid5 = GridSearchCV(pipeline, param_grid=parametros, cv=5, scoring=metrica)\n",
    "grid5.fit(X_train, y_train)\n",
    "print(\"score = %3.4f\" %(grid5.score(X_test,y_test)))\n",
    "print(grid5.best_params_)"
   ]
  },
  {
   "cell_type": "code",
   "execution_count": 40,
   "metadata": {},
   "outputs": [
    {
     "name": "stdout",
     "output_type": "stream",
     "text": [
      "score = 0.8132\n",
      "{'SVM_sigmoid__C': 1, 'SVM_sigmoid__gamma': 0.05}\n"
     ]
    }
   ],
   "source": [
    "steps = [('STD', StandardScaler()), (\"SVM_sigmoid\", SVC(kernel=\"sigmoid\",probability=True))]\n",
    "pipeline = Pipeline(steps)\n",
    "parametros = {'SVM_sigmoid__C':[0.01,0.1,1,10], 'SVM_sigmoid__gamma':[0.05,0.01, 1, 5]}\n",
    "grid6 = GridSearchCV(pipeline, param_grid=parametros, cv=5, scoring=metrica)\n",
    "grid6.fit(X_train, y_train)\n",
    "print(\"score = %3.4f\" %(grid6.score(X_test,y_test)))\n",
    "print(grid6.best_params_)"
   ]
  },
  {
   "cell_type": "markdown",
   "metadata": {},
   "source": [
    "### Modelos con estandarización de los datos y PCA:"
   ]
  },
  {
   "cell_type": "code",
   "execution_count": 41,
   "metadata": {},
   "outputs": [
    {
     "name": "stdout",
     "output_type": "stream",
     "text": [
      "score = 0.8022\n",
      "{'PCA__n_components': None, 'SVM_linear__C': 0.1}\n"
     ]
    }
   ],
   "source": [
    "steps = [('STD', StandardScaler()), ('PCA', PCA()), (\"SVM_linear\", SVC(kernel=\"linear\",probability=True))]\n",
    "pipeline = Pipeline(steps)\n",
    "parametros = {'SVM_linear__C':[0.01,0.1,1,10], 'PCA__n_components':[None,10, 15, 20]}\n",
    "grid7 = GridSearchCV(pipeline, param_grid=parametros, cv=5, scoring=metrica)\n",
    "grid7.fit(X_train, y_train)\n",
    "print(\"score = %3.4f\" %(grid7.score(X_test,y_test)))\n",
    "print(grid7.best_params_)"
   ]
  },
  {
   "cell_type": "code",
   "execution_count": 42,
   "metadata": {},
   "outputs": [
    {
     "name": "stdout",
     "output_type": "stream",
     "text": [
      "score = 0.8022\n",
      "{'PCA__n_components': 10, 'SVM_rbf__C': 1, 'SVM_rbf__gamma': 0.01}\n"
     ]
    }
   ],
   "source": [
    "steps = [('STD', StandardScaler()), ('PCA', PCA()), (\"SVM_rbf\", SVC(kernel=\"rbf\",probability=True))]\n",
    "pipeline = Pipeline(steps)\n",
    "parametros = {'SVM_rbf__C':[0.01,0.1,1,10], 'SVM_rbf__gamma':[0.05,0.01, 1, 5], 'PCA__n_components':[None, 10, 15, 20]}\n",
    "grid8 = GridSearchCV(pipeline, param_grid=parametros, cv=5, scoring=metrica)\n",
    "grid8.fit(X_train, y_train)\n",
    "print(\"score = %3.4f\" %(grid8.score(X_test,y_test)))\n",
    "print(grid8.best_params_)"
   ]
  },
  {
   "cell_type": "code",
   "execution_count": 43,
   "metadata": {},
   "outputs": [
    {
     "name": "stdout",
     "output_type": "stream",
     "text": [
      "score = 0.8132\n",
      "{'PCA__n_components': None, 'SVM_sigmoid__C': 1, 'SVM_sigmoid__gamma': 0.05}\n"
     ]
    }
   ],
   "source": [
    "steps = [('STD', StandardScaler()), ('PCA', PCA()), (\"SVM_sigmoid\", SVC(kernel=\"sigmoid\",probability=True))]\n",
    "pipeline = Pipeline(steps)\n",
    "parametros = {'SVM_sigmoid__C':[0.01,0.1,1,10], 'SVM_sigmoid__gamma':[0.05,0.01, 1, 5], 'PCA__n_components':[None, 10, 15, 20]}\n",
    "grid9 = GridSearchCV(pipeline, param_grid=parametros, cv=5, scoring=metrica)\n",
    "grid9.fit(X_train, y_train)\n",
    "print(\"score = %3.4f\" %(grid9.score(X_test,y_test)))\n",
    "print(grid9.best_params_)"
   ]
  },
  {
   "cell_type": "markdown",
   "metadata": {},
   "source": [
    "### Modelos con estandarización de los datos y LDA:"
   ]
  },
  {
   "cell_type": "code",
   "execution_count": 44,
   "metadata": {},
   "outputs": [
    {
     "data": {
      "text/plain": [
       "(212, 26)"
      ]
     },
     "execution_count": 44,
     "metadata": {},
     "output_type": "execute_result"
    }
   ],
   "source": [
    "X_train.shape"
   ]
  },
  {
   "cell_type": "code",
   "execution_count": 45,
   "metadata": {},
   "outputs": [
    {
     "name": "stdout",
     "output_type": "stream",
     "text": [
      "score = 0.7912\n",
      "{'LDA__n_components': None, 'SVM_linear__C': 0.01}\n"
     ]
    }
   ],
   "source": [
    "steps = [('STD', StandardScaler()), ('LDA', LinearDiscriminantAnalysis()), (\"SVM_linear\", SVC(kernel=\"linear\",probability=True))]\n",
    "pipeline = Pipeline(steps)\n",
    "parametros = {'SVM_linear__C':[0.01,0.1,1,10], 'LDA__n_components':[None, 1]}\n",
    "grid10 = GridSearchCV(pipeline, param_grid=parametros, cv=5, scoring=metrica)\n",
    "grid10.fit(X_train, y_train)\n",
    "print(\"score = %3.4f\" %(grid10.score(X_test,y_test)))\n",
    "print(grid10.best_params_)"
   ]
  },
  {
   "cell_type": "code",
   "execution_count": 46,
   "metadata": {},
   "outputs": [
    {
     "name": "stdout",
     "output_type": "stream",
     "text": [
      "score = 0.8765\n",
      "{'LDA__n_components': None, 'SVM_rbf__C': 0.01, 'SVM_rbf__gamma': 0.05}\n"
     ]
    }
   ],
   "source": [
    "steps = [('STD', StandardScaler()), ('LDA', LinearDiscriminantAnalysis()), (\"SVM_rbf\", SVC(kernel=\"rbf\",probability=True))]\n",
    "pipeline = Pipeline(steps)\n",
    "parametros = {'SVM_rbf__C':[0.01,0.1,1,10], 'SVM_rbf__gamma':[0.05,0.01, 1, 5], 'LDA__n_components':[None, 1]}\n",
    "grid11 = GridSearchCV(pipeline, param_grid=parametros, cv=5, scoring='roc_auc')\n",
    "grid11.fit(X_train, y_train)\n",
    "print(\"score = %3.4f\" %(grid11.score(X_test,y_test)))\n",
    "print(grid11.best_params_)"
   ]
  },
  {
   "cell_type": "code",
   "execution_count": 47,
   "metadata": {},
   "outputs": [
    {
     "name": "stdout",
     "output_type": "stream",
     "text": [
      "score = 0.7912\n",
      "{'LDA__n_components': None, 'SVM_sigmoid__C': 0.1, 'SVM_sigmoid__gamma': 0.05}\n"
     ]
    }
   ],
   "source": [
    "steps = [('STD', StandardScaler()), ('LDA', LinearDiscriminantAnalysis())\n",
    "         , (\"SVM_sigmoid\", SVC(kernel=\"sigmoid\",probability=True))]\n",
    "pipeline = Pipeline(steps)\n",
    "parametros = {'SVM_sigmoid__C':[0.01,0.1,1,10], 'SVM_sigmoid__gamma':[0.05,0.01, 1, 5], 'LDA__n_components':[None, 1]}\n",
    "grid12 = GridSearchCV(pipeline, param_grid=parametros, cv=5, scoring=metrica)\n",
    "grid12.fit(X_train, y_train)\n",
    "print(\"score = %3.4f\" %(grid12.score(X_test,y_test)))\n",
    "print(grid12.best_params_)"
   ]
  },
  {
   "cell_type": "markdown",
   "metadata": {},
   "source": [
    "### Curvas ROC AUC de los mejores clasificadores"
   ]
  },
  {
   "cell_type": "markdown",
   "metadata": {},
   "source": [
    "Los mejores modelos son los encontrados con las grillas 11 (87.65%), 6 (81.32%) y 9 (81.32%)"
   ]
  },
  {
   "cell_type": "markdown",
   "metadata": {},
   "source": [
    "Primero se obtienen las probabilidades de la clasificación"
   ]
  },
  {
   "cell_type": "code",
   "execution_count": 48,
   "metadata": {},
   "outputs": [],
   "source": [
    "y_train_score11 = grid11.predict_proba(X_train)[:,1]\n",
    "y_test_score11 = grid11.predict_proba(X_test)[:,1]\n",
    "y_train_score9 = grid9.predict_proba(X_train)[:,1]\n",
    "y_test_score9 = grid9.predict_proba(X_test)[:,1]\n",
    "y_train_score6 = grid6.predict_proba(X_train)[:,1]\n",
    "y_test_score6 = grid6.predict_proba(X_test)[:,1]"
   ]
  },
  {
   "cell_type": "markdown",
   "metadata": {},
   "source": [
    "Se calculan las tasas de falsos positivos y de verdaderos positicos al comprar las clases reales con las probabildades obtenidas y se estima el valor AUC debajo de la curva ROC."
   ]
  },
  {
   "cell_type": "code",
   "execution_count": 49,
   "metadata": {},
   "outputs": [],
   "source": [
    "false_pos_rate11, true_pos_rate11, _ = roc_curve(y_train, y_train_score11)\n",
    "roc_auc11 = auc(false_pos_rate11, true_pos_rate11)\n",
    "false_pos_rate11_test, true_pos_rate11_test, _ = roc_curve(y_test, y_test_score11)\n",
    "roc_auc11_test = auc(false_pos_rate11_test, true_pos_rate11_test)\n",
    "\n",
    "false_pos_rate9, true_pos_rate9, _ = roc_curve(y_train, y_train_score9)\n",
    "roc_auc9 = auc(false_pos_rate9, true_pos_rate9)\n",
    "false_pos_rate9_test, true_pos_rate9_test, _ = roc_curve(y_test, y_test_score9)\n",
    "roc_auc9_test = auc(false_pos_rate9_test, true_pos_rate9_test)\n",
    "\n",
    "false_pos_rate6, true_pos_rate6, _ = roc_curve(y_train, y_train_score6)\n",
    "roc_auc6 = auc(false_pos_rate6, true_pos_rate6)\n",
    "false_pos_rate6_test, true_pos_rate6_test, _ = roc_curve(y_test, y_test_score6)\n",
    "roc_auc6_test = auc(false_pos_rate6_test, true_pos_rate6_test)"
   ]
  },
  {
   "cell_type": "markdown",
   "metadata": {},
   "source": [
    "Finalmente, se plotea"
   ]
  },
  {
   "cell_type": "code",
   "execution_count": 50,
   "metadata": {},
   "outputs": [
    {
     "data": {
      "image/png": "[encoded data removed]",
      "text/plain": [
       "<Figure size 1008x432 with 2 Axes>"
      ]
     },
     "metadata": {
      "needs_background": "light"
     },
     "output_type": "display_data"
    }
   ],
   "source": [
    "fig, (ax1,ax2) = plt.subplots(1, 2, figsize=(14,6))\n",
    "\n",
    "ax1.plot(false_pos_rate11, true_pos_rate11, label='rbf con LDA $C=0.01$, $\\gamma=0.05$. ROCAUC=%0.2f, acc=0.8765' % roc_auc11, color='b')\n",
    "ax1.plot(false_pos_rate9, true_pos_rate9, label='sigmoid con PCA $C=1$, $\\gamma=0.05$. ROCAUC=%0.2f, acc=0.8132' % roc_auc9, color='r')\n",
    "ax1.plot(false_pos_rate6, true_pos_rate6, label='sigmoid std $C=1$, $\\gamma=0.05$. ROCAUC=%0.2f, acc=0.8132' % roc_auc6, color='g')\n",
    "ax1.set_title('Training Data')\n",
    "\n",
    "ax2.plot(false_pos_rate11_test, true_pos_rate11_test, label='rbf con LDA $C=0.01$, $\\gamma=0.05$. ROCAUC=%0.2f, acc=0.8765' % roc_auc11_test, color='b')\n",
    "ax2.plot(false_pos_rate9_test, true_pos_rate9_test, label='sigmoid con PCA $C=1$, $\\gamma=0.05$. ROCAUC=%0.2f, acc=0.8132' % roc_auc9_test, color='r')\n",
    "ax2.plot(false_pos_rate6_test, true_pos_rate6_test, label='sigmoid std $C=1$, $\\gamma=0.05$. ROCAUC=%0.2f, acc=0.8132' % roc_auc6_test, color='g')\n",
    "ax2.set_title('Test Data')\n",
    "\n",
    "for ax in fig.axes:\n",
    "    ax.plot([0, 1], [0, 1], 'k--')\n",
    "    ax.set_xlim([-0.05, 1.0])\n",
    "    ax.set_ylim([0.0, 1.05])\n",
    "    ax.set_xlabel('False Positive Rate')\n",
    "    ax.set_ylabel('True Positive Rate')\n",
    "    ax.legend(loc=\"lower right\")"
   ]
  },
  {
   "cell_type": "markdown",
   "metadata": {},
   "source": [
    "## Optimización bayesiana"
   ]
  },
  {
   "cell_type": "markdown",
   "metadata": {},
   "source": [
    "La optimización de los hiper parámetros la podemos hacer de varias maneras:\n",
    "- Grid search: lo que hemos hecho hasta ahora\n",
    "- Random search: escoger combinaciones de valores al azar dentro de un rango determinado para cada hiperparámetro de manera independiente\n",
    "- Optimización bayesiana: modelo de búsqueda \"inteligente\"\n"
   ]
  },
  {
   "cell_type": "markdown",
   "metadata": {},
   "source": [
    "La **optimización bayesiana** se basa en la maximización de una métrica, dado una configuración de hiperparámetros óptima.\n",
    "El paquete que vamos a utilizar es muy sencillo, y requiere la creación de una función \"caja negra\" que:\n",
    "- recibe como argumentos los hiperparámetros del flujo de modelo a calibrar\n",
    "- retorna una métrica que se quiere maximizar (e.g. el ROC AUC, el accuracy, etc.)"
   ]
  },
  {
   "cell_type": "code",
   "execution_count": 51,
   "metadata": {},
   "outputs": [],
   "source": [
    "#!pip install bayesian-optimization\n",
    "#conda install -c conda-forge bayesian-optimization"
   ]
  },
  {
   "cell_type": "markdown",
   "metadata": {},
   "source": [
    "Creamos entonces la función de \"caja negra\" para buscar el mejor flujo de modelos que incluya un pretratamiento de las variables independientes a partir de PCA y un modelo final de clasificación SVM con kernel RBF. "
   ]
  },
  {
   "cell_type": "code",
   "execution_count": 52,
   "metadata": {},
   "outputs": [],
   "source": [
    "def entrenar_svc(num_pca, svm_c, svm_rbf_gamma):\n",
    "    num_pca = int(round(num_pca))\n",
    "    steps = [('STD', StandardScaler()), \n",
    "             ('PCA', PCA(n_components=num_pca)), \n",
    "             (\"SVM_rbf\", SVC(kernel=\"rbf\", probability=True, C=svm_c, gamma=svm_rbf_gamma))]\n",
    "    pipeline = Pipeline(steps)\n",
    "    pipeline.fit(X_train, y_train)\n",
    "    \n",
    "    score = pipeline.score(X_test,y_test)\n",
    "    print(f\"Evaluando (pca={num_pca}, C={svm_c}, svm_rbf_gamma={svm_rbf_gamma}): {score}\")\n",
    "    return score"
   ]
  },
  {
   "cell_type": "markdown",
   "metadata": {},
   "source": [
    "Se trata de una función de python común y corriente que se puede llamar normalmente"
   ]
  },
  {
   "cell_type": "code",
   "execution_count": 57,
   "metadata": {},
   "outputs": [
    {
     "name": "stdout",
     "output_type": "stream",
     "text": [
      "Evaluando (pca=15, C=0.1, svm_rbf_gamma=0.01): 0.7912087912087912\n"
     ]
    },
    {
     "data": {
      "text/plain": [
       "0.7912087912087912"
      ]
     },
     "execution_count": 57,
     "metadata": {},
     "output_type": "execute_result"
    }
   ],
   "source": [
    "entrenar_svc(num_pca=15, svm_c=0.1, svm_rbf_gamma=0.01)"
   ]
  },
  {
   "cell_type": "markdown",
   "metadata": {},
   "source": [
    "Definimos un diccionario, donde asociamos a cada hiperparámetro el rango de valores en el que se quiere realizar la búsqueda. Es importante notar que debe haber concordancia entre el nombre del argumento en la función de caja negra y el nombre de la llave en el diccionario."
   ]
  },
  {
   "cell_type": "code",
   "execution_count": 71,
   "metadata": {},
   "outputs": [],
   "source": [
    "pbounds = {'num_pca': (2, 10), 'svm_c': (0.001, 1), 'svm_rbf_gamma':(0.001, 0.1) }"
   ]
  },
  {
   "cell_type": "markdown",
   "metadata": {},
   "source": [
    "Vamos a crear una instancia de **BayesianOptimization**, especificando la función a optimizar, los hiperparámetros y sus dominios de búsqueda de valores, de donde se tomarán las configuraciones a evaluar."
   ]
  },
  {
   "cell_type": "code",
   "execution_count": 72,
   "metadata": {},
   "outputs": [],
   "source": [
    "from bayes_opt import BayesianOptimization"
   ]
  },
  {
   "cell_type": "code",
   "execution_count": 73,
   "metadata": {},
   "outputs": [],
   "source": [
    "np.random.seed(42)\n",
    "optimizer = BayesianOptimization(\n",
    "    f=entrenar_svc,\n",
    "    pbounds=pbounds,\n",
    "    random_state=1,\n",
    "    verbose=2\n",
    ")"
   ]
  },
  {
   "cell_type": "markdown",
   "metadata": {},
   "source": [
    "Ya teniendo configurado el optimizador, podemos lanzar un proceso de búsqueda, en donde vamos a especificar:\n",
    "- `init_points`: número de busquedas aleatorias iniciales a realizar, que sirven como punto de partida de recolección de información acerca de configuraciones de hiperparámetros\n",
    "- `n_iter`: número de busquedas por optimización bayesiana"
   ]
  },
  {
   "cell_type": "code",
   "execution_count": 74,
   "metadata": {},
   "outputs": [
    {
     "name": "stdout",
     "output_type": "stream",
     "text": [
      "|   iter    |  target   |  num_pca  |   svm_c   | svm_rb... |\n",
      "-------------------------------------------------------------\n",
      "Evaluando (pca=5, C=0.7206041689487159, svm_rbf_gamma=0.0010113231069171437): 0.8131868131868132\n",
      "| \u001b[0m 1       \u001b[0m | \u001b[0m 0.8132  \u001b[0m | \u001b[0m 5.336   \u001b[0m | \u001b[0m 0.7206  \u001b[0m | \u001b[0m 0.001011\u001b[0m |\n",
      "Evaluando (pca=4, C=0.14760913492629593, svm_rbf_gamma=0.010141520882110983): 0.8241758241758241\n",
      "| \u001b[95m 2       \u001b[0m | \u001b[95m 0.8242  \u001b[0m | \u001b[95m 4.419   \u001b[0m | \u001b[95m 0.1476  \u001b[0m | \u001b[95m 0.01014 \u001b[0m |\n",
      "Evaluando (pca=3, C=0.3462151663160047, svm_rbf_gamma=0.04027997994883633): 0.7802197802197802\n",
      "| \u001b[0m 3       \u001b[0m | \u001b[0m 0.7802  \u001b[0m | \u001b[0m 3.49    \u001b[0m | \u001b[0m 0.3462  \u001b[0m | \u001b[0m 0.04028 \u001b[0m |\n",
      "Evaluando (pca=6, C=0.4197753198888915, svm_rbf_gamma=0.06883673053927919): 0.7912087912087912\n",
      "| \u001b[0m 4       \u001b[0m | \u001b[0m 0.7912  \u001b[0m | \u001b[0m 6.311   \u001b[0m | \u001b[0m 0.4198  \u001b[0m | \u001b[0m 0.06884 \u001b[0m |\n",
      "Evaluando (pca=4, C=0.8782393189545544, svm_rbf_gamma=0.0037113717265946904): 0.8351648351648352\n",
      "| \u001b[95m 5       \u001b[0m | \u001b[95m 0.8352  \u001b[0m | \u001b[95m 3.636   \u001b[0m | \u001b[95m 0.8782  \u001b[0m | \u001b[95m 0.003711\u001b[0m |\n",
      "Evaluando (pca=5, C=0.7900886564909997, svm_rbf_gamma=0.07767024330743347): 0.8241758241758241\n",
      "| \u001b[0m 6       \u001b[0m | \u001b[0m 0.8242  \u001b[0m | \u001b[0m 5.007   \u001b[0m | \u001b[0m 0.7901  \u001b[0m | \u001b[0m 0.07767 \u001b[0m |\n",
      "Evaluando (pca=4, C=0.9768998709070897, svm_rbf_gamma=0.001): 0.8131868131868132\n",
      "| \u001b[0m 7       \u001b[0m | \u001b[0m 0.8132  \u001b[0m | \u001b[0m 3.695   \u001b[0m | \u001b[0m 0.9769  \u001b[0m | \u001b[0m 0.001   \u001b[0m |\n",
      "Evaluando (pca=4, C=0.828223928605011, svm_rbf_gamma=0.0010910225730102407): 0.8131868131868132\n",
      "| \u001b[0m 8       \u001b[0m | \u001b[0m 0.8132  \u001b[0m | \u001b[0m 3.682   \u001b[0m | \u001b[0m 0.8282  \u001b[0m | \u001b[0m 0.001091\u001b[0m |\n",
      "Evaluando (pca=4, C=0.15643440739082923, svm_rbf_gamma=0.09478304165663956): 0.8131868131868132\n",
      "| \u001b[0m 9       \u001b[0m | \u001b[0m 0.8132  \u001b[0m | \u001b[0m 3.82    \u001b[0m | \u001b[0m 0.1564  \u001b[0m | \u001b[0m 0.09478 \u001b[0m |\n",
      "Evaluando (pca=8, C=0.7288834018368413, svm_rbf_gamma=0.02027411512664525): 0.8021978021978022\n",
      "| \u001b[0m 10      \u001b[0m | \u001b[0m 0.8022  \u001b[0m | \u001b[0m 7.81    \u001b[0m | \u001b[0m 0.7289  \u001b[0m | \u001b[0m 0.02027 \u001b[0m |\n",
      "Evaluando (pca=6, C=0.42406921865376807, svm_rbf_gamma=0.047719354360386386): 0.7802197802197802\n",
      "| \u001b[0m 11      \u001b[0m | \u001b[0m 0.7802  \u001b[0m | \u001b[0m 5.762   \u001b[0m | \u001b[0m 0.4241  \u001b[0m | \u001b[0m 0.04772 \u001b[0m |\n",
      "Evaluando (pca=10, C=0.6644073444262056, svm_rbf_gamma=0.04760134335298905): 0.7802197802197802\n",
      "| \u001b[0m 12      \u001b[0m | \u001b[0m 0.7802  \u001b[0m | \u001b[0m 9.644   \u001b[0m | \u001b[0m 0.6644  \u001b[0m | \u001b[0m 0.0476  \u001b[0m |\n",
      "Evaluando (pca=6, C=0.8413374950585417, svm_rbf_gamma=0.09792777539809314): 0.7912087912087912\n",
      "| \u001b[0m 13      \u001b[0m | \u001b[0m 0.7912  \u001b[0m | \u001b[0m 5.91    \u001b[0m | \u001b[0m 0.8413  \u001b[0m | \u001b[0m 0.09793 \u001b[0m |\n",
      "Evaluando (pca=5, C=0.763771913328533, svm_rbf_gamma=0.08583920489210466): 0.8241758241758241\n",
      "| \u001b[0m 14      \u001b[0m | \u001b[0m 0.8242  \u001b[0m | \u001b[0m 4.58    \u001b[0m | \u001b[0m 0.7638  \u001b[0m | \u001b[0m 0.08584 \u001b[0m |\n",
      "Evaluando (pca=9, C=0.7196327031050553, svm_rbf_gamma=0.09128512143738407): 0.8241758241758241\n",
      "| \u001b[0m 15      \u001b[0m | \u001b[0m 0.8242  \u001b[0m | \u001b[0m 8.84    \u001b[0m | \u001b[0m 0.7196  \u001b[0m | \u001b[0m 0.09129 \u001b[0m |\n",
      "Evaluando (pca=7, C=0.5483631316610356, svm_rbf_gamma=0.03893770754673178): 0.7912087912087912\n",
      "| \u001b[0m 16      \u001b[0m | \u001b[0m 0.7912  \u001b[0m | \u001b[0m 7.417   \u001b[0m | \u001b[0m 0.5484  \u001b[0m | \u001b[0m 0.03894 \u001b[0m |\n",
      "Evaluando (pca=3, C=0.14024017734137936, svm_rbf_gamma=0.03236639887327022): 0.8131868131868132\n",
      "| \u001b[0m 17      \u001b[0m | \u001b[0m 0.8132  \u001b[0m | \u001b[0m 3.126   \u001b[0m | \u001b[0m 0.1402  \u001b[0m | \u001b[0m 0.03237 \u001b[0m |\n",
      "Evaluando (pca=4, C=0.7645840554218787, svm_rbf_gamma=0.007620184020371188): 0.8351648351648352\n",
      "| \u001b[0m 18      \u001b[0m | \u001b[0m 0.8352  \u001b[0m | \u001b[0m 4.192   \u001b[0m | \u001b[0m 0.7646  \u001b[0m | \u001b[0m 0.00762 \u001b[0m |\n",
      "Evaluando (pca=4, C=0.9105236976114357, svm_rbf_gamma=0.00988410051458703): 0.8241758241758241\n",
      "| \u001b[0m 19      \u001b[0m | \u001b[0m 0.8242  \u001b[0m | \u001b[0m 3.587   \u001b[0m | \u001b[0m 0.9105  \u001b[0m | \u001b[0m 0.009884\u001b[0m |\n",
      "Evaluando (pca=7, C=0.11358935525219095, svm_rbf_gamma=0.012560973458758354): 0.8131868131868132\n",
      "| \u001b[0m 20      \u001b[0m | \u001b[0m 0.8132  \u001b[0m | \u001b[0m 6.786   \u001b[0m | \u001b[0m 0.1136  \u001b[0m | \u001b[0m 0.01256 \u001b[0m |\n",
      "Evaluando (pca=7, C=0.5578345037455184, svm_rbf_gamma=0.0657070851098762): 0.8021978021978022\n",
      "| \u001b[0m 21      \u001b[0m | \u001b[0m 0.8022  \u001b[0m | \u001b[0m 6.909   \u001b[0m | \u001b[0m 0.5578  \u001b[0m | \u001b[0m 0.06571 \u001b[0m |\n",
      "Evaluando (pca=4, C=0.7191242526973625, svm_rbf_gamma=0.038937804207629705): 0.8241758241758241\n",
      "| \u001b[0m 22      \u001b[0m | \u001b[0m 0.8242  \u001b[0m | \u001b[0m 4.15    \u001b[0m | \u001b[0m 0.7191  \u001b[0m | \u001b[0m 0.03894 \u001b[0m |\n",
      "Evaluando (pca=4, C=0.7418830304677152, svm_rbf_gamma=0.040193775744350534): 0.8241758241758241\n",
      "| \u001b[0m 23      \u001b[0m | \u001b[0m 0.8242  \u001b[0m | \u001b[0m 4.256   \u001b[0m | \u001b[0m 0.7419  \u001b[0m | \u001b[0m 0.04019 \u001b[0m |\n",
      "Evaluando (pca=4, C=0.8309970524288746, svm_rbf_gamma=0.04125614758889549): 0.8241758241758241\n",
      "| \u001b[0m 24      \u001b[0m | \u001b[0m 0.8242  \u001b[0m | \u001b[0m 4.196   \u001b[0m | \u001b[0m 0.831   \u001b[0m | \u001b[0m 0.04126 \u001b[0m |\n",
      "Evaluando (pca=4, C=0.881098567621449, svm_rbf_gamma=0.08910632766219384): 0.7692307692307693\n",
      "| \u001b[0m 25      \u001b[0m | \u001b[0m 0.7692  \u001b[0m | \u001b[0m 3.634   \u001b[0m | \u001b[0m 0.8811  \u001b[0m | \u001b[0m 0.08911 \u001b[0m |\n",
      "Evaluando (pca=4, C=0.7953094121597778, svm_rbf_gamma=0.008080611942173011): 0.8461538461538461\n",
      "| \u001b[95m 26      \u001b[0m | \u001b[95m 0.8462  \u001b[0m | \u001b[95m 4.231   \u001b[0m | \u001b[95m 0.7953  \u001b[0m | \u001b[95m 0.008081\u001b[0m |\n",
      "Evaluando (pca=4, C=0.06572203071649878, svm_rbf_gamma=0.07068071909437097): 0.8021978021978022\n",
      "| \u001b[0m 27      \u001b[0m | \u001b[0m 0.8022  \u001b[0m | \u001b[0m 3.84    \u001b[0m | \u001b[0m 0.06572 \u001b[0m | \u001b[0m 0.07068 \u001b[0m |\n",
      "Evaluando (pca=4, C=0.844305550700616, svm_rbf_gamma=0.00411590031132357): 0.8351648351648352\n",
      "| \u001b[0m 28      \u001b[0m | \u001b[0m 0.8352  \u001b[0m | \u001b[0m 4.25    \u001b[0m | \u001b[0m 0.8443  \u001b[0m | \u001b[0m 0.004116\u001b[0m |\n",
      "Evaluando (pca=7, C=0.11601617459107255, svm_rbf_gamma=0.04150795389281876): 0.8351648351648352\n",
      "| \u001b[0m 29      \u001b[0m | \u001b[0m 0.8352  \u001b[0m | \u001b[0m 6.788   \u001b[0m | \u001b[0m 0.116   \u001b[0m | \u001b[0m 0.04151 \u001b[0m |\n",
      "Evaluando (pca=9, C=0.4190919682264855, svm_rbf_gamma=0.03031285232002414): 0.8131868131868132\n",
      "| \u001b[0m 30      \u001b[0m | \u001b[0m 0.8132  \u001b[0m | \u001b[0m 8.714   \u001b[0m | \u001b[0m 0.4191  \u001b[0m | \u001b[0m 0.03031 \u001b[0m |\n",
      "Evaluando (pca=4, C=0.8013538679745802, svm_rbf_gamma=0.018236500468251773): 0.8131868131868132\n",
      "| \u001b[0m 31      \u001b[0m | \u001b[0m 0.8132  \u001b[0m | \u001b[0m 4.288   \u001b[0m | \u001b[0m 0.8014  \u001b[0m | \u001b[0m 0.01824 \u001b[0m |\n",
      "Evaluando (pca=7, C=0.11050412018779908, svm_rbf_gamma=0.06143010169280768): 0.8241758241758241\n",
      "| \u001b[0m 32      \u001b[0m | \u001b[0m 0.8242  \u001b[0m | \u001b[0m 6.825   \u001b[0m | \u001b[0m 0.1105  \u001b[0m | \u001b[0m 0.06143 \u001b[0m |\n",
      "Evaluando (pca=4, C=0.8562431547728531, svm_rbf_gamma=0.009104244578944428): 0.8131868131868132\n",
      "| \u001b[0m 33      \u001b[0m | \u001b[0m 0.8132  \u001b[0m | \u001b[0m 4.258   \u001b[0m | \u001b[0m 0.8562  \u001b[0m | \u001b[0m 0.009104\u001b[0m |\n",
      "Evaluando (pca=4, C=0.8049190601794314, svm_rbf_gamma=0.001691459151050223): 0.8351648351648352\n",
      "| \u001b[0m 34      \u001b[0m | \u001b[0m 0.8352  \u001b[0m | \u001b[0m 4.233   \u001b[0m | \u001b[0m 0.8049  \u001b[0m | \u001b[0m 0.001691\u001b[0m |\n",
      "Evaluando (pca=4, C=0.7768330955573636, svm_rbf_gamma=0.013805224260683913): 0.8131868131868132\n",
      "| \u001b[0m 35      \u001b[0m | \u001b[0m 0.8132  \u001b[0m | \u001b[0m 4.23    \u001b[0m | \u001b[0m 0.7768  \u001b[0m | \u001b[0m 0.01381 \u001b[0m |\n",
      "=============================================================\n",
      "Wall time: 2.73 s\n"
     ]
    }
   ],
   "source": [
    "%%time \n",
    "optimizer.maximize(\n",
    "    init_points=5,\n",
    "    n_iter=30,\n",
    ")"
   ]
  },
  {
   "cell_type": "markdown",
   "metadata": {},
   "source": [
    "La mejor combinación la obtenemos de esta manera:"
   ]
  },
  {
   "cell_type": "code",
   "execution_count": 75,
   "metadata": {},
   "outputs": [
    {
     "data": {
      "text/plain": [
       "{'target': 0.8461538461538461,\n",
       " 'params': {'num_pca': 4.230504378923588,\n",
       "  'svm_c': 0.7953094121597778,\n",
       "  'svm_rbf_gamma': 0.008080611942173011}}"
      ]
     },
     "execution_count": 75,
     "metadata": {},
     "output_type": "execute_result"
    }
   ],
   "source": [
    "optimizer.max"
   ]
  },
  {
   "cell_type": "markdown",
   "metadata": {},
   "source": [
    "Podemos refinar la búsqueda con otros rangos y volver a lanzar la calibración."
   ]
  },
  {
   "cell_type": "code",
   "execution_count": 76,
   "metadata": {},
   "outputs": [],
   "source": [
    "pbounds = {'num_pca': (2, 8), 'svm_c': (0.1, 10), 'svm_rbf_gamma':(0.001, 0.1) }\n",
    "optimizer.set_bounds(pbounds)"
   ]
  },
  {
   "cell_type": "code",
   "execution_count": 77,
   "metadata": {},
   "outputs": [
    {
     "name": "stdout",
     "output_type": "stream",
     "text": [
      "|   iter    |  target   |  num_pca  |   svm_c   | svm_rb... |\n",
      "-------------------------------------------------------------\n",
      "Evaluando (pca=6, C=4.231317543434557, svm_rbf_gamma=0.056310293016129415): 0.7362637362637363\n",
      "| \u001b[0m 36      \u001b[0m | \u001b[0m 0.7363  \u001b[0m | \u001b[0m 6.023   \u001b[0m | \u001b[0m 4.231   \u001b[0m | \u001b[0m 0.05631 \u001b[0m |\n",
      "Evaluando (pca=3, C=2.0612047419403, svm_rbf_gamma=0.08027371229887814): 0.7582417582417582\n",
      "| \u001b[0m 37      \u001b[0m | \u001b[0m 0.7582  \u001b[0m | \u001b[0m 2.842   \u001b[0m | \u001b[0m 2.061   \u001b[0m | \u001b[0m 0.08027 \u001b[0m |\n",
      "Evaluando (pca=8, C=3.2028993637765044, svm_rbf_gamma=0.06953993895126209): 0.7362637362637363\n",
      "| \u001b[0m 38      \u001b[0m | \u001b[0m 0.7363  \u001b[0m | \u001b[0m 7.81    \u001b[0m | \u001b[0m 3.203   \u001b[0m | \u001b[0m 0.06954 \u001b[0m |\n",
      "Evaluando (pca=7, C=8.956605968688088, svm_rbf_gamma=0.009419376925608014): 0.7912087912087912\n",
      "| \u001b[0m 39      \u001b[0m | \u001b[0m 0.7912  \u001b[0m | \u001b[0m 7.258   \u001b[0m | \u001b[0m 8.957   \u001b[0m | \u001b[0m 0.009419\u001b[0m |\n",
      "Evaluando (pca=2, C=1.7813211536892324, svm_rbf_gamma=0.0879361078395119): 0.8021978021978022\n",
      "| \u001b[0m 40      \u001b[0m | \u001b[0m 0.8022  \u001b[0m | \u001b[0m 2.234   \u001b[0m | \u001b[0m 1.781   \u001b[0m | \u001b[0m 0.08794 \u001b[0m |\n",
      "Evaluando (pca=3, C=7.439607265669674, svm_rbf_gamma=0.05400241552001764): 0.7582417582417582\n",
      "| \u001b[0m 41      \u001b[0m | \u001b[0m 0.7582  \u001b[0m | \u001b[0m 3.31    \u001b[0m | \u001b[0m 7.44    \u001b[0m | \u001b[0m 0.054   \u001b[0m |\n",
      "Evaluando (pca=3, C=0.6657737922607581, svm_rbf_gamma=0.03759496174289215): 0.7912087912087912\n",
      "| \u001b[0m 42      \u001b[0m | \u001b[0m 0.7912  \u001b[0m | \u001b[0m 2.619   \u001b[0m | \u001b[0m 0.6658  \u001b[0m | \u001b[0m 0.03759 \u001b[0m |\n",
      "Evaluando (pca=5, C=2.0153777995895292, svm_rbf_gamma=0.008500825603017433): 0.8021978021978022\n",
      "| \u001b[0m 43      \u001b[0m | \u001b[0m 0.8022  \u001b[0m | \u001b[0m 4.621   \u001b[0m | \u001b[0m 2.015   \u001b[0m | \u001b[0m 0.008501\u001b[0m |\n",
      "Evaluando (pca=4, C=0.8099795943225109, svm_rbf_gamma=0.050421553177459756): 0.8241758241758241\n",
      "| \u001b[0m 44      \u001b[0m | \u001b[0m 0.8242  \u001b[0m | \u001b[0m 4.22    \u001b[0m | \u001b[0m 0.81    \u001b[0m | \u001b[0m 0.05042 \u001b[0m |\n",
      "Evaluando (pca=4, C=0.8927587451062733, svm_rbf_gamma=0.01973847014306115): 0.8241758241758241\n",
      "| \u001b[0m 45      \u001b[0m | \u001b[0m 0.8242  \u001b[0m | \u001b[0m 3.624   \u001b[0m | \u001b[0m 0.8928  \u001b[0m | \u001b[0m 0.01974 \u001b[0m |\n",
      "Evaluando (pca=7, C=0.15002859373363459, svm_rbf_gamma=0.040532060302122884): 0.8241758241758241\n",
      "| \u001b[0m 46      \u001b[0m | \u001b[0m 0.8242  \u001b[0m | \u001b[0m 6.818   \u001b[0m | \u001b[0m 0.15    \u001b[0m | \u001b[0m 0.04053 \u001b[0m |\n",
      "Evaluando (pca=4, C=0.7551578980629983, svm_rbf_gamma=0.08239689965885902): 0.7802197802197802\n",
      "| \u001b[0m 47      \u001b[0m | \u001b[0m 0.7802  \u001b[0m | \u001b[0m 4.261   \u001b[0m | \u001b[0m 0.7552  \u001b[0m | \u001b[0m 0.0824  \u001b[0m |\n",
      "Evaluando (pca=7, C=1.3278703552564024, svm_rbf_gamma=0.004583628170191267): 0.8131868131868132\n",
      "| \u001b[0m 48      \u001b[0m | \u001b[0m 0.8132  \u001b[0m | \u001b[0m 7.003   \u001b[0m | \u001b[0m 1.328   \u001b[0m | \u001b[0m 0.004584\u001b[0m |\n",
      "Evaluando (pca=5, C=0.7970702484810648, svm_rbf_gamma=0.08925979646848928): 0.8241758241758241\n",
      "| \u001b[0m 49      \u001b[0m | \u001b[0m 0.8242  \u001b[0m | \u001b[0m 5.006   \u001b[0m | \u001b[0m 0.7971  \u001b[0m | \u001b[0m 0.08926 \u001b[0m |\n",
      "Evaluando (pca=4, C=8.470352026333993, svm_rbf_gamma=0.013935024377097528): 0.8021978021978022\n",
      "| \u001b[0m 50      \u001b[0m | \u001b[0m 0.8022  \u001b[0m | \u001b[0m 3.528   \u001b[0m | \u001b[0m 8.47    \u001b[0m | \u001b[0m 0.01394 \u001b[0m |\n",
      "Evaluando (pca=7, C=2.4401276394403126, svm_rbf_gamma=0.08764386007231889): 0.7362637362637363\n",
      "| \u001b[0m 51      \u001b[0m | \u001b[0m 0.7363  \u001b[0m | \u001b[0m 6.528   \u001b[0m | \u001b[0m 2.44    \u001b[0m | \u001b[0m 0.08764 \u001b[0m |\n",
      "Evaluando (pca=7, C=0.13370514546019518, svm_rbf_gamma=0.05746544636571228): 0.8351648351648352\n",
      "| \u001b[0m 52      \u001b[0m | \u001b[0m 0.8352  \u001b[0m | \u001b[0m 6.75    \u001b[0m | \u001b[0m 0.1337  \u001b[0m | \u001b[0m 0.05747 \u001b[0m |\n",
      "Evaluando (pca=7, C=7.497736052283533, svm_rbf_gamma=0.0890633707372845): 0.7582417582417582\n",
      "| \u001b[0m 53      \u001b[0m | \u001b[0m 0.7582  \u001b[0m | \u001b[0m 6.865   \u001b[0m | \u001b[0m 7.498   \u001b[0m | \u001b[0m 0.08906 \u001b[0m |\n",
      "Evaluando (pca=5, C=0.806860235224566, svm_rbf_gamma=0.06628488129755432): 0.8131868131868132\n",
      "| \u001b[0m 54      \u001b[0m | \u001b[0m 0.8132  \u001b[0m | \u001b[0m 5.046   \u001b[0m | \u001b[0m 0.8069  \u001b[0m | \u001b[0m 0.06628 \u001b[0m |\n",
      "Evaluando (pca=4, C=6.6653430585838365, svm_rbf_gamma=0.04156352966141945): 0.7912087912087912\n",
      "| \u001b[0m 55      \u001b[0m | \u001b[0m 0.7912  \u001b[0m | \u001b[0m 3.612   \u001b[0m | \u001b[0m 6.665   \u001b[0m | \u001b[0m 0.04156 \u001b[0m |\n",
      "Evaluando (pca=7, C=0.17131853638167108, svm_rbf_gamma=0.010846926404952377): 0.8131868131868132\n",
      "| \u001b[0m 56      \u001b[0m | \u001b[0m 0.8132  \u001b[0m | \u001b[0m 6.772   \u001b[0m | \u001b[0m 0.1713  \u001b[0m | \u001b[0m 0.01085 \u001b[0m |\n",
      "Evaluando (pca=4, C=0.8124073130591352, svm_rbf_gamma=0.059920761442551526): 0.8021978021978022\n",
      "| \u001b[0m 57      \u001b[0m | \u001b[0m 0.8022  \u001b[0m | \u001b[0m 4.148   \u001b[0m | \u001b[0m 0.8124  \u001b[0m | \u001b[0m 0.05992 \u001b[0m |\n",
      "Evaluando (pca=7, C=0.13942746318641533, svm_rbf_gamma=0.032182561230928525): 0.8241758241758241\n",
      "| \u001b[0m 58      \u001b[0m | \u001b[0m 0.8242  \u001b[0m | \u001b[0m 6.705   \u001b[0m | \u001b[0m 0.1394  \u001b[0m | \u001b[0m 0.03218 \u001b[0m |\n",
      "Evaluando (pca=7, C=0.16399355965934015, svm_rbf_gamma=0.038462436335686724): 0.8131868131868132\n",
      "| \u001b[0m 59      \u001b[0m | \u001b[0m 0.8132  \u001b[0m | \u001b[0m 6.745   \u001b[0m | \u001b[0m 0.164   \u001b[0m | \u001b[0m 0.03846 \u001b[0m |\n",
      "Evaluando (pca=7, C=0.1010960040592847, svm_rbf_gamma=0.0695926327702896): 0.8021978021978022\n",
      "| \u001b[0m 60      \u001b[0m | \u001b[0m 0.8022  \u001b[0m | \u001b[0m 6.791   \u001b[0m | \u001b[0m 0.1011  \u001b[0m | \u001b[0m 0.06959 \u001b[0m |\n",
      "Evaluando (pca=4, C=0.8071653547396324, svm_rbf_gamma=0.021610784110804488): 0.8241758241758241\n",
      "| \u001b[0m 61      \u001b[0m | \u001b[0m 0.8242  \u001b[0m | \u001b[0m 4.261   \u001b[0m | \u001b[0m 0.8072  \u001b[0m | \u001b[0m 0.02161 \u001b[0m |\n",
      "Evaluando (pca=2, C=6.610640252818313, svm_rbf_gamma=0.09912583442105877): 0.7912087912087912\n",
      "| \u001b[0m 62      \u001b[0m | \u001b[0m 0.7912  \u001b[0m | \u001b[0m 2.253   \u001b[0m | \u001b[0m 6.611   \u001b[0m | \u001b[0m 0.09913 \u001b[0m |\n",
      "Evaluando (pca=7, C=0.1357674425898221, svm_rbf_gamma=0.003069736969525312): 0.7582417582417582\n",
      "| \u001b[0m 63      \u001b[0m | \u001b[0m 0.7582  \u001b[0m | \u001b[0m 6.724   \u001b[0m | \u001b[0m 0.1358  \u001b[0m | \u001b[0m 0.00307 \u001b[0m |\n",
      "Evaluando (pca=3, C=8.17258526486949, svm_rbf_gamma=0.09748832977419748): 0.7692307692307693\n",
      "| \u001b[0m 64      \u001b[0m | \u001b[0m 0.7692  \u001b[0m | \u001b[0m 2.652   \u001b[0m | \u001b[0m 8.173   \u001b[0m | \u001b[0m 0.09749 \u001b[0m |\n",
      "Evaluando (pca=7, C=1.8680922023346067, svm_rbf_gamma=0.04245983398763201): 0.7912087912087912\n",
      "| \u001b[0m 65      \u001b[0m | \u001b[0m 0.7912  \u001b[0m | \u001b[0m 7.23    \u001b[0m | \u001b[0m 1.868   \u001b[0m | \u001b[0m 0.04246 \u001b[0m |\n",
      "Evaluando (pca=2, C=1.6454617167699086, svm_rbf_gamma=0.06807079936794568): 0.8241758241758241\n",
      "| \u001b[0m 66      \u001b[0m | \u001b[0m 0.8242  \u001b[0m | \u001b[0m 2.431   \u001b[0m | \u001b[0m 1.645   \u001b[0m | \u001b[0m 0.06807 \u001b[0m |\n",
      "Evaluando (pca=4, C=0.8266005737766888, svm_rbf_gamma=0.030678581795875032): 0.8241758241758241\n",
      "| \u001b[0m 67      \u001b[0m | \u001b[0m 0.8242  \u001b[0m | \u001b[0m 4.228   \u001b[0m | \u001b[0m 0.8266  \u001b[0m | \u001b[0m 0.03068 \u001b[0m |\n",
      "Evaluando (pca=4, C=0.7266411189213537, svm_rbf_gamma=0.00437845994687702): 0.8241758241758241\n",
      "| \u001b[0m 68      \u001b[0m | \u001b[0m 0.8242  \u001b[0m | \u001b[0m 4.167   \u001b[0m | \u001b[0m 0.7266  \u001b[0m | \u001b[0m 0.004378\u001b[0m |\n",
      "Evaluando (pca=4, C=0.774593213814561, svm_rbf_gamma=0.0032065413378732253): 0.8351648351648352\n",
      "| \u001b[0m 69      \u001b[0m | \u001b[0m 0.8352  \u001b[0m | \u001b[0m 4.148   \u001b[0m | \u001b[0m 0.7746  \u001b[0m | \u001b[0m 0.003207\u001b[0m |\n",
      "Evaluando (pca=4, C=7.440921137433173, svm_rbf_gamma=0.06644112927800001): 0.7912087912087912\n",
      "| \u001b[0m 70      \u001b[0m | \u001b[0m 0.7912  \u001b[0m | \u001b[0m 3.544   \u001b[0m | \u001b[0m 7.441   \u001b[0m | \u001b[0m 0.06644 \u001b[0m |\n",
      "=============================================================\n",
      "Wall time: 3.04 s\n"
     ]
    }
   ],
   "source": [
    "%%time \n",
    "optimizer.maximize(\n",
    "    init_points=5,\n",
    "    n_iter=30,\n",
    ")"
   ]
  },
  {
   "cell_type": "markdown",
   "metadata": {},
   "source": [
    "Una vez ya se tiene un flujo aceptable, reentrenamos con la totalidad del dataset y el modelo quedará listo para producción"
   ]
  },
  {
   "cell_type": "code",
   "execution_count": 81,
   "metadata": {},
   "outputs": [
    {
     "data": {
      "text/plain": [
       "{'target': 0.8461538461538461,\n",
       " 'params': {'num_pca': 4.230504378923588,\n",
       "  'svm_c': 0.7953094121597778,\n",
       "  'svm_rbf_gamma': 0.008080611942173011}}"
      ]
     },
     "execution_count": 81,
     "metadata": {},
     "output_type": "execute_result"
    }
   ],
   "source": [
    "optimizer.max"
   ]
  },
  {
   "cell_type": "code",
   "execution_count": 82,
   "metadata": {},
   "outputs": [
    {
     "data": {
      "text/plain": [
       "Pipeline(steps=[('STD', StandardScaler()), ('PCA', PCA(n_components=4)),\n",
       "                ('SVM_rbf', SVC(C=0.7953, gamma=0.0080806, probability=True))])"
      ]
     },
     "execution_count": 82,
     "metadata": {},
     "output_type": "execute_result"
    }
   ],
   "source": [
    "steps = [('STD', StandardScaler()), ('PCA', PCA(n_components=4)), \n",
    "         (\"SVM_rbf\", SVC(kernel=\"rbf\", probability=True, C=0.7953, gamma=0.0080806))]\n",
    "pipeline = Pipeline(steps)\n",
    "pipeline.fit(X_complete, y_complete)    "
   ]
  }
 ],
 "metadata": {
  "kernelspec": {
   "display_name": "Python 3 (ipykernel)",
   "language": "python",
   "name": "python3"
  },
  "language_info": {
   "codemirror_mode": {
    "name": "ipython",
    "version": 3
   },
   "file_extension": ".py",
   "mimetype": "text/x-python",
   "name": "python",
   "nbconvert_exporter": "python",
   "pygments_lexer": "ipython3",
   "version": "3.11.5"
  },
  "toc": {
   "base_numbering": 1,
   "nav_menu": {},
   "number_sections": true,
   "sideBar": true,
   "skip_h1_title": false,
   "title_cell": "Table of Contents",
   "title_sidebar": "Contents",
   "toc_cell": true,
   "toc_position": {
    "height": "calc(100% - 180px)",
    "left": "10px",
    "top": "150px",
    "width": "165px"
   },
   "toc_section_display": true,
   "toc_window_display": true
  }
 },
 "nbformat": 4,
 "nbformat_minor": 1
}
