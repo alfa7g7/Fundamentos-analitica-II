{
 "cells": [
  {
   "cell_type": "markdown",
   "metadata": {
    "toc": true
   },
   "source": [
    "<h1>Table of Contents<span class=\"tocSkip\"></span></h1>\n",
    "<div class=\"toc\"><ul class=\"toc-item\"><li><span><a href=\"#Red-neuronal-artificial-en-Numpy---MNIST\" data-toc-modified-id=\"Red-neuronal-artificial-en-Numpy---MNIST-1\"><span class=\"toc-item-num\">1&nbsp;&nbsp;</span>Red neuronal artificial en Numpy - MNIST</a></span><ul class=\"toc-item\"><li><span><a href=\"#NO-VOLVER-A-EJECUTAR-OTRA-VEZ!!!-SOLO-PARA-LEER-(se-demora-mucho)\" data-toc-modified-id=\"NO-VOLVER-A-EJECUTAR-OTRA-VEZ!!!-SOLO-PARA-LEER-(se-demora-mucho)-1.1\"><span class=\"toc-item-num\">1.1&nbsp;&nbsp;</span><font color=\"red\">NO VOLVER A EJECUTAR OTRA VEZ!!! SOLO PARA LEER (se demora mucho)</font></a></span></li></ul></li><li><span><a href=\"#Exploración-y-entendimiento-del-dataset-MNIST\" data-toc-modified-id=\"Exploración-y-entendimiento-del-dataset-MNIST-2\"><span class=\"toc-item-num\">2&nbsp;&nbsp;</span>Exploración y entendimiento del dataset MNIST</a></span><ul class=\"toc-item\"><li><span><a href=\"#Librerías\" data-toc-modified-id=\"Librerías-2.1\"><span class=\"toc-item-num\">2.1&nbsp;&nbsp;</span>Librerías</a></span></li><li><span><a href=\"#Carga-de-datos\" data-toc-modified-id=\"Carga-de-datos-2.2\"><span class=\"toc-item-num\">2.2&nbsp;&nbsp;</span>Carga de datos</a></span></li><li><span><a href=\"#Preprocesamiento-de-los-datos\" data-toc-modified-id=\"Preprocesamiento-de-los-datos-2.3\"><span class=\"toc-item-num\">2.3&nbsp;&nbsp;</span>Preprocesamiento de los datos</a></span></li></ul></li><li><span><a href=\"#MNIST:-ANN-con-Numpy\" data-toc-modified-id=\"MNIST:-ANN-con-Numpy-3\"><span class=\"toc-item-num\">3&nbsp;&nbsp;</span>MNIST: ANN con Numpy</a></span><ul class=\"toc-item\"><li><span><a href=\"#Inicialización-de-los-parámetros\" data-toc-modified-id=\"Inicialización-de-los-parámetros-3.1\"><span class=\"toc-item-num\">3.1&nbsp;&nbsp;</span>Inicialización de los parámetros</a></span></li><li><span><a href=\"#Feed-Forward\" data-toc-modified-id=\"Feed-Forward-3.2\"><span class=\"toc-item-num\">3.2&nbsp;&nbsp;</span>Feed Forward</a></span></li><li><span><a href=\"#Función-de-costo\" data-toc-modified-id=\"Función-de-costo-3.3\"><span class=\"toc-item-num\">3.3&nbsp;&nbsp;</span>Función de costo</a></span></li><li><span><a href=\"#Función-de-backpropagation\" data-toc-modified-id=\"Función-de-backpropagation-3.4\"><span class=\"toc-item-num\">3.4&nbsp;&nbsp;</span>Función de backpropagation</a></span></li><li><span><a href=\"#Ciclo-de-entrenamiento\" data-toc-modified-id=\"Ciclo-de-entrenamiento-3.5\"><span class=\"toc-item-num\">3.5&nbsp;&nbsp;</span>Ciclo de entrenamiento</a></span></li><li><span><a href=\"#Mini-batch-gradient-descent\" data-toc-modified-id=\"Mini-batch-gradient-descent-3.6\"><span class=\"toc-item-num\">3.6&nbsp;&nbsp;</span>Mini batch gradient descent</a></span></li></ul></li></ul></div>"
   ]
  },
  {
   "cell_type": "markdown",
   "metadata": {},
   "source": [
    "# Red neuronal artificial en Numpy - MNIST"
   ]
  },
  {
   "cell_type": "markdown",
   "metadata": {},
   "source": [
    "Bibliografía:\n",
    "- Deep Learning with Python (capítulo 2), Francois Chollet, 2018 Manning\n",
    "- https://www.coursera.org/learn/neural-networks-deep-learning/lecture/6dDj7/backpropagation-intuition-optional, Andrew Ng, 2018 DeepLearning.ai\n",
    "- Learning Tensor Flow, Tom Hope, Yehezkel S. Resheff & Itay Lieder, 2017 O'Reilly\n",
    "- TensorFlow for Deep Learning, Bharath Ramsundar & Reza Bosagh Zadeh, 2018, O'Reilly\n",
    "- Python Machine Learning, 2nd ed. (capítulo 13), Sebastian Rachska, 2017 Packt\n",
    "- Machine Learning with TensrFlow (capítulo 7), Nishant Shukla, 2018 Manning\n"
   ]
  },
  {
   "cell_type": "markdown",
   "metadata": {},
   "source": [
    "## <font color=\"red\">NO VOLVER A EJECUTAR OTRA VEZ!!! SOLO PARA LEER (se demora mucho)</font>"
   ]
  },
  {
   "cell_type": "markdown",
   "metadata": {},
   "source": [
    "Vamos en este notebook a implementar una red neuronal que permita la clasificación de imágenes de dígitos en escala de grises, utilizando tres niveles de extracción de programación.\n",
    "\n",
    "Además de utilizar **numpy**, aprovechamos para presentar las librerías **tensorflow** y **keras** a través de su aplicación al problema de clasificación mencionado. \n",
    "El modelo a implementar es una red con una capa escondida de 512 neuronas utilizando la función de activación **ReLU** y 10 neuronas de salida utilizando la función de activación **softmax**.\n",
    "\n",
    "Vamos a seguir un protocolo de *holdout* para evaluar los clasificadores."
   ]
  },
  {
   "cell_type": "markdown",
   "metadata": {},
   "source": [
    "# Exploración y entendimiento del dataset MNIST"
   ]
  },
  {
   "cell_type": "markdown",
   "metadata": {},
   "source": [
    "Desde la versión 2.0 de **TensorFlow**, **Keras** viene directamente incluido."
   ]
  },
  {
   "cell_type": "markdown",
   "metadata": {},
   "source": [
    "## Librerías"
   ]
  },
  {
   "cell_type": "code",
   "execution_count": 1,
   "metadata": {},
   "outputs": [],
   "source": [
    "import numpy as np\n",
    "import matplotlib.pyplot as plt\n",
    "from sklearn.metrics import classification_report, confusion_matrix, accuracy_score"
   ]
  },
  {
   "cell_type": "code",
   "execution_count": 2,
   "metadata": {},
   "outputs": [
    {
     "data": {
      "text/plain": [
       "'2.6.0'"
      ]
     },
     "execution_count": 2,
     "metadata": {},
     "output_type": "execute_result"
    }
   ],
   "source": [
    "import tensorflow as tf\n",
    "tf.__version__"
   ]
  },
  {
   "cell_type": "markdown",
   "metadata": {},
   "source": [
    "Keras necesita una base para trabajar. Vamos a usar tensorflow"
   ]
  },
  {
   "cell_type": "code",
   "execution_count": 3,
   "metadata": {},
   "outputs": [
    {
     "data": {
      "text/plain": [
       "'2.6.0'"
      ]
     },
     "execution_count": 3,
     "metadata": {},
     "output_type": "execute_result"
    }
   ],
   "source": [
    "import tensorflow.keras as keras\n",
    "keras.__version__"
   ]
  },
  {
   "cell_type": "markdown",
   "metadata": {},
   "source": [
    "Keras viene con MNIST directamente integrada. Las imagenes y sus etiquetas (clases) ya vienen particionadas en training y test sets."
   ]
  },
  {
   "cell_type": "markdown",
   "metadata": {},
   "source": [
    "## Carga de datos"
   ]
  },
  {
   "cell_type": "code",
   "execution_count": 13,
   "metadata": {},
   "outputs": [],
   "source": [
    "from tensorflow.keras.datasets import mnist\n",
    "(train_images, train_labels), (test_images, test_labels) = mnist.load_data()"
   ]
  },
  {
   "cell_type": "code",
   "execution_count": 14,
   "metadata": {},
   "outputs": [
    {
     "data": {
      "text/plain": [
       "array([  0,   0,   0,   0,   0,   0,   0,   0,   0,   0,   0,   0,   3,\n",
       "        18,  18,  18, 126, 136, 175,  26, 166, 255, 247, 127,   0,   0,\n",
       "         0,   0], dtype=uint8)"
      ]
     },
     "execution_count": 14,
     "metadata": {},
     "output_type": "execute_result"
    }
   ],
   "source": [
    "train_images[0][5] #La primera imagen, la 6a fila, muestra los 28 valores de gris (uno por cada columna)"
   ]
  },
  {
   "cell_type": "code",
   "execution_count": 15,
   "metadata": {},
   "outputs": [
    {
     "data": {
      "text/plain": [
       "(60000, 28, 28)"
      ]
     },
     "execution_count": 15,
     "metadata": {},
     "output_type": "execute_result"
    }
   ],
   "source": [
    "train_images.shape"
   ]
  },
  {
   "cell_type": "markdown",
   "metadata": {},
   "source": [
    "El primer rango del tensor contiene las dimensiones asociadas a las train_images (60000), los 2 siguientes rangos tienen las dimensiones del tamaño de las imágenes (28x28 pixeles). Como son imagenes en escala de grises, no hay un cuarto rango con las dimensiones de los canales de color (e.g. RGB). Cada valor de la matriz de 28x28 es una valor de gris de 0 a 255."
   ]
  },
  {
   "cell_type": "code",
   "execution_count": 16,
   "metadata": {},
   "outputs": [
    {
     "data": {
      "text/plain": [
       "60000"
      ]
     },
     "execution_count": 16,
     "metadata": {},
     "output_type": "execute_result"
    }
   ],
   "source": [
    "len (train_labels)"
   ]
  },
  {
   "cell_type": "code",
   "execution_count": 17,
   "metadata": {},
   "outputs": [
    {
     "data": {
      "text/plain": [
       "10000"
      ]
     },
     "execution_count": 17,
     "metadata": {},
     "output_type": "execute_result"
    }
   ],
   "source": [
    "len (test_labels)"
   ]
  },
  {
   "cell_type": "markdown",
   "metadata": {},
   "source": [
    "El testset tiene 10000 imágenes"
   ]
  },
  {
   "cell_type": "code",
   "execution_count": 18,
   "metadata": {},
   "outputs": [
    {
     "data": {
      "text/plain": [
       "array([5, 0, 4, ..., 5, 6, 8], dtype=uint8)"
      ]
     },
     "execution_count": 18,
     "metadata": {},
     "output_type": "execute_result"
    }
   ],
   "source": [
    "train_labels"
   ]
  },
  {
   "cell_type": "code",
   "execution_count": 19,
   "metadata": {},
   "outputs": [
    {
     "data": {
      "text/plain": [
       "(10000, 28, 28)"
      ]
     },
     "execution_count": 19,
     "metadata": {},
     "output_type": "execute_result"
    }
   ],
   "source": [
    "test_images.shape"
   ]
  },
  {
   "cell_type": "markdown",
   "metadata": {},
   "source": [
    "Podemos ver cada una de las imágenes"
   ]
  },
  {
   "cell_type": "code",
   "execution_count": 20,
   "metadata": {},
   "outputs": [
    {
     "data": {
      "image/png": "[encoded data removed]",
      "text/plain": [
       "<Figure size 432x288 with 1 Axes>"
      ]
     },
     "metadata": {
      "needs_background": "light"
     },
     "output_type": "display_data"
    }
   ],
   "source": [
    "digit = train_images[12]\n",
    "plt.imshow(digit, cmap=plt.cm.binary)\n",
    "plt.show()"
   ]
  },
  {
   "cell_type": "code",
   "execution_count": 21,
   "metadata": {},
   "outputs": [
    {
     "data": {
      "text/plain": [
       "3"
      ]
     },
     "execution_count": 21,
     "metadata": {},
     "output_type": "execute_result"
    }
   ],
   "source": [
    "train_labels[12]"
   ]
  },
  {
   "cell_type": "markdown",
   "metadata": {},
   "source": [
    "## Preprocesamiento de los datos"
   ]
  },
  {
   "cell_type": "markdown",
   "metadata": {},
   "source": [
    "Necesitamos que los datos de entrenamiento y test estén en el formato dado por la capa de entrada de la red, donde se reciben los datos representados a partir de un tensor cuya primera dimensión tiene 784 neuronas, es decir, recibe como input instancias representadas por tensores con dimensionalidad (784,).\n",
    "\n",
    "Cómo los datos de entrenamiento están en tensores de 60000x28x28, es necesario convertirlos en un tensor de 60000x784. Idem para el tensor de test.\n",
    "\n",
    "Vamos también a modificar la escala de grises, que originalmente va de 0 a 255, a una escala que vaya de 0 a 1. Para esto, dividimos los valores originales por 255."
   ]
  },
  {
   "cell_type": "markdown",
   "metadata": {},
   "source": [
    "Definimos la estructura de la red (número de neuronas por capa y número de inputs)."
   ]
  },
  {
   "cell_type": "code",
   "execution_count": 23,
   "metadata": {},
   "outputs": [],
   "source": [
    "n0 = 28*28\n",
    "n1 = 512\n",
    "n2 = 10"
   ]
  },
  {
   "cell_type": "code",
   "execution_count": 24,
   "metadata": {},
   "outputs": [
    {
     "data": {
      "text/plain": [
       "(60000, 28, 28)"
      ]
     },
     "execution_count": 24,
     "metadata": {},
     "output_type": "execute_result"
    }
   ],
   "source": [
    "train_images.shape"
   ]
  },
  {
   "cell_type": "markdown",
   "metadata": {},
   "source": [
    "Vamos a aplanar los datos de train y test para poder utilizar cada pixel como un predictor (cada pixel en una columna diferente)."
   ]
  },
  {
   "cell_type": "code",
   "execution_count": 25,
   "metadata": {},
   "outputs": [],
   "source": [
    "train_images = train_images.reshape((60000, 28 * 28))\n",
    "train_images = train_images.astype('float32') / 255\n",
    "\n",
    "test_images = test_images.reshape((10000, 28 * 28))\n",
    "test_images = test_images.astype('float32') / 255"
   ]
  },
  {
   "cell_type": "markdown",
   "metadata": {},
   "source": [
    "Las etiquetas están en valores numéricos, vamos codificarlos en one hot encoding, con un vector de K posiciones para K clases, donde la clase específica de cada ejemplo tiene un valor de 1, y las demas posiciones del vector tienen valores de 0"
   ]
  },
  {
   "cell_type": "code",
   "execution_count": 26,
   "metadata": {},
   "outputs": [
    {
     "data": {
      "text/plain": [
       "array([5, 0, 4, 1, 9, 2, 1, 3, 1, 4], dtype=uint8)"
      ]
     },
     "execution_count": 26,
     "metadata": {},
     "output_type": "execute_result"
    }
   ],
   "source": [
    "train_labels[0:10]"
   ]
  },
  {
   "cell_type": "code",
   "execution_count": 27,
   "metadata": {},
   "outputs": [],
   "source": [
    "from tensorflow.keras.utils import to_categorical\n",
    "\n",
    "train_labels = to_categorical(train_labels)\n",
    "test_labels = to_categorical(test_labels)"
   ]
  },
  {
   "cell_type": "code",
   "execution_count": 28,
   "metadata": {},
   "outputs": [
    {
     "data": {
      "text/plain": [
       "(60000, 10)"
      ]
     },
     "execution_count": 28,
     "metadata": {},
     "output_type": "execute_result"
    }
   ],
   "source": [
    "train_labels.shape"
   ]
  },
  {
   "cell_type": "code",
   "execution_count": 29,
   "metadata": {},
   "outputs": [
    {
     "data": {
      "text/plain": [
       "(10000, 10)"
      ]
     },
     "execution_count": 29,
     "metadata": {},
     "output_type": "execute_result"
    }
   ],
   "source": [
    "test_labels.shape"
   ]
  },
  {
   "cell_type": "code",
   "execution_count": 30,
   "metadata": {},
   "outputs": [
    {
     "data": {
      "text/plain": [
       "array([[0., 0., 0., 0., 0., 1., 0., 0., 0., 0.],\n",
       "       [1., 0., 0., 0., 0., 0., 0., 0., 0., 0.],\n",
       "       [0., 0., 0., 0., 1., 0., 0., 0., 0., 0.],\n",
       "       [0., 1., 0., 0., 0., 0., 0., 0., 0., 0.],\n",
       "       [0., 0., 0., 0., 0., 0., 0., 0., 0., 1.]], dtype=float32)"
      ]
     },
     "execution_count": 30,
     "metadata": {},
     "output_type": "execute_result"
    }
   ],
   "source": [
    "train_labels[0:5]"
   ]
  },
  {
   "cell_type": "markdown",
   "metadata": {},
   "source": [
    "Como los labels están desordenados y no responden a ninguna organización sistemática, los podemos dejar así. Si siguieran un orden definido, sería necesario barajarlos para que el orden no influyera en el aprendizaje."
   ]
  },
  {
   "cell_type": "code",
   "execution_count": 31,
   "metadata": {},
   "outputs": [],
   "source": [
    "X_train = train_images.T\n",
    "y_train = train_labels.T\n",
    "m=X_train.shape[1]"
   ]
  },
  {
   "cell_type": "code",
   "execution_count": 32,
   "metadata": {},
   "outputs": [
    {
     "data": {
      "text/plain": [
       "(784, 60000)"
      ]
     },
     "execution_count": 32,
     "metadata": {},
     "output_type": "execute_result"
    }
   ],
   "source": [
    "X_train.shape"
   ]
  },
  {
   "cell_type": "code",
   "execution_count": 33,
   "metadata": {},
   "outputs": [
    {
     "data": {
      "text/plain": [
       "(10, 60000)"
      ]
     },
     "execution_count": 33,
     "metadata": {},
     "output_type": "execute_result"
    }
   ],
   "source": [
    "y_train.shape"
   ]
  },
  {
   "cell_type": "markdown",
   "metadata": {},
   "source": [
    "# MNIST: ANN con Numpy "
   ]
  },
  {
   "cell_type": "markdown",
   "metadata": {},
   "source": [
    "Definimos las funciones de activación y sus gradientes.\n",
    "\n",
    "La función de activación de softmax solo se puede utilizar en la última capa y generaliza la función sigmoide, por lo que su gradiente es el mismo que el del caso binario."
   ]
  },
  {
   "cell_type": "code",
   "execution_count": 45,
   "metadata": {},
   "outputs": [],
   "source": [
    "def sigmoide(x):\n",
    "    return 1/(1+np.exp(-x))\n",
    "\n",
    "def sigmoideGrad(x):\n",
    "    return x*(1-x)\n",
    "\n",
    "def softmax(X):\n",
    "    s = np.exp(X)\n",
    "    s = s/ np.sum(s, axis=0)\n",
    "    return s"
   ]
  },
  {
   "cell_type": "code",
   "execution_count": 46,
   "metadata": {},
   "outputs": [],
   "source": [
    "def tanh(x):\n",
    "    return (np.exp(x)-np.exp(-x))/(np.exp(x)+np.exp(-x))\n",
    "\n",
    "def tanhGrad(x):\n",
    "    return 1-np.power(x,2)"
   ]
  },
  {
   "cell_type": "code",
   "execution_count": 47,
   "metadata": {},
   "outputs": [],
   "source": [
    "def relu(x):\n",
    "    return np.max(x, 0)\n",
    "\n",
    "def reluGrad(x):\n",
    "    if x>0:\n",
    "        return 1\n",
    "    else:\n",
    "        return 0"
   ]
  },
  {
   "cell_type": "markdown",
   "metadata": {},
   "source": [
    "## Inicialización de los parámetros"
   ]
  },
  {
   "cell_type": "markdown",
   "metadata": {},
   "source": [
    "Inicializamos los pesos de la red aleatoriamente para la capa intermedia (1) y la capa de salida (2). La capa inicial no tiene pesos pues consiste únicamente de los datos de entrada.\n",
    "\n",
    "La primera capa tiene n1 (512) neuronas y n0 (784) inputs, creamos una matriz de pesos w1 con n1 filas y n0 columnas. Tenemos además un vector b1 con n1 posiciones.\n",
    "\n",
    "La segunda capa tiene n2 (10) neuronas y n1 (512) inputs, creamos una matriz de pesos w2 con n2 fila y n1 columnas. Tenemos además un vector b2 con n2 posiciones."
   ]
  },
  {
   "cell_type": "code",
   "execution_count": 48,
   "metadata": {},
   "outputs": [],
   "source": [
    "def initParams():\n",
    "    np.random.seed(123456)\n",
    "\n",
    "    w1 = (2*np.random.random((n1, n0))-1)/100\n",
    "    w2 = (2*np.random.random((n2, n1))-1)/100\n",
    "    b1 = np.zeros((n1, 1))\n",
    "    b2 = np.zeros((n2, 1))\n",
    "\n",
    "    return(w1, b1, w2, b2)"
   ]
  },
  {
   "cell_type": "code",
   "execution_count": 49,
   "metadata": {},
   "outputs": [
    {
     "name": "stdout",
     "output_type": "stream",
     "text": [
      "inputs:  (60000, 784)\n",
      "w1: {(512, 784)}\n",
      "b1: {(512, 1)}\n",
      "w2: {(10, 512)}\n",
      "b2: {(10, 1)}\n"
     ]
    }
   ],
   "source": [
    "w1, b1, w2, b2 = initParams()\n",
    "print(\"inputs: \", train_images.shape)\n",
    "print(\"w1: {%s}\\nb1: {%s}\" % (w1.shape, b1.shape))\n",
    "print(\"w2: {%s}\\nb2: {%s}\" % (w2.shape, b2.shape))"
   ]
  },
  {
   "cell_type": "markdown",
   "metadata": {},
   "source": [
    "## Feed Forward"
   ]
  },
  {
   "cell_type": "markdown",
   "metadata": {},
   "source": [
    "Comenzamos por definir la función feedForward, que recibe la matriz de inputs con todos los registros y retorna el vector con las predicciones correspondientes:"
   ]
  },
  {
   "cell_type": "code",
   "execution_count": 50,
   "metadata": {},
   "outputs": [],
   "source": [
    "def feedForward(X, w1, b1, w2, b2):\n",
    "    '''Calcula el valor predicho para todos los registros que se encuentran en X\n",
    "       -----------\n",
    "       Argumentos:\n",
    "       X: matriz con los inputs, con tantas filas como atributos y tantas columnas como registros\n",
    "       w1: matriz con los pesos de las conexiones entrantes de la 1a capa, \n",
    "         con tantas filas como atributos y tantas columnas como registros\n",
    "       b1: array con los sesgos de las neuronas de la 1a capa\n",
    "       w2: matriz con los pesos de las conexiones entrantes de la 2a capa, \n",
    "         con tantas filas como atributos y tantas columnas como registros\n",
    "       b2: array con los sesgos de las neuronas de la 2a capa\n",
    "       -----------\n",
    "       Retorna:\n",
    "       a1: matriz con las activaciones de la capa escondida, \n",
    "         con tantas filas como neuronas de la capa y tantas columnas como registros\n",
    "       a2 (y estimado): vector con las predicciones\n",
    "    '''\n",
    "    m=X.shape[1]\n",
    "\n",
    "    a0 = X # matriz de 784 filas (inputs) * 60000 columnas (registros)\n",
    "    z1 = np.dot(w1, a0)+b1 # (512, 784) * (784, 60000) --> (512, 60000) 512 neuronas capa 1 * 60000 registros\n",
    "    a1 = tanh(z1)   # (512, 60000) 512 neuronas capa 1 * 60000 registros\n",
    "    z2 = np.dot(w2, a1)+b2 # (10, 512) * (512, 60000) --> (10, 60000) 10 neuronas capa 2 * 60000 registros\n",
    "    a2 = softmax(z2)    # (10, 60000) --> 10 neuronas de salida * 60000 registros\n",
    "\n",
    "    return (a1, a2)"
   ]
  },
  {
   "cell_type": "markdown",
   "metadata": {},
   "source": [
    "Podemos entonces evaluar el estado inicial de la red (con sus parámetros iniciales):"
   ]
  },
  {
   "cell_type": "code",
   "execution_count": 51,
   "metadata": {},
   "outputs": [
    {
     "name": "stdout",
     "output_type": "stream",
     "text": [
      "[[0.10071491 0.10042403 0.10197454 ... 0.09950268 0.09953592 0.10050975]\n",
      " [0.09982152 0.09917264 0.10177136 ... 0.09984397 0.0986228  0.10154716]\n",
      " [0.10044414 0.09944697 0.10062615 ... 0.10005185 0.09904903 0.09962872]\n",
      " ...\n",
      " [0.10024492 0.1008202  0.10049123 ... 0.09974311 0.10031068 0.09981346]\n",
      " [0.10037734 0.09966835 0.10097462 ... 0.09993777 0.09929817 0.10047747]\n",
      " [0.09963554 0.10080644 0.10104211 ... 0.09960428 0.09928018 0.10077153]]\n"
     ]
    }
   ],
   "source": [
    "a1, a2 = feedForward(X_train, w1, b1, w2, b2)\n",
    "print(a2.transpose())"
   ]
  },
  {
   "cell_type": "code",
   "execution_count": 53,
   "metadata": {},
   "outputs": [
    {
     "data": {
      "text/plain": [
       "array([0.10071491, 0.10042403, 0.10197454, 0.09957499, 0.09956164,\n",
       "       0.09918391, 0.09901764, 0.09950268, 0.09953592, 0.10050975])"
      ]
     },
     "execution_count": 53,
     "metadata": {},
     "output_type": "execute_result"
    }
   ],
   "source": [
    "a2.transpose()[0]"
   ]
  },
  {
   "cell_type": "markdown",
   "metadata": {},
   "source": [
    "Vemos que casi todas las probabilidades son cercanas al 10%, por lo que no hay inicialmente ninguna predilección definida por ninguno de los dígitos del 0 al 9."
   ]
  },
  {
   "cell_type": "markdown",
   "metadata": {},
   "source": [
    "## Función de costo"
   ]
  },
  {
   "cell_type": "markdown",
   "metadata": {},
   "source": [
    "La función de perdida es la **categorical_crossentropy**, que se utiliza en el caso de problemas de clasificación multiclase. El optimizador tratará de minimizarla. Es una función de distancia entre el valor real (que solo tiene una de las dimensiones con un 1 y las demás con un 0) y el predicho por el modelo (que tiene una distribución que probablemente no sea absoluta, sino que reparta la unidad de probabilidad en cada una de las clases).\n",
    "Esta función es la suma negativa de las entropias de cada una de las posiciones del vector one hot encoded de clases:\n",
    "$$L(y,\\tilde{y}) =-\\sum{y*log(\\tilde{y})}$$\n",
    "Como el valor de *y* es solo 1 en una de las posiciondes del vector de clases y 0 en las demás, solo una posición será considerada, de tal manera que la similitud entre los valores reales (1) y predichos (fracción de 1) es dada por el log del valor predicho para la clase real.  "
   ]
  },
  {
   "cell_type": "code",
   "execution_count": 54,
   "metadata": {},
   "outputs": [],
   "source": [
    "def costoGlobal(y_real, y_est): \n",
    "    '''Calcula el costo global de la predicción con la red actual, comparando la clase real con las probabilidad estimadas\n",
    "       -----------\n",
    "       Argumentos:\n",
    "       y_real: Matriz con las clases reales de los datos. numcols = registros, numrows = 10\n",
    "       y_est: array con las probabilidades de salida estimadas por la red\n",
    "       -----------\n",
    "       Retorna:\n",
    "       costo: promedio de los costos de cada predicción individual\n",
    "    '''\n",
    "    L_sum = np.sum(np.multiply(y_real, np.log(y_est)), axis=0)\n",
    "    m = y_real.shape[1]\n",
    "    L = -(1/m) * L_sum\n",
    "    return np.abs(np.mean(L))"
   ]
  },
  {
   "cell_type": "code",
   "execution_count": 55,
   "metadata": {},
   "outputs": [
    {
     "data": {
      "text/plain": [
       "3.8408622903772436e-05"
      ]
     },
     "execution_count": 55,
     "metadata": {},
     "output_type": "execute_result"
    }
   ],
   "source": [
    "costo = costoGlobal(y_train, a2)\n",
    "costo"
   ]
  },
  {
   "cell_type": "markdown",
   "metadata": {},
   "source": [
    "## Función de backpropagation"
   ]
  },
  {
   "cell_type": "code",
   "execution_count": 56,
   "metadata": {},
   "outputs": [],
   "source": [
    "def backProp(X, y, w1, w2, a1, a2): \n",
    "    '''Calcula los deltas de las actualizaciones de los parámetros de las capas \n",
    "       -----------\n",
    "       Argumentos:\n",
    "       X: matriz con los inputs, con tantas filas como atributos y tantas columnas como registros\n",
    "       y: array con los valores reales a predecir\n",
    "       w1: matriz con los pesos de las conexiones entrantes de la 1a capa, \n",
    "         con tantas filas como atributos y tantas columnas como registros\n",
    "       w2: matriz con los pesos de las conexiones entrantes de la 2a capa, \n",
    "         con tantas filas como atributos y tantas columnas como registros\n",
    "       a1: matriz con las activaciones de la capa escondida, con tantas filas como neuronas de la capa y tantas columnas como registros\n",
    "       a2 (y estimado): matriz con las predicciones, con tantas columnas como registros y 10 filas (1 por cada dígito)\n",
    "       -----------\n",
    "       Retorna:\n",
    "       dw1: matriz con las actualizaciones que se deben aplicar a los coeficientes de la capa 1 (hidden)\n",
    "       db1: array con las actualizaciones que se deben aplicar a los sesgos de la capa 1 (hidden)\n",
    "       dw2: matriz con las actualizaciones que se deben aplicar a los coeficientes de la capa 2 (salida)\n",
    "       db2: array con las actualizaciones que se deben aplicar a los sesgos de la capa 2 (salida)\n",
    "    '''\n",
    "    m=X.shape[1]\n",
    "    dz2 = a2-y                    # (10, 60000) 10 neuronas de salida * 60000 registros\n",
    "    dw2 = (1/m)*np.dot(dz2, a1.T) # (10, 60000) * (60000, 512) --> (10, 512) 10 neuronas capa 2, 4 neuronas capa 1\n",
    "    db2 = (1/m)*np.sum(dz2, axis=1, keepdims=True) # (10,1) 10 neuronas capa 2\n",
    "    dz1 = np.dot(w2.T, dz2) * tanhGrad(a1) # (512,10) * (10,60000) --> (512, 60000) 512 neuronas capa 1, 60000 registros\n",
    "    dw1 = (1/m)*np.dot(dz1, X.T) #(512,60000) * (60000, 784) --> (512,784) 512 neuronas capa 1), 784 inputs\n",
    "    db1 = (1/m)*np.sum(dz1, axis=1, keepdims=True) # (512,1) 512 neuronas capa 1\n",
    "\n",
    "    return (dw1, db1, dw2, db2)"
   ]
  },
  {
   "cell_type": "code",
   "execution_count": 57,
   "metadata": {},
   "outputs": [],
   "source": [
    "dw1, db1, dw2, db2 = backProp(X_train, y_train, w1, w2, a1, a2)"
   ]
  },
  {
   "cell_type": "markdown",
   "metadata": {},
   "source": [
    "## Ciclo de entrenamiento"
   ]
  },
  {
   "cell_type": "markdown",
   "metadata": {},
   "source": [
    "Vamos ahora a programar el ciclo (época) de back propagation.\n",
    "- Se calculan los valores intermediarios en la fase forward: a0 (son las entradas X), a1 y a2 (las salidas estimadas y_est)\n",
    "- Se calcula el error de cada época\n",
    "- Se encuentran los valores de los gradientes en la fase backward a partir de los resultados anteriores"
   ]
  },
  {
   "cell_type": "markdown",
   "metadata": {},
   "source": [
    "Definimos los hiperparámetros del modelo, utilizados para aprender los pesos de las capas (los verdaderos parámetros)."
   ]
  },
  {
   "cell_type": "code",
   "execution_count": 58,
   "metadata": {},
   "outputs": [],
   "source": [
    "def entrenarRed(epocas, lr, X, y, w1, b1, w2, b2, echo_progression=True):\n",
    "    costos = []\n",
    "    accuracies = []\n",
    "    for i in range(epocas):\n",
    "        a1, a2 = feedForward(X, w1, b1, w2, b2)\n",
    "        dw1, db1, dw2, db2 = backProp(X, y, w1, w2, a1, a2)\n",
    "        \n",
    "        # Actualización de los parámetros\n",
    "        w1 -= lr*dw1\n",
    "        w2 -= lr*dw2\n",
    "        b1 -= lr*db1\n",
    "        b2 -= lr*db2\n",
    "        \n",
    "        _, a2 = feedForward(X, w1, b1, w2, b2)\n",
    "        y_pred = np.argmax(a2, axis=0)\n",
    "        y_real = np.argmax(y, axis=0)\n",
    "        accuracy = accuracy_score(y_pred, y_real)\n",
    "        accuracies.append(accuracy)\n",
    "        costo = costoGlobal(y, a2)\n",
    "        costos.append(costo)\n",
    "        \n",
    "        if (echo_progression & (i%10==0)):\n",
    "            print(\"Epoca %d, costo = %12.10f, accuracy=%12.10f\" % (i, costo, accuracy))\n",
    "            \n",
    "    print(\"Epoca %d, costo = %12.10f, accuracy=%12.10f\" % (i, costo, accuracy))\n",
    "\n",
    "    return (costos, accuracies, w1, b1, w2, b2)"
   ]
  },
  {
   "cell_type": "code",
   "execution_count": null,
   "metadata": {},
   "outputs": [
    {
     "name": "stdout",
     "output_type": "stream",
     "text": [
      "Epoca 0, costo = 0.0000380994, accuracy=0.5152000000\n",
      "Epoca 10, costo = 0.0000250103, accuracy=0.6793666667\n",
      "Epoca 20, costo = 0.0000126114, accuracy=0.8200333333\n",
      "Epoca 30, costo = 0.0000093185, accuracy=0.8570833333\n",
      "Epoca 40, costo = 0.0000078926, accuracy=0.8757000000\n",
      "Epoca 50, costo = 0.0000071055, accuracy=0.8846166667\n",
      "Epoca 60, costo = 0.0000066127, accuracy=0.8907166667\n"
     ]
    }
   ],
   "source": [
    "lr = 1 # learning rate sigmoid\n",
    "lr = 1 # learning rate\n",
    "lr = 0.5 # learning rate tanh\n",
    "epocas = 100 # Iteraciones de backpropagation\n",
    "\n",
    "w1, b1, w2, b2 = initParams()\n",
    "costos, accuracies, w1, b1, w2, b2 = entrenarRed(epocas, lr, X_train, y_train, w1, b1, w2, b2)"
   ]
  },
  {
   "cell_type": "markdown",
   "metadata": {},
   "source": [
    "Nuestras predicciones finales son: "
   ]
  },
  {
   "cell_type": "code",
   "execution_count": null,
   "metadata": {},
   "outputs": [],
   "source": [
    "_, a2 = feedForward(X_train, w1, b1, w2, b2)\n",
    "\n",
    "y_pred = np.argmax(a2, axis=0)\n",
    "y_real = np.argmax(y_train, axis=0)\n",
    "print(confusion_matrix(y_pred, y_real))\n",
    "print(classification_report(y_pred, y_real))"
   ]
  },
  {
   "cell_type": "markdown",
   "metadata": {},
   "source": [
    "Veamos como nos va con el set de test"
   ]
  },
  {
   "cell_type": "code",
   "execution_count": 34,
   "metadata": {},
   "outputs": [],
   "source": [
    "X_test = test_images.T\n",
    "y_test = test_labels.T"
   ]
  },
  {
   "cell_type": "code",
   "execution_count": 35,
   "metadata": {},
   "outputs": [
    {
     "name": "stdout",
     "output_type": "stream",
     "text": [
      "[[ 958    0   12    5    1   15   17    5    7   12]\n",
      " [   0 1104    9    1    3    3    3   14    8    7]\n",
      " [   4    2  900   21    6    5    7   25    9    5]\n",
      " [   2    3   17  901    1   47    0    5   30   11]\n",
      " [   0    1   14    0  908   10   14    8   10   43]\n",
      " [   6    2    1   36    1  747   16    0   31   14]\n",
      " [   7    4   15    1   11   15  896    0   14    0]\n",
      " [   1    1   14   16    2    9    1  931   10   25]\n",
      " [   2   18   44   21    7   34    4    4  840    4]\n",
      " [   0    0    6    8   42    7    0   36   15  888]]\n",
      "              precision    recall  f1-score   support\n",
      "\n",
      "           0       0.98      0.93      0.95      1032\n",
      "           1       0.97      0.96      0.97      1152\n",
      "           2       0.87      0.91      0.89       984\n",
      "           3       0.89      0.89      0.89      1017\n",
      "           4       0.92      0.90      0.91      1008\n",
      "           5       0.84      0.87      0.86       854\n",
      "           6       0.94      0.93      0.93       963\n",
      "           7       0.91      0.92      0.91      1010\n",
      "           8       0.86      0.86      0.86       978\n",
      "           9       0.88      0.89      0.88      1002\n",
      "\n",
      "    accuracy                           0.91     10000\n",
      "   macro avg       0.91      0.91      0.91     10000\n",
      "weighted avg       0.91      0.91      0.91     10000\n",
      "\n"
     ]
    }
   ],
   "source": [
    "_, a2 = feedForward(X_test, w1, b1, w2, b2)\n",
    "y_pred = np.argmax(a2, axis=0)\n",
    "y_real = np.argmax(y_test, axis=0)\n",
    "print(confusion_matrix(y_pred, y_real))\n",
    "print(classification_report(y_pred, y_real))"
   ]
  },
  {
   "cell_type": "markdown",
   "metadata": {},
   "source": [
    "## Mini batch gradient descent"
   ]
  },
  {
   "cell_type": "markdown",
   "metadata": {},
   "source": [
    "Vamos ahora a pasar de una optimización de los parámetros con batch gradient descent (actualización solo después de pasar el set de datos entero) a una optimización con **mini-batch gradient descent**.\n",
    "\n",
    "Vamos a crear una nueva función de entrenamiento."
   ]
  },
  {
   "cell_type": "code",
   "execution_count": 36,
   "metadata": {},
   "outputs": [],
   "source": [
    "def entrenarRedMiniBatch(epocas, batch_size, lr, X, y, w1, b1, w2, b2, echo_progression=True):\n",
    "    numbatches = (X.shape[1] / batch_size)\n",
    "    numbatches = int(numbatches)\n",
    "    costos = []\n",
    "    accuracies = []\n",
    "\n",
    "    print(\"Cada una de las %d épocas contará con  %d batches de %d registros\" % (epocas, numbatches, batch_size))\n",
    "    for i in range(epocas):                \n",
    "        for j in range(0, numbatches):\n",
    "            X_mini  = X[:, j*batch_size : j*batch_size + batch_size]\n",
    "            y_mini  = y[:, j*batch_size : j*batch_size + batch_size]\n",
    "            #print(j*batch_size, j*batch_size + batch_size)\n",
    "\n",
    "            a1, a2 = feedForward(X_mini, w1, b1, w2, b2)\n",
    "            costo = costoGlobal(y_mini, a2)\n",
    "            dw1, db1, dw2, db2 = backProp(X_mini, y_mini, w1, w2, a1, a2)\n",
    "                    \n",
    "            # Actualización de los parámetros\n",
    "            w1 -= lr*dw1\n",
    "            w2 -= lr*dw2\n",
    "            b1 -= lr*db1\n",
    "            b2 -= lr*db2\n",
    "            \n",
    "        _, a2 = feedForward(X, w1, b1, w2, b2)\n",
    "        y_pred = np.argmax(a2, axis=0)\n",
    "        y_real = np.argmax(y, axis=0)\n",
    "        accuracy = accuracy_score(y_pred, y_real)\n",
    "        accuracies.append(accuracy)\n",
    "        costo = costoGlobal(y, a2)\n",
    "        costos.append(costo)\n",
    "        \n",
    "        if (echo_progression & (i%10==0)):\n",
    "            print(\"Epoca %d, Batch size: %d, costo = %12.10f, accuracy=%12.10f\" % (i, batch_size, costo, accuracy))\n",
    "    \n",
    "    print(\"Epoca %d, Batch size: %d, costo = %12.10f, accuracy=%12.10f\" % (epocas, batch_size, costos[epocas-1], accuracies[epocas-1]))\n",
    "\n",
    "    return (costos, accuracies, w1, b1, w2, b2)"
   ]
  },
  {
   "cell_type": "code",
   "execution_count": 37,
   "metadata": {},
   "outputs": [
    {
     "name": "stdout",
     "output_type": "stream",
     "text": [
      "Cada una de las 100 épocas contará con  1 batches de 60000 registros\n",
      "Epoca 0, Batch size: 60000, costo = 0.0000380994, accuracy=0.5152000000\n",
      "Epoca 10, Batch size: 60000, costo = 0.0000250103, accuracy=0.6793666667\n",
      "Epoca 20, Batch size: 60000, costo = 0.0000126114, accuracy=0.8200333333\n",
      "Epoca 30, Batch size: 60000, costo = 0.0000093185, accuracy=0.8570833333\n",
      "Epoca 40, Batch size: 60000, costo = 0.0000078926, accuracy=0.8757000000\n",
      "Epoca 50, Batch size: 60000, costo = 0.0000071055, accuracy=0.8846166667\n",
      "Epoca 60, Batch size: 60000, costo = 0.0000066127, accuracy=0.8907166667\n",
      "Epoca 70, Batch size: 60000, costo = 0.0000062739, accuracy=0.8952833333\n",
      "Epoca 80, Batch size: 60000, costo = 0.0000060240, accuracy=0.8988333333\n",
      "Epoca 90, Batch size: 60000, costo = 0.0000058300, accuracy=0.9012333333\n",
      "Epoca 100, Batch size: 60000, costo = 0.0000056879, accuracy=0.9036333333\n"
     ]
    }
   ],
   "source": [
    "lr = 1 # learning rate sigmoid\n",
    "lr = 1 # learning rate\n",
    "lr = 0.5 # learning rate tanh\n",
    "epocas = 100 # Iteraciones de backpropagation\n",
    "batch_size = 60000 # Paquete de registros a considerar para una actualización\n",
    "w1, b1, w2, b2 = initParams()\n",
    "costos_60000, accuracies_60000, w1, b1, w2, b2 = entrenarRedMiniBatch(epocas, batch_size, lr, X_train, y_train, w1, b1, w2, b2)"
   ]
  },
  {
   "cell_type": "code",
   "execution_count": 38,
   "metadata": {},
   "outputs": [
    {
     "name": "stdout",
     "output_type": "stream",
     "text": [
      "Cada una de las 100 épocas contará con  6 batches de 10000 registros\n",
      "Epoca 0, Batch size: 10000, costo = 0.0000350407, accuracy=0.6705166667\n",
      "Epoca 10, Batch size: 10000, costo = 0.0000064576, accuracy=0.8920833333\n",
      "Epoca 20, Batch size: 10000, costo = 0.0000054041, accuracy=0.9077833333\n",
      "Epoca 30, Batch size: 10000, costo = 0.0000050013, accuracy=0.9150333333\n",
      "Epoca 40, Batch size: 10000, costo = 0.0000047572, accuracy=0.9191000000\n",
      "Epoca 50, Batch size: 10000, costo = 0.0000045669, accuracy=0.9220166667\n",
      "Epoca 60, Batch size: 10000, costo = 0.0000043883, accuracy=0.9254166667\n",
      "Epoca 70, Batch size: 10000, costo = 0.0000042038, accuracy=0.9289666667\n",
      "Epoca 80, Batch size: 10000, costo = 0.0000040057, accuracy=0.9326166667\n",
      "Epoca 90, Batch size: 10000, costo = 0.0000037956, accuracy=0.9359500000\n",
      "Epoca 100, Batch size: 10000, costo = 0.0000036346, accuracy=0.9387166667\n"
     ]
    }
   ],
   "source": [
    "lr = 1 # learning rate sigmoid\n",
    "lr = 1 # learning rate\n",
    "lr = 0.5 # learning rate tanh\n",
    "epocas = 100 # Iteraciones de backpropagation\n",
    "batch_size = 10000 # Paquete de registros a considerar para una actualización\n",
    "w1, b1, w2, b2 = initParams()\n",
    "costos_10000, accuracies_10000, w1, b1, w2, b2 = entrenarRedMiniBatch(epocas, batch_size, lr, X_train, y_train, w1, b1, w2, b2)"
   ]
  },
  {
   "cell_type": "code",
   "execution_count": 39,
   "metadata": {},
   "outputs": [
    {
     "name": "stdout",
     "output_type": "stream",
     "text": [
      "Cada una de las 100 épocas contará con  10 batches de 6000 registros\n",
      "Epoca 0, Batch size: 6000, costo = 0.0000273554, accuracy=0.6710333333\n",
      "Epoca 10, Batch size: 6000, costo = 0.0000055705, accuracy=0.9049166667\n",
      "Epoca 20, Batch size: 6000, costo = 0.0000048842, accuracy=0.9166833333\n",
      "Epoca 30, Batch size: 6000, costo = 0.0000045627, accuracy=0.9218166667\n",
      "Epoca 40, Batch size: 6000, costo = 0.0000042230, accuracy=0.9289000000\n",
      "Epoca 50, Batch size: 6000, costo = 0.0000039478, accuracy=0.9327500000\n",
      "Epoca 60, Batch size: 6000, costo = 0.0000035954, accuracy=0.9397333333\n",
      "Epoca 70, Batch size: 6000, costo = 0.0000032799, accuracy=0.9453000000\n",
      "Epoca 80, Batch size: 6000, costo = 0.0000029962, accuracy=0.9499000000\n",
      "Epoca 90, Batch size: 6000, costo = 0.0000027474, accuracy=0.9539333333\n",
      "Epoca 100, Batch size: 6000, costo = 0.0000025517, accuracy=0.9569833333\n"
     ]
    }
   ],
   "source": [
    "lr = 1 # learning rate sigmoid\n",
    "lr = 1 # learning rate\n",
    "lr = 0.5 # learning rate tanh\n",
    "epocas = 100 # Iteraciones de backpropagation\n",
    "batch_size = 6000 # Paquete de registros a considerar para una actualización\n",
    "w1, b1, w2, b2 = initParams()\n",
    "costos_6000, accuracies_6000, w1, b1, w2, b2 = entrenarRedMiniBatch(epocas, batch_size, lr, X_train, y_train, w1, b1, w2, b2)"
   ]
  },
  {
   "cell_type": "code",
   "execution_count": 40,
   "metadata": {},
   "outputs": [
    {
     "name": "stdout",
     "output_type": "stream",
     "text": [
      "Cada una de las 100 épocas contará con  60 batches de 1000 registros\n",
      "Epoca 0, Batch size: 1000, costo = 0.0000068747, accuracy=0.8833666667\n",
      "Epoca 10, Batch size: 1000, costo = 0.0000035287, accuracy=0.9402166667\n",
      "Epoca 20, Batch size: 1000, costo = 0.0000021772, accuracy=0.9630166667\n",
      "Epoca 30, Batch size: 1000, costo = 0.0000015105, accuracy=0.9749333333\n",
      "Epoca 40, Batch size: 1000, costo = 0.0000011228, accuracy=0.9818333333\n",
      "Epoca 50, Batch size: 1000, costo = 0.0000008663, accuracy=0.9861833333\n",
      "Epoca 60, Batch size: 1000, costo = 0.0000006823, accuracy=0.9896333333\n",
      "Epoca 70, Batch size: 1000, costo = 0.0000005449, accuracy=0.9925500000\n",
      "Epoca 80, Batch size: 1000, costo = 0.0000004406, accuracy=0.9944500000\n",
      "Epoca 90, Batch size: 1000, costo = 0.0000003605, accuracy=0.9961333333\n",
      "Epoca 100, Batch size: 1000, costo = 0.0000003039, accuracy=0.9973833333\n"
     ]
    }
   ],
   "source": [
    "lr = 1 # learning rate sigmoid\n",
    "lr = 1 # learning rate\n",
    "lr = 0.5 # learning rate tanh\n",
    "epocas = 100 # Iteraciones de backpropagation\n",
    "batch_size = 1000 # Paquete de registros a considerar para una actualización\n",
    "w1, b1, w2, b2 = initParams()\n",
    "costos_1000, accuracies_1000, w1, b1, w2, b2 = entrenarRedMiniBatch(epocas, batch_size, lr, X_train, y_train, w1, b1, w2, b2)"
   ]
  },
  {
   "cell_type": "code",
   "execution_count": 41,
   "metadata": {},
   "outputs": [
    {
     "name": "stdout",
     "output_type": "stream",
     "text": [
      "Cada una de las 100 épocas contará con  100 batches de 600 registros\n",
      "Epoca 0, Batch size: 600, costo = 0.0000059377, accuracy=0.8956000000\n",
      "Epoca 10, Batch size: 600, costo = 0.0000025048, accuracy=0.9572833333\n",
      "Epoca 20, Batch size: 600, costo = 0.0000013757, accuracy=0.9770833333\n",
      "Epoca 30, Batch size: 600, costo = 0.0000008842, accuracy=0.9856166667\n",
      "Epoca 40, Batch size: 600, costo = 0.0000006041, accuracy=0.9911500000\n",
      "Epoca 50, Batch size: 600, costo = 0.0000004268, accuracy=0.9944000000\n",
      "Epoca 60, Batch size: 600, costo = 0.0000003103, accuracy=0.9970166667\n",
      "Epoca 70, Batch size: 600, costo = 0.0000002319, accuracy=0.9984166667\n",
      "Epoca 80, Batch size: 600, costo = 0.0000001783, accuracy=0.9991000000\n",
      "Epoca 90, Batch size: 600, costo = 0.0000001407, accuracy=0.9995333333\n",
      "Epoca 100, Batch size: 600, costo = 0.0000001158, accuracy=0.9997833333\n"
     ]
    }
   ],
   "source": [
    "lr = 1 # learning rate sigmoid\n",
    "lr = 1 # learning rate\n",
    "lr = 0.5 # learning rate tanh\n",
    "epocas = 100 # Iteraciones de backpropagation\n",
    "batch_size = 600 # Paquete de registros a considerar para una actualización\n",
    "w1, b1, w2, b2 = initParams()\n",
    "costos_600, accuracies_600, w1, b1, w2, b2 = entrenarRedMiniBatch(epocas, batch_size, lr, X_train, y_train, w1, b1, w2, b2)"
   ]
  },
  {
   "cell_type": "code",
   "execution_count": 42,
   "metadata": {},
   "outputs": [
    {
     "name": "stdout",
     "output_type": "stream",
     "text": [
      "Cada una de las 100 épocas contará con  1200 batches de 50 registros\n",
      "Epoca 0, Batch size: 50, costo = 0.0000036170, accuracy=0.9340000000\n",
      "Epoca 10, Batch size: 50, costo = 0.0000002803, accuracy=0.9945500000\n",
      "Epoca 20, Batch size: 50, costo = 0.0000000412, accuracy=0.9999833333\n",
      "Epoca 30, Batch size: 50, costo = 0.0000000178, accuracy=1.0000000000\n",
      "Epoca 40, Batch size: 50, costo = 0.0000000108, accuracy=1.0000000000\n",
      "Epoca 50, Batch size: 50, costo = 0.0000000076, accuracy=1.0000000000\n",
      "Epoca 60, Batch size: 50, costo = 0.0000000058, accuracy=1.0000000000\n",
      "Epoca 70, Batch size: 50, costo = 0.0000000047, accuracy=1.0000000000\n",
      "Epoca 80, Batch size: 50, costo = 0.0000000039, accuracy=1.0000000000\n",
      "Epoca 90, Batch size: 50, costo = 0.0000000034, accuracy=1.0000000000\n",
      "Epoca 100, Batch size: 50, costo = 0.0000000030, accuracy=1.0000000000\n"
     ]
    }
   ],
   "source": [
    "lr = 1 # learning rate sigmoid\n",
    "lr = 1 # learning rate\n",
    "lr = 0.5 # learning rate tanh\n",
    "epocas = 100 # Iteraciones de backpropagation\n",
    "batch_size = 50 # Paquete de registros a considerar para una actualización\n",
    "w1, b1, w2, b2 = initParams()\n",
    "costos_50, accuracies_50, w1, b1, w2, b2 = entrenarRedMiniBatch(epocas, batch_size, lr, X_train, y_train, w1, b1, w2, b2)"
   ]
  },
  {
   "cell_type": "code",
   "execution_count": 43,
   "metadata": {},
   "outputs": [
    {
     "name": "stdout",
     "output_type": "stream",
     "text": [
      "Cada una de las 100 épocas contará con  1200 batches de 50 registros\n",
      "Epoca 0, Batch size: 50, costo = 0.0000094681, accuracy=0.9328833333\n",
      "Epoca 10, Batch size: 50, costo = 0.0000015866, accuracy=0.9808333333\n",
      "Epoca 20, Batch size: 50, costo = 0.0000000362, accuracy=0.9992666667\n",
      "Epoca 30, Batch size: 50, costo = 0.0000000003, accuracy=1.0000000000\n",
      "Epoca 40, Batch size: 50, costo = 0.0000000002, accuracy=1.0000000000\n",
      "Epoca 50, Batch size: 50, costo = 0.0000000001, accuracy=1.0000000000\n",
      "Epoca 60, Batch size: 50, costo = 0.0000000001, accuracy=1.0000000000\n",
      "Epoca 70, Batch size: 50, costo = 0.0000000001, accuracy=1.0000000000\n",
      "Epoca 80, Batch size: 50, costo = 0.0000000001, accuracy=1.0000000000\n",
      "Epoca 90, Batch size: 50, costo = 0.0000000001, accuracy=1.0000000000\n",
      "Epoca 100, Batch size: 50, costo = 0.0000000001, accuracy=1.0000000000\n"
     ]
    }
   ],
   "source": [
    "lr = 1 # learning rate sigmoid\n",
    "lr = 1 # learning rate\n",
    "lr = 0.7 # learning rate tanh\n",
    "epocas = 100 # Iteraciones de backpropagation\n",
    "batch_size = 50 # Paquete de registros a considerar para una actualización\n",
    "w1, b1, w2, b2 = initParams()\n",
    "costos_50_07, accuracies_50_07, w1, b1, w2, b2 = entrenarRedMiniBatch(epocas, batch_size, lr, X_train, y_train, w1, b1, w2, b2)"
   ]
  },
  {
   "cell_type": "code",
   "execution_count": 44,
   "metadata": {},
   "outputs": [
    {
     "name": "stdout",
     "output_type": "stream",
     "text": [
      "Cada una de las 100 épocas contará con  1200 batches de 50 registros\n",
      "Epoca 0, Batch size: 50, costo = 0.0000232897, accuracy=0.9067666667\n",
      "Epoca 10, Batch size: 50, costo = 0.0000051073, accuracy=0.9665000000\n",
      "Epoca 20, Batch size: 50, costo = 0.0000060720, accuracy=0.9619500000\n",
      "Epoca 30, Batch size: 50, costo = 0.0000011051, accuracy=0.9896000000\n",
      "Epoca 40, Batch size: 50, costo = 0.0000012024, accuracy=0.9892166667\n",
      "Epoca 50, Batch size: 50, costo = 0.0000003075, accuracy=0.9964166667\n",
      "Epoca 60, Batch size: 50, costo = 0.0000000445, accuracy=0.9992166667\n",
      "Epoca 70, Batch size: 50, costo = 0.0000000037, accuracy=0.9999166667\n",
      "Epoca 80, Batch size: 50, costo = 0.0000000001, accuracy=1.0000000000\n",
      "Epoca 90, Batch size: 50, costo = 0.0000000000, accuracy=1.0000000000\n",
      "Epoca 100, Batch size: 50, costo = 0.0000000000, accuracy=1.0000000000\n"
     ]
    }
   ],
   "source": [
    "lr = 1 # learning rate sigmoid\n",
    "lr = 1 # learning rate\n",
    "lr = 0.9 # learning rate tanh\n",
    "epocas = 100 # Iteraciones de backpropagation\n",
    "batch_size = 50 # Paquete de registros a considerar para una actualización\n",
    "w1, b1, w2, b2 = initParams()\n",
    "costos_50_09, accuracies_50_09, w1, b1, w2, b2 = entrenarRedMiniBatch(epocas, batch_size, lr, X_train, y_train, w1, b1, w2, b2)"
   ]
  },
  {
   "cell_type": "code",
   "execution_count": 45,
   "metadata": {},
   "outputs": [
    {
     "name": "stdout",
     "output_type": "stream",
     "text": [
      "Cada una de las 100 épocas contará con  1200 batches de 50 registros\n",
      "Epoca 0, Batch size: 50, costo = 0.0000043860, accuracy=0.9207833333\n",
      "Epoca 10, Batch size: 50, costo = 0.0000004089, accuracy=0.9927000000\n",
      "Epoca 20, Batch size: 50, costo = 0.0000001231, accuracy=0.9985833333\n",
      "Epoca 30, Batch size: 50, costo = 0.0000000396, accuracy=0.9999666667\n",
      "Epoca 40, Batch size: 50, costo = 0.0000000229, accuracy=1.0000000000\n",
      "Epoca 50, Batch size: 50, costo = 0.0000000155, accuracy=1.0000000000\n",
      "Epoca 60, Batch size: 50, costo = 0.0000000115, accuracy=1.0000000000\n",
      "Epoca 70, Batch size: 50, costo = 0.0000000091, accuracy=1.0000000000\n",
      "Epoca 80, Batch size: 50, costo = 0.0000000075, accuracy=1.0000000000\n",
      "Epoca 90, Batch size: 50, costo = 0.0000000064, accuracy=1.0000000000\n",
      "Epoca 100, Batch size: 50, costo = 0.0000000056, accuracy=1.0000000000\n"
     ]
    }
   ],
   "source": [
    "lr = 1 # learning rate sigmoid\n",
    "lr = 1 # learning rate\n",
    "lr = 0.3 # learning rate tanh\n",
    "epocas = 100 # Iteraciones de backpropagation\n",
    "batch_size = 50 # Paquete de registros a considerar para una actualización\n",
    "w1, b1, w2, b2 = initParams()\n",
    "costos_50_03, accuracies_50_03, w1, b1, w2, b2 = entrenarRedMiniBatch(epocas, batch_size, lr, X_train, y_train, w1, b1, w2, b2)"
   ]
  },
  {
   "cell_type": "code",
   "execution_count": 46,
   "metadata": {},
   "outputs": [
    {
     "name": "stdout",
     "output_type": "stream",
     "text": [
      "Cada una de las 100 épocas contará con  1200 batches de 50 registros\n",
      "Epoca 0, Batch size: 50, costo = 0.0000052195, accuracy=0.9070500000\n",
      "Epoca 10, Batch size: 50, costo = 0.0000011678, accuracy=0.9795666667\n",
      "Epoca 20, Batch size: 50, costo = 0.0000005104, accuracy=0.9919500000\n",
      "Epoca 30, Batch size: 50, costo = 0.0000002609, accuracy=0.9972500000\n",
      "Epoca 40, Batch size: 50, costo = 0.0000001507, accuracy=0.9992166667\n",
      "Epoca 50, Batch size: 50, costo = 0.0000000898, accuracy=0.9998333333\n",
      "Epoca 60, Batch size: 50, costo = 0.0000000611, accuracy=0.9999833333\n",
      "Epoca 70, Batch size: 50, costo = 0.0000000453, accuracy=1.0000000000\n",
      "Epoca 80, Batch size: 50, costo = 0.0000000355, accuracy=1.0000000000\n",
      "Epoca 90, Batch size: 50, costo = 0.0000000289, accuracy=1.0000000000\n",
      "Epoca 100, Batch size: 50, costo = 0.0000000246, accuracy=1.0000000000\n"
     ]
    }
   ],
   "source": [
    "lr = 1 # learning rate sigmoid\n",
    "lr = 1 # learning rate\n",
    "lr = 0.1 # learning rate tanh\n",
    "epocas = 100 # Iteraciones de backpropagation\n",
    "batch_size = 50 # Paquete de registros a considerar para una actualización\n",
    "w1, b1, w2, b2 = initParams()\n",
    "costos_50_01, accuracies_50_01, w1, b1, w2, b2 = entrenarRedMiniBatch(epocas, batch_size, lr, X_train, y_train, w1, b1, w2, b2)"
   ]
  },
  {
   "cell_type": "code",
   "execution_count": 47,
   "metadata": {},
   "outputs": [],
   "source": [
    "rango_epocas = np.arange(1, epocas+1)"
   ]
  },
  {
   "cell_type": "code",
   "execution_count": 48,
   "metadata": {},
   "outputs": [
    {
     "data": {
      "text/plain": [
       "Text(0.5, 1.0, 'Accuracy X learning rates (batch de 50) (últimas 20 épocas)')"
      ]
     },
     "execution_count": 48,
     "metadata": {},
     "output_type": "execute_result"
    },
    {
     "data": {
      "image/png": "[encoded data removed]",
      "text/plain": [
       "<Figure size 1080x1440 with 8 Axes>"
      ]
     },
     "metadata": {
      "needs_background": "light"
     },
     "output_type": "display_data"
    }
   ],
   "source": [
    "import matplotlib.pyplot as plt #gráficos\n",
    "\n",
    "fig, axes = plt.subplots(4, 2, figsize=(15,20))\n",
    "\n",
    "# Left plot\n",
    "axes[0, 0].plot(rango_epocas, costos_60000, color='blue', label='60000')\n",
    "axes[0, 0].plot(rango_epocas, costos_10000, color='lightblue', label='10000')\n",
    "axes[0, 0].plot(rango_epocas, costos_6000, color='firebrick', label='6000')\n",
    "axes[0, 0].plot(rango_epocas, costos_1000, color='red', label='1000')\n",
    "axes[0, 0].plot(rango_epocas, costos_600, color='orange', label='600')\n",
    "axes[0, 0].plot(rango_epocas, costos_50, color='lawngreen', label='50')\n",
    "axes[0, 0].set_ylabel('costo')\n",
    "axes[0, 0].set_xlabel('época')\n",
    "axes[0, 0].legend(loc=1)\n",
    "axes[0, 0].set_title('Costo X batch sizes')\n",
    "\n",
    "# Right plot\n",
    "axes[0, 1].plot(rango_epocas, accuracies_60000, color='blue', label='60000')\n",
    "axes[0, 1].plot(rango_epocas, accuracies_10000, color='lightblue', label='10000')\n",
    "axes[0, 1].plot(rango_epocas, accuracies_6000, color='firebrick', label='6000')\n",
    "axes[0, 1].plot(rango_epocas, accuracies_1000, color='red', label='1000')\n",
    "axes[0, 1].plot(rango_epocas, accuracies_600, color='orange', label='600')\n",
    "axes[0, 1].plot(rango_epocas, accuracies_50, color='lawngreen', label='50')\n",
    "axes[0, 1].set_ylabel('accuracy')\n",
    "axes[0, 1].set_xlabel('época')\n",
    "axes[0, 1].legend(loc=4)\n",
    "axes[0, 1].set_title('Accuracy X batch sizes')\n",
    "\n",
    "# Left plot\n",
    "axes[1, 0].plot(rango_epocas[80:], costos_60000[80:], color='blue', label='60000')\n",
    "axes[1, 0].plot(rango_epocas[80:], costos_10000[80:], color='lightblue', label='10000')\n",
    "axes[1, 0].plot(rango_epocas[80:], costos_6000[80:], color='firebrick', label='6000')\n",
    "axes[1, 0].plot(rango_epocas[80:], costos_1000[80:], color='red', label='1000')\n",
    "axes[1, 0].plot(rango_epocas[80:], costos_600[80:], color='orange', label='600')\n",
    "axes[1, 0].plot(rango_epocas[80:], costos_50[80:], color='lawngreen', label='50')\n",
    "axes[1, 0].set_ylabel('costo')\n",
    "axes[1, 0].set_xlabel('época')\n",
    "axes[1, 0].legend(loc=2)\n",
    "axes[1, 0].set_title('Costo X batch sizes (últimas 20 épocas)')\n",
    "\n",
    "# Right plot\n",
    "axes[1, 1].plot(rango_epocas[80:], accuracies_60000[80:], color='blue', label='60000')\n",
    "axes[1, 1].plot(rango_epocas[80:], accuracies_10000[80:], color='lightblue', label='10000')\n",
    "axes[1, 1].plot(rango_epocas[80:], accuracies_6000[80:], color='firebrick', label='6000')\n",
    "axes[1, 1].plot(rango_epocas[80:], accuracies_1000[80:], color='red', label='1000')\n",
    "axes[1, 1].plot(rango_epocas[80:], accuracies_600[80:], color='orange', label='600')\n",
    "axes[1, 1].plot(rango_epocas[80:], accuracies_50[80:], color='lawngreen', label='50')\n",
    "axes[1, 1].set_ylabel('accuracy')\n",
    "axes[1, 1].set_xlabel('época')\n",
    "axes[1, 1].legend(loc=2)\n",
    "axes[1, 1].set_title('Accuracy X batch sizes (últimas 20 épocas)')\n",
    "\n",
    "# Left plot\n",
    "axes[2, 0].plot(rango_epocas, costos_50_09, color='blue', label='lr=0.9')\n",
    "axes[2, 0].plot(rango_epocas, costos_50_07, color='lightblue', label='lr=0.7')\n",
    "axes[2, 0].plot(rango_epocas, costos_50, color='orange', label='lr=0.5')\n",
    "axes[2, 0].plot(rango_epocas, costos_50_03, color='red', label='lr=0.3')\n",
    "axes[2, 0].plot(rango_epocas, costos_50_01, color='lawngreen', label='lr=0.1')\n",
    "axes[2, 0].set_ylabel('costo')\n",
    "axes[2, 0].set_xlabel('época')\n",
    "axes[2, 0].legend(loc=1)\n",
    "axes[2, 0].set_title('Costo X learning rates (batch de 50)')\n",
    "\n",
    "# Left plot\n",
    "axes[2, 1].plot(rango_epocas, accuracies_50_09, color='blue', label='lr=0.9')\n",
    "axes[2, 1].plot(rango_epocas, accuracies_50_07, color='lightblue', label='lr=0.7')\n",
    "axes[2, 1].plot(rango_epocas, accuracies_50, color='orange', label='lr=0.5')\n",
    "axes[2, 1].plot(rango_epocas, accuracies_50_03, color='red', label='lr=0.3')\n",
    "axes[2, 1].plot(rango_epocas, accuracies_50_01, color='lawngreen', label='lr=0.1')\n",
    "axes[2, 1].set_ylabel('accuracy')\n",
    "axes[2, 1].set_xlabel('época')\n",
    "axes[2, 1].legend(loc=4)\n",
    "axes[2, 1].set_title('Accuracy X learning rates (batch de 50)')\n",
    "\n",
    "# Left plot\n",
    "axes[3, 0].plot(rango_epocas[80:], costos_50_09[80:], color='blue', label='lr=0.9')\n",
    "axes[3, 0].plot(rango_epocas[80:], costos_50_07[80:], color='lightblue', label='lr=0.7')\n",
    "axes[3, 0].plot(rango_epocas[80:], costos_50[80:], color='orange', label='lr=0.5')\n",
    "axes[3, 0].plot(rango_epocas[80:], costos_50_03[80:], color='red', label='lr=0.3')\n",
    "axes[3, 0].plot(rango_epocas[80:], costos_50_01[80:], color='lawngreen', label='lr=0.1')\n",
    "axes[3, 0].set_ylabel('costo')\n",
    "axes[3, 0].set_xlabel('época')\n",
    "axes[3, 0].legend(loc=1)\n",
    "axes[3, 0].set_title('Costo X learning rates (batch de 50) (últimas 20 épocas)')\n",
    "\n",
    "# Left plot\n",
    "axes[3, 1].plot(rango_epocas[80:], accuracies_50_09[80:], color='blue', label='lr=0.9')\n",
    "axes[3, 1].plot(rango_epocas[80:], accuracies_50_07[80:], color='lightblue', label='lr=0.7')\n",
    "axes[3, 1].plot(rango_epocas[80:], accuracies_50[80:], color='orange', label='lr=0.5')\n",
    "axes[3, 1].plot(rango_epocas[80:], accuracies_50_03[80:], color='red', label='lr=0.3')\n",
    "axes[3, 1].plot(rango_epocas[80:], accuracies_50_01[80:], color='lawngreen', label='lr=0.1')\n",
    "axes[3, 1].set_ylabel('accuracy')\n",
    "axes[3, 1].set_xlabel('época')\n",
    "axes[3, 1].legend(loc=4)\n",
    "axes[3, 1].set_title('Accuracy X learning rates (batch de 50) (últimas 20 épocas)')\n"
   ]
  }
 ],
 "metadata": {
  "kernelspec": {
   "display_name": "Python 3 (ipykernel)",
   "language": "python",
   "name": "python3"
  },
  "language_info": {
   "codemirror_mode": {
    "name": "ipython",
    "version": 3
   },
   "file_extension": ".py",
   "mimetype": "text/x-python",
   "name": "python",
   "nbconvert_exporter": "python",
   "pygments_lexer": "ipython3",
   "version": "3.9.7"
  },
  "toc": {
   "base_numbering": 1,
   "nav_menu": {},
   "number_sections": true,
   "sideBar": true,
   "skip_h1_title": false,
   "title_cell": "Table of Contents",
   "title_sidebar": "Contents",
   "toc_cell": true,
   "toc_position": {
    "height": "calc(100% - 180px)",
    "left": "10px",
    "top": "150px",
    "width": "165px"
   },
   "toc_section_display": true,
   "toc_window_display": true
  }
 },
 "nbformat": 4,
 "nbformat_minor": 2
}
