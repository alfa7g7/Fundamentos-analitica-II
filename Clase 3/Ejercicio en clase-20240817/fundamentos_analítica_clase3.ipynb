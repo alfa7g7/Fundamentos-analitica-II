{
  "nbformat": 4,
  "nbformat_minor": 0,
  "metadata": {
    "colab": {
      "provenance": []
    },
    "kernelspec": {
      "name": "python3",
      "display_name": "Python 3"
    },
    "language_info": {
      "name": "python"
    }
  },
  "cells": [
    {
      "cell_type": "markdown",
      "source": [
        "# Fundamentos de analítica 2 (clase 3)\n",
        "\n",
        "## Diego Fernando Agudelo \n",
        "## Universidad ICESI \n",
        "## diegoagudelo30@gmail.com"
      ],
      "metadata": {
        "id": "Y90U8nbDYcuX"
      }
    },
    {
      "cell_type": "markdown",
      "source": [
        "## **1. Carga de paquetes**"
      ],
      "metadata": {
        "id": "WGgZxspKYW1g"
      }
    },
    {
      "cell_type": "code",
      "execution_count": null,
      "metadata": {
        "id": "WZK26l36O_pS"
      },
      "outputs": [],
      "source": [
        "#!pip install pmdarima\n",
        "from pmdarima.arima import auto_arima\n",
        "from pmdarima.utils import acf,pacf\n",
        "from pmdarima.arima import ARIMA\n",
        "import pandas as pd\n",
        "import numpy as np \n",
        "from statsmodels.sandbox.stats.runs import runstest_1samp # prueba de rachas de Wald y Wolfowitz\n",
        "import statsmodels.api as sm # prueba de Box-Pierce y la modificación de Ljung-Box\n",
        "from matplotlib import pyplot as plt # gráficos \n",
        "import pylab as py\n",
        "from scipy import stats\n",
        "from datetime import datetime\n",
        "from dateutil.relativedelta import relativedelta\n",
        "from statsmodels.graphics.tsaplots import plot_acf,plot_pacf"
      ]
    },
    {
      "cell_type": "markdown",
      "source": [
        "## **2. Carga de datos**\n",
        "\n",
        "Vamos a usar unos datos simulados de un proceso ARIMA(0,1,1)"
      ],
      "metadata": {
        "id": "tf0y6QJcYTg1"
      }
    },
    {
      "cell_type": "code",
      "source": [
        "data = pd.read_csv(\"/content/arima011.csv\")\n",
        "data.head()"
      ],
      "metadata": {
        "colab": {
          "base_uri": "https://localhost:8080/",
          "height": 206
        },
        "id": "ddauXIgcXHj-",
        "outputId": "c97a9d2d-99da-4b62-e022-acb77f595276"
      },
      "execution_count": null,
      "outputs": [
        {
          "output_type": "execute_result",
          "data": {
            "text/plain": [
              "   time  ARIMA011\n",
              "0     1  0.000000\n",
              "1     2  1.177889\n",
              "2     3  1.636159\n",
              "3     4  1.095219\n",
              "4     5  1.338308"
            ],
            "text/html": [
              "\n",
              "  <div id=\"df-8a1f644a-8320-4954-bf00-51a3ba0e2a85\">\n",
              "    <div class=\"colab-df-container\">\n",
              "      <div>\n",
              "<style scoped>\n",
              "    .dataframe tbody tr th:only-of-type {\n",
              "        vertical-align: middle;\n",
              "    }\n",
              "\n",
              "    .dataframe tbody tr th {\n",
              "        vertical-align: top;\n",
              "    }\n",
              "\n",
              "    .dataframe thead th {\n",
              "        text-align: right;\n",
              "    }\n",
              "</style>\n",
              "<table border=\"1\" class=\"dataframe\">\n",
              "  <thead>\n",
              "    <tr style=\"text-align: right;\">\n",
              "      <th></th>\n",
              "      <th>time</th>\n",
              "      <th>ARIMA011</th>\n",
              "    </tr>\n",
              "  </thead>\n",
              "  <tbody>\n",
              "    <tr>\n",
              "      <th>0</th>\n",
              "      <td>1</td>\n",
              "      <td>0.000000</td>\n",
              "    </tr>\n",
              "    <tr>\n",
              "      <th>1</th>\n",
              "      <td>2</td>\n",
              "      <td>1.177889</td>\n",
              "    </tr>\n",
              "    <tr>\n",
              "      <th>2</th>\n",
              "      <td>3</td>\n",
              "      <td>1.636159</td>\n",
              "    </tr>\n",
              "    <tr>\n",
              "      <th>3</th>\n",
              "      <td>4</td>\n",
              "      <td>1.095219</td>\n",
              "    </tr>\n",
              "    <tr>\n",
              "      <th>4</th>\n",
              "      <td>5</td>\n",
              "      <td>1.338308</td>\n",
              "    </tr>\n",
              "  </tbody>\n",
              "</table>\n",
              "</div>\n",
              "      <button class=\"colab-df-convert\" onclick=\"convertToInteractive('df-8a1f644a-8320-4954-bf00-51a3ba0e2a85')\"\n",
              "              title=\"Convert this dataframe to an interactive table.\"\n",
              "              style=\"display:none;\">\n",
              "        \n",
              "  <svg xmlns=\"http://www.w3.org/2000/svg\" height=\"24px\"viewBox=\"0 0 24 24\"\n",
              "       width=\"24px\">\n",
              "    <path d=\"M0 0h24v24H0V0z\" fill=\"none\"/>\n",
              "    <path d=\"M18.56 5.44l.94 2.06.94-2.06 2.06-.94-2.06-.94-.94-2.06-.94 2.06-2.06.94zm-11 1L8.5 8.5l.94-2.06 2.06-.94-2.06-.94L8.5 2.5l-.94 2.06-2.06.94zm10 10l.94 2.06.94-2.06 2.06-.94-2.06-.94-.94-2.06-.94 2.06-2.06.94z\"/><path d=\"M17.41 7.96l-1.37-1.37c-.4-.4-.92-.59-1.43-.59-.52 0-1.04.2-1.43.59L10.3 9.45l-7.72 7.72c-.78.78-.78 2.05 0 2.83L4 21.41c.39.39.9.59 1.41.59.51 0 1.02-.2 1.41-.59l7.78-7.78 2.81-2.81c.8-.78.8-2.07 0-2.86zM5.41 20L4 18.59l7.72-7.72 1.47 1.35L5.41 20z\"/>\n",
              "  </svg>\n",
              "      </button>\n",
              "      \n",
              "  <style>\n",
              "    .colab-df-container {\n",
              "      display:flex;\n",
              "      flex-wrap:wrap;\n",
              "      gap: 12px;\n",
              "    }\n",
              "\n",
              "    .colab-df-convert {\n",
              "      background-color: #E8F0FE;\n",
              "      border: none;\n",
              "      border-radius: 50%;\n",
              "      cursor: pointer;\n",
              "      display: none;\n",
              "      fill: #1967D2;\n",
              "      height: 32px;\n",
              "      padding: 0 0 0 0;\n",
              "      width: 32px;\n",
              "    }\n",
              "\n",
              "    .colab-df-convert:hover {\n",
              "      background-color: #E2EBFA;\n",
              "      box-shadow: 0px 1px 2px rgba(60, 64, 67, 0.3), 0px 1px 3px 1px rgba(60, 64, 67, 0.15);\n",
              "      fill: #174EA6;\n",
              "    }\n",
              "\n",
              "    [theme=dark] .colab-df-convert {\n",
              "      background-color: #3B4455;\n",
              "      fill: #D2E3FC;\n",
              "    }\n",
              "\n",
              "    [theme=dark] .colab-df-convert:hover {\n",
              "      background-color: #434B5C;\n",
              "      box-shadow: 0px 1px 3px 1px rgba(0, 0, 0, 0.15);\n",
              "      filter: drop-shadow(0px 1px 2px rgba(0, 0, 0, 0.3));\n",
              "      fill: #FFFFFF;\n",
              "    }\n",
              "  </style>\n",
              "\n",
              "      <script>\n",
              "        const buttonEl =\n",
              "          document.querySelector('#df-8a1f644a-8320-4954-bf00-51a3ba0e2a85 button.colab-df-convert');\n",
              "        buttonEl.style.display =\n",
              "          google.colab.kernel.accessAllowed ? 'block' : 'none';\n",
              "\n",
              "        async function convertToInteractive(key) {\n",
              "          const element = document.querySelector('#df-8a1f644a-8320-4954-bf00-51a3ba0e2a85');\n",
              "          const dataTable =\n",
              "            await google.colab.kernel.invokeFunction('convertToInteractive',\n",
              "                                                     [key], {});\n",
              "          if (!dataTable) return;\n",
              "\n",
              "          const docLinkHtml = 'Like what you see? Visit the ' +\n",
              "            '<a target=\"_blank\" href=https://colab.research.google.com/notebooks/data_table.ipynb>data table notebook</a>'\n",
              "            + ' to learn more about interactive tables.';\n",
              "          element.innerHTML = '';\n",
              "          dataTable['output_type'] = 'display_data';\n",
              "          await google.colab.output.renderOutput(dataTable, element);\n",
              "          const docLink = document.createElement('div');\n",
              "          docLink.innerHTML = docLinkHtml;\n",
              "          element.appendChild(docLink);\n",
              "        }\n",
              "      </script>\n",
              "    </div>\n",
              "  </div>\n",
              "  "
            ]
          },
          "metadata": {},
          "execution_count": 267
        }
      ]
    },
    {
      "cell_type": "markdown",
      "source": [
        "## **3. ACF y PACF**"
      ],
      "metadata": {
        "id": "7qpKjbtNZudr"
      }
    },
    {
      "cell_type": "code",
      "source": [
        "acf(data['ARIMA011'],40)"
      ],
      "metadata": {
        "colab": {
          "base_uri": "https://localhost:8080/"
        },
        "id": "t1_02tYKilQ3",
        "outputId": "1e2bce6d-0167-4fe2-e4cc-a0804b831973"
      },
      "execution_count": null,
      "outputs": [
        {
          "output_type": "execute_result",
          "data": {
            "text/plain": [
              "array([ 1.        ,  0.97067998,  0.936947  ,  0.90268173,  0.87006769,\n",
              "        0.83930648,  0.80550412,  0.76900548,  0.729861  ,  0.69187304,\n",
              "        0.65491402,  0.61463437,  0.5742899 ,  0.53486342,  0.4947723 ,\n",
              "        0.45508868,  0.4193302 ,  0.38735224,  0.35741482,  0.3287006 ,\n",
              "        0.29967955,  0.27332986,  0.25145635,  0.23117776,  0.20756429,\n",
              "        0.18071305,  0.15605784,  0.1350231 ,  0.11849087,  0.10466391,\n",
              "        0.08840871,  0.07087046,  0.05395363,  0.0389593 ,  0.02929347,\n",
              "        0.02384452,  0.01739524,  0.00720187, -0.00414497, -0.0120686 ,\n",
              "       -0.01886248])"
            ]
          },
          "metadata": {},
          "execution_count": 268
        }
      ]
    },
    {
      "cell_type": "code",
      "source": [
        "plot_acf(data['ARIMA011'],lags=40);\n",
        "plot_pacf(data['ARIMA011'],lags=40);"
      ],
      "metadata": {
        "colab": {
          "base_uri": "https://localhost:8080/",
          "height": 602
        },
        "id": "GjO-80O3hMRq",
        "outputId": "808a7762-9083-437b-be9f-972737ba6f3a"
      },
      "execution_count": null,
      "outputs": [
        {
          "output_type": "stream",
          "name": "stderr",
          "text": [
            "/usr/local/lib/python3.8/dist-packages/statsmodels/graphics/tsaplots.py:348: FutureWarning: The default method 'yw' can produce PACF values outside of the [-1,1] interval. After 0.13, the default will change tounadjusted Yule-Walker ('ywm'). You can use this method now by setting method='ywm'.\n",
            "  warnings.warn(\n"
          ]
        },
        {
          "output_type": "display_data",
          "data": {
            "text/plain": [
              "<Figure size 432x288 with 1 Axes>"
            ],
            "image/png": "[encoded data removed]"
          },
          "metadata": {
            "needs_background": "light"
          }
        },
        {
          "output_type": "display_data",
          "data": {
            "text/plain": [
              "<Figure size 432x288 with 1 Axes>"
            ],
            "image/png": "[encoded data removed]"
          },
          "metadata": {
            "needs_background": "light"
          }
        }
      ]
    },
    {
      "cell_type": "code",
      "source": [
        "## information_criterion (‘aic’, ‘aicc’, ‘bic’, ‘hqic’, ‘oob’)\n",
        "model = auto_arima(data[\"ARIMA011\"],max_p=10, max_q=10,information_criterion = (\"aic\"))\n",
        "model.summary()"
      ],
      "metadata": {
        "colab": {
          "base_uri": "https://localhost:8080/",
          "height": 427
        },
        "id": "IRvwnGwLXxWK",
        "outputId": "70055d24-a08c-4e28-826d-fe77161a0330"
      },
      "execution_count": null,
      "outputs": [
        {
          "output_type": "execute_result",
          "data": {
            "text/plain": [
              "<class 'statsmodels.iolib.summary.Summary'>\n",
              "\"\"\"\n",
              "                               SARIMAX Results                                \n",
              "==============================================================================\n",
              "Dep. Variable:                      y   No. Observations:                  101\n",
              "Model:               SARIMAX(0, 1, 1)   Log Likelihood                -152.348\n",
              "Date:                Thu, 09 Feb 2023   AIC                            310.695\n",
              "Time:                        18:20:40   BIC                            318.511\n",
              "Sample:                             0   HQIC                           313.858\n",
              "                                - 101                                         \n",
              "Covariance Type:                  opg                                         \n",
              "==============================================================================\n",
              "                 coef    std err          z      P>|z|      [0.025      0.975]\n",
              "------------------------------------------------------------------------------\n",
              "intercept      0.4366      0.207      2.105      0.035       0.030       0.843\n",
              "ma.L1          0.8592      0.062     13.960      0.000       0.739       0.980\n",
              "sigma2         1.2161      0.200      6.077      0.000       0.824       1.608\n",
              "===================================================================================\n",
              "Ljung-Box (L1) (Q):                   0.52   Jarque-Bera (JB):                 1.40\n",
              "Prob(Q):                              0.47   Prob(JB):                         0.50\n",
              "Heteroskedasticity (H):               1.04   Skew:                            -0.16\n",
              "Prob(H) (two-sided):                  0.91   Kurtosis:                         2.52\n",
              "===================================================================================\n",
              "\n",
              "Warnings:\n",
              "[1] Covariance matrix calculated using the outer product of gradients (complex-step).\n",
              "\"\"\""
            ],
            "text/html": [
              "<table class=\"simpletable\">\n",
              "<caption>SARIMAX Results</caption>\n",
              "<tr>\n",
              "  <th>Dep. Variable:</th>           <td>y</td>        <th>  No. Observations:  </th>    <td>101</td>  \n",
              "</tr>\n",
              "<tr>\n",
              "  <th>Model:</th>           <td>SARIMAX(0, 1, 1)</td> <th>  Log Likelihood     </th> <td>-152.348</td>\n",
              "</tr>\n",
              "<tr>\n",
              "  <th>Date:</th>            <td>Thu, 09 Feb 2023</td> <th>  AIC                </th>  <td>310.695</td>\n",
              "</tr>\n",
              "<tr>\n",
              "  <th>Time:</th>                <td>18:20:40</td>     <th>  BIC                </th>  <td>318.511</td>\n",
              "</tr>\n",
              "<tr>\n",
              "  <th>Sample:</th>                  <td>0</td>        <th>  HQIC               </th>  <td>313.858</td>\n",
              "</tr>\n",
              "<tr>\n",
              "  <th></th>                      <td> - 101</td>      <th>                     </th>     <td> </td>   \n",
              "</tr>\n",
              "<tr>\n",
              "  <th>Covariance Type:</th>        <td>opg</td>       <th>                     </th>     <td> </td>   \n",
              "</tr>\n",
              "</table>\n",
              "<table class=\"simpletable\">\n",
              "<tr>\n",
              "      <td></td>         <th>coef</th>     <th>std err</th>      <th>z</th>      <th>P>|z|</th>  <th>[0.025</th>    <th>0.975]</th>  \n",
              "</tr>\n",
              "<tr>\n",
              "  <th>intercept</th> <td>    0.4366</td> <td>    0.207</td> <td>    2.105</td> <td> 0.035</td> <td>    0.030</td> <td>    0.843</td>\n",
              "</tr>\n",
              "<tr>\n",
              "  <th>ma.L1</th>     <td>    0.8592</td> <td>    0.062</td> <td>   13.960</td> <td> 0.000</td> <td>    0.739</td> <td>    0.980</td>\n",
              "</tr>\n",
              "<tr>\n",
              "  <th>sigma2</th>    <td>    1.2161</td> <td>    0.200</td> <td>    6.077</td> <td> 0.000</td> <td>    0.824</td> <td>    1.608</td>\n",
              "</tr>\n",
              "</table>\n",
              "<table class=\"simpletable\">\n",
              "<tr>\n",
              "  <th>Ljung-Box (L1) (Q):</th>     <td>0.52</td> <th>  Jarque-Bera (JB):  </th> <td>1.40</td> \n",
              "</tr>\n",
              "<tr>\n",
              "  <th>Prob(Q):</th>                <td>0.47</td> <th>  Prob(JB):          </th> <td>0.50</td> \n",
              "</tr>\n",
              "<tr>\n",
              "  <th>Heteroskedasticity (H):</th> <td>1.04</td> <th>  Skew:              </th> <td>-0.16</td>\n",
              "</tr>\n",
              "<tr>\n",
              "  <th>Prob(H) (two-sided):</th>    <td>0.91</td> <th>  Kurtosis:          </th> <td>2.52</td> \n",
              "</tr>\n",
              "</table><br/><br/>Warnings:<br/>[1] Covariance matrix calculated using the outer product of gradients (complex-step)."
            ]
          },
          "metadata": {},
          "execution_count": 270
        }
      ]
    },
    {
      "cell_type": "code",
      "source": [
        "model.resid()"
      ],
      "metadata": {
        "colab": {
          "base_uri": "https://localhost:8080/"
        },
        "id": "CyPoQamykiuy",
        "outputId": "eeb702ba-4db3-4eba-d22d-d76c4517bbc9"
      },
      "execution_count": null,
      "outputs": [
        {
          "output_type": "execute_result",
          "data": {
            "text/plain": [
              "0     -0.436590\n",
              "1      0.741300\n",
              "2     -0.344742\n",
              "3     -0.752029\n",
              "4      0.355841\n",
              "         ...   \n",
              "96    -0.777039\n",
              "97     1.984711\n",
              "98    -1.015434\n",
              "99    -0.738535\n",
              "100   -0.133768\n",
              "Length: 101, dtype: float64"
            ]
          },
          "metadata": {},
          "execution_count": 271
        }
      ]
    },
    {
      "cell_type": "code",
      "source": [
        "fig = plt.figure(figsize=(12, 6))\n",
        "plt.plot(model.resid(),label=\"Residuales\")"
      ],
      "metadata": {
        "colab": {
          "base_uri": "https://localhost:8080/",
          "height": 392
        },
        "id": "k1Abvt3FlGmN",
        "outputId": "650b6ffd-46af-43ed-e3ce-f9b46a6e7162"
      },
      "execution_count": null,
      "outputs": [
        {
          "output_type": "execute_result",
          "data": {
            "text/plain": [
              "[<matplotlib.lines.Line2D at 0x7fad61d2f6a0>]"
            ]
          },
          "metadata": {},
          "execution_count": 272
        },
        {
          "output_type": "display_data",
          "data": {
            "text/plain": [
              "<Figure size 864x432 with 1 Axes>"
            ],
            "image/png": "[encoded data removed]"
          },
          "metadata": {
            "needs_background": "light"
          }
        }
      ]
    },
    {
      "cell_type": "markdown",
      "source": [
        "## **4. Pronóstico del ARIMA(0,1,1) obtenido en el auto.arima**\n"
      ],
      "metadata": {
        "id": "acBkWFjcZ3p2"
      }
    },
    {
      "cell_type": "code",
      "source": [
        "h=10\n",
        "\n",
        "y_forec, conf_int  = model.predict(h,return_conf_int=True,alpha=0.05)\n",
        "preds = pd.DataFrame(np.column_stack([y_forec,conf_int[:,0] , conf_int[:,1]]))\n",
        "preds.columns = ['Point_forecast', 'lower_95', 'upper_95']\n",
        "\n",
        "x_for= np.linspace((data.shape[0]+1),(data.shape[0]+h),h)\n",
        "\n",
        "fig = plt.figure(figsize=(12, 6))\n",
        "plt.plot(data[\"time\"],data[\"ARIMA011\"],label=\"ARIMA011\")\n",
        "plt.plot(x_for,preds['Point_forecast'],label=\"Forecast ARIMA011\")\n",
        "plt.fill_between(x_for,preds['lower_95'], preds['upper_95'], color='blue', alpha=0.1)\n",
        "plt.legend()\n",
        "plt.show()\n"
      ],
      "metadata": {
        "colab": {
          "base_uri": "https://localhost:8080/",
          "height": 374
        },
        "id": "MU6QXtiMcrq7",
        "outputId": "44fdb542-46aa-41fe-fba9-33a91ce815f4"
      },
      "execution_count": null,
      "outputs": [
        {
          "output_type": "display_data",
          "data": {
            "text/plain": [
              "<Figure size 864x432 with 1 Axes>"
            ],
            "image/png": "[encoded data removed]"
          },
          "metadata": {
            "needs_background": "light"
          }
        }
      ]
    },
    {
      "cell_type": "markdown",
      "source": [
        "## **5. Replicando el modelo sin hacer auto arima**"
      ],
      "metadata": {
        "id": "5ZehnqUAaVlB"
      }
    },
    {
      "cell_type": "code",
      "source": [
        "model = ARIMA(order=(0,1,1))\n",
        "results = model.fit( data[\"ARIMA011\"])\n",
        "results.summary()"
      ],
      "metadata": {
        "colab": {
          "base_uri": "https://localhost:8080/",
          "height": 427
        },
        "id": "m80UJcI-DRVE",
        "outputId": "48d9e54c-0a78-4f36-a089-c8a5f635d598"
      },
      "execution_count": null,
      "outputs": [
        {
          "output_type": "execute_result",
          "data": {
            "text/plain": [
              "<class 'statsmodels.iolib.summary.Summary'>\n",
              "\"\"\"\n",
              "                               SARIMAX Results                                \n",
              "==============================================================================\n",
              "Dep. Variable:                      y   No. Observations:                  101\n",
              "Model:               SARIMAX(0, 1, 1)   Log Likelihood                -152.348\n",
              "Date:                Thu, 09 Feb 2023   AIC                            310.695\n",
              "Time:                        18:22:28   BIC                            318.511\n",
              "Sample:                             0   HQIC                           313.858\n",
              "                                - 101                                         \n",
              "Covariance Type:                  opg                                         \n",
              "==============================================================================\n",
              "                 coef    std err          z      P>|z|      [0.025      0.975]\n",
              "------------------------------------------------------------------------------\n",
              "intercept      0.4366      0.207      2.105      0.035       0.030       0.843\n",
              "ma.L1          0.8592      0.062     13.960      0.000       0.739       0.980\n",
              "sigma2         1.2161      0.200      6.077      0.000       0.824       1.608\n",
              "===================================================================================\n",
              "Ljung-Box (L1) (Q):                   0.52   Jarque-Bera (JB):                 1.40\n",
              "Prob(Q):                              0.47   Prob(JB):                         0.50\n",
              "Heteroskedasticity (H):               1.04   Skew:                            -0.16\n",
              "Prob(H) (two-sided):                  0.91   Kurtosis:                         2.52\n",
              "===================================================================================\n",
              "\n",
              "Warnings:\n",
              "[1] Covariance matrix calculated using the outer product of gradients (complex-step).\n",
              "\"\"\""
            ],
            "text/html": [
              "<table class=\"simpletable\">\n",
              "<caption>SARIMAX Results</caption>\n",
              "<tr>\n",
              "  <th>Dep. Variable:</th>           <td>y</td>        <th>  No. Observations:  </th>    <td>101</td>  \n",
              "</tr>\n",
              "<tr>\n",
              "  <th>Model:</th>           <td>SARIMAX(0, 1, 1)</td> <th>  Log Likelihood     </th> <td>-152.348</td>\n",
              "</tr>\n",
              "<tr>\n",
              "  <th>Date:</th>            <td>Thu, 09 Feb 2023</td> <th>  AIC                </th>  <td>310.695</td>\n",
              "</tr>\n",
              "<tr>\n",
              "  <th>Time:</th>                <td>18:22:28</td>     <th>  BIC                </th>  <td>318.511</td>\n",
              "</tr>\n",
              "<tr>\n",
              "  <th>Sample:</th>                  <td>0</td>        <th>  HQIC               </th>  <td>313.858</td>\n",
              "</tr>\n",
              "<tr>\n",
              "  <th></th>                      <td> - 101</td>      <th>                     </th>     <td> </td>   \n",
              "</tr>\n",
              "<tr>\n",
              "  <th>Covariance Type:</th>        <td>opg</td>       <th>                     </th>     <td> </td>   \n",
              "</tr>\n",
              "</table>\n",
              "<table class=\"simpletable\">\n",
              "<tr>\n",
              "      <td></td>         <th>coef</th>     <th>std err</th>      <th>z</th>      <th>P>|z|</th>  <th>[0.025</th>    <th>0.975]</th>  \n",
              "</tr>\n",
              "<tr>\n",
              "  <th>intercept</th> <td>    0.4366</td> <td>    0.207</td> <td>    2.105</td> <td> 0.035</td> <td>    0.030</td> <td>    0.843</td>\n",
              "</tr>\n",
              "<tr>\n",
              "  <th>ma.L1</th>     <td>    0.8592</td> <td>    0.062</td> <td>   13.960</td> <td> 0.000</td> <td>    0.739</td> <td>    0.980</td>\n",
              "</tr>\n",
              "<tr>\n",
              "  <th>sigma2</th>    <td>    1.2161</td> <td>    0.200</td> <td>    6.077</td> <td> 0.000</td> <td>    0.824</td> <td>    1.608</td>\n",
              "</tr>\n",
              "</table>\n",
              "<table class=\"simpletable\">\n",
              "<tr>\n",
              "  <th>Ljung-Box (L1) (Q):</th>     <td>0.52</td> <th>  Jarque-Bera (JB):  </th> <td>1.40</td> \n",
              "</tr>\n",
              "<tr>\n",
              "  <th>Prob(Q):</th>                <td>0.47</td> <th>  Prob(JB):          </th> <td>0.50</td> \n",
              "</tr>\n",
              "<tr>\n",
              "  <th>Heteroskedasticity (H):</th> <td>1.04</td> <th>  Skew:              </th> <td>-0.16</td>\n",
              "</tr>\n",
              "<tr>\n",
              "  <th>Prob(H) (two-sided):</th>    <td>0.91</td> <th>  Kurtosis:          </th> <td>2.52</td> \n",
              "</tr>\n",
              "</table><br/><br/>Warnings:<br/>[1] Covariance matrix calculated using the outer product of gradients (complex-step)."
            ]
          },
          "metadata": {},
          "execution_count": 275
        }
      ]
    },
    {
      "cell_type": "markdown",
      "source": [
        "## **6. Intervalos de confianza usando boostrap**\n"
      ],
      "metadata": {
        "id": "fw12PuckaTiQ"
      }
    },
    {
      "cell_type": "code",
      "source": [
        "h= 10\n",
        "res = results.resid()\n",
        "\n",
        "my_samples = []\n",
        "for _ in range(1000):\n",
        "\n",
        "    x = np.random.choice(res, size=h, replace=True)\n",
        "    my_samples.append(x)\n",
        "\n",
        "q1=np.quantile(my_samples,0.025,axis=0)\n",
        "q2=np.quantile(my_samples,0.975,axis=0) \n",
        "\n",
        "fore = results.predict(h,return_conf_int=False)\n",
        "\n",
        "preds = pd.DataFrame(np.column_stack([fore,fore+np.cumsum(q1) , fore+np.cumsum(q2)]))\n",
        "preds.columns = ['Point_forecast', 'lower_95', 'upper_95']\n",
        "\n",
        "preds\n"
      ],
      "metadata": {
        "colab": {
          "base_uri": "https://localhost:8080/",
          "height": 363
        },
        "id": "kjGrt4ENDXym",
        "outputId": "53b67b06-51f2-4b1f-dd5f-928ce7c15320"
      },
      "execution_count": null,
      "outputs": [
        {
          "output_type": "execute_result",
          "data": {
            "text/plain": [
              "   Point_forecast   lower_95   upper_95\n",
              "0       44.095551  41.985087  46.080262\n",
              "1       44.532141  40.311212  48.523113\n",
              "2       44.968731  38.637337  50.944952\n",
              "3       45.405321  37.028801  53.404430\n",
              "4       45.841911  35.354926  55.825731\n",
              "5       46.278500  33.681052  58.071042\n",
              "6       46.715090  32.007177  60.492882\n",
              "7       47.151680  30.397007  62.952360\n",
              "8       47.588270  28.723132  65.395210\n",
              "9       48.024860  27.049258  67.816511"
            ],
            "text/html": [
              "\n",
              "  <div id=\"df-c8e7eb77-bcfd-4bb2-9e92-2230e4525592\">\n",
              "    <div class=\"colab-df-container\">\n",
              "      <div>\n",
              "<style scoped>\n",
              "    .dataframe tbody tr th:only-of-type {\n",
              "        vertical-align: middle;\n",
              "    }\n",
              "\n",
              "    .dataframe tbody tr th {\n",
              "        vertical-align: top;\n",
              "    }\n",
              "\n",
              "    .dataframe thead th {\n",
              "        text-align: right;\n",
              "    }\n",
              "</style>\n",
              "<table border=\"1\" class=\"dataframe\">\n",
              "  <thead>\n",
              "    <tr style=\"text-align: right;\">\n",
              "      <th></th>\n",
              "      <th>Point_forecast</th>\n",
              "      <th>lower_95</th>\n",
              "      <th>upper_95</th>\n",
              "    </tr>\n",
              "  </thead>\n",
              "  <tbody>\n",
              "    <tr>\n",
              "      <th>0</th>\n",
              "      <td>44.095551</td>\n",
              "      <td>41.985087</td>\n",
              "      <td>46.080262</td>\n",
              "    </tr>\n",
              "    <tr>\n",
              "      <th>1</th>\n",
              "      <td>44.532141</td>\n",
              "      <td>40.311212</td>\n",
              "      <td>48.523113</td>\n",
              "    </tr>\n",
              "    <tr>\n",
              "      <th>2</th>\n",
              "      <td>44.968731</td>\n",
              "      <td>38.637337</td>\n",
              "      <td>50.944952</td>\n",
              "    </tr>\n",
              "    <tr>\n",
              "      <th>3</th>\n",
              "      <td>45.405321</td>\n",
              "      <td>37.028801</td>\n",
              "      <td>53.404430</td>\n",
              "    </tr>\n",
              "    <tr>\n",
              "      <th>4</th>\n",
              "      <td>45.841911</td>\n",
              "      <td>35.354926</td>\n",
              "      <td>55.825731</td>\n",
              "    </tr>\n",
              "    <tr>\n",
              "      <th>5</th>\n",
              "      <td>46.278500</td>\n",
              "      <td>33.681052</td>\n",
              "      <td>58.071042</td>\n",
              "    </tr>\n",
              "    <tr>\n",
              "      <th>6</th>\n",
              "      <td>46.715090</td>\n",
              "      <td>32.007177</td>\n",
              "      <td>60.492882</td>\n",
              "    </tr>\n",
              "    <tr>\n",
              "      <th>7</th>\n",
              "      <td>47.151680</td>\n",
              "      <td>30.397007</td>\n",
              "      <td>62.952360</td>\n",
              "    </tr>\n",
              "    <tr>\n",
              "      <th>8</th>\n",
              "      <td>47.588270</td>\n",
              "      <td>28.723132</td>\n",
              "      <td>65.395210</td>\n",
              "    </tr>\n",
              "    <tr>\n",
              "      <th>9</th>\n",
              "      <td>48.024860</td>\n",
              "      <td>27.049258</td>\n",
              "      <td>67.816511</td>\n",
              "    </tr>\n",
              "  </tbody>\n",
              "</table>\n",
              "</div>\n",
              "      <button class=\"colab-df-convert\" onclick=\"convertToInteractive('df-c8e7eb77-bcfd-4bb2-9e92-2230e4525592')\"\n",
              "              title=\"Convert this dataframe to an interactive table.\"\n",
              "              style=\"display:none;\">\n",
              "        \n",
              "  <svg xmlns=\"http://www.w3.org/2000/svg\" height=\"24px\"viewBox=\"0 0 24 24\"\n",
              "       width=\"24px\">\n",
              "    <path d=\"M0 0h24v24H0V0z\" fill=\"none\"/>\n",
              "    <path d=\"M18.56 5.44l.94 2.06.94-2.06 2.06-.94-2.06-.94-.94-2.06-.94 2.06-2.06.94zm-11 1L8.5 8.5l.94-2.06 2.06-.94-2.06-.94L8.5 2.5l-.94 2.06-2.06.94zm10 10l.94 2.06.94-2.06 2.06-.94-2.06-.94-.94-2.06-.94 2.06-2.06.94z\"/><path d=\"M17.41 7.96l-1.37-1.37c-.4-.4-.92-.59-1.43-.59-.52 0-1.04.2-1.43.59L10.3 9.45l-7.72 7.72c-.78.78-.78 2.05 0 2.83L4 21.41c.39.39.9.59 1.41.59.51 0 1.02-.2 1.41-.59l7.78-7.78 2.81-2.81c.8-.78.8-2.07 0-2.86zM5.41 20L4 18.59l7.72-7.72 1.47 1.35L5.41 20z\"/>\n",
              "  </svg>\n",
              "      </button>\n",
              "      \n",
              "  <style>\n",
              "    .colab-df-container {\n",
              "      display:flex;\n",
              "      flex-wrap:wrap;\n",
              "      gap: 12px;\n",
              "    }\n",
              "\n",
              "    .colab-df-convert {\n",
              "      background-color: #E8F0FE;\n",
              "      border: none;\n",
              "      border-radius: 50%;\n",
              "      cursor: pointer;\n",
              "      display: none;\n",
              "      fill: #1967D2;\n",
              "      height: 32px;\n",
              "      padding: 0 0 0 0;\n",
              "      width: 32px;\n",
              "    }\n",
              "\n",
              "    .colab-df-convert:hover {\n",
              "      background-color: #E2EBFA;\n",
              "      box-shadow: 0px 1px 2px rgba(60, 64, 67, 0.3), 0px 1px 3px 1px rgba(60, 64, 67, 0.15);\n",
              "      fill: #174EA6;\n",
              "    }\n",
              "\n",
              "    [theme=dark] .colab-df-convert {\n",
              "      background-color: #3B4455;\n",
              "      fill: #D2E3FC;\n",
              "    }\n",
              "\n",
              "    [theme=dark] .colab-df-convert:hover {\n",
              "      background-color: #434B5C;\n",
              "      box-shadow: 0px 1px 3px 1px rgba(0, 0, 0, 0.15);\n",
              "      filter: drop-shadow(0px 1px 2px rgba(0, 0, 0, 0.3));\n",
              "      fill: #FFFFFF;\n",
              "    }\n",
              "  </style>\n",
              "\n",
              "      <script>\n",
              "        const buttonEl =\n",
              "          document.querySelector('#df-c8e7eb77-bcfd-4bb2-9e92-2230e4525592 button.colab-df-convert');\n",
              "        buttonEl.style.display =\n",
              "          google.colab.kernel.accessAllowed ? 'block' : 'none';\n",
              "\n",
              "        async function convertToInteractive(key) {\n",
              "          const element = document.querySelector('#df-c8e7eb77-bcfd-4bb2-9e92-2230e4525592');\n",
              "          const dataTable =\n",
              "            await google.colab.kernel.invokeFunction('convertToInteractive',\n",
              "                                                     [key], {});\n",
              "          if (!dataTable) return;\n",
              "\n",
              "          const docLinkHtml = 'Like what you see? Visit the ' +\n",
              "            '<a target=\"_blank\" href=https://colab.research.google.com/notebooks/data_table.ipynb>data table notebook</a>'\n",
              "            + ' to learn more about interactive tables.';\n",
              "          element.innerHTML = '';\n",
              "          dataTable['output_type'] = 'display_data';\n",
              "          await google.colab.output.renderOutput(dataTable, element);\n",
              "          const docLink = document.createElement('div');\n",
              "          docLink.innerHTML = docLinkHtml;\n",
              "          element.appendChild(docLink);\n",
              "        }\n",
              "      </script>\n",
              "    </div>\n",
              "  </div>\n",
              "  "
            ]
          },
          "metadata": {},
          "execution_count": 277
        }
      ]
    },
    {
      "cell_type": "code",
      "source": [
        "x_for= np.linspace((data.shape[0]+1),(data.shape[0]+h),h)\n",
        "\n",
        "fig = plt.figure(figsize=(12, 6))\n",
        "plt.plot(data[\"time\"],data[\"ARIMA011\"],label=\"ARIMA011\")\n",
        "plt.plot(x_for,preds['Point_forecast'],label=\"Forecast Boostrap\")\n",
        "plt.fill_between(x_for,preds['lower_95'], preds['upper_95'], color='blue', alpha=0.1)\n",
        "plt.legend()\n",
        "plt.show()"
      ],
      "metadata": {
        "colab": {
          "base_uri": "https://localhost:8080/",
          "height": 374
        },
        "id": "YFj2lpSBI1C3",
        "outputId": "6574fa2e-481a-4a51-acc1-ddac93b2bc56"
      },
      "execution_count": null,
      "outputs": [
        {
          "output_type": "display_data",
          "data": {
            "text/plain": [
              "<Figure size 864x432 with 1 Axes>"
            ],
            "image/png": "[encoded data removed]"
          },
          "metadata": {
            "needs_background": "light"
          }
        }
      ]
    },
    {
      "cell_type": "markdown",
      "source": [
        "### **7. Ejercicio en Clase**\n",
        "\n",
        "Empleando la información del número de ocupados en miles de personas (Ocupados) para las 13 principales ciudades, encuentre el mejor pronóstico para los próximos 6 meses empleando los métodos vistos en la clase. Compare\n",
        "los resultados con el mejor modelo encontrado en el ejercicio anterior. \n",
        "\n",
        "Escriba un breve informe de máximo una página de texto que explique cómo llega a sus proyeccciones y presente las proyecciones. Aclare en el texto cuáles serían las limitaciones de sus pronósticos."
      ],
      "metadata": {
        "id": "9erjwhaFoBDu"
      }
    }
  ]
}